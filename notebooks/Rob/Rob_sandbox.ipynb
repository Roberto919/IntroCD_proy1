{
 "cells": [
  {
   "cell_type": "markdown",
   "metadata": {},
   "source": [
    "# Rob's sandbox"
   ]
  },
  {
   "cell_type": "markdown",
   "metadata": {},
   "source": [
    "---"
   ]
  },
  {
   "cell_type": "markdown",
   "metadata": {},
   "source": [
    "# Imports"
   ]
  },
  {
   "cell_type": "markdown",
   "metadata": {},
   "source": [
    "#### Python modules"
   ]
  },
  {
   "cell_type": "code",
   "execution_count": 46,
   "metadata": {
    "ExecuteTime": {
     "end_time": "2020-11-24T21:12:34.417806Z",
     "start_time": "2020-11-24T21:12:33.532029Z"
    }
   },
   "outputs": [],
   "source": [
    "import sys\n",
    "\n",
    "from sklearn.ensemble import RandomForestClassifier\n",
    "from sklearn.model_selection import GridSearchCV\n",
    "from sklearn.model_selection import GridSearchCV\n",
    "from sklearn.model_selection import (\n",
    "    train_test_split,\n",
    "    cross_val_score\n",
    ")\n",
    "from sklearn.inspection import permutation_importance\n",
    "\n",
    "import matplotlib.pyplot as plt\n",
    "%matplotlib inline"
   ]
  },
  {
   "cell_type": "markdown",
   "metadata": {},
   "source": [
    "# Ancillary modules"
   ]
  },
  {
   "cell_type": "markdown",
   "metadata": {},
   "source": [
    "#### Support adjustments"
   ]
  },
  {
   "cell_type": "code",
   "execution_count": 2,
   "metadata": {
    "ExecuteTime": {
     "end_time": "2020-11-24T19:44:17.012714Z",
     "start_time": "2020-11-24T19:44:17.010416Z"
    }
   },
   "outputs": [],
   "source": [
    "sys.path.append(\"../..\")"
   ]
  },
  {
   "cell_type": "markdown",
   "metadata": {},
   "source": [
    "#### Modules"
   ]
  },
  {
   "cell_type": "code",
   "execution_count": 3,
   "metadata": {
    "ExecuteTime": {
     "end_time": "2020-11-24T19:44:17.862556Z",
     "start_time": "2020-11-24T19:44:17.559682Z"
    }
   },
   "outputs": [],
   "source": [
    "%load_ext autoreload\n",
    "%autoreload 2\n",
    "\n",
    "from src.utils.params import (\n",
    "    param_grid,\n",
    "    max_features,\n",
    "    n_estimators,\n",
    "    cv_rounds,\n",
    "    evaluation_metric,\n",
    "    transformation_pickle_loc,\n",
    "    fe_pickle_loc\n",
    ")\n",
    "\n",
    "from src.pipelines.ingestion import (\n",
    "    ingest\n",
    ")\n",
    "\n",
    "from src.pipelines.transformation import (\n",
    "    transform\n",
    ")\n",
    "\n",
    "from src.pipelines.feature_engineering import (\n",
    "    load_transformation,\n",
    "    feature_generation,\n",
    "    feature_selection,\n",
    "    save_fe,\n",
    "    feature_engineering\n",
    ")\n",
    "\n",
    "from proyecto_1 import (\n",
    "    main\n",
    ")"
   ]
  },
  {
   "cell_type": "markdown",
   "metadata": {},
   "source": [
    "---"
   ]
  },
  {
   "cell_type": "markdown",
   "metadata": {},
   "source": [
    "# Tests"
   ]
  },
  {
   "cell_type": "markdown",
   "metadata": {},
   "source": [
    "## Feature engineering"
   ]
  },
  {
   "cell_type": "markdown",
   "metadata": {},
   "source": [
    "#### Loading transformation pickle"
   ]
  },
  {
   "cell_type": "code",
   "execution_count": 4,
   "metadata": {
    "ExecuteTime": {
     "end_time": "2020-11-24T19:44:21.602491Z",
     "start_time": "2020-11-24T19:44:20.193228Z"
    }
   },
   "outputs": [],
   "source": [
    "df = load_transformation(\"../../\" + transformation_pickle_loc)"
   ]
  },
  {
   "cell_type": "code",
   "execution_count": 5,
   "metadata": {
    "ExecuteTime": {
     "end_time": "2020-11-24T19:44:21.663290Z",
     "start_time": "2020-11-24T19:44:21.605220Z"
    },
    "scrolled": true
   },
   "outputs": [
    {
     "data": {
      "text/html": [
       "<div>\n",
       "<style scoped>\n",
       "    .dataframe tbody tr th:only-of-type {\n",
       "        vertical-align: middle;\n",
       "    }\n",
       "\n",
       "    .dataframe tbody tr th {\n",
       "        vertical-align: top;\n",
       "    }\n",
       "\n",
       "    .dataframe thead th {\n",
       "        text-align: right;\n",
       "    }\n",
       "</style>\n",
       "<table border=\"1\" class=\"dataframe\">\n",
       "  <thead>\n",
       "    <tr style=\"text-align: right;\">\n",
       "      <th></th>\n",
       "      <th>fecha_creacion</th>\n",
       "      <th>hora_creacion</th>\n",
       "      <th>dia_semana</th>\n",
       "      <th>codigo_cierre</th>\n",
       "      <th>incidente_c4</th>\n",
       "      <th>latitud</th>\n",
       "      <th>longitud</th>\n",
       "      <th>clas_con_f_alarma</th>\n",
       "      <th>tipo_entrada</th>\n",
       "      <th>label</th>\n",
       "      <th>dia_inicio</th>\n",
       "      <th>mes_inicio</th>\n",
       "      <th>anio_inicio</th>\n",
       "      <th>hora_inicio</th>\n",
       "      <th>min_inicio</th>\n",
       "    </tr>\n",
       "  </thead>\n",
       "  <tbody>\n",
       "    <tr>\n",
       "      <th>0</th>\n",
       "      <td>23/01/2016</td>\n",
       "      <td>22:35:04</td>\n",
       "      <td>Sábado</td>\n",
       "      <td>(A) La unidad de atención a emergencias fue de...</td>\n",
       "      <td>accidente-choque sin lesionados</td>\n",
       "      <td>19.422113</td>\n",
       "      <td>-99.084643</td>\n",
       "      <td>EMERGENCIA</td>\n",
       "      <td>BOTÓN DE AUXILIO</td>\n",
       "      <td>0.0</td>\n",
       "      <td>23</td>\n",
       "      <td>01</td>\n",
       "      <td>2016</td>\n",
       "      <td>22.0</td>\n",
       "      <td>35</td>\n",
       "    </tr>\n",
       "    <tr>\n",
       "      <th>1</th>\n",
       "      <td>23/01/2016</td>\n",
       "      <td>22:50:49</td>\n",
       "      <td>Sábado</td>\n",
       "      <td>(A) La unidad de atención a emergencias fue de...</td>\n",
       "      <td>accidente-choque con lesionados</td>\n",
       "      <td>19.358320</td>\n",
       "      <td>-99.297641</td>\n",
       "      <td>URGENCIAS MEDICAS</td>\n",
       "      <td>BOTÓN DE AUXILIO</td>\n",
       "      <td>0.0</td>\n",
       "      <td>23</td>\n",
       "      <td>01</td>\n",
       "      <td>2016</td>\n",
       "      <td>22.0</td>\n",
       "      <td>50</td>\n",
       "    </tr>\n",
       "    <tr>\n",
       "      <th>2</th>\n",
       "      <td>24/01/2016</td>\n",
       "      <td>09:40:11</td>\n",
       "      <td>Domingo</td>\n",
       "      <td>(N) La unidad de atención a emergencias fue de...</td>\n",
       "      <td>accidente-choque sin lesionados</td>\n",
       "      <td>19.217070</td>\n",
       "      <td>-99.219070</td>\n",
       "      <td>EMERGENCIA</td>\n",
       "      <td>LLAMADA_911_066</td>\n",
       "      <td>1.0</td>\n",
       "      <td>24</td>\n",
       "      <td>01</td>\n",
       "      <td>2016</td>\n",
       "      <td>9.0</td>\n",
       "      <td>40</td>\n",
       "    </tr>\n",
       "    <tr>\n",
       "      <th>3</th>\n",
       "      <td>24/01/2016</td>\n",
       "      <td>22:40:57</td>\n",
       "      <td>Domingo</td>\n",
       "      <td>(N) La unidad de atención a emergencias fue de...</td>\n",
       "      <td>accidente-choque sin lesionados</td>\n",
       "      <td>19.320580</td>\n",
       "      <td>-99.241010</td>\n",
       "      <td>EMERGENCIA</td>\n",
       "      <td>LLAMADA_911_066</td>\n",
       "      <td>1.0</td>\n",
       "      <td>24</td>\n",
       "      <td>01</td>\n",
       "      <td>2016</td>\n",
       "      <td>22.0</td>\n",
       "      <td>40</td>\n",
       "    </tr>\n",
       "    <tr>\n",
       "      <th>4</th>\n",
       "      <td>24/01/2016</td>\n",
       "      <td>04:25:15</td>\n",
       "      <td>Domingo</td>\n",
       "      <td>(A) La unidad de atención a emergencias fue de...</td>\n",
       "      <td>accidente-choque sin lesionados</td>\n",
       "      <td>19.452900</td>\n",
       "      <td>-99.215870</td>\n",
       "      <td>EMERGENCIA</td>\n",
       "      <td>LLAMADA_911_066</td>\n",
       "      <td>0.0</td>\n",
       "      <td>24</td>\n",
       "      <td>01</td>\n",
       "      <td>2016</td>\n",
       "      <td>4.0</td>\n",
       "      <td>25</td>\n",
       "    </tr>\n",
       "    <tr>\n",
       "      <th>...</th>\n",
       "      <td>...</td>\n",
       "      <td>...</td>\n",
       "      <td>...</td>\n",
       "      <td>...</td>\n",
       "      <td>...</td>\n",
       "      <td>...</td>\n",
       "      <td>...</td>\n",
       "      <td>...</td>\n",
       "      <td>...</td>\n",
       "      <td>...</td>\n",
       "      <td>...</td>\n",
       "      <td>...</td>\n",
       "      <td>...</td>\n",
       "      <td>...</td>\n",
       "      <td>...</td>\n",
       "    </tr>\n",
       "    <tr>\n",
       "      <th>1383133</th>\n",
       "      <td>22/10/2020</td>\n",
       "      <td>16:17:05</td>\n",
       "      <td>Jueves</td>\n",
       "      <td>(A) La unidad de atención a emergencias fue de...</td>\n",
       "      <td>lesionado-atropellado</td>\n",
       "      <td>19.486310</td>\n",
       "      <td>-99.118120</td>\n",
       "      <td>URGENCIAS MEDICAS</td>\n",
       "      <td>BOTÓN DE AUXILIO</td>\n",
       "      <td>0.0</td>\n",
       "      <td>22</td>\n",
       "      <td>10</td>\n",
       "      <td>2020</td>\n",
       "      <td>16.0</td>\n",
       "      <td>17</td>\n",
       "    </tr>\n",
       "    <tr>\n",
       "      <th>1383134</th>\n",
       "      <td>22/10/2020</td>\n",
       "      <td>16:29:13</td>\n",
       "      <td>Jueves</td>\n",
       "      <td>(A) La unidad de atención a emergencias fue de...</td>\n",
       "      <td>accidente-choque con lesionados</td>\n",
       "      <td>19.427274</td>\n",
       "      <td>-99.115814</td>\n",
       "      <td>URGENCIAS MEDICAS</td>\n",
       "      <td>BOTÓN DE AUXILIO</td>\n",
       "      <td>0.0</td>\n",
       "      <td>22</td>\n",
       "      <td>10</td>\n",
       "      <td>2020</td>\n",
       "      <td>16.0</td>\n",
       "      <td>29</td>\n",
       "    </tr>\n",
       "    <tr>\n",
       "      <th>1383135</th>\n",
       "      <td>22/10/2020</td>\n",
       "      <td>12:00:26</td>\n",
       "      <td>Jueves</td>\n",
       "      <td>(D) El incidente reportado se registró en dos ...</td>\n",
       "      <td>accidente-choque sin lesionados</td>\n",
       "      <td>19.467180</td>\n",
       "      <td>-99.175250</td>\n",
       "      <td>EMERGENCIA</td>\n",
       "      <td>LLAMADA_911_066</td>\n",
       "      <td>0.0</td>\n",
       "      <td>22</td>\n",
       "      <td>10</td>\n",
       "      <td>2020</td>\n",
       "      <td>12.0</td>\n",
       "      <td>00</td>\n",
       "    </tr>\n",
       "    <tr>\n",
       "      <th>1383136</th>\n",
       "      <td>22/10/2020</td>\n",
       "      <td>12:01:25</td>\n",
       "      <td>Jueves</td>\n",
       "      <td>(D) El incidente reportado se registró en dos ...</td>\n",
       "      <td>accidente-choque con lesionados</td>\n",
       "      <td>19.427280</td>\n",
       "      <td>-99.096860</td>\n",
       "      <td>URGENCIAS MEDICAS</td>\n",
       "      <td>LLAMADA_911_066</td>\n",
       "      <td>0.0</td>\n",
       "      <td>22</td>\n",
       "      <td>10</td>\n",
       "      <td>2020</td>\n",
       "      <td>12.0</td>\n",
       "      <td>01</td>\n",
       "    </tr>\n",
       "    <tr>\n",
       "      <th>1383137</th>\n",
       "      <td>22/10/2020</td>\n",
       "      <td>16:05:47</td>\n",
       "      <td>Jueves</td>\n",
       "      <td>(D) El incidente reportado se registró en dos ...</td>\n",
       "      <td>accidente-choque sin lesionados</td>\n",
       "      <td>19.345780</td>\n",
       "      <td>-99.062980</td>\n",
       "      <td>EMERGENCIA</td>\n",
       "      <td>LLAMADA_911_066</td>\n",
       "      <td>0.0</td>\n",
       "      <td>22</td>\n",
       "      <td>10</td>\n",
       "      <td>2020</td>\n",
       "      <td>16.0</td>\n",
       "      <td>05</td>\n",
       "    </tr>\n",
       "  </tbody>\n",
       "</table>\n",
       "<p>1383138 rows × 15 columns</p>\n",
       "</div>"
      ],
      "text/plain": [
       "        fecha_creacion hora_creacion dia_semana  \\\n",
       "0           23/01/2016      22:35:04     Sábado   \n",
       "1           23/01/2016      22:50:49     Sábado   \n",
       "2           24/01/2016      09:40:11    Domingo   \n",
       "3           24/01/2016      22:40:57    Domingo   \n",
       "4           24/01/2016      04:25:15    Domingo   \n",
       "...                ...           ...        ...   \n",
       "1383133     22/10/2020      16:17:05     Jueves   \n",
       "1383134     22/10/2020      16:29:13     Jueves   \n",
       "1383135     22/10/2020      12:00:26     Jueves   \n",
       "1383136     22/10/2020      12:01:25     Jueves   \n",
       "1383137     22/10/2020      16:05:47     Jueves   \n",
       "\n",
       "                                             codigo_cierre  \\\n",
       "0        (A) La unidad de atención a emergencias fue de...   \n",
       "1        (A) La unidad de atención a emergencias fue de...   \n",
       "2        (N) La unidad de atención a emergencias fue de...   \n",
       "3        (N) La unidad de atención a emergencias fue de...   \n",
       "4        (A) La unidad de atención a emergencias fue de...   \n",
       "...                                                    ...   \n",
       "1383133  (A) La unidad de atención a emergencias fue de...   \n",
       "1383134  (A) La unidad de atención a emergencias fue de...   \n",
       "1383135  (D) El incidente reportado se registró en dos ...   \n",
       "1383136  (D) El incidente reportado se registró en dos ...   \n",
       "1383137  (D) El incidente reportado se registró en dos ...   \n",
       "\n",
       "                            incidente_c4    latitud   longitud  \\\n",
       "0        accidente-choque sin lesionados  19.422113 -99.084643   \n",
       "1        accidente-choque con lesionados  19.358320 -99.297641   \n",
       "2        accidente-choque sin lesionados  19.217070 -99.219070   \n",
       "3        accidente-choque sin lesionados  19.320580 -99.241010   \n",
       "4        accidente-choque sin lesionados  19.452900 -99.215870   \n",
       "...                                  ...        ...        ...   \n",
       "1383133            lesionado-atropellado  19.486310 -99.118120   \n",
       "1383134  accidente-choque con lesionados  19.427274 -99.115814   \n",
       "1383135  accidente-choque sin lesionados  19.467180 -99.175250   \n",
       "1383136  accidente-choque con lesionados  19.427280 -99.096860   \n",
       "1383137  accidente-choque sin lesionados  19.345780 -99.062980   \n",
       "\n",
       "         clas_con_f_alarma      tipo_entrada  label dia_inicio mes_inicio  \\\n",
       "0               EMERGENCIA  BOTÓN DE AUXILIO    0.0         23         01   \n",
       "1        URGENCIAS MEDICAS  BOTÓN DE AUXILIO    0.0         23         01   \n",
       "2               EMERGENCIA   LLAMADA_911_066    1.0         24         01   \n",
       "3               EMERGENCIA   LLAMADA_911_066    1.0         24         01   \n",
       "4               EMERGENCIA   LLAMADA_911_066    0.0         24         01   \n",
       "...                    ...               ...    ...        ...        ...   \n",
       "1383133  URGENCIAS MEDICAS  BOTÓN DE AUXILIO    0.0         22         10   \n",
       "1383134  URGENCIAS MEDICAS  BOTÓN DE AUXILIO    0.0         22         10   \n",
       "1383135         EMERGENCIA   LLAMADA_911_066    0.0         22         10   \n",
       "1383136  URGENCIAS MEDICAS   LLAMADA_911_066    0.0         22         10   \n",
       "1383137         EMERGENCIA   LLAMADA_911_066    0.0         22         10   \n",
       "\n",
       "        anio_inicio  hora_inicio min_inicio  \n",
       "0              2016         22.0         35  \n",
       "1              2016         22.0         50  \n",
       "2              2016          9.0         40  \n",
       "3              2016         22.0         40  \n",
       "4              2016          4.0         25  \n",
       "...             ...          ...        ...  \n",
       "1383133        2020         16.0         17  \n",
       "1383134        2020         16.0         29  \n",
       "1383135        2020         12.0         00  \n",
       "1383136        2020         12.0         01  \n",
       "1383137        2020         16.0         05  \n",
       "\n",
       "[1383138 rows x 15 columns]"
      ]
     },
     "execution_count": 5,
     "metadata": {},
     "output_type": "execute_result"
    }
   ],
   "source": [
    "df"
   ]
  },
  {
   "cell_type": "markdown",
   "metadata": {},
   "source": [
    "#### Processing data for model"
   ]
  },
  {
   "cell_type": "code",
   "execution_count": 18,
   "metadata": {
    "ExecuteTime": {
     "end_time": "2020-11-24T20:01:36.056929Z",
     "start_time": "2020-11-24T20:01:34.263659Z"
    }
   },
   "outputs": [
    {
     "name": "stdout",
     "output_type": "stream",
     "text": [
      "\n",
      "++ List of categorical variables that will be processed through the pipeline (4) are:\n",
      "    1. codigo_cierre\n",
      "    2. incidente_c4\n",
      "    3. clas_con_f_alarma\n",
      "    4. tipo_entrada\n"
     ]
    }
   ],
   "source": [
    "df_features_prc, df_labels = feature_generation(df)"
   ]
  },
  {
   "cell_type": "markdown",
   "metadata": {},
   "source": [
    "#### Training, executing and evaluating model"
   ]
  },
  {
   "cell_type": "code",
   "execution_count": 19,
   "metadata": {
    "ExecuteTime": {
     "end_time": "2020-11-24T20:01:42.769409Z",
     "start_time": "2020-11-24T20:01:42.733402Z"
    },
    "scrolled": true
   },
   "outputs": [],
   "source": [
    "model = RandomForestClassifier(max_features=max_features, n_estimators=n_estimators)"
   ]
  },
  {
   "cell_type": "code",
   "execution_count": 20,
   "metadata": {
    "ExecuteTime": {
     "end_time": "2020-11-24T20:02:29.517185Z",
     "start_time": "2020-11-24T20:01:44.465117Z"
    }
   },
   "outputs": [
    {
     "data": {
      "text/plain": [
       "RandomForestClassifier(max_features=6)"
      ]
     },
     "execution_count": 20,
     "metadata": {},
     "output_type": "execute_result"
    }
   ],
   "source": [
    "model.fit(df_features_prc, df_labels)"
   ]
  },
  {
   "cell_type": "code",
   "execution_count": 21,
   "metadata": {
    "ExecuteTime": {
     "end_time": "2020-11-24T20:09:08.574357Z",
     "start_time": "2020-11-24T20:02:29.520471Z"
    }
   },
   "outputs": [
    {
     "name": "stdout",
     "output_type": "stream",
     "text": [
      "Scores: [1.         1.         0.99999277 1.         1.         1.\n",
      " 1.         1.         1.         1.        ]\n",
      "Mean: 0.999999277007389\n",
      "Standard deviation: 2.168977833039154e-06\n"
     ]
    }
   ],
   "source": [
    "cv_scores = cross_val_score(\n",
    "    model,\n",
    "    df_features_prc,\n",
    "    df_labels,\n",
    "    scoring=evaluation_metric,\n",
    "    cv=cv_rounds\n",
    ")\n",
    "\n",
    "print(\"\\n++ Model performance metrics:\\n\")\n",
    "print(\"    ++++ Cross validation scores:\")\n",
    "i = 1\n",
    "for cvs in list(cv_scores):\n",
    "    print(\"        Round {} -> {}\".format(i, cvs))\n",
    "    i += 1\n",
    "print(\"\\n\")\n",
    "print(\"    ++++ Cross validation mean score: {} \\n\".format(cv_scores.mean()))\n",
    "print(\"    ++++ Cross validation score standard deviation: \", cv_scores.std())"
   ]
  },
  {
   "cell_type": "markdown",
   "metadata": {},
   "source": [
    "#### Identifying most important variables"
   ]
  },
  {
   "cell_type": "code",
   "execution_count": 44,
   "metadata": {
    "ExecuteTime": {
     "end_time": "2020-11-24T20:55:04.041480Z",
     "start_time": "2020-11-24T20:46:53.804906Z"
    },
    "scrolled": true
   },
   "outputs": [],
   "source": [
    "result = permutation_importance(\n",
    "    model, \n",
    "    df_features_prc.toarray(), \n",
    "    df_labels, \n",
    "    n_repeats=2,\n",
    "    random_state=42, \n",
    "    n_jobs=2\n",
    ")\n",
    "\n",
    "sorted_idx = result.importances_mean.argsort()"
   ]
  },
  {
   "cell_type": "code",
   "execution_count": 56,
   "metadata": {
    "ExecuteTime": {
     "end_time": "2020-11-24T21:14:49.507605Z",
     "start_time": "2020-11-24T21:14:49.358042Z"
    }
   },
   "outputs": [
    {
     "ename": "IndexError",
     "evalue": "index 21 is out of bounds for axis 0 with size 15",
     "output_type": "error",
     "traceback": [
      "\u001b[0;31m---------------------------------------------------------------------------\u001b[0m",
      "\u001b[0;31mIndexError\u001b[0m                                Traceback (most recent call last)",
      "\u001b[0;32m<ipython-input-56-6ef78093e618>\u001b[0m in \u001b[0;36m<module>\u001b[0;34m\u001b[0m\n\u001b[1;32m      4\u001b[0m     \u001b[0mresult\u001b[0m\u001b[0;34m.\u001b[0m\u001b[0mimportances\u001b[0m\u001b[0;34m[\u001b[0m\u001b[0msorted_idx\u001b[0m\u001b[0;34m]\u001b[0m\u001b[0;34m.\u001b[0m\u001b[0mT\u001b[0m\u001b[0;34m,\u001b[0m\u001b[0;34m\u001b[0m\u001b[0;34m\u001b[0m\u001b[0m\n\u001b[1;32m      5\u001b[0m     \u001b[0mvert\u001b[0m\u001b[0;34m=\u001b[0m\u001b[0;32mFalse\u001b[0m\u001b[0;34m,\u001b[0m\u001b[0;34m\u001b[0m\u001b[0;34m\u001b[0m\u001b[0m\n\u001b[0;32m----> 6\u001b[0;31m     \u001b[0mlabels\u001b[0m\u001b[0;34m=\u001b[0m\u001b[0mdf\u001b[0m\u001b[0;34m.\u001b[0m\u001b[0mcolumns\u001b[0m\u001b[0;34m[\u001b[0m\u001b[0msorted_idx\u001b[0m\u001b[0;34m]\u001b[0m\u001b[0;34m\u001b[0m\u001b[0;34m\u001b[0m\u001b[0m\n\u001b[0m\u001b[1;32m      7\u001b[0m )\n\u001b[1;32m      8\u001b[0m \u001b[0;34m\u001b[0m\u001b[0m\n",
      "\u001b[0;32m~/.pyenv/versions/3.7.4/envs/itam_intro_to_ds/lib/python3.7/site-packages/pandas/core/indexes/base.py\u001b[0m in \u001b[0;36m__getitem__\u001b[0;34m(self, key)\u001b[0m\n\u001b[1;32m   4105\u001b[0m             \u001b[0mkey\u001b[0m \u001b[0;34m=\u001b[0m \u001b[0mnp\u001b[0m\u001b[0;34m.\u001b[0m\u001b[0masarray\u001b[0m\u001b[0;34m(\u001b[0m\u001b[0mkey\u001b[0m\u001b[0;34m,\u001b[0m \u001b[0mdtype\u001b[0m\u001b[0;34m=\u001b[0m\u001b[0mbool\u001b[0m\u001b[0;34m)\u001b[0m\u001b[0;34m\u001b[0m\u001b[0;34m\u001b[0m\u001b[0m\n\u001b[1;32m   4106\u001b[0m \u001b[0;34m\u001b[0m\u001b[0m\n\u001b[0;32m-> 4107\u001b[0;31m         \u001b[0mresult\u001b[0m \u001b[0;34m=\u001b[0m \u001b[0mgetitem\u001b[0m\u001b[0;34m(\u001b[0m\u001b[0mkey\u001b[0m\u001b[0;34m)\u001b[0m\u001b[0;34m\u001b[0m\u001b[0;34m\u001b[0m\u001b[0m\n\u001b[0m\u001b[1;32m   4108\u001b[0m         \u001b[0;32mif\u001b[0m \u001b[0;32mnot\u001b[0m \u001b[0mis_scalar\u001b[0m\u001b[0;34m(\u001b[0m\u001b[0mresult\u001b[0m\u001b[0;34m)\u001b[0m\u001b[0;34m:\u001b[0m\u001b[0;34m\u001b[0m\u001b[0;34m\u001b[0m\u001b[0m\n\u001b[1;32m   4109\u001b[0m             \u001b[0;32mif\u001b[0m \u001b[0mnp\u001b[0m\u001b[0;34m.\u001b[0m\u001b[0mndim\u001b[0m\u001b[0;34m(\u001b[0m\u001b[0mresult\u001b[0m\u001b[0;34m)\u001b[0m \u001b[0;34m>\u001b[0m \u001b[0;36m1\u001b[0m\u001b[0;34m:\u001b[0m\u001b[0;34m\u001b[0m\u001b[0;34m\u001b[0m\u001b[0m\n",
      "\u001b[0;31mIndexError\u001b[0m: index 21 is out of bounds for axis 0 with size 15"
     ]
    },
    {
     "data": {
      "image/png": "[encoded data removed]",
      "text/plain": [
       "<Figure size 432x288 with 1 Axes>"
      ]
     },
     "metadata": {
      "needs_background": "light"
     },
     "output_type": "display_data"
    }
   ],
   "source": [
    "fig, ax = plt.subplots()\n",
    "\n",
    "ax.boxplot(\n",
    "    result.importances[sorted_idx].T,\n",
    "    vert=False, \n",
    "    labels=df.columns[sorted_idx]\n",
    ")\n",
    "\n",
    "ax.set_title(\"Permutation Importances (train set)\")\n",
    "fig.tight_layout()\n",
    "plt.show()"
   ]
  },
  {
   "cell_type": "markdown",
   "metadata": {},
   "source": [
    "---\n",
    "---"
   ]
  }
 ],
 "metadata": {
  "kernelspec": {
   "display_name": "Python 3",
   "language": "python",
   "name": "python3"
  },
  "language_info": {
   "codemirror_mode": {
    "name": "ipython",
    "version": 3
   },
   "file_extension": ".py",
   "mimetype": "text/x-python",
   "name": "python",
   "nbconvert_exporter": "python",
   "pygments_lexer": "ipython3",
   "version": "3.7.4"
  }
 },
 "nbformat": 4,
 "nbformat_minor": 4
}
