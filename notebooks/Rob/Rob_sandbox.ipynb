{
 "cells": [
  {
   "cell_type": "markdown",
   "metadata": {},
   "source": [
    "# Rob's sandbox"
   ]
  },
  {
   "cell_type": "markdown",
   "metadata": {},
   "source": [
    "---"
   ]
  },
  {
   "cell_type": "markdown",
   "metadata": {},
   "source": [
    "# Imports"
   ]
  },
  {
   "cell_type": "markdown",
   "metadata": {},
   "source": [
    "#### Python modules"
   ]
  },
  {
   "cell_type": "code",
   "execution_count": 12,
   "metadata": {
    "ExecuteTime": {
     "end_time": "2020-11-25T01:14:19.726472Z",
     "start_time": "2020-11-25T01:14:19.631299Z"
    }
   },
   "outputs": [],
   "source": [
    "import sys\n",
    "\n",
    "from sklearn.ensemble import RandomForestClassifier\n",
    "from sklearn.model_selection import GridSearchCV\n",
    "from sklearn.model_selection import GridSearchCV\n",
    "from sklearn.model_selection import (\n",
    "    train_test_split,\n",
    "    cross_val_score\n",
    ")\n",
    "from sklearn.inspection import permutation_importance\n",
    "\n",
    "# import matplotlib.pyplot as plt\n",
    "# %matplotlib inline\n",
    "\n",
    "import pandas as pd"
   ]
  },
  {
   "cell_type": "markdown",
   "metadata": {},
   "source": [
    "# Ancillary modules"
   ]
  },
  {
   "cell_type": "markdown",
   "metadata": {},
   "source": [
    "#### Support adjustments"
   ]
  },
  {
   "cell_type": "code",
   "execution_count": 2,
   "metadata": {
    "ExecuteTime": {
     "end_time": "2020-11-25T01:06:01.021578Z",
     "start_time": "2020-11-25T01:06:01.018894Z"
    }
   },
   "outputs": [],
   "source": [
    "sys.path.append(\"../..\")"
   ]
  },
  {
   "cell_type": "markdown",
   "metadata": {},
   "source": [
    "#### Modules"
   ]
  },
  {
   "cell_type": "code",
   "execution_count": 21,
   "metadata": {
    "ExecuteTime": {
     "end_time": "2020-11-25T01:24:53.103404Z",
     "start_time": "2020-11-25T01:24:52.977258Z"
    }
   },
   "outputs": [
    {
     "name": "stdout",
     "output_type": "stream",
     "text": [
      "The autoreload extension is already loaded. To reload it, use:\n",
      "  %reload_ext autoreload\n"
     ]
    }
   ],
   "source": [
    "%load_ext autoreload\n",
    "%autoreload 2\n",
    "\n",
    "from src.utils.params import (\n",
    "    param_grid,\n",
    "    max_features,\n",
    "    n_estimators,\n",
    "    cv_rounds,\n",
    "    evaluation_metric,\n",
    "    transformation_pickle_loc,\n",
    "    fe_pickle_loc\n",
    ")\n",
    "\n",
    "from src.pipelines.ingestion import (\n",
    "    ingest\n",
    ")\n",
    "\n",
    "from src.pipelines.transformation import (\n",
    "    transform\n",
    ")\n",
    "\n",
    "from src.pipelines.feature_engineering import (\n",
    "    load_transformation,\n",
    "    feature_generation,\n",
    "    feature_selection,\n",
    "    save_fe,\n",
    "    feature_engineering\n",
    ")\n",
    "\n",
    "from proyecto_1 import (\n",
    "    main\n",
    ")"
   ]
  },
  {
   "cell_type": "markdown",
   "metadata": {},
   "source": [
    "---"
   ]
  },
  {
   "cell_type": "markdown",
   "metadata": {},
   "source": [
    "# Tests"
   ]
  },
  {
   "cell_type": "markdown",
   "metadata": {},
   "source": [
    "## Feature engineering"
   ]
  },
  {
   "cell_type": "markdown",
   "metadata": {
    "heading_collapsed": true
   },
   "source": [
    "#### Loading transformation pickle"
   ]
  },
  {
   "cell_type": "code",
   "execution_count": 4,
   "metadata": {
    "ExecuteTime": {
     "end_time": "2020-11-25T01:06:05.398493Z",
     "start_time": "2020-11-25T01:06:04.063977Z"
    },
    "hidden": true
   },
   "outputs": [],
   "source": [
    "df = load_transformation(\"../../\" + transformation_pickle_loc)"
   ]
  },
  {
   "cell_type": "code",
   "execution_count": 5,
   "metadata": {
    "ExecuteTime": {
     "end_time": "2020-11-25T01:06:05.448085Z",
     "start_time": "2020-11-25T01:06:05.400841Z"
    },
    "hidden": true,
    "scrolled": true
   },
   "outputs": [
    {
     "data": {
      "text/html": [
       "<div>\n",
       "<style scoped>\n",
       "    .dataframe tbody tr th:only-of-type {\n",
       "        vertical-align: middle;\n",
       "    }\n",
       "\n",
       "    .dataframe tbody tr th {\n",
       "        vertical-align: top;\n",
       "    }\n",
       "\n",
       "    .dataframe thead th {\n",
       "        text-align: right;\n",
       "    }\n",
       "</style>\n",
       "<table border=\"1\" class=\"dataframe\">\n",
       "  <thead>\n",
       "    <tr style=\"text-align: right;\">\n",
       "      <th></th>\n",
       "      <th>fecha_creacion</th>\n",
       "      <th>hora_creacion</th>\n",
       "      <th>dia_semana</th>\n",
       "      <th>codigo_cierre</th>\n",
       "      <th>incidente_c4</th>\n",
       "      <th>tipo_entrada</th>\n",
       "      <th>label</th>\n",
       "      <th>dia_inicio</th>\n",
       "      <th>mes_inicio</th>\n",
       "      <th>anio_inicio</th>\n",
       "      <th>hora_inicio</th>\n",
       "      <th>min_inicio</th>\n",
       "    </tr>\n",
       "  </thead>\n",
       "  <tbody>\n",
       "    <tr>\n",
       "      <th>0</th>\n",
       "      <td>23/01/2016</td>\n",
       "      <td>22:35:04</td>\n",
       "      <td>Sábado</td>\n",
       "      <td>(A) La unidad de atención a emergencias fue de...</td>\n",
       "      <td>accidente-choque sin lesionados</td>\n",
       "      <td>BOTÓN DE AUXILIO</td>\n",
       "      <td>0.0</td>\n",
       "      <td>23</td>\n",
       "      <td>01</td>\n",
       "      <td>2016</td>\n",
       "      <td>22.0</td>\n",
       "      <td>35</td>\n",
       "    </tr>\n",
       "    <tr>\n",
       "      <th>1</th>\n",
       "      <td>23/01/2016</td>\n",
       "      <td>22:50:49</td>\n",
       "      <td>Sábado</td>\n",
       "      <td>(A) La unidad de atención a emergencias fue de...</td>\n",
       "      <td>accidente-choque con lesionados</td>\n",
       "      <td>BOTÓN DE AUXILIO</td>\n",
       "      <td>0.0</td>\n",
       "      <td>23</td>\n",
       "      <td>01</td>\n",
       "      <td>2016</td>\n",
       "      <td>22.0</td>\n",
       "      <td>50</td>\n",
       "    </tr>\n",
       "    <tr>\n",
       "      <th>2</th>\n",
       "      <td>24/01/2016</td>\n",
       "      <td>09:40:11</td>\n",
       "      <td>Domingo</td>\n",
       "      <td>(N) La unidad de atención a emergencias fue de...</td>\n",
       "      <td>accidente-choque sin lesionados</td>\n",
       "      <td>LLAMADA_911_066</td>\n",
       "      <td>1.0</td>\n",
       "      <td>24</td>\n",
       "      <td>01</td>\n",
       "      <td>2016</td>\n",
       "      <td>9.0</td>\n",
       "      <td>40</td>\n",
       "    </tr>\n",
       "    <tr>\n",
       "      <th>3</th>\n",
       "      <td>24/01/2016</td>\n",
       "      <td>22:40:57</td>\n",
       "      <td>Domingo</td>\n",
       "      <td>(N) La unidad de atención a emergencias fue de...</td>\n",
       "      <td>accidente-choque sin lesionados</td>\n",
       "      <td>LLAMADA_911_066</td>\n",
       "      <td>1.0</td>\n",
       "      <td>24</td>\n",
       "      <td>01</td>\n",
       "      <td>2016</td>\n",
       "      <td>22.0</td>\n",
       "      <td>40</td>\n",
       "    </tr>\n",
       "    <tr>\n",
       "      <th>4</th>\n",
       "      <td>24/01/2016</td>\n",
       "      <td>04:25:15</td>\n",
       "      <td>Domingo</td>\n",
       "      <td>(A) La unidad de atención a emergencias fue de...</td>\n",
       "      <td>accidente-choque sin lesionados</td>\n",
       "      <td>LLAMADA_911_066</td>\n",
       "      <td>0.0</td>\n",
       "      <td>24</td>\n",
       "      <td>01</td>\n",
       "      <td>2016</td>\n",
       "      <td>4.0</td>\n",
       "      <td>25</td>\n",
       "    </tr>\n",
       "    <tr>\n",
       "      <th>...</th>\n",
       "      <td>...</td>\n",
       "      <td>...</td>\n",
       "      <td>...</td>\n",
       "      <td>...</td>\n",
       "      <td>...</td>\n",
       "      <td>...</td>\n",
       "      <td>...</td>\n",
       "      <td>...</td>\n",
       "      <td>...</td>\n",
       "      <td>...</td>\n",
       "      <td>...</td>\n",
       "      <td>...</td>\n",
       "    </tr>\n",
       "    <tr>\n",
       "      <th>1383133</th>\n",
       "      <td>22/10/2020</td>\n",
       "      <td>16:17:05</td>\n",
       "      <td>Jueves</td>\n",
       "      <td>(A) La unidad de atención a emergencias fue de...</td>\n",
       "      <td>lesionado-atropellado</td>\n",
       "      <td>BOTÓN DE AUXILIO</td>\n",
       "      <td>0.0</td>\n",
       "      <td>22</td>\n",
       "      <td>10</td>\n",
       "      <td>2020</td>\n",
       "      <td>16.0</td>\n",
       "      <td>17</td>\n",
       "    </tr>\n",
       "    <tr>\n",
       "      <th>1383134</th>\n",
       "      <td>22/10/2020</td>\n",
       "      <td>16:29:13</td>\n",
       "      <td>Jueves</td>\n",
       "      <td>(A) La unidad de atención a emergencias fue de...</td>\n",
       "      <td>accidente-choque con lesionados</td>\n",
       "      <td>BOTÓN DE AUXILIO</td>\n",
       "      <td>0.0</td>\n",
       "      <td>22</td>\n",
       "      <td>10</td>\n",
       "      <td>2020</td>\n",
       "      <td>16.0</td>\n",
       "      <td>29</td>\n",
       "    </tr>\n",
       "    <tr>\n",
       "      <th>1383135</th>\n",
       "      <td>22/10/2020</td>\n",
       "      <td>12:00:26</td>\n",
       "      <td>Jueves</td>\n",
       "      <td>(D) El incidente reportado se registró en dos ...</td>\n",
       "      <td>accidente-choque sin lesionados</td>\n",
       "      <td>LLAMADA_911_066</td>\n",
       "      <td>0.0</td>\n",
       "      <td>22</td>\n",
       "      <td>10</td>\n",
       "      <td>2020</td>\n",
       "      <td>12.0</td>\n",
       "      <td>00</td>\n",
       "    </tr>\n",
       "    <tr>\n",
       "      <th>1383136</th>\n",
       "      <td>22/10/2020</td>\n",
       "      <td>12:01:25</td>\n",
       "      <td>Jueves</td>\n",
       "      <td>(D) El incidente reportado se registró en dos ...</td>\n",
       "      <td>accidente-choque con lesionados</td>\n",
       "      <td>LLAMADA_911_066</td>\n",
       "      <td>0.0</td>\n",
       "      <td>22</td>\n",
       "      <td>10</td>\n",
       "      <td>2020</td>\n",
       "      <td>12.0</td>\n",
       "      <td>01</td>\n",
       "    </tr>\n",
       "    <tr>\n",
       "      <th>1383137</th>\n",
       "      <td>22/10/2020</td>\n",
       "      <td>16:05:47</td>\n",
       "      <td>Jueves</td>\n",
       "      <td>(D) El incidente reportado se registró en dos ...</td>\n",
       "      <td>accidente-choque sin lesionados</td>\n",
       "      <td>LLAMADA_911_066</td>\n",
       "      <td>0.0</td>\n",
       "      <td>22</td>\n",
       "      <td>10</td>\n",
       "      <td>2020</td>\n",
       "      <td>16.0</td>\n",
       "      <td>05</td>\n",
       "    </tr>\n",
       "  </tbody>\n",
       "</table>\n",
       "<p>1383138 rows × 12 columns</p>\n",
       "</div>"
      ],
      "text/plain": [
       "        fecha_creacion hora_creacion dia_semana  \\\n",
       "0           23/01/2016      22:35:04     Sábado   \n",
       "1           23/01/2016      22:50:49     Sábado   \n",
       "2           24/01/2016      09:40:11    Domingo   \n",
       "3           24/01/2016      22:40:57    Domingo   \n",
       "4           24/01/2016      04:25:15    Domingo   \n",
       "...                ...           ...        ...   \n",
       "1383133     22/10/2020      16:17:05     Jueves   \n",
       "1383134     22/10/2020      16:29:13     Jueves   \n",
       "1383135     22/10/2020      12:00:26     Jueves   \n",
       "1383136     22/10/2020      12:01:25     Jueves   \n",
       "1383137     22/10/2020      16:05:47     Jueves   \n",
       "\n",
       "                                             codigo_cierre  \\\n",
       "0        (A) La unidad de atención a emergencias fue de...   \n",
       "1        (A) La unidad de atención a emergencias fue de...   \n",
       "2        (N) La unidad de atención a emergencias fue de...   \n",
       "3        (N) La unidad de atención a emergencias fue de...   \n",
       "4        (A) La unidad de atención a emergencias fue de...   \n",
       "...                                                    ...   \n",
       "1383133  (A) La unidad de atención a emergencias fue de...   \n",
       "1383134  (A) La unidad de atención a emergencias fue de...   \n",
       "1383135  (D) El incidente reportado se registró en dos ...   \n",
       "1383136  (D) El incidente reportado se registró en dos ...   \n",
       "1383137  (D) El incidente reportado se registró en dos ...   \n",
       "\n",
       "                            incidente_c4      tipo_entrada  label dia_inicio  \\\n",
       "0        accidente-choque sin lesionados  BOTÓN DE AUXILIO    0.0         23   \n",
       "1        accidente-choque con lesionados  BOTÓN DE AUXILIO    0.0         23   \n",
       "2        accidente-choque sin lesionados   LLAMADA_911_066    1.0         24   \n",
       "3        accidente-choque sin lesionados   LLAMADA_911_066    1.0         24   \n",
       "4        accidente-choque sin lesionados   LLAMADA_911_066    0.0         24   \n",
       "...                                  ...               ...    ...        ...   \n",
       "1383133            lesionado-atropellado  BOTÓN DE AUXILIO    0.0         22   \n",
       "1383134  accidente-choque con lesionados  BOTÓN DE AUXILIO    0.0         22   \n",
       "1383135  accidente-choque sin lesionados   LLAMADA_911_066    0.0         22   \n",
       "1383136  accidente-choque con lesionados   LLAMADA_911_066    0.0         22   \n",
       "1383137  accidente-choque sin lesionados   LLAMADA_911_066    0.0         22   \n",
       "\n",
       "        mes_inicio anio_inicio  hora_inicio min_inicio  \n",
       "0               01        2016         22.0         35  \n",
       "1               01        2016         22.0         50  \n",
       "2               01        2016          9.0         40  \n",
       "3               01        2016         22.0         40  \n",
       "4               01        2016          4.0         25  \n",
       "...            ...         ...          ...        ...  \n",
       "1383133         10        2020         16.0         17  \n",
       "1383134         10        2020         16.0         29  \n",
       "1383135         10        2020         12.0         00  \n",
       "1383136         10        2020         12.0         01  \n",
       "1383137         10        2020         16.0         05  \n",
       "\n",
       "[1383138 rows x 12 columns]"
      ]
     },
     "execution_count": 5,
     "metadata": {},
     "output_type": "execute_result"
    }
   ],
   "source": [
    "df"
   ]
  },
  {
   "cell_type": "markdown",
   "metadata": {},
   "source": [
    "#### Processing data for model"
   ]
  },
  {
   "cell_type": "code",
   "execution_count": 48,
   "metadata": {
    "ExecuteTime": {
     "end_time": "2020-11-25T02:14:02.074507Z",
     "start_time": "2020-11-25T02:14:00.715279Z"
    },
    "scrolled": true
   },
   "outputs": [
    {
     "name": "stdout",
     "output_type": "stream",
     "text": [
      "\n",
      "++ Complete list of features (9) that will be fed to the model:\n",
      "    1. hora_creacion\n",
      "    2. dia_semana\n",
      "    3. incidente_c4\n",
      "    4. tipo_entrada\n",
      "    5. dia_inicio\n",
      "    6. mes_inicio\n",
      "    7. anio_inicio\n",
      "    8. hora_inicio\n",
      "    9. min_inicio\n",
      "\n",
      "++ List of categorical features (2) that will be processed through the pipeline are:\n",
      "    1. incidente_c4\n",
      "    2. tipo_entrada\n",
      "{'incidente_c4': ['Detención ciudadana-accidente automovilístico', 'accidente-choque con lesionados', 'accidente-choque con prensados', 'accidente-choque sin lesionados', 'accidente-ciclista', 'accidente-ferroviario', 'accidente-monopatín', 'accidente-motociclista', 'accidente-otros', 'accidente-persona atrapada / desbarrancada', 'accidente-vehiculo atrapado', 'accidente-vehiculo desbarrancado', 'accidente-vehículo atrapado-varado', 'accidente-volcadura', 'cadáver-accidente automovilístico', 'cadáver-atropellado', 'detención ciudadana-accidente automovilístico', 'detención ciudadana-atropellado', 'lesionado-accidente automovilístico', 'lesionado-atropellado', 'mi ciudad-calle-incidente de tránsito', 'mi ciudad-taxi-incidente de tránsito', 'sismo-choque con lesionados', 'sismo-choque con prensados', 'sismo-choque sin lesionados', 'sismo-persona atropellada'], 'tipo_entrada': ['APLICATIVOS', 'BOTÓN DE AUXILIO', 'CÁMARA', 'LLAMADA APP911', 'LLAMADA_911_066', 'RADIO', 'REDES', 'ZELLO']}\n"
     ]
    }
   ],
   "source": [
    "df_features_prc, df_labels = feature_generation(df)"
   ]
  },
  {
   "cell_type": "code",
   "execution_count": 27,
   "metadata": {
    "ExecuteTime": {
     "end_time": "2020-11-25T02:06:58.623489Z",
     "start_time": "2020-11-25T02:06:58.480704Z"
    },
    "scrolled": true
   },
   "outputs": [
    {
     "data": {
      "text/html": [
       "<div>\n",
       "<style scoped>\n",
       "    .dataframe tbody tr th:only-of-type {\n",
       "        vertical-align: middle;\n",
       "    }\n",
       "\n",
       "    .dataframe tbody tr th {\n",
       "        vertical-align: top;\n",
       "    }\n",
       "\n",
       "    .dataframe thead th {\n",
       "        text-align: right;\n",
       "    }\n",
       "</style>\n",
       "<table border=\"1\" class=\"dataframe\">\n",
       "  <thead>\n",
       "    <tr style=\"text-align: right;\">\n",
       "      <th></th>\n",
       "      <th>fecha_creacion</th>\n",
       "      <th>hora_creacion</th>\n",
       "      <th>dia_semana</th>\n",
       "      <th>codigo_cierre</th>\n",
       "      <th>incidente_c4</th>\n",
       "      <th>tipo_entrada</th>\n",
       "      <th>label</th>\n",
       "      <th>dia_inicio</th>\n",
       "      <th>mes_inicio</th>\n",
       "      <th>anio_inicio</th>\n",
       "      <th>hora_inicio</th>\n",
       "      <th>min_inicio</th>\n",
       "    </tr>\n",
       "  </thead>\n",
       "  <tbody>\n",
       "    <tr>\n",
       "      <th>0</th>\n",
       "      <td>23/01/2016</td>\n",
       "      <td>22:35:04</td>\n",
       "      <td>Sábado</td>\n",
       "      <td>(A) La unidad de atención a emergencias fue de...</td>\n",
       "      <td>accidente-choque sin lesionados</td>\n",
       "      <td>BOTÓN DE AUXILIO</td>\n",
       "      <td>0.0</td>\n",
       "      <td>23</td>\n",
       "      <td>01</td>\n",
       "      <td>2016</td>\n",
       "      <td>22.0</td>\n",
       "      <td>35</td>\n",
       "    </tr>\n",
       "    <tr>\n",
       "      <th>1</th>\n",
       "      <td>23/01/2016</td>\n",
       "      <td>22:50:49</td>\n",
       "      <td>Sábado</td>\n",
       "      <td>(A) La unidad de atención a emergencias fue de...</td>\n",
       "      <td>accidente-choque con lesionados</td>\n",
       "      <td>BOTÓN DE AUXILIO</td>\n",
       "      <td>0.0</td>\n",
       "      <td>23</td>\n",
       "      <td>01</td>\n",
       "      <td>2016</td>\n",
       "      <td>22.0</td>\n",
       "      <td>50</td>\n",
       "    </tr>\n",
       "    <tr>\n",
       "      <th>2</th>\n",
       "      <td>24/01/2016</td>\n",
       "      <td>09:40:11</td>\n",
       "      <td>Domingo</td>\n",
       "      <td>(N) La unidad de atención a emergencias fue de...</td>\n",
       "      <td>accidente-choque sin lesionados</td>\n",
       "      <td>LLAMADA_911_066</td>\n",
       "      <td>1.0</td>\n",
       "      <td>24</td>\n",
       "      <td>01</td>\n",
       "      <td>2016</td>\n",
       "      <td>9.0</td>\n",
       "      <td>40</td>\n",
       "    </tr>\n",
       "    <tr>\n",
       "      <th>3</th>\n",
       "      <td>24/01/2016</td>\n",
       "      <td>22:40:57</td>\n",
       "      <td>Domingo</td>\n",
       "      <td>(N) La unidad de atención a emergencias fue de...</td>\n",
       "      <td>accidente-choque sin lesionados</td>\n",
       "      <td>LLAMADA_911_066</td>\n",
       "      <td>1.0</td>\n",
       "      <td>24</td>\n",
       "      <td>01</td>\n",
       "      <td>2016</td>\n",
       "      <td>22.0</td>\n",
       "      <td>40</td>\n",
       "    </tr>\n",
       "    <tr>\n",
       "      <th>4</th>\n",
       "      <td>24/01/2016</td>\n",
       "      <td>04:25:15</td>\n",
       "      <td>Domingo</td>\n",
       "      <td>(A) La unidad de atención a emergencias fue de...</td>\n",
       "      <td>accidente-choque sin lesionados</td>\n",
       "      <td>LLAMADA_911_066</td>\n",
       "      <td>0.0</td>\n",
       "      <td>24</td>\n",
       "      <td>01</td>\n",
       "      <td>2016</td>\n",
       "      <td>4.0</td>\n",
       "      <td>25</td>\n",
       "    </tr>\n",
       "    <tr>\n",
       "      <th>...</th>\n",
       "      <td>...</td>\n",
       "      <td>...</td>\n",
       "      <td>...</td>\n",
       "      <td>...</td>\n",
       "      <td>...</td>\n",
       "      <td>...</td>\n",
       "      <td>...</td>\n",
       "      <td>...</td>\n",
       "      <td>...</td>\n",
       "      <td>...</td>\n",
       "      <td>...</td>\n",
       "      <td>...</td>\n",
       "    </tr>\n",
       "    <tr>\n",
       "      <th>1383133</th>\n",
       "      <td>22/10/2020</td>\n",
       "      <td>16:17:05</td>\n",
       "      <td>Jueves</td>\n",
       "      <td>(A) La unidad de atención a emergencias fue de...</td>\n",
       "      <td>lesionado-atropellado</td>\n",
       "      <td>BOTÓN DE AUXILIO</td>\n",
       "      <td>0.0</td>\n",
       "      <td>22</td>\n",
       "      <td>10</td>\n",
       "      <td>2020</td>\n",
       "      <td>16.0</td>\n",
       "      <td>17</td>\n",
       "    </tr>\n",
       "    <tr>\n",
       "      <th>1383134</th>\n",
       "      <td>22/10/2020</td>\n",
       "      <td>16:29:13</td>\n",
       "      <td>Jueves</td>\n",
       "      <td>(A) La unidad de atención a emergencias fue de...</td>\n",
       "      <td>accidente-choque con lesionados</td>\n",
       "      <td>BOTÓN DE AUXILIO</td>\n",
       "      <td>0.0</td>\n",
       "      <td>22</td>\n",
       "      <td>10</td>\n",
       "      <td>2020</td>\n",
       "      <td>16.0</td>\n",
       "      <td>29</td>\n",
       "    </tr>\n",
       "    <tr>\n",
       "      <th>1383135</th>\n",
       "      <td>22/10/2020</td>\n",
       "      <td>12:00:26</td>\n",
       "      <td>Jueves</td>\n",
       "      <td>(D) El incidente reportado se registró en dos ...</td>\n",
       "      <td>accidente-choque sin lesionados</td>\n",
       "      <td>LLAMADA_911_066</td>\n",
       "      <td>0.0</td>\n",
       "      <td>22</td>\n",
       "      <td>10</td>\n",
       "      <td>2020</td>\n",
       "      <td>12.0</td>\n",
       "      <td>00</td>\n",
       "    </tr>\n",
       "    <tr>\n",
       "      <th>1383136</th>\n",
       "      <td>22/10/2020</td>\n",
       "      <td>12:01:25</td>\n",
       "      <td>Jueves</td>\n",
       "      <td>(D) El incidente reportado se registró en dos ...</td>\n",
       "      <td>accidente-choque con lesionados</td>\n",
       "      <td>LLAMADA_911_066</td>\n",
       "      <td>0.0</td>\n",
       "      <td>22</td>\n",
       "      <td>10</td>\n",
       "      <td>2020</td>\n",
       "      <td>12.0</td>\n",
       "      <td>01</td>\n",
       "    </tr>\n",
       "    <tr>\n",
       "      <th>1383137</th>\n",
       "      <td>22/10/2020</td>\n",
       "      <td>16:05:47</td>\n",
       "      <td>Jueves</td>\n",
       "      <td>(D) El incidente reportado se registró en dos ...</td>\n",
       "      <td>accidente-choque sin lesionados</td>\n",
       "      <td>LLAMADA_911_066</td>\n",
       "      <td>0.0</td>\n",
       "      <td>22</td>\n",
       "      <td>10</td>\n",
       "      <td>2020</td>\n",
       "      <td>16.0</td>\n",
       "      <td>05</td>\n",
       "    </tr>\n",
       "  </tbody>\n",
       "</table>\n",
       "<p>1383138 rows × 12 columns</p>\n",
       "</div>"
      ],
      "text/plain": [
       "        fecha_creacion hora_creacion dia_semana  \\\n",
       "0           23/01/2016      22:35:04     Sábado   \n",
       "1           23/01/2016      22:50:49     Sábado   \n",
       "2           24/01/2016      09:40:11    Domingo   \n",
       "3           24/01/2016      22:40:57    Domingo   \n",
       "4           24/01/2016      04:25:15    Domingo   \n",
       "...                ...           ...        ...   \n",
       "1383133     22/10/2020      16:17:05     Jueves   \n",
       "1383134     22/10/2020      16:29:13     Jueves   \n",
       "1383135     22/10/2020      12:00:26     Jueves   \n",
       "1383136     22/10/2020      12:01:25     Jueves   \n",
       "1383137     22/10/2020      16:05:47     Jueves   \n",
       "\n",
       "                                             codigo_cierre  \\\n",
       "0        (A) La unidad de atención a emergencias fue de...   \n",
       "1        (A) La unidad de atención a emergencias fue de...   \n",
       "2        (N) La unidad de atención a emergencias fue de...   \n",
       "3        (N) La unidad de atención a emergencias fue de...   \n",
       "4        (A) La unidad de atención a emergencias fue de...   \n",
       "...                                                    ...   \n",
       "1383133  (A) La unidad de atención a emergencias fue de...   \n",
       "1383134  (A) La unidad de atención a emergencias fue de...   \n",
       "1383135  (D) El incidente reportado se registró en dos ...   \n",
       "1383136  (D) El incidente reportado se registró en dos ...   \n",
       "1383137  (D) El incidente reportado se registró en dos ...   \n",
       "\n",
       "                            incidente_c4      tipo_entrada  label dia_inicio  \\\n",
       "0        accidente-choque sin lesionados  BOTÓN DE AUXILIO    0.0         23   \n",
       "1        accidente-choque con lesionados  BOTÓN DE AUXILIO    0.0         23   \n",
       "2        accidente-choque sin lesionados   LLAMADA_911_066    1.0         24   \n",
       "3        accidente-choque sin lesionados   LLAMADA_911_066    1.0         24   \n",
       "4        accidente-choque sin lesionados   LLAMADA_911_066    0.0         24   \n",
       "...                                  ...               ...    ...        ...   \n",
       "1383133            lesionado-atropellado  BOTÓN DE AUXILIO    0.0         22   \n",
       "1383134  accidente-choque con lesionados  BOTÓN DE AUXILIO    0.0         22   \n",
       "1383135  accidente-choque sin lesionados   LLAMADA_911_066    0.0         22   \n",
       "1383136  accidente-choque con lesionados   LLAMADA_911_066    0.0         22   \n",
       "1383137  accidente-choque sin lesionados   LLAMADA_911_066    0.0         22   \n",
       "\n",
       "        mes_inicio anio_inicio  hora_inicio min_inicio  \n",
       "0               01        2016         22.0         35  \n",
       "1               01        2016         22.0         50  \n",
       "2               01        2016          9.0         40  \n",
       "3               01        2016         22.0         40  \n",
       "4               01        2016          4.0         25  \n",
       "...            ...         ...          ...        ...  \n",
       "1383133         10        2020         16.0         17  \n",
       "1383134         10        2020         16.0         29  \n",
       "1383135         10        2020         12.0         00  \n",
       "1383136         10        2020         12.0         01  \n",
       "1383137         10        2020         16.0         05  \n",
       "\n",
       "[1383138 rows x 12 columns]"
      ]
     },
     "execution_count": 27,
     "metadata": {},
     "output_type": "execute_result"
    }
   ],
   "source": [
    "df"
   ]
  },
  {
   "cell_type": "code",
   "execution_count": 70,
   "metadata": {
    "ExecuteTime": {
     "end_time": "2020-11-25T02:37:16.447612Z",
     "start_time": "2020-11-25T02:37:16.308843Z"
    }
   },
   "outputs": [
    {
     "data": {
      "text/plain": [
       "['a', 'b', 'c', 'd', 'e']"
      ]
     },
     "execution_count": 70,
     "metadata": {},
     "output_type": "execute_result"
    }
   ],
   "source": [
    "l1 = list(\"abcde\")\n",
    "l1"
   ]
  },
  {
   "cell_type": "code",
   "execution_count": 71,
   "metadata": {
    "ExecuteTime": {
     "end_time": "2020-11-25T02:37:16.659556Z",
     "start_time": "2020-11-25T02:37:16.634515Z"
    }
   },
   "outputs": [
    {
     "data": {
      "text/plain": [
       "['c1', 'c2', 'c3']"
      ]
     },
     "execution_count": 71,
     "metadata": {},
     "output_type": "execute_result"
    }
   ],
   "source": [
    "c = [\"c1\", \"c2\", \"c3\"]\n",
    "c"
   ]
  },
  {
   "cell_type": "code",
   "execution_count": 72,
   "metadata": {
    "ExecuteTime": {
     "end_time": "2020-11-25T02:37:17.724073Z",
     "start_time": "2020-11-25T02:37:17.698538Z"
    }
   },
   "outputs": [],
   "source": [
    "for i in range(len(c)):\n",
    "    l1.insert(i + l1.index(\"c\"), c[i])\n",
    "l1.remove(\"c\")"
   ]
  },
  {
   "cell_type": "code",
   "execution_count": 73,
   "metadata": {
    "ExecuteTime": {
     "end_time": "2020-11-25T02:37:18.194284Z",
     "start_time": "2020-11-25T02:37:18.169315Z"
    }
   },
   "outputs": [
    {
     "data": {
      "text/plain": [
       "['a', 'b', 'c1', 'c2', 'c3', 'd', 'e']"
      ]
     },
     "execution_count": 73,
     "metadata": {},
     "output_type": "execute_result"
    }
   ],
   "source": [
    "l1"
   ]
  },
  {
   "cell_type": "markdown",
   "metadata": {},
   "source": [
    "#### Training, executing and evaluating model"
   ]
  },
  {
   "cell_type": "code",
   "execution_count": 7,
   "metadata": {
    "ExecuteTime": {
     "end_time": "2020-11-25T01:06:36.491915Z",
     "start_time": "2020-11-25T01:06:36.469691Z"
    },
    "scrolled": true
   },
   "outputs": [],
   "source": [
    "model = RandomForestClassifier(oob_score=True, n_jobs=-1)"
   ]
  },
  {
   "cell_type": "code",
   "execution_count": 9,
   "metadata": {
    "ExecuteTime": {
     "end_time": "2020-11-25T01:07:11.266646Z",
     "start_time": "2020-11-25T01:07:10.886952Z"
    }
   },
   "outputs": [],
   "source": [
    "## Splitting data in train and test\n",
    "X_train, X_test, y_train, y_test = train_test_split(df_features_prc, df_labels, test_size=0.3)"
   ]
  },
  {
   "cell_type": "code",
   "execution_count": 10,
   "metadata": {
    "ExecuteTime": {
     "end_time": "2020-11-25T01:13:15.923195Z",
     "start_time": "2020-11-25T01:07:12.011331Z"
    },
    "scrolled": true
   },
   "outputs": [
    {
     "name": "stdout",
     "output_type": "stream",
     "text": [
      "{'criterion': 'gini', 'min_samples_leaf': 9, 'n_estimators': 500}\n",
      "RandomForestClassifier(min_samples_leaf=9, n_estimators=500, n_jobs=-1,\n",
      "                       oob_score=True)\n",
      "\n",
      "++ Grid search results:\n",
      "\n",
      "    ++++ Best estimator: RandomForestClassifier(min_samples_leaf=9, n_estimators=500, n_jobs=-1,\n",
      "                       oob_score=True)\n",
      "    ++++ Number of features in best estimator: 34 \n",
      "\n",
      "    ++++ Best estimator oob score: 0.7956973587992514\n",
      "\n"
     ]
    }
   ],
   "source": [
    "grid_search = GridSearchCV(model,\n",
    "                           param_grid,\n",
    "                           cv=2,\n",
    "                           scoring=evaluation_metric,\n",
    "                           return_train_score=True,\n",
    "                           n_jobs=-1\n",
    "                           )\n",
    "\n",
    "grid_search.fit(X_train, y_train)\n",
    "\n",
    "print(grid_search.best_params_)\n",
    "print(grid_search.best_estimator_)\n",
    "\n",
    "print(\"\\n++ Grid search results:\\n\")\n",
    "print(\"    ++++ Best estimator: {}\".format(grid_search.best_estimator_))\n",
    "print(\"    ++++ Number of features in best estimator: {} \\n\".format(grid_search.best_estimator_.n_features_))\n",
    "print(\"    ++++ Best estimator oob score: {}\\n\".format(grid_search.best_estimator_.oob_score_))"
   ]
  },
  {
   "cell_type": "markdown",
   "metadata": {},
   "source": [
    "#### Identifying most important variables"
   ]
  },
  {
   "cell_type": "code",
   "execution_count": 25,
   "metadata": {
    "ExecuteTime": {
     "end_time": "2020-11-25T01:58:51.529642Z",
     "start_time": "2020-11-25T01:58:51.290966Z"
    }
   },
   "outputs": [
    {
     "name": "stdout",
     "output_type": "stream",
     "text": [
      "34\n"
     ]
    },
    {
     "data": {
      "text/plain": [
       "array([0.00000000e+00, 8.29972427e-02, 2.71450590e-03, 3.61597570e-01,\n",
       "       4.59154789e-04, 2.74016206e-05, 1.91502764e-05, 1.45341686e-02,\n",
       "       1.34217488e-03, 1.84155936e-03, 1.59117930e-03, 1.32748621e-04,\n",
       "       1.26035468e-03, 2.67931965e-02, 1.89707854e-03, 3.10741491e-03,\n",
       "       1.02661983e-04, 1.20516769e-04, 1.04711518e-03, 6.83003257e-02,\n",
       "       5.39169803e-04, 0.00000000e+00, 8.67861133e-05, 0.00000000e+00,\n",
       "       9.35247886e-05, 2.47787875e-08, 3.59081942e-04, 9.93993505e-02,\n",
       "       6.43209726e-03, 5.84196707e-03, 1.88749552e-01, 9.84750268e-02,\n",
       "       2.61188926e-02, 4.01900572e-03])"
      ]
     },
     "execution_count": 25,
     "metadata": {},
     "output_type": "execute_result"
    }
   ],
   "source": [
    "print(len(grid_search.best_estimator_.feature_importances_))\n",
    "grid_search.best_estimator_.feature_importances_"
   ]
  },
  {
   "cell_type": "code",
   "execution_count": 17,
   "metadata": {
    "ExecuteTime": {
     "end_time": "2020-11-25T01:15:56.118183Z",
     "start_time": "2020-11-25T01:15:55.545673Z"
    },
    "scrolled": true
   },
   "outputs": [
    {
     "ename": "ValueError",
     "evalue": "arrays must all be same length",
     "output_type": "error",
     "traceback": [
      "\u001b[0;31m---------------------------------------------------------------------------\u001b[0m",
      "\u001b[0;31mValueError\u001b[0m                                Traceback (most recent call last)",
      "\u001b[0;32m<ipython-input-17-96afb2aa1977>\u001b[0m in \u001b[0;36m<module>\u001b[0;34m\u001b[0m\n\u001b[1;32m      2\u001b[0m     {\n\u001b[1;32m      3\u001b[0m         \u001b[0;34m\"Importance\"\u001b[0m\u001b[0;34m:\u001b[0m \u001b[0mgrid_search\u001b[0m\u001b[0;34m.\u001b[0m\u001b[0mbest_estimator_\u001b[0m\u001b[0;34m.\u001b[0m\u001b[0mfeature_importances_\u001b[0m\u001b[0;34m,\u001b[0m\u001b[0;34m\u001b[0m\u001b[0;34m\u001b[0m\u001b[0m\n\u001b[0;32m----> 4\u001b[0;31m         \u001b[0;34m\"Feature\"\u001b[0m\u001b[0;34m:\u001b[0m \u001b[0mdf\u001b[0m\u001b[0;34m.\u001b[0m\u001b[0mcolumns\u001b[0m\u001b[0;34m\u001b[0m\u001b[0;34m\u001b[0m\u001b[0m\n\u001b[0m\u001b[1;32m      5\u001b[0m     }\n\u001b[1;32m      6\u001b[0m )\n",
      "\u001b[0;32m~/.pyenv/versions/3.7.4/envs/itam_intro_to_ds/lib/python3.7/site-packages/pandas/core/frame.py\u001b[0m in \u001b[0;36m__init__\u001b[0;34m(self, data, index, columns, dtype, copy)\u001b[0m\n\u001b[1;32m    466\u001b[0m \u001b[0;34m\u001b[0m\u001b[0m\n\u001b[1;32m    467\u001b[0m         \u001b[0;32melif\u001b[0m \u001b[0misinstance\u001b[0m\u001b[0;34m(\u001b[0m\u001b[0mdata\u001b[0m\u001b[0;34m,\u001b[0m \u001b[0mdict\u001b[0m\u001b[0;34m)\u001b[0m\u001b[0;34m:\u001b[0m\u001b[0;34m\u001b[0m\u001b[0;34m\u001b[0m\u001b[0m\n\u001b[0;32m--> 468\u001b[0;31m             \u001b[0mmgr\u001b[0m \u001b[0;34m=\u001b[0m \u001b[0minit_dict\u001b[0m\u001b[0;34m(\u001b[0m\u001b[0mdata\u001b[0m\u001b[0;34m,\u001b[0m \u001b[0mindex\u001b[0m\u001b[0;34m,\u001b[0m \u001b[0mcolumns\u001b[0m\u001b[0;34m,\u001b[0m \u001b[0mdtype\u001b[0m\u001b[0;34m=\u001b[0m\u001b[0mdtype\u001b[0m\u001b[0;34m)\u001b[0m\u001b[0;34m\u001b[0m\u001b[0;34m\u001b[0m\u001b[0m\n\u001b[0m\u001b[1;32m    469\u001b[0m         \u001b[0;32melif\u001b[0m \u001b[0misinstance\u001b[0m\u001b[0;34m(\u001b[0m\u001b[0mdata\u001b[0m\u001b[0;34m,\u001b[0m \u001b[0mma\u001b[0m\u001b[0;34m.\u001b[0m\u001b[0mMaskedArray\u001b[0m\u001b[0;34m)\u001b[0m\u001b[0;34m:\u001b[0m\u001b[0;34m\u001b[0m\u001b[0;34m\u001b[0m\u001b[0m\n\u001b[1;32m    470\u001b[0m             \u001b[0;32mimport\u001b[0m \u001b[0mnumpy\u001b[0m\u001b[0;34m.\u001b[0m\u001b[0mma\u001b[0m\u001b[0;34m.\u001b[0m\u001b[0mmrecords\u001b[0m \u001b[0;32mas\u001b[0m \u001b[0mmrecords\u001b[0m\u001b[0;34m\u001b[0m\u001b[0;34m\u001b[0m\u001b[0m\n",
      "\u001b[0;32m~/.pyenv/versions/3.7.4/envs/itam_intro_to_ds/lib/python3.7/site-packages/pandas/core/internals/construction.py\u001b[0m in \u001b[0;36minit_dict\u001b[0;34m(data, index, columns, dtype)\u001b[0m\n\u001b[1;32m    281\u001b[0m             \u001b[0marr\u001b[0m \u001b[0;32mif\u001b[0m \u001b[0;32mnot\u001b[0m \u001b[0mis_datetime64tz_dtype\u001b[0m\u001b[0;34m(\u001b[0m\u001b[0marr\u001b[0m\u001b[0;34m)\u001b[0m \u001b[0;32melse\u001b[0m \u001b[0marr\u001b[0m\u001b[0;34m.\u001b[0m\u001b[0mcopy\u001b[0m\u001b[0;34m(\u001b[0m\u001b[0;34m)\u001b[0m \u001b[0;32mfor\u001b[0m \u001b[0marr\u001b[0m \u001b[0;32min\u001b[0m \u001b[0marrays\u001b[0m\u001b[0;34m\u001b[0m\u001b[0;34m\u001b[0m\u001b[0m\n\u001b[1;32m    282\u001b[0m         ]\n\u001b[0;32m--> 283\u001b[0;31m     \u001b[0;32mreturn\u001b[0m \u001b[0marrays_to_mgr\u001b[0m\u001b[0;34m(\u001b[0m\u001b[0marrays\u001b[0m\u001b[0;34m,\u001b[0m \u001b[0mdata_names\u001b[0m\u001b[0;34m,\u001b[0m \u001b[0mindex\u001b[0m\u001b[0;34m,\u001b[0m \u001b[0mcolumns\u001b[0m\u001b[0;34m,\u001b[0m \u001b[0mdtype\u001b[0m\u001b[0;34m=\u001b[0m\u001b[0mdtype\u001b[0m\u001b[0;34m)\u001b[0m\u001b[0;34m\u001b[0m\u001b[0;34m\u001b[0m\u001b[0m\n\u001b[0m\u001b[1;32m    284\u001b[0m \u001b[0;34m\u001b[0m\u001b[0m\n\u001b[1;32m    285\u001b[0m \u001b[0;34m\u001b[0m\u001b[0m\n",
      "\u001b[0;32m~/.pyenv/versions/3.7.4/envs/itam_intro_to_ds/lib/python3.7/site-packages/pandas/core/internals/construction.py\u001b[0m in \u001b[0;36marrays_to_mgr\u001b[0;34m(arrays, arr_names, index, columns, dtype, verify_integrity)\u001b[0m\n\u001b[1;32m     76\u001b[0m         \u001b[0;31m# figure out the index, if necessary\u001b[0m\u001b[0;34m\u001b[0m\u001b[0;34m\u001b[0m\u001b[0;34m\u001b[0m\u001b[0m\n\u001b[1;32m     77\u001b[0m         \u001b[0;32mif\u001b[0m \u001b[0mindex\u001b[0m \u001b[0;32mis\u001b[0m \u001b[0;32mNone\u001b[0m\u001b[0;34m:\u001b[0m\u001b[0;34m\u001b[0m\u001b[0;34m\u001b[0m\u001b[0m\n\u001b[0;32m---> 78\u001b[0;31m             \u001b[0mindex\u001b[0m \u001b[0;34m=\u001b[0m \u001b[0mextract_index\u001b[0m\u001b[0;34m(\u001b[0m\u001b[0marrays\u001b[0m\u001b[0;34m)\u001b[0m\u001b[0;34m\u001b[0m\u001b[0;34m\u001b[0m\u001b[0m\n\u001b[0m\u001b[1;32m     79\u001b[0m         \u001b[0;32melse\u001b[0m\u001b[0;34m:\u001b[0m\u001b[0;34m\u001b[0m\u001b[0;34m\u001b[0m\u001b[0m\n\u001b[1;32m     80\u001b[0m             \u001b[0mindex\u001b[0m \u001b[0;34m=\u001b[0m \u001b[0mensure_index\u001b[0m\u001b[0;34m(\u001b[0m\u001b[0mindex\u001b[0m\u001b[0;34m)\u001b[0m\u001b[0;34m\u001b[0m\u001b[0;34m\u001b[0m\u001b[0m\n",
      "\u001b[0;32m~/.pyenv/versions/3.7.4/envs/itam_intro_to_ds/lib/python3.7/site-packages/pandas/core/internals/construction.py\u001b[0m in \u001b[0;36mextract_index\u001b[0;34m(data)\u001b[0m\n\u001b[1;32m    395\u001b[0m             \u001b[0mlengths\u001b[0m \u001b[0;34m=\u001b[0m \u001b[0mlist\u001b[0m\u001b[0;34m(\u001b[0m\u001b[0mset\u001b[0m\u001b[0;34m(\u001b[0m\u001b[0mraw_lengths\u001b[0m\u001b[0;34m)\u001b[0m\u001b[0;34m)\u001b[0m\u001b[0;34m\u001b[0m\u001b[0;34m\u001b[0m\u001b[0m\n\u001b[1;32m    396\u001b[0m             \u001b[0;32mif\u001b[0m \u001b[0mlen\u001b[0m\u001b[0;34m(\u001b[0m\u001b[0mlengths\u001b[0m\u001b[0;34m)\u001b[0m \u001b[0;34m>\u001b[0m \u001b[0;36m1\u001b[0m\u001b[0;34m:\u001b[0m\u001b[0;34m\u001b[0m\u001b[0;34m\u001b[0m\u001b[0m\n\u001b[0;32m--> 397\u001b[0;31m                 \u001b[0;32mraise\u001b[0m \u001b[0mValueError\u001b[0m\u001b[0;34m(\u001b[0m\u001b[0;34m\"arrays must all be same length\"\u001b[0m\u001b[0;34m)\u001b[0m\u001b[0;34m\u001b[0m\u001b[0;34m\u001b[0m\u001b[0m\n\u001b[0m\u001b[1;32m    398\u001b[0m \u001b[0;34m\u001b[0m\u001b[0m\n\u001b[1;32m    399\u001b[0m             \u001b[0;32mif\u001b[0m \u001b[0mhave_dicts\u001b[0m\u001b[0;34m:\u001b[0m\u001b[0;34m\u001b[0m\u001b[0;34m\u001b[0m\u001b[0m\n",
      "\u001b[0;31mValueError\u001b[0m: arrays must all be same length"
     ]
    }
   ],
   "source": [
    "feature_importance = pd.DataFrame(\n",
    "    {\n",
    "        \"Importance\": grid_search.best_estimator_.feature_importances_,\n",
    "        \"Feature\": df_features_prc.columns\n",
    "    }\n",
    ")\n",
    "feature_importance.sort_values(by=\"Importance\", ascending=False)\n",
    "print(display(feature_importance))"
   ]
  },
  {
   "cell_type": "markdown",
   "metadata": {},
   "source": [
    "---\n",
    "---"
   ]
  }
 ],
 "metadata": {
  "kernelspec": {
   "display_name": "Python 3",
   "language": "python",
   "name": "python3"
  },
  "language_info": {
   "codemirror_mode": {
    "name": "ipython",
    "version": 3
   },
   "file_extension": ".py",
   "mimetype": "text/x-python",
   "name": "python",
   "nbconvert_exporter": "python",
   "pygments_lexer": "ipython3",
   "version": "3.7.4"
  }
 },
 "nbformat": 4,
 "nbformat_minor": 4
}
