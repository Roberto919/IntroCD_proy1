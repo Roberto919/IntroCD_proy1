{
 "cells": [
  {
   "cell_type": "markdown",
   "metadata": {},
   "source": [
    "# Rob's sandbox"
   ]
  },
  {
   "cell_type": "markdown",
   "metadata": {},
   "source": [
    "---"
   ]
  },
  {
   "cell_type": "markdown",
   "metadata": {},
   "source": [
    "# Imports"
   ]
  },
  {
   "cell_type": "markdown",
   "metadata": {},
   "source": [
    "#### Python modules"
   ]
  },
  {
   "cell_type": "code",
   "execution_count": 1,
   "metadata": {
    "ExecuteTime": {
     "end_time": "2020-12-03T17:12:52.651600Z",
     "start_time": "2020-12-03T17:12:51.333740Z"
    }
   },
   "outputs": [],
   "source": [
    "import sys\n",
    "\n",
    "from sklearn.ensemble import RandomForestClassifier\n",
    "from sklearn.model_selection import GridSearchCV\n",
    "from sklearn.model_selection import GridSearchCV\n",
    "from sklearn.model_selection import (\n",
    "    train_test_split,\n",
    "    cross_val_score\n",
    ")\n",
    "from sklearn.inspection import permutation_importance\n",
    "\n",
    "# import matplotlib.pyplot as plt\n",
    "# %matplotlib inline\n",
    "\n",
    "import pandas as pd\n",
    "pd.set_option(\"display.max_columns\", 50)"
   ]
  },
  {
   "cell_type": "markdown",
   "metadata": {},
   "source": [
    "# Ancillary modules"
   ]
  },
  {
   "cell_type": "markdown",
   "metadata": {},
   "source": [
    "#### Support adjustments"
   ]
  },
  {
   "cell_type": "code",
   "execution_count": 2,
   "metadata": {
    "ExecuteTime": {
     "end_time": "2020-12-03T17:12:53.591452Z",
     "start_time": "2020-12-03T17:12:53.588736Z"
    }
   },
   "outputs": [],
   "source": [
    "sys.path.append(\"../..\")"
   ]
  },
  {
   "cell_type": "markdown",
   "metadata": {},
   "source": [
    "#### Modules"
   ]
  },
  {
   "cell_type": "code",
   "execution_count": 6,
   "metadata": {
    "ExecuteTime": {
     "end_time": "2020-12-03T17:26:22.354514Z",
     "start_time": "2020-12-03T17:26:22.218216Z"
    }
   },
   "outputs": [
    {
     "name": "stdout",
     "output_type": "stream",
     "text": [
      "The autoreload extension is already loaded. To reload it, use:\n",
      "  %reload_ext autoreload\n"
     ]
    }
   ],
   "source": [
    "%load_ext autoreload\n",
    "%autoreload 2\n",
    "\n",
    "from src.utils.data_dict import (\n",
    "    data_dict\n",
    ")\n",
    "\n",
    "from src.utils.utils import (\n",
    "    json_dump_dict,\n",
    "    load_df\n",
    ")\n",
    "\n",
    "from src.utils.params import (\n",
    "#     param_grid,\n",
    "#     max_features,\n",
    "#     n_estimators,\n",
    "    cv_rounds,\n",
    "    evaluation_metric,\n",
    "    feature_importance_theshold,\n",
    "    tag_non_relevant_cats,\n",
    "    ingestion_pickle_loc,\n",
    "    transformation_pickle_loc,\n",
    "    models_pickle_loc\n",
    ")\n",
    "\n",
    "from src.pipelines.ingestion import (\n",
    "    ingest\n",
    ")\n",
    "\n",
    "from src.pipelines.transformation import (\n",
    "    load_ingestion,\n",
    "#     date_transformation,\n",
    "#     hour_transformation,\n",
    "#     categoric_trasformation,\n",
    "    transform\n",
    ")\n",
    "\n",
    "from src.pipelines.feature_engineering import (\n",
    "    load_transformation,\n",
    "    feature_generation,\n",
    "    feature_selection,\n",
    "    save_fe,\n",
    "    feature_engineering,\n",
    "    fe_pickle_loc_imp_features,\n",
    "    fe_pickle_loc_feature_labs\n",
    ")"
   ]
  },
  {
   "cell_type": "markdown",
   "metadata": {},
   "source": [
    "---"
   ]
  },
  {
   "cell_type": "markdown",
   "metadata": {
    "heading_collapsed": true
   },
   "source": [
    "# Original data"
   ]
  },
  {
   "cell_type": "code",
   "execution_count": null,
   "metadata": {
    "ExecuteTime": {
     "end_time": "2020-12-03T17:03:11.286680Z",
     "start_time": "2020-12-03T16:57:40.320150Z"
    },
    "hidden": true,
    "scrolled": true
   },
   "outputs": [],
   "source": [
    "df_o = pd.read_csv(\"../../\" + \"data/incidentes-viales-c5.csv\")\n",
    "df_o"
   ]
  },
  {
   "cell_type": "markdown",
   "metadata": {},
   "source": [
    "# Tests"
   ]
  },
  {
   "cell_type": "markdown",
   "metadata": {},
   "source": [
    "## Transformation"
   ]
  },
  {
   "cell_type": "markdown",
   "metadata": {
    "heading_collapsed": true
   },
   "source": [
    "#### Loading ingestion pickle"
   ]
  },
  {
   "cell_type": "code",
   "execution_count": null,
   "metadata": {
    "ExecuteTime": {
     "end_time": "2020-12-03T17:10:36.651886Z",
     "start_time": "2020-12-03T17:10:28.606807Z"
    },
    "hidden": true
   },
   "outputs": [],
   "source": [
    "df_ing = load_ingestion(\"../../\" + ingestion_pickle_loc)"
   ]
  },
  {
   "cell_type": "code",
   "execution_count": null,
   "metadata": {
    "ExecuteTime": {
     "end_time": "2020-12-03T17:10:36.911732Z",
     "start_time": "2020-12-03T17:10:36.659567Z"
    },
    "hidden": true,
    "scrolled": true
   },
   "outputs": [],
   "source": [
    "df_ing"
   ]
  },
  {
   "cell_type": "code",
   "execution_count": null,
   "metadata": {
    "ExecuteTime": {
     "end_time": "2020-12-03T17:11:16.029633Z",
     "start_time": "2020-12-03T17:11:15.909278Z"
    },
    "hidden": true
   },
   "outputs": [],
   "source": [
    "df_ing[\"label\"].value_counts(normalize=True)"
   ]
  },
  {
   "cell_type": "markdown",
   "metadata": {},
   "source": [
    "## Feature engineering"
   ]
  },
  {
   "cell_type": "markdown",
   "metadata": {},
   "source": [
    "#### Loading transformation pickles"
   ]
  },
  {
   "cell_type": "code",
   "execution_count": 4,
   "metadata": {
    "ExecuteTime": {
     "end_time": "2020-12-03T17:17:23.915709Z",
     "start_time": "2020-12-03T17:16:41.259774Z"
    },
    "scrolled": true
   },
   "outputs": [
    {
     "data": {
      "text/html": [
       "<div>\n",
       "<style scoped>\n",
       "    .dataframe tbody tr th:only-of-type {\n",
       "        vertical-align: middle;\n",
       "    }\n",
       "\n",
       "    .dataframe tbody tr th {\n",
       "        vertical-align: top;\n",
       "    }\n",
       "\n",
       "    .dataframe thead th {\n",
       "        text-align: right;\n",
       "    }\n",
       "</style>\n",
       "<table border=\"1\" class=\"dataframe\">\n",
       "  <thead>\n",
       "    <tr style=\"text-align: right;\">\n",
       "      <th></th>\n",
       "      <th>fecha_creacion</th>\n",
       "      <th>hora_creacion</th>\n",
       "      <th>dia_semana</th>\n",
       "      <th>codigo_cierre</th>\n",
       "      <th>incidente_c4</th>\n",
       "      <th>...</th>\n",
       "      <th>dia_inicio_cos</th>\n",
       "      <th>mes_inicio_sin</th>\n",
       "      <th>mes_inicio_cos</th>\n",
       "      <th>hora_inicio_sin</th>\n",
       "      <th>hora_inicio_cos</th>\n",
       "    </tr>\n",
       "    <tr>\n",
       "      <th>folio</th>\n",
       "      <th></th>\n",
       "      <th></th>\n",
       "      <th></th>\n",
       "      <th></th>\n",
       "      <th></th>\n",
       "      <th></th>\n",
       "      <th></th>\n",
       "      <th></th>\n",
       "      <th></th>\n",
       "      <th></th>\n",
       "      <th></th>\n",
       "    </tr>\n",
       "  </thead>\n",
       "  <tbody>\n",
       "    <tr>\n",
       "      <th>GA/160123/05714</th>\n",
       "      <td>23/01/2016</td>\n",
       "      <td>22:35:04</td>\n",
       "      <td>Sábado</td>\n",
       "      <td>(A) La unidad de atención a emergencias fue de...</td>\n",
       "      <td>accidente-choque sin lesionados</td>\n",
       "      <td>...</td>\n",
       "      <td>0.041325</td>\n",
       "      <td>0.500000</td>\n",
       "      <td>0.866025</td>\n",
       "      <td>-5.000000e-01</td>\n",
       "      <td>0.866025</td>\n",
       "    </tr>\n",
       "    <tr>\n",
       "      <th>AO/160123/05826</th>\n",
       "      <td>23/01/2016</td>\n",
       "      <td>22:50:49</td>\n",
       "      <td>Sábado</td>\n",
       "      <td>(A) La unidad de atención a emergencias fue de...</td>\n",
       "      <td>accidente-choque con lesionados</td>\n",
       "      <td>...</td>\n",
       "      <td>0.041325</td>\n",
       "      <td>0.500000</td>\n",
       "      <td>0.866025</td>\n",
       "      <td>-5.000000e-01</td>\n",
       "      <td>0.866025</td>\n",
       "    </tr>\n",
       "    <tr>\n",
       "      <th>C4/160124/02187</th>\n",
       "      <td>24/01/2016</td>\n",
       "      <td>09:40:11</td>\n",
       "      <td>Domingo</td>\n",
       "      <td>(N) La unidad de atención a emergencias fue de...</td>\n",
       "      <td>accidente-choque sin lesionados</td>\n",
       "      <td>...</td>\n",
       "      <td>0.245485</td>\n",
       "      <td>0.500000</td>\n",
       "      <td>0.866025</td>\n",
       "      <td>7.071068e-01</td>\n",
       "      <td>-0.707107</td>\n",
       "    </tr>\n",
       "    <tr>\n",
       "      <th>C4/160124/05723</th>\n",
       "      <td>24/01/2016</td>\n",
       "      <td>22:40:57</td>\n",
       "      <td>Domingo</td>\n",
       "      <td>(N) La unidad de atención a emergencias fue de...</td>\n",
       "      <td>accidente-choque sin lesionados</td>\n",
       "      <td>...</td>\n",
       "      <td>0.245485</td>\n",
       "      <td>0.500000</td>\n",
       "      <td>0.866025</td>\n",
       "      <td>-5.000000e-01</td>\n",
       "      <td>0.866025</td>\n",
       "    </tr>\n",
       "    <tr>\n",
       "      <th>C4/160124/01334</th>\n",
       "      <td>24/01/2016</td>\n",
       "      <td>04:25:15</td>\n",
       "      <td>Domingo</td>\n",
       "      <td>(A) La unidad de atención a emergencias fue de...</td>\n",
       "      <td>accidente-choque sin lesionados</td>\n",
       "      <td>...</td>\n",
       "      <td>0.245485</td>\n",
       "      <td>0.500000</td>\n",
       "      <td>0.866025</td>\n",
       "      <td>8.660254e-01</td>\n",
       "      <td>0.500000</td>\n",
       "    </tr>\n",
       "    <tr>\n",
       "      <th>...</th>\n",
       "      <td>...</td>\n",
       "      <td>...</td>\n",
       "      <td>...</td>\n",
       "      <td>...</td>\n",
       "      <td>...</td>\n",
       "      <td>...</td>\n",
       "      <td>...</td>\n",
       "      <td>...</td>\n",
       "      <td>...</td>\n",
       "      <td>...</td>\n",
       "      <td>...</td>\n",
       "    </tr>\n",
       "    <tr>\n",
       "      <th>GA/201022/03443</th>\n",
       "      <td>22/10/2020</td>\n",
       "      <td>16:17:05</td>\n",
       "      <td>Jueves</td>\n",
       "      <td>(A) La unidad de atención a emergencias fue de...</td>\n",
       "      <td>lesionado-atropellado</td>\n",
       "      <td>...</td>\n",
       "      <td>-0.164595</td>\n",
       "      <td>-0.866025</td>\n",
       "      <td>0.500000</td>\n",
       "      <td>-8.660254e-01</td>\n",
       "      <td>-0.500000</td>\n",
       "    </tr>\n",
       "    <tr>\n",
       "      <th>GA/201022/03492</th>\n",
       "      <td>22/10/2020</td>\n",
       "      <td>16:29:13</td>\n",
       "      <td>Jueves</td>\n",
       "      <td>(A) La unidad de atención a emergencias fue de...</td>\n",
       "      <td>accidente-choque con lesionados</td>\n",
       "      <td>...</td>\n",
       "      <td>-0.164595</td>\n",
       "      <td>-0.866025</td>\n",
       "      <td>0.500000</td>\n",
       "      <td>-8.660254e-01</td>\n",
       "      <td>-0.500000</td>\n",
       "    </tr>\n",
       "    <tr>\n",
       "      <th>C5/201022/02030</th>\n",
       "      <td>22/10/2020</td>\n",
       "      <td>12:00:26</td>\n",
       "      <td>Jueves</td>\n",
       "      <td>(D) El incidente reportado se registró en dos ...</td>\n",
       "      <td>accidente-choque sin lesionados</td>\n",
       "      <td>...</td>\n",
       "      <td>-0.164595</td>\n",
       "      <td>-0.866025</td>\n",
       "      <td>0.500000</td>\n",
       "      <td>1.224647e-16</td>\n",
       "      <td>-1.000000</td>\n",
       "    </tr>\n",
       "    <tr>\n",
       "      <th>C5/201022/02039</th>\n",
       "      <td>22/10/2020</td>\n",
       "      <td>12:01:25</td>\n",
       "      <td>Jueves</td>\n",
       "      <td>(D) El incidente reportado se registró en dos ...</td>\n",
       "      <td>accidente-choque con lesionados</td>\n",
       "      <td>...</td>\n",
       "      <td>-0.164595</td>\n",
       "      <td>-0.866025</td>\n",
       "      <td>0.500000</td>\n",
       "      <td>1.224647e-16</td>\n",
       "      <td>-1.000000</td>\n",
       "    </tr>\n",
       "    <tr>\n",
       "      <th>C5/201022/03364</th>\n",
       "      <td>22/10/2020</td>\n",
       "      <td>16:05:47</td>\n",
       "      <td>Jueves</td>\n",
       "      <td>(D) El incidente reportado se registró en dos ...</td>\n",
       "      <td>accidente-choque sin lesionados</td>\n",
       "      <td>...</td>\n",
       "      <td>-0.164595</td>\n",
       "      <td>-0.866025</td>\n",
       "      <td>0.500000</td>\n",
       "      <td>-8.660254e-01</td>\n",
       "      <td>-0.500000</td>\n",
       "    </tr>\n",
       "  </tbody>\n",
       "</table>\n",
       "<p>1383138 rows × 14 columns</p>\n",
       "</div>"
      ],
      "text/plain": [
       "                fecha_creacion hora_creacion dia_semana  \\\n",
       "folio                                                     \n",
       "GA/160123/05714     23/01/2016      22:35:04     Sábado   \n",
       "AO/160123/05826     23/01/2016      22:50:49     Sábado   \n",
       "C4/160124/02187     24/01/2016      09:40:11    Domingo   \n",
       "C4/160124/05723     24/01/2016      22:40:57    Domingo   \n",
       "C4/160124/01334     24/01/2016      04:25:15    Domingo   \n",
       "...                        ...           ...        ...   \n",
       "GA/201022/03443     22/10/2020      16:17:05     Jueves   \n",
       "GA/201022/03492     22/10/2020      16:29:13     Jueves   \n",
       "C5/201022/02030     22/10/2020      12:00:26     Jueves   \n",
       "C5/201022/02039     22/10/2020      12:01:25     Jueves   \n",
       "C5/201022/03364     22/10/2020      16:05:47     Jueves   \n",
       "\n",
       "                                                     codigo_cierre  \\\n",
       "folio                                                                \n",
       "GA/160123/05714  (A) La unidad de atención a emergencias fue de...   \n",
       "AO/160123/05826  (A) La unidad de atención a emergencias fue de...   \n",
       "C4/160124/02187  (N) La unidad de atención a emergencias fue de...   \n",
       "C4/160124/05723  (N) La unidad de atención a emergencias fue de...   \n",
       "C4/160124/01334  (A) La unidad de atención a emergencias fue de...   \n",
       "...                                                            ...   \n",
       "GA/201022/03443  (A) La unidad de atención a emergencias fue de...   \n",
       "GA/201022/03492  (A) La unidad de atención a emergencias fue de...   \n",
       "C5/201022/02030  (D) El incidente reportado se registró en dos ...   \n",
       "C5/201022/02039  (D) El incidente reportado se registró en dos ...   \n",
       "C5/201022/03364  (D) El incidente reportado se registró en dos ...   \n",
       "\n",
       "                                    incidente_c4  ... dia_inicio_cos  \\\n",
       "folio                                             ...                  \n",
       "GA/160123/05714  accidente-choque sin lesionados  ...       0.041325   \n",
       "AO/160123/05826  accidente-choque con lesionados  ...       0.041325   \n",
       "C4/160124/02187  accidente-choque sin lesionados  ...       0.245485   \n",
       "C4/160124/05723  accidente-choque sin lesionados  ...       0.245485   \n",
       "C4/160124/01334  accidente-choque sin lesionados  ...       0.245485   \n",
       "...                                          ...  ...            ...   \n",
       "GA/201022/03443            lesionado-atropellado  ...      -0.164595   \n",
       "GA/201022/03492  accidente-choque con lesionados  ...      -0.164595   \n",
       "C5/201022/02030  accidente-choque sin lesionados  ...      -0.164595   \n",
       "C5/201022/02039  accidente-choque con lesionados  ...      -0.164595   \n",
       "C5/201022/03364  accidente-choque sin lesionados  ...      -0.164595   \n",
       "\n",
       "                 mes_inicio_sin mes_inicio_cos  hora_inicio_sin  \\\n",
       "folio                                                             \n",
       "GA/160123/05714        0.500000       0.866025    -5.000000e-01   \n",
       "AO/160123/05826        0.500000       0.866025    -5.000000e-01   \n",
       "C4/160124/02187        0.500000       0.866025     7.071068e-01   \n",
       "C4/160124/05723        0.500000       0.866025    -5.000000e-01   \n",
       "C4/160124/01334        0.500000       0.866025     8.660254e-01   \n",
       "...                         ...            ...              ...   \n",
       "GA/201022/03443       -0.866025       0.500000    -8.660254e-01   \n",
       "GA/201022/03492       -0.866025       0.500000    -8.660254e-01   \n",
       "C5/201022/02030       -0.866025       0.500000     1.224647e-16   \n",
       "C5/201022/02039       -0.866025       0.500000     1.224647e-16   \n",
       "C5/201022/03364       -0.866025       0.500000    -8.660254e-01   \n",
       "\n",
       "                 hora_inicio_cos  \n",
       "folio                             \n",
       "GA/160123/05714         0.866025  \n",
       "AO/160123/05826         0.866025  \n",
       "C4/160124/02187        -0.707107  \n",
       "C4/160124/05723         0.866025  \n",
       "C4/160124/01334         0.500000  \n",
       "...                          ...  \n",
       "GA/201022/03443        -0.500000  \n",
       "GA/201022/03492        -0.500000  \n",
       "C5/201022/02030        -1.000000  \n",
       "C5/201022/02039        -1.000000  \n",
       "C5/201022/03364        -0.500000  \n",
       "\n",
       "[1383138 rows x 14 columns]"
      ]
     },
     "execution_count": 4,
     "metadata": {},
     "output_type": "execute_result"
    }
   ],
   "source": [
    "df_tra = load_transformation(\"../../\" + transformation_pickle_loc)\n",
    "df_tra"
   ]
  },
  {
   "cell_type": "raw",
   "metadata": {
    "ExecuteTime": {
     "end_time": "2020-12-01T18:44:53.828052Z",
     "start_time": "2020-12-01T18:44:53.803137Z"
    },
    "scrolled": true
   },
   "source": [
    "df_features_prc_cols = load_transformation(\"../../\" + \"outputs/fe_df_features_prc_cols.pkl\")\n",
    "df_features_prc_cols"
   ]
  },
  {
   "cell_type": "markdown",
   "metadata": {
    "heading_collapsed": true
   },
   "source": [
    "##### Exploring transfomation result"
   ]
  },
  {
   "cell_type": "markdown",
   "metadata": {
    "heading_collapsed": true
   },
   "source": [
    "#### Processing data for model"
   ]
  },
  {
   "cell_type": "code",
   "execution_count": null,
   "metadata": {
    "ExecuteTime": {
     "end_time": "2020-11-25T04:49:09.433624Z",
     "start_time": "2020-11-25T04:49:07.201100Z"
    },
    "hidden": true,
    "scrolled": true
   },
   "outputs": [],
   "source": [
    "df_features_prc, df_labels, df_features_prc_cols = feature_generation(df)"
   ]
  },
  {
   "cell_type": "code",
   "execution_count": null,
   "metadata": {
    "ExecuteTime": {
     "end_time": "2020-11-25T04:50:52.487282Z",
     "start_time": "2020-11-25T04:50:52.438138Z"
    },
    "hidden": true,
    "scrolled": true
   },
   "outputs": [],
   "source": [
    "print(len(df_features_prc_cols))\n",
    "df_features_prc_cols"
   ]
  },
  {
   "cell_type": "code",
   "execution_count": null,
   "metadata": {
    "ExecuteTime": {
     "end_time": "2020-11-25T04:50:05.367911Z",
     "start_time": "2020-11-25T04:50:05.333858Z"
    },
    "hidden": true
   },
   "outputs": [],
   "source": [
    "df_features_prc.shape"
   ]
  },
  {
   "cell_type": "code",
   "execution_count": null,
   "metadata": {
    "hidden": true
   },
   "outputs": [],
   "source": []
  },
  {
   "cell_type": "code",
   "execution_count": null,
   "metadata": {
    "ExecuteTime": {
     "end_time": "2020-11-25T03:53:12.479663Z",
     "start_time": "2020-11-25T03:53:12.454523Z"
    },
    "hidden": true
   },
   "outputs": [],
   "source": [
    "print(len(enc_cat_features))\n",
    "enc_cat_features"
   ]
  },
  {
   "cell_type": "code",
   "execution_count": null,
   "metadata": {
    "ExecuteTime": {
     "end_time": "2020-11-25T03:52:56.008936Z",
     "start_time": "2020-11-25T03:52:55.985455Z"
    },
    "hidden": true
   },
   "outputs": [],
   "source": [
    "df_features_prc.shape"
   ]
  },
  {
   "cell_type": "code",
   "execution_count": null,
   "metadata": {
    "ExecuteTime": {
     "end_time": "2020-11-25T03:18:46.232083Z",
     "start_time": "2020-11-25T03:18:46.204320Z"
    },
    "hidden": true,
    "scrolled": true
   },
   "outputs": [],
   "source": [
    "len(df_features_prc_cols)"
   ]
  },
  {
   "cell_type": "markdown",
   "metadata": {
    "heading_collapsed": true
   },
   "source": [
    "#### Training, executing and evaluating model"
   ]
  },
  {
   "cell_type": "code",
   "execution_count": null,
   "metadata": {
    "ExecuteTime": {
     "end_time": "2020-11-25T03:19:35.249047Z",
     "start_time": "2020-11-25T03:19:35.211437Z"
    },
    "hidden": true,
    "scrolled": true
   },
   "outputs": [],
   "source": [
    "model = RandomForestClassifier(oob_score=True, n_jobs=-1)"
   ]
  },
  {
   "cell_type": "code",
   "execution_count": null,
   "metadata": {
    "ExecuteTime": {
     "end_time": "2020-11-25T03:19:36.334819Z",
     "start_time": "2020-11-25T03:19:35.788646Z"
    },
    "hidden": true
   },
   "outputs": [],
   "source": [
    "## Splitting data in train and test\n",
    "X_train, X_test, y_train, y_test = train_test_split(df_features_prc, df_labels, test_size=0.3)"
   ]
  },
  {
   "cell_type": "code",
   "execution_count": null,
   "metadata": {
    "ExecuteTime": {
     "end_time": "2020-11-25T01:13:15.923195Z",
     "start_time": "2020-11-25T01:07:12.011331Z"
    },
    "hidden": true,
    "scrolled": true
   },
   "outputs": [],
   "source": [
    "grid_search = GridSearchCV(model,\n",
    "                           param_grid,\n",
    "                           cv=2,\n",
    "                           scoring=evaluation_metric,\n",
    "                           return_train_score=True,\n",
    "                           n_jobs=-1\n",
    "                           )\n",
    "\n",
    "grid_search.fit(X_train, y_train)\n",
    "\n",
    "print(grid_search.best_params_)\n",
    "print(grid_search.best_estimator_)\n",
    "\n",
    "print(\"\\n++ Grid search results:\\n\")\n",
    "print(\"    ++++ Best estimator: {}\".format(grid_search.best_estimator_))\n",
    "print(\"    ++++ Number of features in best estimator: {} \\n\".format(grid_search.best_estimator_.n_features_))\n",
    "print(\"    ++++ Best estimator oob score: {}\\n\".format(grid_search.best_estimator_.oob_score_))"
   ]
  },
  {
   "cell_type": "markdown",
   "metadata": {
    "heading_collapsed": true
   },
   "source": [
    "#### Identifying most important variables"
   ]
  },
  {
   "cell_type": "markdown",
   "metadata": {
    "heading_collapsed": true,
    "hidden": true
   },
   "source": [
    "##### Creating dataframe with ranks"
   ]
  },
  {
   "cell_type": "raw",
   "metadata": {
    "ExecuteTime": {
     "end_time": "2020-12-01T19:36:01.187163Z",
     "start_time": "2020-12-01T19:36:01.161428Z"
    },
    "hidden": true
   },
   "source": [
    "print(len(grid_search.best_estimator_.feature_importances_))\n",
    "grid_search.best_estimator_.feature_importances_"
   ]
  },
  {
   "cell_type": "raw",
   "metadata": {
    "ExecuteTime": {
     "end_time": "2020-11-25T01:15:56.118183Z",
     "start_time": "2020-11-25T01:15:55.545673Z"
    },
    "hidden": true,
    "scrolled": true
   },
   "source": [
    "feature_importance = pd.DataFrame(\n",
    "    {\n",
    "        \"Importance\": grid_search.best_estimator_.feature_importances_,\n",
    "        \"Feature\": df_features_prc.columns\n",
    "    }\n",
    ")\n",
    "feature_importance.sort_values(by=\"Importance\", ascending=False)\n",
    "print(display(feature_importance))"
   ]
  },
  {
   "cell_type": "markdown",
   "metadata": {
    "heading_collapsed": true,
    "hidden": true
   },
   "source": [
    "##### Obtaining features cleaning dict from ranked features"
   ]
  },
  {
   "cell_type": "code",
   "execution_count": null,
   "metadata": {
    "ExecuteTime": {
     "end_time": "2020-12-01T23:45:02.446909Z",
     "start_time": "2020-12-01T23:45:02.420226Z"
    },
    "hidden": true,
    "scrolled": true
   },
   "outputs": [],
   "source": [
    "feature_importance.reset_index(inplace=True, drop=True)\n",
    "feature_importance"
   ]
  },
  {
   "cell_type": "code",
   "execution_count": null,
   "metadata": {
    "ExecuteTime": {
     "end_time": "2020-12-01T23:45:02.618056Z",
     "start_time": "2020-12-01T23:45:02.598192Z"
    },
    "hidden": true
   },
   "outputs": [],
   "source": [
    "feature_importance[\"Important\"] = feature_importance[\"Importance\"].apply(lambda x: True if x >= feature_importance_theshold else False)"
   ]
  },
  {
   "cell_type": "code",
   "execution_count": null,
   "metadata": {
    "ExecuteTime": {
     "end_time": "2020-12-01T23:45:02.756065Z",
     "start_time": "2020-12-01T23:45:02.736677Z"
    },
    "hidden": true,
    "scrolled": true
   },
   "outputs": [],
   "source": [
    "def find_mother(row, ohe_dict):\n",
    "    \"\"\"\n",
    "    \"\"\"\n",
    "    \n",
    "    for key in ohe_dict:\n",
    "        if row in ohe_dict[key]:\n",
    "            return key\n",
    "    \n",
    "    return row"
   ]
  },
  {
   "cell_type": "code",
   "execution_count": null,
   "metadata": {
    "ExecuteTime": {
     "end_time": "2020-12-01T23:45:02.895844Z",
     "start_time": "2020-12-01T23:45:02.875962Z"
    },
    "hidden": true
   },
   "outputs": [],
   "source": [
    "feature_importance[\"Mother_feature\"] = feature_importance[\"Feature\"].apply(lambda x: find_mother(x, ohe_dict))"
   ]
  },
  {
   "cell_type": "code",
   "execution_count": null,
   "metadata": {
    "ExecuteTime": {
     "end_time": "2020-12-01T23:45:03.048757Z",
     "start_time": "2020-12-01T23:45:03.017326Z"
    },
    "hidden": true,
    "scrolled": true
   },
   "outputs": [],
   "source": [
    "feature_importance"
   ]
  },
  {
   "cell_type": "raw",
   "metadata": {
    "ExecuteTime": {
     "end_time": "2020-12-01T19:36:11.372865Z",
     "start_time": "2020-12-01T19:36:11.351295Z"
    },
    "hidden": true
   },
   "source": [
    "m1 = feature_importance[\"Important\"] == True\n",
    "important_features = list(feature_importance.loc[m1, \"Mother_feature\"].unique())\n",
    "important_features"
   ]
  },
  {
   "cell_type": "code",
   "execution_count": null,
   "metadata": {
    "ExecuteTime": {
     "end_time": "2020-12-01T23:45:03.297043Z",
     "start_time": "2020-12-01T23:45:03.276199Z"
    },
    "hidden": true,
    "scrolled": true
   },
   "outputs": [],
   "source": [
    "def feature_cleaning_dict(feature_importance, ohe_dict):\n",
    "    \n",
    "    m1 = feature_importance[\"Important\"] == True\n",
    "    important_features = list(feature_importance.loc[m1, \"Mother_feature\"].unique())\n",
    "\n",
    "    fe_cln_dict = {}\n",
    "\n",
    "    for imp_f in important_features:\n",
    "\n",
    "        m2 = feature_importance[\"Mother_feature\"] == imp_f\n",
    "\n",
    "        if imp_f in ohe_dict:\n",
    "            fe_cln_dict[imp_f] = {\n",
    "                \"data_type\": \"categoric\",\n",
    "                \"important_categories\": list(feature_importance.loc[(m1 & m2), \"Feature\"])\n",
    "            }\n",
    "        else:\n",
    "            fe_cln_dict[imp_f] = {\n",
    "                \"data_type\": \"non-categoric\",\n",
    "            }\n",
    "\n",
    "#     json_dump_dict(fe_cln_dict)\n",
    "    \n",
    "    return fe_cln_dict"
   ]
  },
  {
   "cell_type": "code",
   "execution_count": null,
   "metadata": {
    "ExecuteTime": {
     "end_time": "2020-12-01T23:45:04.602776Z",
     "start_time": "2020-12-01T23:45:04.578029Z"
    },
    "hidden": true,
    "scrolled": true
   },
   "outputs": [],
   "source": [
    "fe_cln_dict = feature_cleaning_dict(feature_importance, ohe_dict)\n",
    "fe_cln_dict"
   ]
  },
  {
   "cell_type": "markdown",
   "metadata": {
    "heading_collapsed": true,
    "hidden": true
   },
   "source": [
    "##### Cleaning transformation dataframe based on features cleaning dict"
   ]
  },
  {
   "cell_type": "code",
   "execution_count": null,
   "metadata": {
    "ExecuteTime": {
     "end_time": "2020-12-01T23:45:10.469430Z",
     "start_time": "2020-12-01T23:45:10.162935Z"
    },
    "hidden": true,
    "scrolled": true
   },
   "outputs": [],
   "source": [
    "df_tra"
   ]
  },
  {
   "cell_type": "code",
   "execution_count": null,
   "metadata": {
    "ExecuteTime": {
     "end_time": "2020-12-01T23:45:14.219772Z",
     "start_time": "2020-12-01T23:45:14.093331Z"
    },
    "hidden": true
   },
   "outputs": [],
   "source": [
    "nr_f = [col for col in df_tra.columns if col not in fe_cln_dict]\n",
    "df_tra.drop(nr_f, axis=1, inplace=True)"
   ]
  },
  {
   "cell_type": "code",
   "execution_count": null,
   "metadata": {
    "ExecuteTime": {
     "end_time": "2020-12-01T23:45:14.889463Z",
     "start_time": "2020-12-01T23:45:14.863052Z"
    },
    "hidden": true
   },
   "outputs": [],
   "source": [
    "df_tra"
   ]
  },
  {
   "cell_type": "code",
   "execution_count": null,
   "metadata": {
    "ExecuteTime": {
     "end_time": "2020-12-01T23:45:15.732080Z",
     "start_time": "2020-12-01T23:45:15.474270Z"
    },
    "hidden": true
   },
   "outputs": [],
   "source": [
    "for cat_key in [key for key in fe_cln_dict if fe_cln_dict[key][\"data_type\"] == \"categoric\"]:\n",
    "    m1 = ~df_tra[cat_key].isin(fe_cln_dict[cat_key][\"important_categories\"])\n",
    "    df_tra.loc[m1, cat_key] = tag_non_relevant_cats"
   ]
  },
  {
   "cell_type": "code",
   "execution_count": null,
   "metadata": {
    "ExecuteTime": {
     "end_time": "2020-12-01T23:45:16.230090Z",
     "start_time": "2020-12-01T23:45:16.205932Z"
    },
    "hidden": true
   },
   "outputs": [],
   "source": [
    "df_tra"
   ]
  },
  {
   "cell_type": "markdown",
   "metadata": {},
   "source": [
    "#### Reviewing results"
   ]
  },
  {
   "cell_type": "code",
   "execution_count": 7,
   "metadata": {
    "ExecuteTime": {
     "end_time": "2020-12-03T17:27:28.452622Z",
     "start_time": "2020-12-03T17:27:23.470812Z"
    }
   },
   "outputs": [],
   "source": [
    "df_imp_features_prc = load_df(\"../../\" + fe_pickle_loc_imp_features)\n",
    "df_labels = load_df(\"../../\" + fe_pickle_loc_feature_labs)"
   ]
  },
  {
   "cell_type": "code",
   "execution_count": 11,
   "metadata": {
    "ExecuteTime": {
     "end_time": "2020-12-03T17:28:38.501091Z",
     "start_time": "2020-12-03T17:28:38.344670Z"
    }
   },
   "outputs": [
    {
     "name": "stdout",
     "output_type": "stream",
     "text": [
      "(1383138, 7)\n"
     ]
    },
    {
     "data": {
      "text/plain": [
       "array([[0., 1., 0., ..., 0., 0., 0.],\n",
       "       [1., 0., 0., ..., 0., 0., 0.],\n",
       "       [0., 1., 0., ..., 1., 0., 0.],\n",
       "       ...,\n",
       "       [0., 1., 0., ..., 1., 0., 0.],\n",
       "       [1., 0., 0., ..., 1., 0., 0.],\n",
       "       [0., 1., 0., ..., 1., 0., 0.]])"
      ]
     },
     "execution_count": 11,
     "metadata": {},
     "output_type": "execute_result"
    }
   ],
   "source": [
    "print(df_imp_features_prc.shape)\n",
    "df_imp_features_prc.toarray()"
   ]
  },
  {
   "cell_type": "code",
   "execution_count": 14,
   "metadata": {
    "ExecuteTime": {
     "end_time": "2020-12-03T17:29:01.793777Z",
     "start_time": "2020-12-03T17:29:01.673049Z"
    }
   },
   "outputs": [
    {
     "name": "stdout",
     "output_type": "stream",
     "text": [
      "(1383138,)\n"
     ]
    },
    {
     "data": {
      "text/plain": [
       "folio\n",
       "GA/160123/05714    0.0\n",
       "AO/160123/05826    0.0\n",
       "C4/160124/02187    1.0\n",
       "C4/160124/05723    1.0\n",
       "C4/160124/01334    0.0\n",
       "                  ... \n",
       "GA/201022/03443    0.0\n",
       "GA/201022/03492    0.0\n",
       "C5/201022/02030    0.0\n",
       "C5/201022/02039    0.0\n",
       "C5/201022/03364    0.0\n",
       "Name: label, Length: 1383138, dtype: float64"
      ]
     },
     "execution_count": 14,
     "metadata": {},
     "output_type": "execute_result"
    }
   ],
   "source": [
    "print(df_labels.shape)\n",
    "df_labels"
   ]
  },
  {
   "cell_type": "markdown",
   "metadata": {},
   "source": [
    "## Modeling (magic loop)"
   ]
  },
  {
   "cell_type": "markdown",
   "metadata": {},
   "source": [
    "### Imports"
   ]
  },
  {
   "cell_type": "code",
   "execution_count": 15,
   "metadata": {
    "ExecuteTime": {
     "end_time": "2020-12-03T17:37:07.298111Z",
     "start_time": "2020-12-03T17:37:07.045485Z"
    }
   },
   "outputs": [],
   "source": [
    "best_model = load_df(\"../../\" + models_pickle_loc)\n",
    "X_test = load_df(\"../../\" + \"outputs/X_test.pkl\")\n",
    "y_test = load_df(\"../../\" + \"outputs/y_test.pkl\")\n",
    "test_predict_labs = load_df(\"../../\" + \"outputs/test_predict_labs.pkl\")\n",
    "test_predict_scores = load_df(\"../../\" + \"outputs/test_predict_scores.pkl\")"
   ]
  },
  {
   "cell_type": "code",
   "execution_count": 16,
   "metadata": {
    "ExecuteTime": {
     "end_time": "2020-12-03T17:37:08.550951Z",
     "start_time": "2020-12-03T17:37:08.512105Z"
    }
   },
   "outputs": [
    {
     "data": {
      "text/plain": [
       "RandomForestClassifier(max_features=6, max_leaf_nodes=10, min_samples_leaf=3,\n",
       "                       n_jobs=-1, oob_score=True, random_state=1111)"
      ]
     },
     "execution_count": 16,
     "metadata": {},
     "output_type": "execute_result"
    }
   ],
   "source": [
    "best_model"
   ]
  },
  {
   "cell_type": "code",
   "execution_count": 17,
   "metadata": {
    "ExecuteTime": {
     "end_time": "2020-12-03T17:37:26.532927Z",
     "start_time": "2020-12-03T17:37:26.496339Z"
    }
   },
   "outputs": [
    {
     "name": "stdout",
     "output_type": "stream",
     "text": [
      "(414942, 7)\n"
     ]
    },
    {
     "data": {
      "text/plain": [
       "array([[0., 1., 0., ..., 1., 0., 0.],\n",
       "       [0., 0., 1., ..., 1., 0., 0.],\n",
       "       [1., 0., 0., ..., 1., 0., 0.],\n",
       "       ...,\n",
       "       [0., 1., 0., ..., 1., 0., 0.],\n",
       "       [0., 1., 0., ..., 1., 0., 0.],\n",
       "       [0., 1., 0., ..., 1., 0., 0.]])"
      ]
     },
     "execution_count": 17,
     "metadata": {},
     "output_type": "execute_result"
    }
   ],
   "source": [
    "print(X_test.shape)\n",
    "X_test.toarray()"
   ]
  },
  {
   "cell_type": "code",
   "execution_count": 19,
   "metadata": {
    "ExecuteTime": {
     "end_time": "2020-12-03T17:37:52.474873Z",
     "start_time": "2020-12-03T17:37:52.311464Z"
    }
   },
   "outputs": [
    {
     "name": "stdout",
     "output_type": "stream",
     "text": [
      "(414942,)\n"
     ]
    },
    {
     "data": {
      "text/plain": [
       "folio\n",
       "C5/180923/00715    0.0\n",
       "C5/180125/06384    1.0\n",
       "C5/180904/02619    1.0\n",
       "C5/170327/07629    0.0\n",
       "C5/170803/05943    0.0\n",
       "                  ... \n",
       "C4/140210/00850    0.0\n",
       "C5/180109/02335    1.0\n",
       "C5/160527/01506    1.0\n",
       "C5/191115/08861    0.0\n",
       "C5/190306/07844    0.0\n",
       "Name: label, Length: 414942, dtype: float64"
      ]
     },
     "execution_count": 19,
     "metadata": {},
     "output_type": "execute_result"
    }
   ],
   "source": [
    "print(y_test.shape)\n",
    "y_test"
   ]
  },
  {
   "cell_type": "code",
   "execution_count": 20,
   "metadata": {
    "ExecuteTime": {
     "end_time": "2020-12-03T17:37:57.386175Z",
     "start_time": "2020-12-03T17:37:57.366278Z"
    }
   },
   "outputs": [
    {
     "name": "stdout",
     "output_type": "stream",
     "text": [
      "(414942,)\n"
     ]
    },
    {
     "data": {
      "text/plain": [
       "array([0., 0., 0., ..., 0., 0., 0.])"
      ]
     },
     "execution_count": 20,
     "metadata": {},
     "output_type": "execute_result"
    }
   ],
   "source": [
    "print(test_predict_labs.shape)\n",
    "test_predict_labs"
   ]
  },
  {
   "cell_type": "code",
   "execution_count": 21,
   "metadata": {
    "ExecuteTime": {
     "end_time": "2020-12-03T17:37:59.273257Z",
     "start_time": "2020-12-03T17:37:59.252237Z"
    }
   },
   "outputs": [
    {
     "name": "stdout",
     "output_type": "stream",
     "text": [
      "(414942, 2)\n"
     ]
    },
    {
     "data": {
      "text/plain": [
       "array([[0.71259143, 0.28740857],\n",
       "       [0.85976458, 0.14023542],\n",
       "       [0.84693228, 0.15306772],\n",
       "       ...,\n",
       "       [0.71259143, 0.28740857],\n",
       "       [0.71259143, 0.28740857],\n",
       "       [0.71259143, 0.28740857]])"
      ]
     },
     "execution_count": 21,
     "metadata": {},
     "output_type": "execute_result"
    }
   ],
   "source": [
    "print(test_predict_scores.shape)\n",
    "test_predict_scores"
   ]
  },
  {
   "cell_type": "code",
   "execution_count": 23,
   "metadata": {
    "ExecuteTime": {
     "end_time": "2020-12-03T17:38:15.236587Z",
     "start_time": "2020-12-03T17:38:14.757441Z"
    }
   },
   "outputs": [
    {
     "data": {
      "text/plain": [
       "array([0., 0., 0., ..., 0., 0., 0.])"
      ]
     },
     "execution_count": 23,
     "metadata": {},
     "output_type": "execute_result"
    }
   ],
   "source": [
    "prds = best_model.predict(X_test)\n",
    "prds"
   ]
  },
  {
   "cell_type": "code",
   "execution_count": 26,
   "metadata": {
    "ExecuteTime": {
     "end_time": "2020-12-03T17:38:30.464859Z",
     "start_time": "2020-12-03T17:38:30.422965Z"
    }
   },
   "outputs": [
    {
     "data": {
      "text/html": [
       "<div>\n",
       "<style scoped>\n",
       "    .dataframe tbody tr th:only-of-type {\n",
       "        vertical-align: middle;\n",
       "    }\n",
       "\n",
       "    .dataframe tbody tr th {\n",
       "        vertical-align: top;\n",
       "    }\n",
       "\n",
       "    .dataframe thead th {\n",
       "        text-align: right;\n",
       "    }\n",
       "</style>\n",
       "<table border=\"1\" class=\"dataframe\">\n",
       "  <thead>\n",
       "    <tr style=\"text-align: right;\">\n",
       "      <th></th>\n",
       "      <th>label</th>\n",
       "      <th>mod_pred</th>\n",
       "    </tr>\n",
       "    <tr>\n",
       "      <th>folio</th>\n",
       "      <th></th>\n",
       "      <th></th>\n",
       "    </tr>\n",
       "  </thead>\n",
       "  <tbody>\n",
       "    <tr>\n",
       "      <th>C5/180923/00715</th>\n",
       "      <td>0.0</td>\n",
       "      <td>0.0</td>\n",
       "    </tr>\n",
       "    <tr>\n",
       "      <th>C5/180125/06384</th>\n",
       "      <td>1.0</td>\n",
       "      <td>0.0</td>\n",
       "    </tr>\n",
       "    <tr>\n",
       "      <th>C5/180904/02619</th>\n",
       "      <td>1.0</td>\n",
       "      <td>0.0</td>\n",
       "    </tr>\n",
       "    <tr>\n",
       "      <th>C5/170327/07629</th>\n",
       "      <td>0.0</td>\n",
       "      <td>0.0</td>\n",
       "    </tr>\n",
       "    <tr>\n",
       "      <th>C5/170803/05943</th>\n",
       "      <td>0.0</td>\n",
       "      <td>0.0</td>\n",
       "    </tr>\n",
       "    <tr>\n",
       "      <th>...</th>\n",
       "      <td>...</td>\n",
       "      <td>...</td>\n",
       "    </tr>\n",
       "    <tr>\n",
       "      <th>C4/140210/00850</th>\n",
       "      <td>0.0</td>\n",
       "      <td>0.0</td>\n",
       "    </tr>\n",
       "    <tr>\n",
       "      <th>C5/180109/02335</th>\n",
       "      <td>1.0</td>\n",
       "      <td>0.0</td>\n",
       "    </tr>\n",
       "    <tr>\n",
       "      <th>C5/160527/01506</th>\n",
       "      <td>1.0</td>\n",
       "      <td>0.0</td>\n",
       "    </tr>\n",
       "    <tr>\n",
       "      <th>C5/191115/08861</th>\n",
       "      <td>0.0</td>\n",
       "      <td>0.0</td>\n",
       "    </tr>\n",
       "    <tr>\n",
       "      <th>C5/190306/07844</th>\n",
       "      <td>0.0</td>\n",
       "      <td>0.0</td>\n",
       "    </tr>\n",
       "  </tbody>\n",
       "</table>\n",
       "<p>414942 rows × 2 columns</p>\n",
       "</div>"
      ],
      "text/plain": [
       "                 label  mod_pred\n",
       "folio                           \n",
       "C5/180923/00715    0.0       0.0\n",
       "C5/180125/06384    1.0       0.0\n",
       "C5/180904/02619    1.0       0.0\n",
       "C5/170327/07629    0.0       0.0\n",
       "C5/170803/05943    0.0       0.0\n",
       "...                ...       ...\n",
       "C4/140210/00850    0.0       0.0\n",
       "C5/180109/02335    1.0       0.0\n",
       "C5/160527/01506    1.0       0.0\n",
       "C5/191115/08861    0.0       0.0\n",
       "C5/190306/07844    0.0       0.0\n",
       "\n",
       "[414942 rows x 2 columns]"
      ]
     },
     "execution_count": 26,
     "metadata": {},
     "output_type": "execute_result"
    }
   ],
   "source": [
    "df_ypred = y_test.to_frame()\n",
    "df_ypred[\"mod_pred\"] = prds\n",
    "df_ypred"
   ]
  },
  {
   "cell_type": "markdown",
   "metadata": {
    "heading_collapsed": true
   },
   "source": [
    "# *Notes*"
   ]
  },
  {
   "cell_type": "markdown",
   "metadata": {
    "hidden": true
   },
   "source": [
    "## Finding labels of processed matrix"
   ]
  },
  {
   "cell_type": "markdown",
   "metadata": {
    "hidden": true
   },
   "source": [
    "#### Manually number of labels that should be in the model."
   ]
  },
  {
   "cell_type": "code",
   "execution_count": null,
   "metadata": {
    "ExecuteTime": {
     "end_time": "2020-11-25T19:04:25.478389Z",
     "start_time": "2020-11-25T19:04:21.864041Z"
    },
    "hidden": true
   },
   "outputs": [],
   "source": [
    "cat_list = list(df_tra[\"dia_semana\"].unique()) + \\\n",
    "            list(df_tra[\"incidente_c4\"].unique()) + \\\n",
    "            list(df_tra[\"tipo_entrada\"].unique()) + \\\n",
    "            list(df_tra[\"anio_inicio\"].unique())"
   ]
  },
  {
   "cell_type": "code",
   "execution_count": null,
   "metadata": {
    "ExecuteTime": {
     "end_time": "2020-11-25T19:04:34.571022Z",
     "start_time": "2020-11-25T19:04:34.496408Z"
    },
    "hidden": true,
    "scrolled": true
   },
   "outputs": [],
   "source": [
    "print(len(cat_list))\n",
    "cat_list"
   ]
  },
  {
   "cell_type": "markdown",
   "metadata": {
    "heading_collapsed": true,
    "hidden": true
   },
   "source": [
    "#### Example code from StackOverflow to get labels."
   ]
  },
  {
   "cell_type": "code",
   "execution_count": null,
   "metadata": {
    "ExecuteTime": {
     "end_time": "2020-11-25T03:28:44.879590Z",
     "start_time": "2020-11-25T03:28:44.803530Z"
    },
    "hidden": true
   },
   "outputs": [],
   "source": [
    "import pandas as pd\n",
    "import numpy as np\n",
    "from sklearn.compose import ColumnTransformer\n",
    "from sklearn.pipeline import make_pipeline\n",
    "from sklearn.impute import SimpleImputer\n",
    "from sklearn.preprocessing import StandardScaler, OneHotEncoder, MinMaxScaler\n",
    "from sklearn.feature_extraction.text import _VectorizerMixin\n",
    "from sklearn.feature_selection._base import SelectorMixin\n",
    "from sklearn.feature_selection import SelectKBest\n",
    "from sklearn.feature_extraction.text import CountVectorizer\n",
    "from sklearn.pipeline import Pipeline\n",
    "\n",
    "train = pd.DataFrame({'age': [23,12, 12, np.nan],\n",
    "                      'Gender': ['M','F', np.nan, 'F'],\n",
    "                      'income': ['high','low','low','medium'],\n",
    "                      'sales': [10000, 100020, 110000, 100],\n",
    "                      'foo' : [1,0,0,1],\n",
    "                      'text': ['I will test this',\n",
    "                               'need to write more sentence',\n",
    "                               'want to keep it simple',\n",
    "                               'hope you got that these sentences are junk'],\n",
    "                      'y': [0,1,1,1]})\n",
    "numeric_columns = ['age']\n",
    "cat_columns     = ['Gender','income']\n",
    "\n",
    "numeric_pipeline = make_pipeline(SimpleImputer(strategy='median'), StandardScaler())\n",
    "cat_pipeline     = make_pipeline(SimpleImputer(strategy='most_frequent'), OneHotEncoder())\n",
    "text_pipeline = make_pipeline(CountVectorizer(), SelectKBest(k=5))\n",
    "\n",
    "transformers = [\n",
    "('num', numeric_pipeline, numeric_columns),\n",
    "('cat', cat_pipeline, cat_columns),\n",
    "('text', text_pipeline, 'text'),\n",
    "('simple_transformer', MinMaxScaler(), ['sales']),\n",
    "]\n",
    "\n",
    "combined_pipe = ColumnTransformer(transformers, remainder='passthrough')\n",
    "\n",
    "transformed_data = combined_pipe.fit_transform(train.drop('y',1), train['y'])"
   ]
  },
  {
   "cell_type": "code",
   "execution_count": null,
   "metadata": {
    "ExecuteTime": {
     "end_time": "2020-11-25T03:28:45.852590Z",
     "start_time": "2020-11-25T03:28:45.815549Z"
    },
    "hidden": true
   },
   "outputs": [],
   "source": [
    "train"
   ]
  },
  {
   "cell_type": "code",
   "execution_count": null,
   "metadata": {
    "ExecuteTime": {
     "end_time": "2020-11-25T03:28:48.165311Z",
     "start_time": "2020-11-25T03:28:48.137548Z"
    },
    "hidden": true
   },
   "outputs": [],
   "source": [
    "transformed_data.shape"
   ]
  },
  {
   "cell_type": "code",
   "execution_count": null,
   "metadata": {
    "ExecuteTime": {
     "end_time": "2020-11-25T03:28:48.419807Z",
     "start_time": "2020-11-25T03:28:48.364936Z"
    },
    "hidden": true
   },
   "outputs": [],
   "source": [
    "def get_feature_out(estimator, feature_in):\n",
    "    if hasattr(estimator,'get_feature_names'):\n",
    "        if isinstance(estimator, _VectorizerMixin):\n",
    "            # handling all vectorizers\n",
    "            return [f'vec_{f}' \\\n",
    "                for f in estimator.get_feature_names()]\n",
    "        else:\n",
    "            return estimator.get_feature_names(feature_in)\n",
    "    elif isinstance(estimator, SelectorMixin):\n",
    "        return np.array(feature_in)[estimator.get_support()]\n",
    "    else:\n",
    "        return feature_in\n",
    "\n",
    "\n",
    "def get_ct_feature_names(ct):\n",
    "    # handles all estimators, pipelines inside ColumnTransfomer\n",
    "    # doesn't work when remainder =='passthrough'\n",
    "    # which requires the input column names.\n",
    "    output_features = []\n",
    "\n",
    "    for name, estimator, features in ct.transformers_:\n",
    "        if name!='remainder':\n",
    "            if isinstance(estimator, Pipeline):\n",
    "                current_features = features\n",
    "                for step in estimator:\n",
    "                    current_features = get_feature_out(step, current_features)\n",
    "                features_out = current_features\n",
    "            else:\n",
    "                features_out = get_feature_out(estimator, features)\n",
    "            output_features.extend(features_out)\n",
    "        elif estimator=='passthrough':\n",
    "            output_features.extend(ct._feature_names_in[features])\n",
    "                \n",
    "    return output_features\n",
    "\n",
    "\n",
    "\n",
    "\n",
    "pd.DataFrame(transformed_data, \n",
    "             columns=get_ct_feature_names(combined_pipe))"
   ]
  },
  {
   "cell_type": "code",
   "execution_count": null,
   "metadata": {
    "ExecuteTime": {
     "end_time": "2020-11-25T03:28:56.004252Z",
     "start_time": "2020-11-25T03:28:55.970581Z"
    },
    "hidden": true
   },
   "outputs": [],
   "source": [
    "train"
   ]
  },
  {
   "cell_type": "markdown",
   "metadata": {
    "heading_collapsed": true,
    "hidden": true
   },
   "source": [
    "## Updating dictionary"
   ]
  },
  {
   "cell_type": "code",
   "execution_count": null,
   "metadata": {
    "ExecuteTime": {
     "end_time": "2020-11-25T18:17:12.775997Z",
     "start_time": "2020-11-25T18:17:12.757186Z"
    },
    "hidden": true
   },
   "outputs": [],
   "source": [
    "x_dict = {}"
   ]
  },
  {
   "cell_type": "code",
   "execution_count": null,
   "metadata": {
    "ExecuteTime": {
     "end_time": "2020-11-25T18:17:16.878569Z",
     "start_time": "2020-11-25T18:17:16.853009Z"
    },
    "hidden": true
   },
   "outputs": [],
   "source": [
    "var = \"var_1\""
   ]
  },
  {
   "cell_type": "code",
   "execution_count": null,
   "metadata": {
    "ExecuteTime": {
     "end_time": "2020-11-25T18:17:20.518440Z",
     "start_time": "2020-11-25T18:17:20.496081Z"
    },
    "hidden": true
   },
   "outputs": [],
   "source": [
    "def create_datadict_entry(var, relevant=True, data_type=\"not_specified\", model_relevant=\"False\"):\n",
    "    \n",
    "    entry = {\n",
    "        var: {\n",
    "            \"relevant\": relevant,\n",
    "            \"data_type\": data_type,\n",
    "            \"model_relevant\": model_relevant\n",
    "        }\n",
    "    }\n",
    "    \n",
    "    x_dict.update(entry)\n",
    "    \n",
    "    return"
   ]
  },
  {
   "cell_type": "code",
   "execution_count": null,
   "metadata": {
    "ExecuteTime": {
     "end_time": "2020-11-25T18:17:20.905886Z",
     "start_time": "2020-11-25T18:17:20.881797Z"
    },
    "hidden": true
   },
   "outputs": [],
   "source": [
    "create_datadict_entry(var)"
   ]
  },
  {
   "cell_type": "code",
   "execution_count": null,
   "metadata": {
    "ExecuteTime": {
     "end_time": "2020-11-25T18:17:21.115819Z",
     "start_time": "2020-11-25T18:17:21.090318Z"
    },
    "hidden": true
   },
   "outputs": [],
   "source": [
    "x_dict"
   ]
  },
  {
   "cell_type": "markdown",
   "metadata": {
    "hidden": true
   },
   "source": [
    "---\n",
    "---"
   ]
  }
 ],
 "metadata": {
  "kernelspec": {
   "display_name": "Python 3",
   "language": "python",
   "name": "python3"
  },
  "language_info": {
   "codemirror_mode": {
    "name": "ipython",
    "version": 3
   },
   "file_extension": ".py",
   "mimetype": "text/x-python",
   "name": "python",
   "nbconvert_exporter": "python",
   "pygments_lexer": "ipython3",
   "version": "3.7.4"
  }
 },
 "nbformat": 4,
 "nbformat_minor": 4
}
