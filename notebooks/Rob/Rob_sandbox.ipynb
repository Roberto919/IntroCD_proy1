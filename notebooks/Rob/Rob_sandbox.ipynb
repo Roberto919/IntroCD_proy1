{
 "cells": [
  {
   "cell_type": "markdown",
   "metadata": {},
   "source": [
    "# Rob's sandbox"
   ]
  },
  {
   "cell_type": "markdown",
   "metadata": {},
   "source": [
    "---"
   ]
  },
  {
   "cell_type": "markdown",
   "metadata": {},
   "source": [
    "# Imports"
   ]
  },
  {
   "cell_type": "markdown",
   "metadata": {},
   "source": [
    "#### Python modules"
   ]
  },
  {
   "cell_type": "code",
   "execution_count": 1,
   "metadata": {
    "ExecuteTime": {
     "end_time": "2020-11-25T17:33:20.984546Z",
     "start_time": "2020-11-25T17:33:19.761841Z"
    }
   },
   "outputs": [],
   "source": [
    "import sys\n",
    "\n",
    "from sklearn.ensemble import RandomForestClassifier\n",
    "from sklearn.model_selection import GridSearchCV\n",
    "from sklearn.model_selection import GridSearchCV\n",
    "from sklearn.model_selection import (\n",
    "    train_test_split,\n",
    "    cross_val_score\n",
    ")\n",
    "from sklearn.inspection import permutation_importance\n",
    "\n",
    "# import matplotlib.pyplot as plt\n",
    "# %matplotlib inline\n",
    "\n",
    "import pandas as pd"
   ]
  },
  {
   "cell_type": "markdown",
   "metadata": {},
   "source": [
    "# Ancillary modules"
   ]
  },
  {
   "cell_type": "markdown",
   "metadata": {},
   "source": [
    "#### Support adjustments"
   ]
  },
  {
   "cell_type": "code",
   "execution_count": 2,
   "metadata": {
    "ExecuteTime": {
     "end_time": "2020-11-25T17:33:21.876695Z",
     "start_time": "2020-11-25T17:33:21.874179Z"
    }
   },
   "outputs": [],
   "source": [
    "sys.path.append(\"../..\")"
   ]
  },
  {
   "cell_type": "markdown",
   "metadata": {},
   "source": [
    "#### Modules"
   ]
  },
  {
   "cell_type": "code",
   "execution_count": 5,
   "metadata": {
    "ExecuteTime": {
     "end_time": "2020-11-25T17:34:34.928101Z",
     "start_time": "2020-11-25T17:34:34.903146Z"
    }
   },
   "outputs": [
    {
     "name": "stdout",
     "output_type": "stream",
     "text": [
      "The autoreload extension is already loaded. To reload it, use:\n",
      "  %reload_ext autoreload\n"
     ]
    }
   ],
   "source": [
    "%load_ext autoreload\n",
    "%autoreload 2\n",
    "\n",
    "from src.utils.params import (\n",
    "    param_grid,\n",
    "    max_features,\n",
    "    n_estimators,\n",
    "    cv_rounds,\n",
    "    evaluation_metric,\n",
    "    ingestion_pickle_loc,\n",
    "    transformation_pickle_loc,\n",
    "    fe_pickle_loc\n",
    ")\n",
    "\n",
    "from src.pipelines.ingestion import (\n",
    "    ingest\n",
    ")\n",
    "\n",
    "from src.pipelines.transformation import (\n",
    "    load_ingestion,\n",
    "#     date_transformation,\n",
    "#     hour_transformation,\n",
    "#     categoric_trasformation,\n",
    "    transform\n",
    ")\n",
    "\n",
    "from src.pipelines.feature_engineering import (\n",
    "    load_transformation,\n",
    "    feature_generation,\n",
    "    feature_selection,\n",
    "    save_fe,\n",
    "    feature_engineering\n",
    ")\n",
    "\n",
    "from proyecto_1 import (\n",
    "    main\n",
    ")"
   ]
  },
  {
   "cell_type": "markdown",
   "metadata": {},
   "source": [
    "---"
   ]
  },
  {
   "cell_type": "markdown",
   "metadata": {},
   "source": [
    "# Tests"
   ]
  },
  {
   "cell_type": "markdown",
   "metadata": {
    "heading_collapsed": true
   },
   "source": [
    "## Transformation"
   ]
  },
  {
   "cell_type": "markdown",
   "metadata": {
    "hidden": true
   },
   "source": [
    "#### Loading ingestion pickle"
   ]
  },
  {
   "cell_type": "code",
   "execution_count": 8,
   "metadata": {
    "ExecuteTime": {
     "end_time": "2020-11-25T17:35:22.615497Z",
     "start_time": "2020-11-25T17:35:22.220697Z"
    },
    "hidden": true
   },
   "outputs": [],
   "source": [
    "df_ing = load_ingestion(\"../../\" + ingestion_pickle_loc)"
   ]
  },
  {
   "cell_type": "code",
   "execution_count": 9,
   "metadata": {
    "ExecuteTime": {
     "end_time": "2020-11-25T17:35:22.653369Z",
     "start_time": "2020-11-25T17:35:22.617599Z"
    },
    "hidden": true,
    "scrolled": true
   },
   "outputs": [
    {
     "data": {
      "text/html": [
       "<div>\n",
       "<style scoped>\n",
       "    .dataframe tbody tr th:only-of-type {\n",
       "        vertical-align: middle;\n",
       "    }\n",
       "\n",
       "    .dataframe tbody tr th {\n",
       "        vertical-align: top;\n",
       "    }\n",
       "\n",
       "    .dataframe thead th {\n",
       "        text-align: right;\n",
       "    }\n",
       "</style>\n",
       "<table border=\"1\" class=\"dataframe\">\n",
       "  <thead>\n",
       "    <tr style=\"text-align: right;\">\n",
       "      <th></th>\n",
       "      <th>fecha_creacion</th>\n",
       "      <th>hora_creacion</th>\n",
       "      <th>dia_semana</th>\n",
       "      <th>codigo_cierre</th>\n",
       "      <th>incidente_c4</th>\n",
       "      <th>tipo_entrada</th>\n",
       "      <th>label</th>\n",
       "    </tr>\n",
       "  </thead>\n",
       "  <tbody>\n",
       "    <tr>\n",
       "      <th>0</th>\n",
       "      <td>23/01/2016</td>\n",
       "      <td>22:35:04</td>\n",
       "      <td>Sábado</td>\n",
       "      <td>(A) La unidad de atención a emergencias fue de...</td>\n",
       "      <td>accidente-choque sin lesionados</td>\n",
       "      <td>BOTÓN DE AUXILIO</td>\n",
       "      <td>0.0</td>\n",
       "    </tr>\n",
       "    <tr>\n",
       "      <th>1</th>\n",
       "      <td>23/01/2016</td>\n",
       "      <td>22:50:49</td>\n",
       "      <td>Sábado</td>\n",
       "      <td>(A) La unidad de atención a emergencias fue de...</td>\n",
       "      <td>accidente-choque con lesionados</td>\n",
       "      <td>BOTÓN DE AUXILIO</td>\n",
       "      <td>0.0</td>\n",
       "    </tr>\n",
       "    <tr>\n",
       "      <th>2</th>\n",
       "      <td>24/01/2016</td>\n",
       "      <td>09:40:11</td>\n",
       "      <td>Domingo</td>\n",
       "      <td>(N) La unidad de atención a emergencias fue de...</td>\n",
       "      <td>accidente-choque sin lesionados</td>\n",
       "      <td>LLAMADA DEL 066</td>\n",
       "      <td>1.0</td>\n",
       "    </tr>\n",
       "    <tr>\n",
       "      <th>3</th>\n",
       "      <td>24/01/2016</td>\n",
       "      <td>22:40:57</td>\n",
       "      <td>Domingo</td>\n",
       "      <td>(N) La unidad de atención a emergencias fue de...</td>\n",
       "      <td>accidente-choque sin lesionados</td>\n",
       "      <td>LLAMADA DEL 066</td>\n",
       "      <td>1.0</td>\n",
       "    </tr>\n",
       "    <tr>\n",
       "      <th>4</th>\n",
       "      <td>24/01/2016</td>\n",
       "      <td>04:25:15</td>\n",
       "      <td>Domingo</td>\n",
       "      <td>(A) La unidad de atención a emergencias fue de...</td>\n",
       "      <td>accidente-choque sin lesionados</td>\n",
       "      <td>LLAMADA DEL 066</td>\n",
       "      <td>0.0</td>\n",
       "    </tr>\n",
       "    <tr>\n",
       "      <th>...</th>\n",
       "      <td>...</td>\n",
       "      <td>...</td>\n",
       "      <td>...</td>\n",
       "      <td>...</td>\n",
       "      <td>...</td>\n",
       "      <td>...</td>\n",
       "      <td>...</td>\n",
       "    </tr>\n",
       "    <tr>\n",
       "      <th>1383133</th>\n",
       "      <td>22/10/2020</td>\n",
       "      <td>16:17:05</td>\n",
       "      <td>Jueves</td>\n",
       "      <td>(A) La unidad de atención a emergencias fue de...</td>\n",
       "      <td>lesionado-atropellado</td>\n",
       "      <td>BOTÓN DE AUXILIO</td>\n",
       "      <td>0.0</td>\n",
       "    </tr>\n",
       "    <tr>\n",
       "      <th>1383134</th>\n",
       "      <td>22/10/2020</td>\n",
       "      <td>16:29:13</td>\n",
       "      <td>Jueves</td>\n",
       "      <td>(A) La unidad de atención a emergencias fue de...</td>\n",
       "      <td>accidente-choque con lesionados</td>\n",
       "      <td>BOTÓN DE AUXILIO</td>\n",
       "      <td>0.0</td>\n",
       "    </tr>\n",
       "    <tr>\n",
       "      <th>1383135</th>\n",
       "      <td>22/10/2020</td>\n",
       "      <td>12:00:26</td>\n",
       "      <td>Jueves</td>\n",
       "      <td>(D) El incidente reportado se registró en dos ...</td>\n",
       "      <td>accidente-choque sin lesionados</td>\n",
       "      <td>LLAMADA DEL 911</td>\n",
       "      <td>0.0</td>\n",
       "    </tr>\n",
       "    <tr>\n",
       "      <th>1383136</th>\n",
       "      <td>22/10/2020</td>\n",
       "      <td>12:01:25</td>\n",
       "      <td>Jueves</td>\n",
       "      <td>(D) El incidente reportado se registró en dos ...</td>\n",
       "      <td>accidente-choque con lesionados</td>\n",
       "      <td>LLAMADA DEL 911</td>\n",
       "      <td>0.0</td>\n",
       "    </tr>\n",
       "    <tr>\n",
       "      <th>1383137</th>\n",
       "      <td>22/10/2020</td>\n",
       "      <td>16:05:47</td>\n",
       "      <td>Jueves</td>\n",
       "      <td>(D) El incidente reportado se registró en dos ...</td>\n",
       "      <td>accidente-choque sin lesionados</td>\n",
       "      <td>LLAMADA DEL 911</td>\n",
       "      <td>0.0</td>\n",
       "    </tr>\n",
       "  </tbody>\n",
       "</table>\n",
       "<p>1383138 rows × 7 columns</p>\n",
       "</div>"
      ],
      "text/plain": [
       "        fecha_creacion hora_creacion dia_semana  \\\n",
       "0           23/01/2016      22:35:04     Sábado   \n",
       "1           23/01/2016      22:50:49     Sábado   \n",
       "2           24/01/2016      09:40:11    Domingo   \n",
       "3           24/01/2016      22:40:57    Domingo   \n",
       "4           24/01/2016      04:25:15    Domingo   \n",
       "...                ...           ...        ...   \n",
       "1383133     22/10/2020      16:17:05     Jueves   \n",
       "1383134     22/10/2020      16:29:13     Jueves   \n",
       "1383135     22/10/2020      12:00:26     Jueves   \n",
       "1383136     22/10/2020      12:01:25     Jueves   \n",
       "1383137     22/10/2020      16:05:47     Jueves   \n",
       "\n",
       "                                             codigo_cierre  \\\n",
       "0        (A) La unidad de atención a emergencias fue de...   \n",
       "1        (A) La unidad de atención a emergencias fue de...   \n",
       "2        (N) La unidad de atención a emergencias fue de...   \n",
       "3        (N) La unidad de atención a emergencias fue de...   \n",
       "4        (A) La unidad de atención a emergencias fue de...   \n",
       "...                                                    ...   \n",
       "1383133  (A) La unidad de atención a emergencias fue de...   \n",
       "1383134  (A) La unidad de atención a emergencias fue de...   \n",
       "1383135  (D) El incidente reportado se registró en dos ...   \n",
       "1383136  (D) El incidente reportado se registró en dos ...   \n",
       "1383137  (D) El incidente reportado se registró en dos ...   \n",
       "\n",
       "                            incidente_c4      tipo_entrada  label  \n",
       "0        accidente-choque sin lesionados  BOTÓN DE AUXILIO    0.0  \n",
       "1        accidente-choque con lesionados  BOTÓN DE AUXILIO    0.0  \n",
       "2        accidente-choque sin lesionados   LLAMADA DEL 066    1.0  \n",
       "3        accidente-choque sin lesionados   LLAMADA DEL 066    1.0  \n",
       "4        accidente-choque sin lesionados   LLAMADA DEL 066    0.0  \n",
       "...                                  ...               ...    ...  \n",
       "1383133            lesionado-atropellado  BOTÓN DE AUXILIO    0.0  \n",
       "1383134  accidente-choque con lesionados  BOTÓN DE AUXILIO    0.0  \n",
       "1383135  accidente-choque sin lesionados   LLAMADA DEL 911    0.0  \n",
       "1383136  accidente-choque con lesionados   LLAMADA DEL 911    0.0  \n",
       "1383137  accidente-choque sin lesionados   LLAMADA DEL 911    0.0  \n",
       "\n",
       "[1383138 rows x 7 columns]"
      ]
     },
     "execution_count": 9,
     "metadata": {},
     "output_type": "execute_result"
    }
   ],
   "source": [
    "df_ing"
   ]
  },
  {
   "cell_type": "code",
   "execution_count": 12,
   "metadata": {
    "ExecuteTime": {
     "end_time": "2020-11-25T17:36:57.642319Z",
     "start_time": "2020-11-25T17:36:41.378971Z"
    },
    "hidden": true
   },
   "outputs": [
    {
     "name": "stdout",
     "output_type": "stream",
     "text": [
      "\n",
      "** Tranformation module successfully executed **\n",
      "\n"
     ]
    }
   ],
   "source": [
    "transform((\"../../\" + ingestion_pickle_loc), (\"../../\" + transformation_pickle_loc))"
   ]
  },
  {
   "cell_type": "markdown",
   "metadata": {
    "heading_collapsed": true
   },
   "source": [
    "## Feature engineering"
   ]
  },
  {
   "cell_type": "markdown",
   "metadata": {
    "heading_collapsed": true,
    "hidden": true
   },
   "source": [
    "#### Loading transformation pickle"
   ]
  },
  {
   "cell_type": "code",
   "execution_count": 14,
   "metadata": {
    "ExecuteTime": {
     "end_time": "2020-11-25T17:38:26.147038Z",
     "start_time": "2020-11-25T17:38:25.468359Z"
    },
    "hidden": true
   },
   "outputs": [],
   "source": [
    "df_tra = load_transformation(\"../../\" + transformation_pickle_loc)"
   ]
  },
  {
   "cell_type": "code",
   "execution_count": 15,
   "metadata": {
    "ExecuteTime": {
     "end_time": "2020-11-25T17:38:26.192819Z",
     "start_time": "2020-11-25T17:38:26.149353Z"
    },
    "hidden": true,
    "scrolled": true
   },
   "outputs": [
    {
     "data": {
      "text/html": [
       "<div>\n",
       "<style scoped>\n",
       "    .dataframe tbody tr th:only-of-type {\n",
       "        vertical-align: middle;\n",
       "    }\n",
       "\n",
       "    .dataframe tbody tr th {\n",
       "        vertical-align: top;\n",
       "    }\n",
       "\n",
       "    .dataframe thead th {\n",
       "        text-align: right;\n",
       "    }\n",
       "</style>\n",
       "<table border=\"1\" class=\"dataframe\">\n",
       "  <thead>\n",
       "    <tr style=\"text-align: right;\">\n",
       "      <th></th>\n",
       "      <th>dia_semana</th>\n",
       "      <th>codigo_cierre</th>\n",
       "      <th>incidente_c4</th>\n",
       "      <th>tipo_entrada</th>\n",
       "      <th>label</th>\n",
       "      <th>anio_inicio</th>\n",
       "      <th>dia_inicio_sin</th>\n",
       "      <th>dia_inicio_cos</th>\n",
       "      <th>mes_inicio_sin</th>\n",
       "      <th>mes_inicio_cos</th>\n",
       "      <th>hora_inicio_sin</th>\n",
       "      <th>hora_inicio_cos</th>\n",
       "    </tr>\n",
       "  </thead>\n",
       "  <tbody>\n",
       "    <tr>\n",
       "      <th>0</th>\n",
       "      <td>Sábado</td>\n",
       "      <td>(A) La unidad de atención a emergencias fue de...</td>\n",
       "      <td>accidente-choque sin lesionados</td>\n",
       "      <td>BOTÓN DE AUXILIO</td>\n",
       "      <td>0.0</td>\n",
       "      <td>2016</td>\n",
       "      <td>-0.999146</td>\n",
       "      <td>0.041325</td>\n",
       "      <td>0.500000</td>\n",
       "      <td>0.866025</td>\n",
       "      <td>-5.000000e-01</td>\n",
       "      <td>0.866025</td>\n",
       "    </tr>\n",
       "    <tr>\n",
       "      <th>1</th>\n",
       "      <td>Sábado</td>\n",
       "      <td>(A) La unidad de atención a emergencias fue de...</td>\n",
       "      <td>accidente-choque con lesionados</td>\n",
       "      <td>BOTÓN DE AUXILIO</td>\n",
       "      <td>0.0</td>\n",
       "      <td>2016</td>\n",
       "      <td>-0.999146</td>\n",
       "      <td>0.041325</td>\n",
       "      <td>0.500000</td>\n",
       "      <td>0.866025</td>\n",
       "      <td>-5.000000e-01</td>\n",
       "      <td>0.866025</td>\n",
       "    </tr>\n",
       "    <tr>\n",
       "      <th>2</th>\n",
       "      <td>Domingo</td>\n",
       "      <td>(N) La unidad de atención a emergencias fue de...</td>\n",
       "      <td>accidente-choque sin lesionados</td>\n",
       "      <td>LLAMADA_911_066</td>\n",
       "      <td>1.0</td>\n",
       "      <td>2016</td>\n",
       "      <td>-0.969400</td>\n",
       "      <td>0.245485</td>\n",
       "      <td>0.500000</td>\n",
       "      <td>0.866025</td>\n",
       "      <td>7.071068e-01</td>\n",
       "      <td>-0.707107</td>\n",
       "    </tr>\n",
       "    <tr>\n",
       "      <th>3</th>\n",
       "      <td>Domingo</td>\n",
       "      <td>(N) La unidad de atención a emergencias fue de...</td>\n",
       "      <td>accidente-choque sin lesionados</td>\n",
       "      <td>LLAMADA_911_066</td>\n",
       "      <td>1.0</td>\n",
       "      <td>2016</td>\n",
       "      <td>-0.969400</td>\n",
       "      <td>0.245485</td>\n",
       "      <td>0.500000</td>\n",
       "      <td>0.866025</td>\n",
       "      <td>-5.000000e-01</td>\n",
       "      <td>0.866025</td>\n",
       "    </tr>\n",
       "    <tr>\n",
       "      <th>4</th>\n",
       "      <td>Domingo</td>\n",
       "      <td>(A) La unidad de atención a emergencias fue de...</td>\n",
       "      <td>accidente-choque sin lesionados</td>\n",
       "      <td>LLAMADA_911_066</td>\n",
       "      <td>0.0</td>\n",
       "      <td>2016</td>\n",
       "      <td>-0.969400</td>\n",
       "      <td>0.245485</td>\n",
       "      <td>0.500000</td>\n",
       "      <td>0.866025</td>\n",
       "      <td>8.660254e-01</td>\n",
       "      <td>0.500000</td>\n",
       "    </tr>\n",
       "    <tr>\n",
       "      <th>...</th>\n",
       "      <td>...</td>\n",
       "      <td>...</td>\n",
       "      <td>...</td>\n",
       "      <td>...</td>\n",
       "      <td>...</td>\n",
       "      <td>...</td>\n",
       "      <td>...</td>\n",
       "      <td>...</td>\n",
       "      <td>...</td>\n",
       "      <td>...</td>\n",
       "      <td>...</td>\n",
       "      <td>...</td>\n",
       "    </tr>\n",
       "    <tr>\n",
       "      <th>1383133</th>\n",
       "      <td>Jueves</td>\n",
       "      <td>(A) La unidad de atención a emergencias fue de...</td>\n",
       "      <td>lesionado-atropellado</td>\n",
       "      <td>BOTÓN DE AUXILIO</td>\n",
       "      <td>0.0</td>\n",
       "      <td>2020</td>\n",
       "      <td>-0.986361</td>\n",
       "      <td>-0.164595</td>\n",
       "      <td>-0.866025</td>\n",
       "      <td>0.500000</td>\n",
       "      <td>-8.660254e-01</td>\n",
       "      <td>-0.500000</td>\n",
       "    </tr>\n",
       "    <tr>\n",
       "      <th>1383134</th>\n",
       "      <td>Jueves</td>\n",
       "      <td>(A) La unidad de atención a emergencias fue de...</td>\n",
       "      <td>accidente-choque con lesionados</td>\n",
       "      <td>BOTÓN DE AUXILIO</td>\n",
       "      <td>0.0</td>\n",
       "      <td>2020</td>\n",
       "      <td>-0.986361</td>\n",
       "      <td>-0.164595</td>\n",
       "      <td>-0.866025</td>\n",
       "      <td>0.500000</td>\n",
       "      <td>-8.660254e-01</td>\n",
       "      <td>-0.500000</td>\n",
       "    </tr>\n",
       "    <tr>\n",
       "      <th>1383135</th>\n",
       "      <td>Jueves</td>\n",
       "      <td>(D) El incidente reportado se registró en dos ...</td>\n",
       "      <td>accidente-choque sin lesionados</td>\n",
       "      <td>LLAMADA_911_066</td>\n",
       "      <td>0.0</td>\n",
       "      <td>2020</td>\n",
       "      <td>-0.986361</td>\n",
       "      <td>-0.164595</td>\n",
       "      <td>-0.866025</td>\n",
       "      <td>0.500000</td>\n",
       "      <td>1.224647e-16</td>\n",
       "      <td>-1.000000</td>\n",
       "    </tr>\n",
       "    <tr>\n",
       "      <th>1383136</th>\n",
       "      <td>Jueves</td>\n",
       "      <td>(D) El incidente reportado se registró en dos ...</td>\n",
       "      <td>accidente-choque con lesionados</td>\n",
       "      <td>LLAMADA_911_066</td>\n",
       "      <td>0.0</td>\n",
       "      <td>2020</td>\n",
       "      <td>-0.986361</td>\n",
       "      <td>-0.164595</td>\n",
       "      <td>-0.866025</td>\n",
       "      <td>0.500000</td>\n",
       "      <td>1.224647e-16</td>\n",
       "      <td>-1.000000</td>\n",
       "    </tr>\n",
       "    <tr>\n",
       "      <th>1383137</th>\n",
       "      <td>Jueves</td>\n",
       "      <td>(D) El incidente reportado se registró en dos ...</td>\n",
       "      <td>accidente-choque sin lesionados</td>\n",
       "      <td>LLAMADA_911_066</td>\n",
       "      <td>0.0</td>\n",
       "      <td>2020</td>\n",
       "      <td>-0.986361</td>\n",
       "      <td>-0.164595</td>\n",
       "      <td>-0.866025</td>\n",
       "      <td>0.500000</td>\n",
       "      <td>-8.660254e-01</td>\n",
       "      <td>-0.500000</td>\n",
       "    </tr>\n",
       "  </tbody>\n",
       "</table>\n",
       "<p>1383138 rows × 12 columns</p>\n",
       "</div>"
      ],
      "text/plain": [
       "        dia_semana                                      codigo_cierre  \\\n",
       "0           Sábado  (A) La unidad de atención a emergencias fue de...   \n",
       "1           Sábado  (A) La unidad de atención a emergencias fue de...   \n",
       "2          Domingo  (N) La unidad de atención a emergencias fue de...   \n",
       "3          Domingo  (N) La unidad de atención a emergencias fue de...   \n",
       "4          Domingo  (A) La unidad de atención a emergencias fue de...   \n",
       "...            ...                                                ...   \n",
       "1383133     Jueves  (A) La unidad de atención a emergencias fue de...   \n",
       "1383134     Jueves  (A) La unidad de atención a emergencias fue de...   \n",
       "1383135     Jueves  (D) El incidente reportado se registró en dos ...   \n",
       "1383136     Jueves  (D) El incidente reportado se registró en dos ...   \n",
       "1383137     Jueves  (D) El incidente reportado se registró en dos ...   \n",
       "\n",
       "                            incidente_c4      tipo_entrada  label anio_inicio  \\\n",
       "0        accidente-choque sin lesionados  BOTÓN DE AUXILIO    0.0        2016   \n",
       "1        accidente-choque con lesionados  BOTÓN DE AUXILIO    0.0        2016   \n",
       "2        accidente-choque sin lesionados   LLAMADA_911_066    1.0        2016   \n",
       "3        accidente-choque sin lesionados   LLAMADA_911_066    1.0        2016   \n",
       "4        accidente-choque sin lesionados   LLAMADA_911_066    0.0        2016   \n",
       "...                                  ...               ...    ...         ...   \n",
       "1383133            lesionado-atropellado  BOTÓN DE AUXILIO    0.0        2020   \n",
       "1383134  accidente-choque con lesionados  BOTÓN DE AUXILIO    0.0        2020   \n",
       "1383135  accidente-choque sin lesionados   LLAMADA_911_066    0.0        2020   \n",
       "1383136  accidente-choque con lesionados   LLAMADA_911_066    0.0        2020   \n",
       "1383137  accidente-choque sin lesionados   LLAMADA_911_066    0.0        2020   \n",
       "\n",
       "         dia_inicio_sin  dia_inicio_cos  mes_inicio_sin  mes_inicio_cos  \\\n",
       "0             -0.999146        0.041325        0.500000        0.866025   \n",
       "1             -0.999146        0.041325        0.500000        0.866025   \n",
       "2             -0.969400        0.245485        0.500000        0.866025   \n",
       "3             -0.969400        0.245485        0.500000        0.866025   \n",
       "4             -0.969400        0.245485        0.500000        0.866025   \n",
       "...                 ...             ...             ...             ...   \n",
       "1383133       -0.986361       -0.164595       -0.866025        0.500000   \n",
       "1383134       -0.986361       -0.164595       -0.866025        0.500000   \n",
       "1383135       -0.986361       -0.164595       -0.866025        0.500000   \n",
       "1383136       -0.986361       -0.164595       -0.866025        0.500000   \n",
       "1383137       -0.986361       -0.164595       -0.866025        0.500000   \n",
       "\n",
       "         hora_inicio_sin  hora_inicio_cos  \n",
       "0          -5.000000e-01         0.866025  \n",
       "1          -5.000000e-01         0.866025  \n",
       "2           7.071068e-01        -0.707107  \n",
       "3          -5.000000e-01         0.866025  \n",
       "4           8.660254e-01         0.500000  \n",
       "...                  ...              ...  \n",
       "1383133    -8.660254e-01        -0.500000  \n",
       "1383134    -8.660254e-01        -0.500000  \n",
       "1383135     1.224647e-16        -1.000000  \n",
       "1383136     1.224647e-16        -1.000000  \n",
       "1383137    -8.660254e-01        -0.500000  \n",
       "\n",
       "[1383138 rows x 12 columns]"
      ]
     },
     "execution_count": 15,
     "metadata": {},
     "output_type": "execute_result"
    }
   ],
   "source": [
    "df_tra"
   ]
  },
  {
   "cell_type": "markdown",
   "metadata": {
    "heading_collapsed": true,
    "hidden": true
   },
   "source": [
    "##### Exploring transfomation result"
   ]
  },
  {
   "cell_type": "markdown",
   "metadata": {
    "heading_collapsed": true,
    "hidden": true
   },
   "source": [
    "#### Processing data for model"
   ]
  },
  {
   "cell_type": "code",
   "execution_count": null,
   "metadata": {
    "ExecuteTime": {
     "end_time": "2020-11-25T04:49:09.433624Z",
     "start_time": "2020-11-25T04:49:07.201100Z"
    },
    "hidden": true,
    "scrolled": true
   },
   "outputs": [],
   "source": [
    "df_features_prc, df_labels, df_features_prc_cols = feature_generation(df)"
   ]
  },
  {
   "cell_type": "code",
   "execution_count": null,
   "metadata": {
    "ExecuteTime": {
     "end_time": "2020-11-25T04:50:52.487282Z",
     "start_time": "2020-11-25T04:50:52.438138Z"
    },
    "hidden": true,
    "scrolled": true
   },
   "outputs": [],
   "source": [
    "print(len(df_features_prc_cols))\n",
    "df_features_prc_cols"
   ]
  },
  {
   "cell_type": "code",
   "execution_count": null,
   "metadata": {
    "ExecuteTime": {
     "end_time": "2020-11-25T04:50:05.367911Z",
     "start_time": "2020-11-25T04:50:05.333858Z"
    },
    "hidden": true
   },
   "outputs": [],
   "source": [
    "df_features_prc.shape"
   ]
  },
  {
   "cell_type": "code",
   "execution_count": null,
   "metadata": {
    "hidden": true
   },
   "outputs": [],
   "source": []
  },
  {
   "cell_type": "code",
   "execution_count": null,
   "metadata": {
    "ExecuteTime": {
     "end_time": "2020-11-25T03:53:12.479663Z",
     "start_time": "2020-11-25T03:53:12.454523Z"
    },
    "hidden": true
   },
   "outputs": [],
   "source": [
    "print(len(enc_cat_features))\n",
    "enc_cat_features"
   ]
  },
  {
   "cell_type": "code",
   "execution_count": null,
   "metadata": {
    "ExecuteTime": {
     "end_time": "2020-11-25T03:52:56.008936Z",
     "start_time": "2020-11-25T03:52:55.985455Z"
    },
    "hidden": true
   },
   "outputs": [],
   "source": [
    "df_features_prc.shape"
   ]
  },
  {
   "cell_type": "code",
   "execution_count": null,
   "metadata": {
    "ExecuteTime": {
     "end_time": "2020-11-25T03:18:46.232083Z",
     "start_time": "2020-11-25T03:18:46.204320Z"
    },
    "hidden": true,
    "scrolled": true
   },
   "outputs": [],
   "source": [
    "len(df_features_prc_cols)"
   ]
  },
  {
   "cell_type": "markdown",
   "metadata": {
    "heading_collapsed": true,
    "hidden": true
   },
   "source": [
    "#### Training, executing and evaluating model"
   ]
  },
  {
   "cell_type": "code",
   "execution_count": null,
   "metadata": {
    "ExecuteTime": {
     "end_time": "2020-11-25T03:19:35.249047Z",
     "start_time": "2020-11-25T03:19:35.211437Z"
    },
    "hidden": true,
    "scrolled": true
   },
   "outputs": [],
   "source": [
    "model = RandomForestClassifier(oob_score=True, n_jobs=-1)"
   ]
  },
  {
   "cell_type": "code",
   "execution_count": null,
   "metadata": {
    "ExecuteTime": {
     "end_time": "2020-11-25T03:19:36.334819Z",
     "start_time": "2020-11-25T03:19:35.788646Z"
    },
    "hidden": true
   },
   "outputs": [],
   "source": [
    "## Splitting data in train and test\n",
    "X_train, X_test, y_train, y_test = train_test_split(df_features_prc, df_labels, test_size=0.3)"
   ]
  },
  {
   "cell_type": "code",
   "execution_count": null,
   "metadata": {
    "ExecuteTime": {
     "end_time": "2020-11-25T01:13:15.923195Z",
     "start_time": "2020-11-25T01:07:12.011331Z"
    },
    "hidden": true,
    "scrolled": true
   },
   "outputs": [],
   "source": [
    "grid_search = GridSearchCV(model,\n",
    "                           param_grid,\n",
    "                           cv=2,\n",
    "                           scoring=evaluation_metric,\n",
    "                           return_train_score=True,\n",
    "                           n_jobs=-1\n",
    "                           )\n",
    "\n",
    "grid_search.fit(X_train, y_train)\n",
    "\n",
    "print(grid_search.best_params_)\n",
    "print(grid_search.best_estimator_)\n",
    "\n",
    "print(\"\\n++ Grid search results:\\n\")\n",
    "print(\"    ++++ Best estimator: {}\".format(grid_search.best_estimator_))\n",
    "print(\"    ++++ Number of features in best estimator: {} \\n\".format(grid_search.best_estimator_.n_features_))\n",
    "print(\"    ++++ Best estimator oob score: {}\\n\".format(grid_search.best_estimator_.oob_score_))"
   ]
  },
  {
   "cell_type": "markdown",
   "metadata": {
    "heading_collapsed": true,
    "hidden": true
   },
   "source": [
    "#### Identifying most important variables"
   ]
  },
  {
   "cell_type": "code",
   "execution_count": null,
   "metadata": {
    "ExecuteTime": {
     "end_time": "2020-11-25T01:58:51.529642Z",
     "start_time": "2020-11-25T01:58:51.290966Z"
    },
    "hidden": true
   },
   "outputs": [],
   "source": [
    "print(len(grid_search.best_estimator_.feature_importances_))\n",
    "grid_search.best_estimator_.feature_importances_"
   ]
  },
  {
   "cell_type": "code",
   "execution_count": null,
   "metadata": {
    "ExecuteTime": {
     "end_time": "2020-11-25T01:15:56.118183Z",
     "start_time": "2020-11-25T01:15:55.545673Z"
    },
    "hidden": true,
    "scrolled": true
   },
   "outputs": [],
   "source": [
    "feature_importance = pd.DataFrame(\n",
    "    {\n",
    "        \"Importance\": grid_search.best_estimator_.feature_importances_,\n",
    "        \"Feature\": df_features_prc.columns\n",
    "    }\n",
    ")\n",
    "feature_importance.sort_values(by=\"Importance\", ascending=False)\n",
    "print(display(feature_importance))"
   ]
  },
  {
   "cell_type": "markdown",
   "metadata": {},
   "source": [
    "## Modeling (magic loop)"
   ]
  },
  {
   "cell_type": "markdown",
   "metadata": {
    "heading_collapsed": true
   },
   "source": [
    "# *Notes*"
   ]
  },
  {
   "cell_type": "markdown",
   "metadata": {
    "hidden": true
   },
   "source": [
    "## Finding labels of processed matrix"
   ]
  },
  {
   "cell_type": "markdown",
   "metadata": {
    "hidden": true
   },
   "source": [
    "#### Manually number of labels that should be in the model."
   ]
  },
  {
   "cell_type": "code",
   "execution_count": 70,
   "metadata": {
    "ExecuteTime": {
     "end_time": "2020-11-25T19:04:25.478389Z",
     "start_time": "2020-11-25T19:04:21.864041Z"
    },
    "hidden": true
   },
   "outputs": [],
   "source": [
    "cat_list = list(df_tra[\"dia_semana\"].unique()) + \\\n",
    "            list(df_tra[\"incidente_c4\"].unique()) + \\\n",
    "            list(df_tra[\"tipo_entrada\"].unique()) + \\\n",
    "            list(df_tra[\"anio_inicio\"].unique())"
   ]
  },
  {
   "cell_type": "code",
   "execution_count": 71,
   "metadata": {
    "ExecuteTime": {
     "end_time": "2020-11-25T19:04:34.571022Z",
     "start_time": "2020-11-25T19:04:34.496408Z"
    },
    "hidden": true,
    "scrolled": true
   },
   "outputs": [
    {
     "name": "stdout",
     "output_type": "stream",
     "text": [
      "49\n"
     ]
    },
    {
     "data": {
      "text/plain": [
       "['Sábado',\n",
       " 'Domingo',\n",
       " 'Lunes',\n",
       " 'Martes',\n",
       " 'Miércoles',\n",
       " 'Jueves',\n",
       " 'Viernes',\n",
       " 'accidente-choque sin lesionados',\n",
       " 'accidente-choque con lesionados',\n",
       " 'lesionado-accidente automovilístico',\n",
       " 'accidente-volcadura',\n",
       " 'lesionado-atropellado',\n",
       " 'accidente-otros',\n",
       " 'accidente-persona atrapada / desbarrancada',\n",
       " 'cadáver-accidente automovilístico',\n",
       " 'cadáver-atropellado',\n",
       " 'accidente-motociclista',\n",
       " 'accidente-vehiculo desbarrancado',\n",
       " 'accidente-choque con prensados',\n",
       " 'accidente-vehiculo atrapado',\n",
       " 'accidente-ciclista',\n",
       " 'accidente-monopatín',\n",
       " 'sismo-choque con lesionados',\n",
       " 'accidente-vehículo atrapado-varado',\n",
       " 'detención ciudadana-atropellado',\n",
       " 'accidente-ferroviario',\n",
       " 'detención ciudadana-accidente automovilístico',\n",
       " 'sismo-choque sin lesionados',\n",
       " 'sismo-persona atropellada',\n",
       " 'Detención ciudadana-accidente automovilístico',\n",
       " 'sismo-choque con prensados',\n",
       " 'mi ciudad-calle-incidente de tránsito',\n",
       " 'mi ciudad-taxi-incidente de tránsito',\n",
       " 'BOTÓN DE AUXILIO',\n",
       " 'LLAMADA_911_066',\n",
       " 'RADIO',\n",
       " 'CÁMARA',\n",
       " 'REDES',\n",
       " 'LLAMADA APP911',\n",
       " 'ZELLO',\n",
       " 'APLICATIVOS',\n",
       " '2016',\n",
       " '2017',\n",
       " '2018',\n",
       " '2019',\n",
       " '2015',\n",
       " '2013',\n",
       " '2014',\n",
       " '2020']"
      ]
     },
     "execution_count": 71,
     "metadata": {},
     "output_type": "execute_result"
    }
   ],
   "source": [
    "print(len(cat_list))\n",
    "cat_list"
   ]
  },
  {
   "cell_type": "markdown",
   "metadata": {
    "heading_collapsed": true,
    "hidden": true
   },
   "source": [
    "#### Example code from StackOverflow to get labels."
   ]
  },
  {
   "cell_type": "code",
   "execution_count": null,
   "metadata": {
    "ExecuteTime": {
     "end_time": "2020-11-25T03:28:44.879590Z",
     "start_time": "2020-11-25T03:28:44.803530Z"
    },
    "hidden": true
   },
   "outputs": [],
   "source": [
    "import pandas as pd\n",
    "import numpy as np\n",
    "from sklearn.compose import ColumnTransformer\n",
    "from sklearn.pipeline import make_pipeline\n",
    "from sklearn.impute import SimpleImputer\n",
    "from sklearn.preprocessing import StandardScaler, OneHotEncoder, MinMaxScaler\n",
    "from sklearn.feature_extraction.text import _VectorizerMixin\n",
    "from sklearn.feature_selection._base import SelectorMixin\n",
    "from sklearn.feature_selection import SelectKBest\n",
    "from sklearn.feature_extraction.text import CountVectorizer\n",
    "from sklearn.pipeline import Pipeline\n",
    "\n",
    "train = pd.DataFrame({'age': [23,12, 12, np.nan],\n",
    "                      'Gender': ['M','F', np.nan, 'F'],\n",
    "                      'income': ['high','low','low','medium'],\n",
    "                      'sales': [10000, 100020, 110000, 100],\n",
    "                      'foo' : [1,0,0,1],\n",
    "                      'text': ['I will test this',\n",
    "                               'need to write more sentence',\n",
    "                               'want to keep it simple',\n",
    "                               'hope you got that these sentences are junk'],\n",
    "                      'y': [0,1,1,1]})\n",
    "numeric_columns = ['age']\n",
    "cat_columns     = ['Gender','income']\n",
    "\n",
    "numeric_pipeline = make_pipeline(SimpleImputer(strategy='median'), StandardScaler())\n",
    "cat_pipeline     = make_pipeline(SimpleImputer(strategy='most_frequent'), OneHotEncoder())\n",
    "text_pipeline = make_pipeline(CountVectorizer(), SelectKBest(k=5))\n",
    "\n",
    "transformers = [\n",
    "('num', numeric_pipeline, numeric_columns),\n",
    "('cat', cat_pipeline, cat_columns),\n",
    "('text', text_pipeline, 'text'),\n",
    "('simple_transformer', MinMaxScaler(), ['sales']),\n",
    "]\n",
    "\n",
    "combined_pipe = ColumnTransformer(transformers, remainder='passthrough')\n",
    "\n",
    "transformed_data = combined_pipe.fit_transform(train.drop('y',1), train['y'])"
   ]
  },
  {
   "cell_type": "code",
   "execution_count": null,
   "metadata": {
    "ExecuteTime": {
     "end_time": "2020-11-25T03:28:45.852590Z",
     "start_time": "2020-11-25T03:28:45.815549Z"
    },
    "hidden": true
   },
   "outputs": [],
   "source": [
    "train"
   ]
  },
  {
   "cell_type": "code",
   "execution_count": null,
   "metadata": {
    "ExecuteTime": {
     "end_time": "2020-11-25T03:28:48.165311Z",
     "start_time": "2020-11-25T03:28:48.137548Z"
    },
    "hidden": true
   },
   "outputs": [],
   "source": [
    "transformed_data.shape"
   ]
  },
  {
   "cell_type": "code",
   "execution_count": null,
   "metadata": {
    "ExecuteTime": {
     "end_time": "2020-11-25T03:28:48.419807Z",
     "start_time": "2020-11-25T03:28:48.364936Z"
    },
    "hidden": true
   },
   "outputs": [],
   "source": [
    "def get_feature_out(estimator, feature_in):\n",
    "    if hasattr(estimator,'get_feature_names'):\n",
    "        if isinstance(estimator, _VectorizerMixin):\n",
    "            # handling all vectorizers\n",
    "            return [f'vec_{f}' \\\n",
    "                for f in estimator.get_feature_names()]\n",
    "        else:\n",
    "            return estimator.get_feature_names(feature_in)\n",
    "    elif isinstance(estimator, SelectorMixin):\n",
    "        return np.array(feature_in)[estimator.get_support()]\n",
    "    else:\n",
    "        return feature_in\n",
    "\n",
    "\n",
    "def get_ct_feature_names(ct):\n",
    "    # handles all estimators, pipelines inside ColumnTransfomer\n",
    "    # doesn't work when remainder =='passthrough'\n",
    "    # which requires the input column names.\n",
    "    output_features = []\n",
    "\n",
    "    for name, estimator, features in ct.transformers_:\n",
    "        if name!='remainder':\n",
    "            if isinstance(estimator, Pipeline):\n",
    "                current_features = features\n",
    "                for step in estimator:\n",
    "                    current_features = get_feature_out(step, current_features)\n",
    "                features_out = current_features\n",
    "            else:\n",
    "                features_out = get_feature_out(estimator, features)\n",
    "            output_features.extend(features_out)\n",
    "        elif estimator=='passthrough':\n",
    "            output_features.extend(ct._feature_names_in[features])\n",
    "                \n",
    "    return output_features\n",
    "\n",
    "\n",
    "\n",
    "\n",
    "pd.DataFrame(transformed_data, \n",
    "             columns=get_ct_feature_names(combined_pipe))"
   ]
  },
  {
   "cell_type": "code",
   "execution_count": null,
   "metadata": {
    "ExecuteTime": {
     "end_time": "2020-11-25T03:28:56.004252Z",
     "start_time": "2020-11-25T03:28:55.970581Z"
    },
    "hidden": true
   },
   "outputs": [],
   "source": [
    "train"
   ]
  },
  {
   "cell_type": "markdown",
   "metadata": {
    "heading_collapsed": true,
    "hidden": true
   },
   "source": [
    "## Updating dictionary"
   ]
  },
  {
   "cell_type": "code",
   "execution_count": 46,
   "metadata": {
    "ExecuteTime": {
     "end_time": "2020-11-25T18:17:12.775997Z",
     "start_time": "2020-11-25T18:17:12.757186Z"
    },
    "hidden": true
   },
   "outputs": [],
   "source": [
    "x_dict = {}"
   ]
  },
  {
   "cell_type": "code",
   "execution_count": 47,
   "metadata": {
    "ExecuteTime": {
     "end_time": "2020-11-25T18:17:16.878569Z",
     "start_time": "2020-11-25T18:17:16.853009Z"
    },
    "hidden": true
   },
   "outputs": [],
   "source": [
    "var = \"var_1\""
   ]
  },
  {
   "cell_type": "code",
   "execution_count": 49,
   "metadata": {
    "ExecuteTime": {
     "end_time": "2020-11-25T18:17:20.518440Z",
     "start_time": "2020-11-25T18:17:20.496081Z"
    },
    "hidden": true
   },
   "outputs": [],
   "source": [
    "def create_datadict_entry(var, relevant=True, data_type=\"not_specified\", model_relevant=\"False\"):\n",
    "    \n",
    "    entry = {\n",
    "        var: {\n",
    "            \"relevant\": relevant,\n",
    "            \"data_type\": data_type,\n",
    "            \"model_relevant\": model_relevant\n",
    "        }\n",
    "    }\n",
    "    \n",
    "    x_dict.update(entry)\n",
    "    \n",
    "    return"
   ]
  },
  {
   "cell_type": "code",
   "execution_count": 50,
   "metadata": {
    "ExecuteTime": {
     "end_time": "2020-11-25T18:17:20.905886Z",
     "start_time": "2020-11-25T18:17:20.881797Z"
    },
    "hidden": true
   },
   "outputs": [],
   "source": [
    "create_datadict_entry(var)"
   ]
  },
  {
   "cell_type": "code",
   "execution_count": 51,
   "metadata": {
    "ExecuteTime": {
     "end_time": "2020-11-25T18:17:21.115819Z",
     "start_time": "2020-11-25T18:17:21.090318Z"
    },
    "hidden": true
   },
   "outputs": [
    {
     "data": {
      "text/plain": [
       "{'var_1': {'relevant': True,\n",
       "  'data_type': 'not_specified',\n",
       "  'model_relevant': 'False'}}"
      ]
     },
     "execution_count": 51,
     "metadata": {},
     "output_type": "execute_result"
    }
   ],
   "source": [
    "x_dict"
   ]
  },
  {
   "cell_type": "markdown",
   "metadata": {
    "hidden": true
   },
   "source": [
    "---\n",
    "---"
   ]
  }
 ],
 "metadata": {
  "kernelspec": {
   "display_name": "Python 3",
   "language": "python",
   "name": "python3"
  },
  "language_info": {
   "codemirror_mode": {
    "name": "ipython",
    "version": 3
   },
   "file_extension": ".py",
   "mimetype": "text/x-python",
   "name": "python",
   "nbconvert_exporter": "python",
   "pygments_lexer": "ipython3",
   "version": "3.7.4"
  }
 },
 "nbformat": 4,
 "nbformat_minor": 4
}
