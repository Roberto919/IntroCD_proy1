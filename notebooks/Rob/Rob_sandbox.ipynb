{
 "cells": [
  {
   "cell_type": "markdown",
   "metadata": {},
   "source": [
    "# Rob's sandbox"
   ]
  },
  {
   "cell_type": "markdown",
   "metadata": {},
   "source": [
    "---"
   ]
  },
  {
   "cell_type": "markdown",
   "metadata": {},
   "source": [
    "# Imports"
   ]
  },
  {
   "cell_type": "markdown",
   "metadata": {},
   "source": [
    "#### Python modules"
   ]
  },
  {
   "cell_type": "code",
   "execution_count": null,
   "metadata": {
    "ExecuteTime": {
     "end_time": "2020-11-24T20:29:28.784205Z",
     "start_time": "2020-11-24T20:20:20.817Z"
    }
   },
   "outputs": [],
   "source": [
    "import sys\n",
    "\n",
    "from sklearn.ensemble import RandomForestClassifier\n",
    "from sklearn.model_selection import GridSearchCV\n",
    "from sklearn.model_selection import GridSearchCV\n",
    "from sklearn.model_selection import (\n",
    "    train_test_split,\n",
    "    cross_val_score\n",
    ")\n",
    "from sklearn.inspection import permutation_importance\n",
    "\n",
    "import matplotlib.pyplot as plt\n",
    "%matplotlib inline"
   ]
  },
  {
   "cell_type": "markdown",
   "metadata": {},
   "source": [
    "# Ancillary modules"
   ]
  },
  {
   "cell_type": "markdown",
   "metadata": {},
   "source": [
    "#### Support adjustments"
   ]
  },
  {
   "cell_type": "code",
   "execution_count": 2,
   "metadata": {
    "ExecuteTime": {
     "end_time": "2020-11-24T19:44:17.012714Z",
     "start_time": "2020-11-24T19:44:17.010416Z"
    }
   },
   "outputs": [],
   "source": [
    "sys.path.append(\"../..\")"
   ]
  },
  {
   "cell_type": "markdown",
   "metadata": {},
   "source": [
    "#### Modules"
   ]
  },
  {
   "cell_type": "code",
   "execution_count": 3,
   "metadata": {
    "ExecuteTime": {
     "end_time": "2020-11-24T19:44:17.862556Z",
     "start_time": "2020-11-24T19:44:17.559682Z"
    }
   },
   "outputs": [],
   "source": [
    "%load_ext autoreload\n",
    "%autoreload 2\n",
    "\n",
    "from src.utils.params import (\n",
    "    param_grid,\n",
    "    max_features,\n",
    "    n_estimators,\n",
    "    cv_rounds,\n",
    "    evaluation_metric,\n",
    "    transformation_pickle_loc,\n",
    "    fe_pickle_loc\n",
    ")\n",
    "\n",
    "from src.pipelines.ingestion import (\n",
    "    ingest\n",
    ")\n",
    "\n",
    "from src.pipelines.transformation import (\n",
    "    transform\n",
    ")\n",
    "\n",
    "from src.pipelines.feature_engineering import (\n",
    "    load_transformation,\n",
    "    feature_generation,\n",
    "    feature_selection,\n",
    "    save_fe,\n",
    "    feature_engineering\n",
    ")\n",
    "\n",
    "from proyecto_1 import (\n",
    "    main\n",
    ")"
   ]
  },
  {
   "cell_type": "markdown",
   "metadata": {},
   "source": [
    "---"
   ]
  },
  {
   "cell_type": "markdown",
   "metadata": {},
   "source": [
    "# Tests"
   ]
  },
  {
   "cell_type": "markdown",
   "metadata": {},
   "source": [
    "## Feature engineering"
   ]
  },
  {
   "cell_type": "markdown",
   "metadata": {},
   "source": [
    "#### Loading transformation pickle"
   ]
  },
  {
   "cell_type": "code",
   "execution_count": 4,
   "metadata": {
    "ExecuteTime": {
     "end_time": "2020-11-24T19:44:21.602491Z",
     "start_time": "2020-11-24T19:44:20.193228Z"
    }
   },
   "outputs": [],
   "source": [
    "df = load_transformation(\"../../\" + transformation_pickle_loc)"
   ]
  },
  {
   "cell_type": "code",
   "execution_count": 5,
   "metadata": {
    "ExecuteTime": {
     "end_time": "2020-11-24T19:44:21.663290Z",
     "start_time": "2020-11-24T19:44:21.605220Z"
    },
    "scrolled": true
   },
   "outputs": [
    {
     "data": {
      "text/html": [
       "<div>\n",
       "<style scoped>\n",
       "    .dataframe tbody tr th:only-of-type {\n",
       "        vertical-align: middle;\n",
       "    }\n",
       "\n",
       "    .dataframe tbody tr th {\n",
       "        vertical-align: top;\n",
       "    }\n",
       "\n",
       "    .dataframe thead th {\n",
       "        text-align: right;\n",
       "    }\n",
       "</style>\n",
       "<table border=\"1\" class=\"dataframe\">\n",
       "  <thead>\n",
       "    <tr style=\"text-align: right;\">\n",
       "      <th></th>\n",
       "      <th>fecha_creacion</th>\n",
       "      <th>hora_creacion</th>\n",
       "      <th>dia_semana</th>\n",
       "      <th>codigo_cierre</th>\n",
       "      <th>incidente_c4</th>\n",
       "      <th>latitud</th>\n",
       "      <th>longitud</th>\n",
       "      <th>clas_con_f_alarma</th>\n",
       "      <th>tipo_entrada</th>\n",
       "      <th>label</th>\n",
       "      <th>dia_inicio</th>\n",
       "      <th>mes_inicio</th>\n",
       "      <th>anio_inicio</th>\n",
       "      <th>hora_inicio</th>\n",
       "      <th>min_inicio</th>\n",
       "    </tr>\n",
       "  </thead>\n",
       "  <tbody>\n",
       "    <tr>\n",
       "      <th>0</th>\n",
       "      <td>23/01/2016</td>\n",
       "      <td>22:35:04</td>\n",
       "      <td>Sábado</td>\n",
       "      <td>(A) La unidad de atención a emergencias fue de...</td>\n",
       "      <td>accidente-choque sin lesionados</td>\n",
       "      <td>19.422113</td>\n",
       "      <td>-99.084643</td>\n",
       "      <td>EMERGENCIA</td>\n",
       "      <td>BOTÓN DE AUXILIO</td>\n",
       "      <td>0.0</td>\n",
       "      <td>23</td>\n",
       "      <td>01</td>\n",
       "      <td>2016</td>\n",
       "      <td>22.0</td>\n",
       "      <td>35</td>\n",
       "    </tr>\n",
       "    <tr>\n",
       "      <th>1</th>\n",
       "      <td>23/01/2016</td>\n",
       "      <td>22:50:49</td>\n",
       "      <td>Sábado</td>\n",
       "      <td>(A) La unidad de atención a emergencias fue de...</td>\n",
       "      <td>accidente-choque con lesionados</td>\n",
       "      <td>19.358320</td>\n",
       "      <td>-99.297641</td>\n",
       "      <td>URGENCIAS MEDICAS</td>\n",
       "      <td>BOTÓN DE AUXILIO</td>\n",
       "      <td>0.0</td>\n",
       "      <td>23</td>\n",
       "      <td>01</td>\n",
       "      <td>2016</td>\n",
       "      <td>22.0</td>\n",
       "      <td>50</td>\n",
       "    </tr>\n",
       "    <tr>\n",
       "      <th>2</th>\n",
       "      <td>24/01/2016</td>\n",
       "      <td>09:40:11</td>\n",
       "      <td>Domingo</td>\n",
       "      <td>(N) La unidad de atención a emergencias fue de...</td>\n",
       "      <td>accidente-choque sin lesionados</td>\n",
       "      <td>19.217070</td>\n",
       "      <td>-99.219070</td>\n",
       "      <td>EMERGENCIA</td>\n",
       "      <td>LLAMADA_911_066</td>\n",
       "      <td>1.0</td>\n",
       "      <td>24</td>\n",
       "      <td>01</td>\n",
       "      <td>2016</td>\n",
       "      <td>9.0</td>\n",
       "      <td>40</td>\n",
       "    </tr>\n",
       "    <tr>\n",
       "      <th>3</th>\n",
       "      <td>24/01/2016</td>\n",
       "      <td>22:40:57</td>\n",
       "      <td>Domingo</td>\n",
       "      <td>(N) La unidad de atención a emergencias fue de...</td>\n",
       "      <td>accidente-choque sin lesionados</td>\n",
       "      <td>19.320580</td>\n",
       "      <td>-99.241010</td>\n",
       "      <td>EMERGENCIA</td>\n",
       "      <td>LLAMADA_911_066</td>\n",
       "      <td>1.0</td>\n",
       "      <td>24</td>\n",
       "      <td>01</td>\n",
       "      <td>2016</td>\n",
       "      <td>22.0</td>\n",
       "      <td>40</td>\n",
       "    </tr>\n",
       "    <tr>\n",
       "      <th>4</th>\n",
       "      <td>24/01/2016</td>\n",
       "      <td>04:25:15</td>\n",
       "      <td>Domingo</td>\n",
       "      <td>(A) La unidad de atención a emergencias fue de...</td>\n",
       "      <td>accidente-choque sin lesionados</td>\n",
       "      <td>19.452900</td>\n",
       "      <td>-99.215870</td>\n",
       "      <td>EMERGENCIA</td>\n",
       "      <td>LLAMADA_911_066</td>\n",
       "      <td>0.0</td>\n",
       "      <td>24</td>\n",
       "      <td>01</td>\n",
       "      <td>2016</td>\n",
       "      <td>4.0</td>\n",
       "      <td>25</td>\n",
       "    </tr>\n",
       "    <tr>\n",
       "      <th>...</th>\n",
       "      <td>...</td>\n",
       "      <td>...</td>\n",
       "      <td>...</td>\n",
       "      <td>...</td>\n",
       "      <td>...</td>\n",
       "      <td>...</td>\n",
       "      <td>...</td>\n",
       "      <td>...</td>\n",
       "      <td>...</td>\n",
       "      <td>...</td>\n",
       "      <td>...</td>\n",
       "      <td>...</td>\n",
       "      <td>...</td>\n",
       "      <td>...</td>\n",
       "      <td>...</td>\n",
       "    </tr>\n",
       "    <tr>\n",
       "      <th>1383133</th>\n",
       "      <td>22/10/2020</td>\n",
       "      <td>16:17:05</td>\n",
       "      <td>Jueves</td>\n",
       "      <td>(A) La unidad de atención a emergencias fue de...</td>\n",
       "      <td>lesionado-atropellado</td>\n",
       "      <td>19.486310</td>\n",
       "      <td>-99.118120</td>\n",
       "      <td>URGENCIAS MEDICAS</td>\n",
       "      <td>BOTÓN DE AUXILIO</td>\n",
       "      <td>0.0</td>\n",
       "      <td>22</td>\n",
       "      <td>10</td>\n",
       "      <td>2020</td>\n",
       "      <td>16.0</td>\n",
       "      <td>17</td>\n",
       "    </tr>\n",
       "    <tr>\n",
       "      <th>1383134</th>\n",
       "      <td>22/10/2020</td>\n",
       "      <td>16:29:13</td>\n",
       "      <td>Jueves</td>\n",
       "      <td>(A) La unidad de atención a emergencias fue de...</td>\n",
       "      <td>accidente-choque con lesionados</td>\n",
       "      <td>19.427274</td>\n",
       "      <td>-99.115814</td>\n",
       "      <td>URGENCIAS MEDICAS</td>\n",
       "      <td>BOTÓN DE AUXILIO</td>\n",
       "      <td>0.0</td>\n",
       "      <td>22</td>\n",
       "      <td>10</td>\n",
       "      <td>2020</td>\n",
       "      <td>16.0</td>\n",
       "      <td>29</td>\n",
       "    </tr>\n",
       "    <tr>\n",
       "      <th>1383135</th>\n",
       "      <td>22/10/2020</td>\n",
       "      <td>12:00:26</td>\n",
       "      <td>Jueves</td>\n",
       "      <td>(D) El incidente reportado se registró en dos ...</td>\n",
       "      <td>accidente-choque sin lesionados</td>\n",
       "      <td>19.467180</td>\n",
       "      <td>-99.175250</td>\n",
       "      <td>EMERGENCIA</td>\n",
       "      <td>LLAMADA_911_066</td>\n",
       "      <td>0.0</td>\n",
       "      <td>22</td>\n",
       "      <td>10</td>\n",
       "      <td>2020</td>\n",
       "      <td>12.0</td>\n",
       "      <td>00</td>\n",
       "    </tr>\n",
       "    <tr>\n",
       "      <th>1383136</th>\n",
       "      <td>22/10/2020</td>\n",
       "      <td>12:01:25</td>\n",
       "      <td>Jueves</td>\n",
       "      <td>(D) El incidente reportado se registró en dos ...</td>\n",
       "      <td>accidente-choque con lesionados</td>\n",
       "      <td>19.427280</td>\n",
       "      <td>-99.096860</td>\n",
       "      <td>URGENCIAS MEDICAS</td>\n",
       "      <td>LLAMADA_911_066</td>\n",
       "      <td>0.0</td>\n",
       "      <td>22</td>\n",
       "      <td>10</td>\n",
       "      <td>2020</td>\n",
       "      <td>12.0</td>\n",
       "      <td>01</td>\n",
       "    </tr>\n",
       "    <tr>\n",
       "      <th>1383137</th>\n",
       "      <td>22/10/2020</td>\n",
       "      <td>16:05:47</td>\n",
       "      <td>Jueves</td>\n",
       "      <td>(D) El incidente reportado se registró en dos ...</td>\n",
       "      <td>accidente-choque sin lesionados</td>\n",
       "      <td>19.345780</td>\n",
       "      <td>-99.062980</td>\n",
       "      <td>EMERGENCIA</td>\n",
       "      <td>LLAMADA_911_066</td>\n",
       "      <td>0.0</td>\n",
       "      <td>22</td>\n",
       "      <td>10</td>\n",
       "      <td>2020</td>\n",
       "      <td>16.0</td>\n",
       "      <td>05</td>\n",
       "    </tr>\n",
       "  </tbody>\n",
       "</table>\n",
       "<p>1383138 rows × 15 columns</p>\n",
       "</div>"
      ],
      "text/plain": [
       "        fecha_creacion hora_creacion dia_semana  \\\n",
       "0           23/01/2016      22:35:04     Sábado   \n",
       "1           23/01/2016      22:50:49     Sábado   \n",
       "2           24/01/2016      09:40:11    Domingo   \n",
       "3           24/01/2016      22:40:57    Domingo   \n",
       "4           24/01/2016      04:25:15    Domingo   \n",
       "...                ...           ...        ...   \n",
       "1383133     22/10/2020      16:17:05     Jueves   \n",
       "1383134     22/10/2020      16:29:13     Jueves   \n",
       "1383135     22/10/2020      12:00:26     Jueves   \n",
       "1383136     22/10/2020      12:01:25     Jueves   \n",
       "1383137     22/10/2020      16:05:47     Jueves   \n",
       "\n",
       "                                             codigo_cierre  \\\n",
       "0        (A) La unidad de atención a emergencias fue de...   \n",
       "1        (A) La unidad de atención a emergencias fue de...   \n",
       "2        (N) La unidad de atención a emergencias fue de...   \n",
       "3        (N) La unidad de atención a emergencias fue de...   \n",
       "4        (A) La unidad de atención a emergencias fue de...   \n",
       "...                                                    ...   \n",
       "1383133  (A) La unidad de atención a emergencias fue de...   \n",
       "1383134  (A) La unidad de atención a emergencias fue de...   \n",
       "1383135  (D) El incidente reportado se registró en dos ...   \n",
       "1383136  (D) El incidente reportado se registró en dos ...   \n",
       "1383137  (D) El incidente reportado se registró en dos ...   \n",
       "\n",
       "                            incidente_c4    latitud   longitud  \\\n",
       "0        accidente-choque sin lesionados  19.422113 -99.084643   \n",
       "1        accidente-choque con lesionados  19.358320 -99.297641   \n",
       "2        accidente-choque sin lesionados  19.217070 -99.219070   \n",
       "3        accidente-choque sin lesionados  19.320580 -99.241010   \n",
       "4        accidente-choque sin lesionados  19.452900 -99.215870   \n",
       "...                                  ...        ...        ...   \n",
       "1383133            lesionado-atropellado  19.486310 -99.118120   \n",
       "1383134  accidente-choque con lesionados  19.427274 -99.115814   \n",
       "1383135  accidente-choque sin lesionados  19.467180 -99.175250   \n",
       "1383136  accidente-choque con lesionados  19.427280 -99.096860   \n",
       "1383137  accidente-choque sin lesionados  19.345780 -99.062980   \n",
       "\n",
       "         clas_con_f_alarma      tipo_entrada  label dia_inicio mes_inicio  \\\n",
       "0               EMERGENCIA  BOTÓN DE AUXILIO    0.0         23         01   \n",
       "1        URGENCIAS MEDICAS  BOTÓN DE AUXILIO    0.0         23         01   \n",
       "2               EMERGENCIA   LLAMADA_911_066    1.0         24         01   \n",
       "3               EMERGENCIA   LLAMADA_911_066    1.0         24         01   \n",
       "4               EMERGENCIA   LLAMADA_911_066    0.0         24         01   \n",
       "...                    ...               ...    ...        ...        ...   \n",
       "1383133  URGENCIAS MEDICAS  BOTÓN DE AUXILIO    0.0         22         10   \n",
       "1383134  URGENCIAS MEDICAS  BOTÓN DE AUXILIO    0.0         22         10   \n",
       "1383135         EMERGENCIA   LLAMADA_911_066    0.0         22         10   \n",
       "1383136  URGENCIAS MEDICAS   LLAMADA_911_066    0.0         22         10   \n",
       "1383137         EMERGENCIA   LLAMADA_911_066    0.0         22         10   \n",
       "\n",
       "        anio_inicio  hora_inicio min_inicio  \n",
       "0              2016         22.0         35  \n",
       "1              2016         22.0         50  \n",
       "2              2016          9.0         40  \n",
       "3              2016         22.0         40  \n",
       "4              2016          4.0         25  \n",
       "...             ...          ...        ...  \n",
       "1383133        2020         16.0         17  \n",
       "1383134        2020         16.0         29  \n",
       "1383135        2020         12.0         00  \n",
       "1383136        2020         12.0         01  \n",
       "1383137        2020         16.0         05  \n",
       "\n",
       "[1383138 rows x 15 columns]"
      ]
     },
     "execution_count": 5,
     "metadata": {},
     "output_type": "execute_result"
    }
   ],
   "source": [
    "df"
   ]
  },
  {
   "cell_type": "markdown",
   "metadata": {},
   "source": [
    "#### Processing data for model"
   ]
  },
  {
   "cell_type": "code",
   "execution_count": 18,
   "metadata": {
    "ExecuteTime": {
     "end_time": "2020-11-24T20:01:36.056929Z",
     "start_time": "2020-11-24T20:01:34.263659Z"
    }
   },
   "outputs": [
    {
     "name": "stdout",
     "output_type": "stream",
     "text": [
      "\n",
      "++ List of categorical variables that will be processed through the pipeline (4) are:\n",
      "    1. codigo_cierre\n",
      "    2. incidente_c4\n",
      "    3. clas_con_f_alarma\n",
      "    4. tipo_entrada\n"
     ]
    }
   ],
   "source": [
    "df_features_prc, df_labels = feature_generation(df)"
   ]
  },
  {
   "cell_type": "markdown",
   "metadata": {},
   "source": [
    "#### Training, executing and evaluating model"
   ]
  },
  {
   "cell_type": "code",
   "execution_count": 19,
   "metadata": {
    "ExecuteTime": {
     "end_time": "2020-11-24T20:01:42.769409Z",
     "start_time": "2020-11-24T20:01:42.733402Z"
    },
    "scrolled": true
   },
   "outputs": [],
   "source": [
    "model = RandomForestClassifier(max_features=max_features, n_estimators=n_estimators)"
   ]
  },
  {
   "cell_type": "code",
   "execution_count": 20,
   "metadata": {
    "ExecuteTime": {
     "end_time": "2020-11-24T20:02:29.517185Z",
     "start_time": "2020-11-24T20:01:44.465117Z"
    }
   },
   "outputs": [
    {
     "data": {
      "text/plain": [
       "RandomForestClassifier(max_features=6)"
      ]
     },
     "execution_count": 20,
     "metadata": {},
     "output_type": "execute_result"
    }
   ],
   "source": [
    "model.fit(df_features_prc, df_labels)"
   ]
  },
  {
   "cell_type": "code",
   "execution_count": 21,
   "metadata": {
    "ExecuteTime": {
     "end_time": "2020-11-24T20:09:08.574357Z",
     "start_time": "2020-11-24T20:02:29.520471Z"
    }
   },
   "outputs": [
    {
     "name": "stdout",
     "output_type": "stream",
     "text": [
      "Scores: [1.         1.         0.99999277 1.         1.         1.\n",
      " 1.         1.         1.         1.        ]\n",
      "Mean: 0.999999277007389\n",
      "Standard deviation: 2.168977833039154e-06\n"
     ]
    }
   ],
   "source": [
    "cv_scores = cross_val_score(\n",
    "    model,\n",
    "    df_features_prc,\n",
    "    df_labels,\n",
    "    scoring=evaluation_metric,\n",
    "    cv=cv_rounds\n",
    ")\n",
    "\n",
    "print(\"Scores:\", cv_scores)\n",
    "print(\"Mean:\", cv_scores.mean())\n",
    "print(\"Standard deviation:\", cv_scores.std())"
   ]
  },
  {
   "cell_type": "code",
   "execution_count": 35,
   "metadata": {
    "ExecuteTime": {
     "end_time": "2020-11-24T20:39:38.128869Z",
     "start_time": "2020-11-24T20:39:38.109011Z"
    }
   },
   "outputs": [
    {
     "data": {
      "text/plain": [
       "[1.0, 1.0, 0.9999927700738899, 1.0, 1.0, 1.0, 1.0, 1.0, 1.0, 1.0]"
      ]
     },
     "execution_count": 35,
     "metadata": {},
     "output_type": "execute_result"
    }
   ],
   "source": [
    "list(cv_scores)"
   ]
  },
  {
   "cell_type": "code",
   "execution_count": 43,
   "metadata": {
    "ExecuteTime": {
     "end_time": "2020-11-24T20:42:37.360984Z",
     "start_time": "2020-11-24T20:42:37.338121Z"
    }
   },
   "outputs": [
    {
     "name": "stdout",
     "output_type": "stream",
     "text": [
      "\n",
      "++ Model performance metrics:\n",
      "\n",
      "    ++++ Cross validation scores:\n",
      "        Round 1 -> 1.0\n",
      "        Round 2 -> 1.0\n",
      "        Round 3 -> 0.9999927700738899\n",
      "        Round 4 -> 1.0\n",
      "        Round 5 -> 1.0\n",
      "        Round 6 -> 1.0\n",
      "        Round 7 -> 1.0\n",
      "        Round 8 -> 1.0\n",
      "        Round 9 -> 1.0\n",
      "        Round 10 -> 1.0\n",
      "\n",
      "\n",
      "    ++++ Cross validation mean score: 0.999999277007389 \n",
      "\n",
      "    ++++ Cross validation score standard deviation:  2.168977833039154e-06\n"
     ]
    }
   ],
   "source": [
    "print(\"\\n++ Model performance metrics:\\n\")\n",
    "print(\"    ++++ Cross validation scores:\")\n",
    "i = 1\n",
    "for cvs in list(cv_scores):\n",
    "    print(\"        Round {} -> {}\".format(i, cvs))\n",
    "    i += 1\n",
    "print(\"\\n\")\n",
    "print(\"    ++++ Cross validation mean score: {} \\n\".format(cv_scores.mean()))\n",
    "print(\"    ++++ Cross validation score standard deviation: \", cv_scores.std())"
   ]
  },
  {
   "cell_type": "markdown",
   "metadata": {},
   "source": [
    "#### Identifying most important variables"
   ]
  },
  {
   "cell_type": "code",
   "execution_count": 28,
   "metadata": {
    "ExecuteTime": {
     "end_time": "2020-11-24T20:29:28.780536Z",
     "start_time": "2020-11-24T20:19:45.286404Z"
    },
    "scrolled": true
   },
   "outputs": [
    {
     "ename": "KeyboardInterrupt",
     "evalue": "",
     "output_type": "error",
     "traceback": [
      "\u001b[0;31m---------------------------------------------------------------------------\u001b[0m",
      "\u001b[0;31mKeyboardInterrupt\u001b[0m                         Traceback (most recent call last)",
      "\u001b[0;32m<ipython-input-28-e9fd136d34aa>\u001b[0m in \u001b[0;36m<module>\u001b[0;34m\u001b[0m\n\u001b[1;32m      5\u001b[0m     \u001b[0mn_repeats\u001b[0m\u001b[0;34m=\u001b[0m\u001b[0;36m10\u001b[0m\u001b[0;34m,\u001b[0m\u001b[0;34m\u001b[0m\u001b[0;34m\u001b[0m\u001b[0m\n\u001b[1;32m      6\u001b[0m     \u001b[0mrandom_state\u001b[0m\u001b[0;34m=\u001b[0m\u001b[0;36m42\u001b[0m\u001b[0;34m,\u001b[0m\u001b[0;34m\u001b[0m\u001b[0;34m\u001b[0m\u001b[0m\n\u001b[0;32m----> 7\u001b[0;31m     \u001b[0mn_jobs\u001b[0m\u001b[0;34m=\u001b[0m\u001b[0;36m2\u001b[0m\u001b[0;34m\u001b[0m\u001b[0;34m\u001b[0m\u001b[0m\n\u001b[0m\u001b[1;32m      8\u001b[0m )\n\u001b[1;32m      9\u001b[0m \u001b[0;34m\u001b[0m\u001b[0m\n",
      "\u001b[0;32m~/.pyenv/versions/3.7.4/envs/itam_intro_to_ds/lib/python3.7/site-packages/sklearn/utils/validation.py\u001b[0m in \u001b[0;36minner_f\u001b[0;34m(*args, **kwargs)\u001b[0m\n\u001b[1;32m     70\u001b[0m                           FutureWarning)\n\u001b[1;32m     71\u001b[0m         \u001b[0mkwargs\u001b[0m\u001b[0;34m.\u001b[0m\u001b[0mupdate\u001b[0m\u001b[0;34m(\u001b[0m\u001b[0;34m{\u001b[0m\u001b[0mk\u001b[0m\u001b[0;34m:\u001b[0m \u001b[0marg\u001b[0m \u001b[0;32mfor\u001b[0m \u001b[0mk\u001b[0m\u001b[0;34m,\u001b[0m \u001b[0marg\u001b[0m \u001b[0;32min\u001b[0m \u001b[0mzip\u001b[0m\u001b[0;34m(\u001b[0m\u001b[0msig\u001b[0m\u001b[0;34m.\u001b[0m\u001b[0mparameters\u001b[0m\u001b[0;34m,\u001b[0m \u001b[0margs\u001b[0m\u001b[0;34m)\u001b[0m\u001b[0;34m}\u001b[0m\u001b[0;34m)\u001b[0m\u001b[0;34m\u001b[0m\u001b[0;34m\u001b[0m\u001b[0m\n\u001b[0;32m---> 72\u001b[0;31m         \u001b[0;32mreturn\u001b[0m \u001b[0mf\u001b[0m\u001b[0;34m(\u001b[0m\u001b[0;34m**\u001b[0m\u001b[0mkwargs\u001b[0m\u001b[0;34m)\u001b[0m\u001b[0;34m\u001b[0m\u001b[0;34m\u001b[0m\u001b[0m\n\u001b[0m\u001b[1;32m     73\u001b[0m     \u001b[0;32mreturn\u001b[0m \u001b[0minner_f\u001b[0m\u001b[0;34m\u001b[0m\u001b[0;34m\u001b[0m\u001b[0m\n\u001b[1;32m     74\u001b[0m \u001b[0;34m\u001b[0m\u001b[0m\n",
      "\u001b[0;32m~/.pyenv/versions/3.7.4/envs/itam_intro_to_ds/lib/python3.7/site-packages/sklearn/inspection/_permutation_importance.py\u001b[0m in \u001b[0;36mpermutation_importance\u001b[0;34m(estimator, X, y, scoring, n_repeats, n_jobs, random_state)\u001b[0m\n\u001b[1;32m    135\u001b[0m     scores = Parallel(n_jobs=n_jobs)(delayed(_calculate_permutation_scores)(\n\u001b[1;32m    136\u001b[0m         \u001b[0mestimator\u001b[0m\u001b[0;34m,\u001b[0m \u001b[0mX\u001b[0m\u001b[0;34m,\u001b[0m \u001b[0my\u001b[0m\u001b[0;34m,\u001b[0m \u001b[0mcol_idx\u001b[0m\u001b[0;34m,\u001b[0m \u001b[0mrandom_seed\u001b[0m\u001b[0;34m,\u001b[0m \u001b[0mn_repeats\u001b[0m\u001b[0;34m,\u001b[0m \u001b[0mscorer\u001b[0m\u001b[0;34m\u001b[0m\u001b[0;34m\u001b[0m\u001b[0m\n\u001b[0;32m--> 137\u001b[0;31m     ) for col_idx in range(X.shape[1]))\n\u001b[0m\u001b[1;32m    138\u001b[0m \u001b[0;34m\u001b[0m\u001b[0m\n\u001b[1;32m    139\u001b[0m     \u001b[0mimportances\u001b[0m \u001b[0;34m=\u001b[0m \u001b[0mbaseline_score\u001b[0m \u001b[0;34m-\u001b[0m \u001b[0mnp\u001b[0m\u001b[0;34m.\u001b[0m\u001b[0marray\u001b[0m\u001b[0;34m(\u001b[0m\u001b[0mscores\u001b[0m\u001b[0;34m)\u001b[0m\u001b[0;34m\u001b[0m\u001b[0;34m\u001b[0m\u001b[0m\n",
      "\u001b[0;32m~/.pyenv/versions/3.7.4/envs/itam_intro_to_ds/lib/python3.7/site-packages/joblib/parallel.py\u001b[0m in \u001b[0;36m__call__\u001b[0;34m(self, iterable)\u001b[0m\n\u001b[1;32m   1040\u001b[0m \u001b[0;34m\u001b[0m\u001b[0m\n\u001b[1;32m   1041\u001b[0m             \u001b[0;32mwith\u001b[0m \u001b[0mself\u001b[0m\u001b[0;34m.\u001b[0m\u001b[0m_backend\u001b[0m\u001b[0;34m.\u001b[0m\u001b[0mretrieval_context\u001b[0m\u001b[0;34m(\u001b[0m\u001b[0;34m)\u001b[0m\u001b[0;34m:\u001b[0m\u001b[0;34m\u001b[0m\u001b[0;34m\u001b[0m\u001b[0m\n\u001b[0;32m-> 1042\u001b[0;31m                 \u001b[0mself\u001b[0m\u001b[0;34m.\u001b[0m\u001b[0mretrieve\u001b[0m\u001b[0;34m(\u001b[0m\u001b[0;34m)\u001b[0m\u001b[0;34m\u001b[0m\u001b[0;34m\u001b[0m\u001b[0m\n\u001b[0m\u001b[1;32m   1043\u001b[0m             \u001b[0;31m# Make sure that we get a last message telling us we are done\u001b[0m\u001b[0;34m\u001b[0m\u001b[0;34m\u001b[0m\u001b[0;34m\u001b[0m\u001b[0m\n\u001b[1;32m   1044\u001b[0m             \u001b[0melapsed_time\u001b[0m \u001b[0;34m=\u001b[0m \u001b[0mtime\u001b[0m\u001b[0;34m.\u001b[0m\u001b[0mtime\u001b[0m\u001b[0;34m(\u001b[0m\u001b[0;34m)\u001b[0m \u001b[0;34m-\u001b[0m \u001b[0mself\u001b[0m\u001b[0;34m.\u001b[0m\u001b[0m_start_time\u001b[0m\u001b[0;34m\u001b[0m\u001b[0;34m\u001b[0m\u001b[0m\n",
      "\u001b[0;32m~/.pyenv/versions/3.7.4/envs/itam_intro_to_ds/lib/python3.7/site-packages/joblib/parallel.py\u001b[0m in \u001b[0;36mretrieve\u001b[0;34m(self)\u001b[0m\n\u001b[1;32m    919\u001b[0m             \u001b[0;32mtry\u001b[0m\u001b[0;34m:\u001b[0m\u001b[0;34m\u001b[0m\u001b[0;34m\u001b[0m\u001b[0m\n\u001b[1;32m    920\u001b[0m                 \u001b[0;32mif\u001b[0m \u001b[0mgetattr\u001b[0m\u001b[0;34m(\u001b[0m\u001b[0mself\u001b[0m\u001b[0;34m.\u001b[0m\u001b[0m_backend\u001b[0m\u001b[0;34m,\u001b[0m \u001b[0;34m'supports_timeout'\u001b[0m\u001b[0;34m,\u001b[0m \u001b[0;32mFalse\u001b[0m\u001b[0;34m)\u001b[0m\u001b[0;34m:\u001b[0m\u001b[0;34m\u001b[0m\u001b[0;34m\u001b[0m\u001b[0m\n\u001b[0;32m--> 921\u001b[0;31m                     \u001b[0mself\u001b[0m\u001b[0;34m.\u001b[0m\u001b[0m_output\u001b[0m\u001b[0;34m.\u001b[0m\u001b[0mextend\u001b[0m\u001b[0;34m(\u001b[0m\u001b[0mjob\u001b[0m\u001b[0;34m.\u001b[0m\u001b[0mget\u001b[0m\u001b[0;34m(\u001b[0m\u001b[0mtimeout\u001b[0m\u001b[0;34m=\u001b[0m\u001b[0mself\u001b[0m\u001b[0;34m.\u001b[0m\u001b[0mtimeout\u001b[0m\u001b[0;34m)\u001b[0m\u001b[0;34m)\u001b[0m\u001b[0;34m\u001b[0m\u001b[0;34m\u001b[0m\u001b[0m\n\u001b[0m\u001b[1;32m    922\u001b[0m                 \u001b[0;32melse\u001b[0m\u001b[0;34m:\u001b[0m\u001b[0;34m\u001b[0m\u001b[0;34m\u001b[0m\u001b[0m\n\u001b[1;32m    923\u001b[0m                     \u001b[0mself\u001b[0m\u001b[0;34m.\u001b[0m\u001b[0m_output\u001b[0m\u001b[0;34m.\u001b[0m\u001b[0mextend\u001b[0m\u001b[0;34m(\u001b[0m\u001b[0mjob\u001b[0m\u001b[0;34m.\u001b[0m\u001b[0mget\u001b[0m\u001b[0;34m(\u001b[0m\u001b[0;34m)\u001b[0m\u001b[0;34m)\u001b[0m\u001b[0;34m\u001b[0m\u001b[0;34m\u001b[0m\u001b[0m\n",
      "\u001b[0;32m~/.pyenv/versions/3.7.4/envs/itam_intro_to_ds/lib/python3.7/site-packages/joblib/_parallel_backends.py\u001b[0m in \u001b[0;36mwrap_future_result\u001b[0;34m(future, timeout)\u001b[0m\n\u001b[1;32m    540\u001b[0m         AsyncResults.get from multiprocessing.\"\"\"\n\u001b[1;32m    541\u001b[0m         \u001b[0;32mtry\u001b[0m\u001b[0;34m:\u001b[0m\u001b[0;34m\u001b[0m\u001b[0;34m\u001b[0m\u001b[0m\n\u001b[0;32m--> 542\u001b[0;31m             \u001b[0;32mreturn\u001b[0m \u001b[0mfuture\u001b[0m\u001b[0;34m.\u001b[0m\u001b[0mresult\u001b[0m\u001b[0;34m(\u001b[0m\u001b[0mtimeout\u001b[0m\u001b[0;34m=\u001b[0m\u001b[0mtimeout\u001b[0m\u001b[0;34m)\u001b[0m\u001b[0;34m\u001b[0m\u001b[0;34m\u001b[0m\u001b[0m\n\u001b[0m\u001b[1;32m    543\u001b[0m         \u001b[0;32mexcept\u001b[0m \u001b[0mCfTimeoutError\u001b[0m \u001b[0;32mas\u001b[0m \u001b[0me\u001b[0m\u001b[0;34m:\u001b[0m\u001b[0;34m\u001b[0m\u001b[0;34m\u001b[0m\u001b[0m\n\u001b[1;32m    544\u001b[0m             \u001b[0;32mraise\u001b[0m \u001b[0mTimeoutError\u001b[0m \u001b[0;32mfrom\u001b[0m \u001b[0me\u001b[0m\u001b[0;34m\u001b[0m\u001b[0;34m\u001b[0m\u001b[0m\n",
      "\u001b[0;32m~/.pyenv/versions/3.7.4/lib/python3.7/concurrent/futures/_base.py\u001b[0m in \u001b[0;36mresult\u001b[0;34m(self, timeout)\u001b[0m\n\u001b[1;32m    428\u001b[0m                 \u001b[0;32mreturn\u001b[0m \u001b[0mself\u001b[0m\u001b[0;34m.\u001b[0m\u001b[0m__get_result\u001b[0m\u001b[0;34m(\u001b[0m\u001b[0;34m)\u001b[0m\u001b[0;34m\u001b[0m\u001b[0;34m\u001b[0m\u001b[0m\n\u001b[1;32m    429\u001b[0m \u001b[0;34m\u001b[0m\u001b[0m\n\u001b[0;32m--> 430\u001b[0;31m             \u001b[0mself\u001b[0m\u001b[0;34m.\u001b[0m\u001b[0m_condition\u001b[0m\u001b[0;34m.\u001b[0m\u001b[0mwait\u001b[0m\u001b[0;34m(\u001b[0m\u001b[0mtimeout\u001b[0m\u001b[0;34m)\u001b[0m\u001b[0;34m\u001b[0m\u001b[0;34m\u001b[0m\u001b[0m\n\u001b[0m\u001b[1;32m    431\u001b[0m \u001b[0;34m\u001b[0m\u001b[0m\n\u001b[1;32m    432\u001b[0m             \u001b[0;32mif\u001b[0m \u001b[0mself\u001b[0m\u001b[0;34m.\u001b[0m\u001b[0m_state\u001b[0m \u001b[0;32min\u001b[0m \u001b[0;34m[\u001b[0m\u001b[0mCANCELLED\u001b[0m\u001b[0;34m,\u001b[0m \u001b[0mCANCELLED_AND_NOTIFIED\u001b[0m\u001b[0;34m]\u001b[0m\u001b[0;34m:\u001b[0m\u001b[0;34m\u001b[0m\u001b[0;34m\u001b[0m\u001b[0m\n",
      "\u001b[0;32m~/.pyenv/versions/3.7.4/lib/python3.7/threading.py\u001b[0m in \u001b[0;36mwait\u001b[0;34m(self, timeout)\u001b[0m\n\u001b[1;32m    294\u001b[0m         \u001b[0;32mtry\u001b[0m\u001b[0;34m:\u001b[0m    \u001b[0;31m# restore state no matter what (e.g., KeyboardInterrupt)\u001b[0m\u001b[0;34m\u001b[0m\u001b[0;34m\u001b[0m\u001b[0m\n\u001b[1;32m    295\u001b[0m             \u001b[0;32mif\u001b[0m \u001b[0mtimeout\u001b[0m \u001b[0;32mis\u001b[0m \u001b[0;32mNone\u001b[0m\u001b[0;34m:\u001b[0m\u001b[0;34m\u001b[0m\u001b[0;34m\u001b[0m\u001b[0m\n\u001b[0;32m--> 296\u001b[0;31m                 \u001b[0mwaiter\u001b[0m\u001b[0;34m.\u001b[0m\u001b[0macquire\u001b[0m\u001b[0;34m(\u001b[0m\u001b[0;34m)\u001b[0m\u001b[0;34m\u001b[0m\u001b[0;34m\u001b[0m\u001b[0m\n\u001b[0m\u001b[1;32m    297\u001b[0m                 \u001b[0mgotit\u001b[0m \u001b[0;34m=\u001b[0m \u001b[0;32mTrue\u001b[0m\u001b[0;34m\u001b[0m\u001b[0;34m\u001b[0m\u001b[0m\n\u001b[1;32m    298\u001b[0m             \u001b[0;32melse\u001b[0m\u001b[0;34m:\u001b[0m\u001b[0;34m\u001b[0m\u001b[0;34m\u001b[0m\u001b[0m\n",
      "\u001b[0;31mKeyboardInterrupt\u001b[0m: "
     ]
    }
   ],
   "source": [
    "result = permutation_importance(\n",
    "    model, \n",
    "    df_features_prc.toarray(), \n",
    "    df_labels, \n",
    "    n_repeats=10,\n",
    "    random_state=42, \n",
    "    n_jobs=2\n",
    ")\n",
    "\n",
    "sorted_idx = result.importances_mean.argsort()"
   ]
  },
  {
   "cell_type": "code",
   "execution_count": null,
   "metadata": {},
   "outputs": [],
   "source": [
    "fig, ax = plt.subplots()\n",
    "\n",
    "ax.boxplot(\n",
    "    result.importances[sorted_idx].T,\n",
    "    vert=False, \n",
    "    labels=X_train.columns[sorted_idx]\n",
    ")\n",
    "\n",
    "ax.set_title(\"Permutation Importances (train set)\")\n",
    "fig.tight_layout()\n",
    "plt.show()"
   ]
  },
  {
   "cell_type": "markdown",
   "metadata": {},
   "source": [
    "---\n",
    "---"
   ]
  }
 ],
 "metadata": {
  "kernelspec": {
   "display_name": "Python 3",
   "language": "python",
   "name": "python3"
  },
  "language_info": {
   "codemirror_mode": {
    "name": "ipython",
    "version": 3
   },
   "file_extension": ".py",
   "mimetype": "text/x-python",
   "name": "python",
   "nbconvert_exporter": "python",
   "pygments_lexer": "ipython3",
   "version": "3.7.4"
  }
 },
 "nbformat": 4,
 "nbformat_minor": 4
}
