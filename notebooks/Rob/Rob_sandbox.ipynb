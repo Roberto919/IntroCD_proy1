{
 "cells": [
  {
   "cell_type": "markdown",
   "metadata": {},
   "source": [
    "# Rob's sandbox"
   ]
  },
  {
   "cell_type": "markdown",
   "metadata": {},
   "source": [
    "---"
   ]
  },
  {
   "cell_type": "markdown",
   "metadata": {},
   "source": [
    "# Imports"
   ]
  },
  {
   "cell_type": "markdown",
   "metadata": {},
   "source": [
    "#### Python modules"
   ]
  },
  {
   "cell_type": "code",
   "execution_count": 65,
   "metadata": {
    "ExecuteTime": {
     "end_time": "2020-12-06T21:40:01.716049Z",
     "start_time": "2020-12-06T21:40:01.656070Z"
    }
   },
   "outputs": [],
   "source": [
    "import sys\n",
    "\n",
    "from sklearn.ensemble import RandomForestClassifier\n",
    "from sklearn.model_selection import GridSearchCV\n",
    "from sklearn.model_selection import GridSearchCV\n",
    "from sklearn.model_selection import (\n",
    "    train_test_split,\n",
    "    cross_val_score\n",
    ")\n",
    "from sklearn.inspection import permutation_importance\n",
    "from sklearn.metrics import confusion_matrix\n",
    "from sklearn.metrics import roc_curve, roc_auc_score\n",
    "from sklearn.metrics import accuracy_score\n",
    "from sklearn.metrics import precision_recall_curve\n",
    "from sklearn.metrics import recall_score\n",
    "\n",
    "import matplotlib.pyplot as plt\n",
    "import seaborn as sns\n",
    "%matplotlib inline\n",
    "\n",
    "import pandas as pd\n",
    "pd.set_option(\"display.max_columns\", 50)\n",
    "\n",
    "import numpy as np"
   ]
  },
  {
   "cell_type": "markdown",
   "metadata": {},
   "source": [
    "# Ancillary modules"
   ]
  },
  {
   "cell_type": "markdown",
   "metadata": {},
   "source": [
    "#### Support adjustments"
   ]
  },
  {
   "cell_type": "code",
   "execution_count": 2,
   "metadata": {
    "ExecuteTime": {
     "end_time": "2020-12-06T20:25:30.562404Z",
     "start_time": "2020-12-06T20:25:30.559850Z"
    }
   },
   "outputs": [],
   "source": [
    "sys.path.append(\"../..\")"
   ]
  },
  {
   "cell_type": "markdown",
   "metadata": {},
   "source": [
    "#### Modules"
   ]
  },
  {
   "cell_type": "code",
   "execution_count": 3,
   "metadata": {
    "ExecuteTime": {
     "end_time": "2020-12-06T20:25:31.217539Z",
     "start_time": "2020-12-06T20:25:31.178951Z"
    }
   },
   "outputs": [],
   "source": [
    "%load_ext autoreload\n",
    "%autoreload 2\n",
    "\n",
    "from src.utils.data_dict import (\n",
    "    data_dict\n",
    ")\n",
    "\n",
    "from src.utils.utils import (\n",
    "    json_dump_dict,\n",
    "    load_df\n",
    ")\n",
    "\n",
    "from src.utils.params import (\n",
    "#     param_grid,\n",
    "#     max_features,\n",
    "#     n_estimators,\n",
    "    evaluation_metric,\n",
    "    feature_importance_theshold,\n",
    "    tag_non_relevant_cats,\n",
    "    ingestion_pickle_loc,\n",
    "    transformation_pickle_loc,\n",
    "    models_pickle_loc,\n",
    "    X_train_pickle_loc,\n",
    "    y_train_pickle_loc,\n",
    "    X_test_pickle_loc,\n",
    "    y_test_pickle_loc,\n",
    "    test_predict_labs_pickle_loc,\n",
    "    test_predict_scores_pickle_loc,\n",
    ")\n",
    "\n",
    "from src.pipelines.ingestion import (\n",
    "    ingest\n",
    ")\n",
    "\n",
    "from src.pipelines.transformation import (\n",
    "    load_ingestion,\n",
    "#     date_transformation,\n",
    "#     hour_transformation,\n",
    "#     categoric_trasformation,\n",
    "    transform\n",
    ")\n",
    "\n",
    "from src.pipelines.feature_engineering import (\n",
    "    load_transformation,\n",
    "    feature_generation,\n",
    "    feature_selection,\n",
    "    save_fe,\n",
    "    feature_engineering,\n",
    "    fe_pickle_loc_imp_features,\n",
    "    fe_pickle_loc_feature_labs\n",
    ")"
   ]
  },
  {
   "cell_type": "markdown",
   "metadata": {},
   "source": [
    "---"
   ]
  },
  {
   "cell_type": "markdown",
   "metadata": {
    "heading_collapsed": true
   },
   "source": [
    "# Original data"
   ]
  },
  {
   "cell_type": "code",
   "execution_count": 50,
   "metadata": {
    "ExecuteTime": {
     "end_time": "2020-12-06T21:15:28.287045Z",
     "start_time": "2020-12-06T21:15:21.257199Z"
    },
    "hidden": true,
    "scrolled": true
   },
   "outputs": [
    {
     "data": {
      "text/html": [
       "<div>\n",
       "<style scoped>\n",
       "    .dataframe tbody tr th:only-of-type {\n",
       "        vertical-align: middle;\n",
       "    }\n",
       "\n",
       "    .dataframe tbody tr th {\n",
       "        vertical-align: top;\n",
       "    }\n",
       "\n",
       "    .dataframe thead th {\n",
       "        text-align: right;\n",
       "    }\n",
       "</style>\n",
       "<table border=\"1\" class=\"dataframe\">\n",
       "  <thead>\n",
       "    <tr style=\"text-align: right;\">\n",
       "      <th></th>\n",
       "      <th>folio</th>\n",
       "      <th>fecha_creacion</th>\n",
       "      <th>hora_creacion</th>\n",
       "      <th>dia_semana</th>\n",
       "      <th>codigo_cierre</th>\n",
       "      <th>fecha_cierre</th>\n",
       "      <th>año_cierre</th>\n",
       "      <th>mes_cierre</th>\n",
       "      <th>hora_cierre</th>\n",
       "      <th>delegacion_inicio</th>\n",
       "      <th>incidente_c4</th>\n",
       "      <th>latitud</th>\n",
       "      <th>longitud</th>\n",
       "      <th>clas_con_f_alarma</th>\n",
       "      <th>tipo_entrada</th>\n",
       "      <th>delegacion_cierre</th>\n",
       "      <th>geopoint</th>\n",
       "      <th>mes</th>\n",
       "    </tr>\n",
       "  </thead>\n",
       "  <tbody>\n",
       "    <tr>\n",
       "      <th>0</th>\n",
       "      <td>GA/160123/05714</td>\n",
       "      <td>23/01/2016</td>\n",
       "      <td>22:35:04</td>\n",
       "      <td>Sábado</td>\n",
       "      <td>(A) La unidad de atención a emergencias fue de...</td>\n",
       "      <td>24/01/2016</td>\n",
       "      <td>2016</td>\n",
       "      <td>Enero</td>\n",
       "      <td>00:21:08</td>\n",
       "      <td>VENUSTIANO CARRANZA</td>\n",
       "      <td>accidente-choque sin lesionados</td>\n",
       "      <td>19.422113</td>\n",
       "      <td>-99.084643</td>\n",
       "      <td>EMERGENCIA</td>\n",
       "      <td>BOTÓN DE AUXILIO</td>\n",
       "      <td>VENUSTIANO CARRANZA</td>\n",
       "      <td>19.422113,-99.084643</td>\n",
       "      <td>1</td>\n",
       "    </tr>\n",
       "    <tr>\n",
       "      <th>1</th>\n",
       "      <td>AO/160123/05826</td>\n",
       "      <td>23/01/2016</td>\n",
       "      <td>22:50:49</td>\n",
       "      <td>Sábado</td>\n",
       "      <td>(A) La unidad de atención a emergencias fue de...</td>\n",
       "      <td>24/01/2016</td>\n",
       "      <td>2016</td>\n",
       "      <td>Enero</td>\n",
       "      <td>04:40:37</td>\n",
       "      <td>CUAJIMALPA</td>\n",
       "      <td>accidente-choque con lesionados</td>\n",
       "      <td>19.358320</td>\n",
       "      <td>-99.297641</td>\n",
       "      <td>URGENCIAS MEDICAS</td>\n",
       "      <td>BOTÓN DE AUXILIO</td>\n",
       "      <td>CUAJIMALPA</td>\n",
       "      <td>19.35832,-99.297641</td>\n",
       "      <td>1</td>\n",
       "    </tr>\n",
       "    <tr>\n",
       "      <th>2</th>\n",
       "      <td>C4/160124/02187</td>\n",
       "      <td>24/01/2016</td>\n",
       "      <td>09:40:11</td>\n",
       "      <td>Domingo</td>\n",
       "      <td>(N) La unidad de atención a emergencias fue de...</td>\n",
       "      <td>24/01/2016</td>\n",
       "      <td>2016</td>\n",
       "      <td>Enero</td>\n",
       "      <td>11:13:03</td>\n",
       "      <td>TLALPAN</td>\n",
       "      <td>accidente-choque sin lesionados</td>\n",
       "      <td>19.217070</td>\n",
       "      <td>-99.219070</td>\n",
       "      <td>EMERGENCIA</td>\n",
       "      <td>LLAMADA DEL 066</td>\n",
       "      <td>TLALPAN</td>\n",
       "      <td>19.21707,-99.21907008</td>\n",
       "      <td>1</td>\n",
       "    </tr>\n",
       "    <tr>\n",
       "      <th>3</th>\n",
       "      <td>C4/160124/05723</td>\n",
       "      <td>24/01/2016</td>\n",
       "      <td>22:40:57</td>\n",
       "      <td>Domingo</td>\n",
       "      <td>(N) La unidad de atención a emergencias fue de...</td>\n",
       "      <td>24/01/2016</td>\n",
       "      <td>2016</td>\n",
       "      <td>Enero</td>\n",
       "      <td>22:55:51</td>\n",
       "      <td>MAGDALENA CONTRERAS</td>\n",
       "      <td>accidente-choque sin lesionados</td>\n",
       "      <td>19.320580</td>\n",
       "      <td>-99.241010</td>\n",
       "      <td>EMERGENCIA</td>\n",
       "      <td>LLAMADA DEL 066</td>\n",
       "      <td>MAGDALENA CONTRERAS</td>\n",
       "      <td>19.32057999,-99.24100992</td>\n",
       "      <td>1</td>\n",
       "    </tr>\n",
       "    <tr>\n",
       "      <th>4</th>\n",
       "      <td>C4/160124/01334</td>\n",
       "      <td>24/01/2016</td>\n",
       "      <td>04:25:15</td>\n",
       "      <td>Domingo</td>\n",
       "      <td>(A) La unidad de atención a emergencias fue de...</td>\n",
       "      <td>24/01/2016</td>\n",
       "      <td>2016</td>\n",
       "      <td>Enero</td>\n",
       "      <td>05:03:59</td>\n",
       "      <td>MIGUEL HIDALGO</td>\n",
       "      <td>accidente-choque sin lesionados</td>\n",
       "      <td>19.452900</td>\n",
       "      <td>-99.215870</td>\n",
       "      <td>EMERGENCIA</td>\n",
       "      <td>LLAMADA DEL 066</td>\n",
       "      <td>MIGUEL HIDALGO</td>\n",
       "      <td>19.45289997,-99.21587004</td>\n",
       "      <td>1</td>\n",
       "    </tr>\n",
       "    <tr>\n",
       "      <th>...</th>\n",
       "      <td>...</td>\n",
       "      <td>...</td>\n",
       "      <td>...</td>\n",
       "      <td>...</td>\n",
       "      <td>...</td>\n",
       "      <td>...</td>\n",
       "      <td>...</td>\n",
       "      <td>...</td>\n",
       "      <td>...</td>\n",
       "      <td>...</td>\n",
       "      <td>...</td>\n",
       "      <td>...</td>\n",
       "      <td>...</td>\n",
       "      <td>...</td>\n",
       "      <td>...</td>\n",
       "      <td>...</td>\n",
       "      <td>...</td>\n",
       "      <td>...</td>\n",
       "    </tr>\n",
       "    <tr>\n",
       "      <th>1383133</th>\n",
       "      <td>GA/201022/03443</td>\n",
       "      <td>22/10/2020</td>\n",
       "      <td>16:17:05</td>\n",
       "      <td>Jueves</td>\n",
       "      <td>(A) La unidad de atención a emergencias fue de...</td>\n",
       "      <td>22/10/2020</td>\n",
       "      <td>2020</td>\n",
       "      <td>Octubre</td>\n",
       "      <td>16:58:49</td>\n",
       "      <td>GUSTAVO A. MADERO</td>\n",
       "      <td>lesionado-atropellado</td>\n",
       "      <td>19.486310</td>\n",
       "      <td>-99.118120</td>\n",
       "      <td>URGENCIAS MEDICAS</td>\n",
       "      <td>BOTÓN DE AUXILIO</td>\n",
       "      <td>GUSTAVO A. MADERO</td>\n",
       "      <td>19.48631004,-99.11811996</td>\n",
       "      <td>10</td>\n",
       "    </tr>\n",
       "    <tr>\n",
       "      <th>1383134</th>\n",
       "      <td>GA/201022/03492</td>\n",
       "      <td>22/10/2020</td>\n",
       "      <td>16:29:13</td>\n",
       "      <td>Jueves</td>\n",
       "      <td>(A) La unidad de atención a emergencias fue de...</td>\n",
       "      <td>22/10/2020</td>\n",
       "      <td>2020</td>\n",
       "      <td>Octubre</td>\n",
       "      <td>18:54:22</td>\n",
       "      <td>VENUSTIANO CARRANZA</td>\n",
       "      <td>accidente-choque con lesionados</td>\n",
       "      <td>19.427274</td>\n",
       "      <td>-99.115814</td>\n",
       "      <td>URGENCIAS MEDICAS</td>\n",
       "      <td>BOTÓN DE AUXILIO</td>\n",
       "      <td>VENUSTIANO CARRANZA</td>\n",
       "      <td>19.427274,-99.115814</td>\n",
       "      <td>10</td>\n",
       "    </tr>\n",
       "    <tr>\n",
       "      <th>1383135</th>\n",
       "      <td>C5/201022/02030</td>\n",
       "      <td>22/10/2020</td>\n",
       "      <td>12:00:26</td>\n",
       "      <td>Jueves</td>\n",
       "      <td>(D) El incidente reportado se registró en dos ...</td>\n",
       "      <td>22/10/2020</td>\n",
       "      <td>2020</td>\n",
       "      <td>Octubre</td>\n",
       "      <td>12:02:30</td>\n",
       "      <td>AZCAPOTZALCO</td>\n",
       "      <td>accidente-choque sin lesionados</td>\n",
       "      <td>19.467180</td>\n",
       "      <td>-99.175250</td>\n",
       "      <td>EMERGENCIA</td>\n",
       "      <td>LLAMADA DEL 911</td>\n",
       "      <td>AZCAPOTZALCO</td>\n",
       "      <td>19.46718,-99.17525016</td>\n",
       "      <td>10</td>\n",
       "    </tr>\n",
       "    <tr>\n",
       "      <th>1383136</th>\n",
       "      <td>C5/201022/02039</td>\n",
       "      <td>22/10/2020</td>\n",
       "      <td>12:01:25</td>\n",
       "      <td>Jueves</td>\n",
       "      <td>(D) El incidente reportado se registró en dos ...</td>\n",
       "      <td>22/10/2020</td>\n",
       "      <td>2020</td>\n",
       "      <td>Octubre</td>\n",
       "      <td>12:05:59</td>\n",
       "      <td>VENUSTIANO CARRANZA</td>\n",
       "      <td>accidente-choque con lesionados</td>\n",
       "      <td>19.427280</td>\n",
       "      <td>-99.096860</td>\n",
       "      <td>URGENCIAS MEDICAS</td>\n",
       "      <td>LLAMADA DEL 911</td>\n",
       "      <td>VENUSTIANO CARRANZA</td>\n",
       "      <td>19.42728003,-99.09686016</td>\n",
       "      <td>10</td>\n",
       "    </tr>\n",
       "    <tr>\n",
       "      <th>1383137</th>\n",
       "      <td>C5/201022/03364</td>\n",
       "      <td>22/10/2020</td>\n",
       "      <td>16:05:47</td>\n",
       "      <td>Jueves</td>\n",
       "      <td>(D) El incidente reportado se registró en dos ...</td>\n",
       "      <td>22/10/2020</td>\n",
       "      <td>2020</td>\n",
       "      <td>Octubre</td>\n",
       "      <td>16:10:13</td>\n",
       "      <td>IZTAPALAPA</td>\n",
       "      <td>accidente-choque sin lesionados</td>\n",
       "      <td>19.345780</td>\n",
       "      <td>-99.062980</td>\n",
       "      <td>EMERGENCIA</td>\n",
       "      <td>LLAMADA DEL 911</td>\n",
       "      <td>IZTAPALAPA</td>\n",
       "      <td>19.34577999,-99.06297984</td>\n",
       "      <td>10</td>\n",
       "    </tr>\n",
       "  </tbody>\n",
       "</table>\n",
       "<p>1383138 rows × 18 columns</p>\n",
       "</div>"
      ],
      "text/plain": [
       "                   folio fecha_creacion hora_creacion dia_semana  \\\n",
       "0        GA/160123/05714     23/01/2016      22:35:04     Sábado   \n",
       "1        AO/160123/05826     23/01/2016      22:50:49     Sábado   \n",
       "2        C4/160124/02187     24/01/2016      09:40:11    Domingo   \n",
       "3        C4/160124/05723     24/01/2016      22:40:57    Domingo   \n",
       "4        C4/160124/01334     24/01/2016      04:25:15    Domingo   \n",
       "...                  ...            ...           ...        ...   \n",
       "1383133  GA/201022/03443     22/10/2020      16:17:05     Jueves   \n",
       "1383134  GA/201022/03492     22/10/2020      16:29:13     Jueves   \n",
       "1383135  C5/201022/02030     22/10/2020      12:00:26     Jueves   \n",
       "1383136  C5/201022/02039     22/10/2020      12:01:25     Jueves   \n",
       "1383137  C5/201022/03364     22/10/2020      16:05:47     Jueves   \n",
       "\n",
       "                                             codigo_cierre fecha_cierre  \\\n",
       "0        (A) La unidad de atención a emergencias fue de...   24/01/2016   \n",
       "1        (A) La unidad de atención a emergencias fue de...   24/01/2016   \n",
       "2        (N) La unidad de atención a emergencias fue de...   24/01/2016   \n",
       "3        (N) La unidad de atención a emergencias fue de...   24/01/2016   \n",
       "4        (A) La unidad de atención a emergencias fue de...   24/01/2016   \n",
       "...                                                    ...          ...   \n",
       "1383133  (A) La unidad de atención a emergencias fue de...   22/10/2020   \n",
       "1383134  (A) La unidad de atención a emergencias fue de...   22/10/2020   \n",
       "1383135  (D) El incidente reportado se registró en dos ...   22/10/2020   \n",
       "1383136  (D) El incidente reportado se registró en dos ...   22/10/2020   \n",
       "1383137  (D) El incidente reportado se registró en dos ...   22/10/2020   \n",
       "\n",
       "         año_cierre mes_cierre hora_cierre    delegacion_inicio  \\\n",
       "0              2016      Enero    00:21:08  VENUSTIANO CARRANZA   \n",
       "1              2016      Enero    04:40:37           CUAJIMALPA   \n",
       "2              2016      Enero    11:13:03              TLALPAN   \n",
       "3              2016      Enero    22:55:51  MAGDALENA CONTRERAS   \n",
       "4              2016      Enero    05:03:59       MIGUEL HIDALGO   \n",
       "...             ...        ...         ...                  ...   \n",
       "1383133        2020    Octubre    16:58:49    GUSTAVO A. MADERO   \n",
       "1383134        2020    Octubre    18:54:22  VENUSTIANO CARRANZA   \n",
       "1383135        2020    Octubre    12:02:30         AZCAPOTZALCO   \n",
       "1383136        2020    Octubre    12:05:59  VENUSTIANO CARRANZA   \n",
       "1383137        2020    Octubre    16:10:13           IZTAPALAPA   \n",
       "\n",
       "                            incidente_c4    latitud   longitud  \\\n",
       "0        accidente-choque sin lesionados  19.422113 -99.084643   \n",
       "1        accidente-choque con lesionados  19.358320 -99.297641   \n",
       "2        accidente-choque sin lesionados  19.217070 -99.219070   \n",
       "3        accidente-choque sin lesionados  19.320580 -99.241010   \n",
       "4        accidente-choque sin lesionados  19.452900 -99.215870   \n",
       "...                                  ...        ...        ...   \n",
       "1383133            lesionado-atropellado  19.486310 -99.118120   \n",
       "1383134  accidente-choque con lesionados  19.427274 -99.115814   \n",
       "1383135  accidente-choque sin lesionados  19.467180 -99.175250   \n",
       "1383136  accidente-choque con lesionados  19.427280 -99.096860   \n",
       "1383137  accidente-choque sin lesionados  19.345780 -99.062980   \n",
       "\n",
       "         clas_con_f_alarma      tipo_entrada    delegacion_cierre  \\\n",
       "0               EMERGENCIA  BOTÓN DE AUXILIO  VENUSTIANO CARRANZA   \n",
       "1        URGENCIAS MEDICAS  BOTÓN DE AUXILIO           CUAJIMALPA   \n",
       "2               EMERGENCIA   LLAMADA DEL 066              TLALPAN   \n",
       "3               EMERGENCIA   LLAMADA DEL 066  MAGDALENA CONTRERAS   \n",
       "4               EMERGENCIA   LLAMADA DEL 066       MIGUEL HIDALGO   \n",
       "...                    ...               ...                  ...   \n",
       "1383133  URGENCIAS MEDICAS  BOTÓN DE AUXILIO    GUSTAVO A. MADERO   \n",
       "1383134  URGENCIAS MEDICAS  BOTÓN DE AUXILIO  VENUSTIANO CARRANZA   \n",
       "1383135         EMERGENCIA   LLAMADA DEL 911         AZCAPOTZALCO   \n",
       "1383136  URGENCIAS MEDICAS   LLAMADA DEL 911  VENUSTIANO CARRANZA   \n",
       "1383137         EMERGENCIA   LLAMADA DEL 911           IZTAPALAPA   \n",
       "\n",
       "                         geopoint  mes  \n",
       "0            19.422113,-99.084643    1  \n",
       "1             19.35832,-99.297641    1  \n",
       "2           19.21707,-99.21907008    1  \n",
       "3        19.32057999,-99.24100992    1  \n",
       "4        19.45289997,-99.21587004    1  \n",
       "...                           ...  ...  \n",
       "1383133  19.48631004,-99.11811996   10  \n",
       "1383134      19.427274,-99.115814   10  \n",
       "1383135     19.46718,-99.17525016   10  \n",
       "1383136  19.42728003,-99.09686016   10  \n",
       "1383137  19.34577999,-99.06297984   10  \n",
       "\n",
       "[1383138 rows x 18 columns]"
      ]
     },
     "execution_count": 50,
     "metadata": {},
     "output_type": "execute_result"
    }
   ],
   "source": [
    "df_o = pd.read_csv(\"../../\" + \"data/incidentes-viales-c5.csv\")\n",
    "df_o"
   ]
  },
  {
   "cell_type": "code",
   "execution_count": null,
   "metadata": {
    "hidden": true
   },
   "outputs": [],
   "source": []
  },
  {
   "cell_type": "markdown",
   "metadata": {},
   "source": [
    "# Tests"
   ]
  },
  {
   "cell_type": "markdown",
   "metadata": {},
   "source": [
    "## Transformation"
   ]
  },
  {
   "cell_type": "markdown",
   "metadata": {},
   "source": [
    "#### Loading ingestion pickle"
   ]
  },
  {
   "cell_type": "code",
   "execution_count": 51,
   "metadata": {
    "ExecuteTime": {
     "end_time": "2020-12-06T21:21:47.032430Z",
     "start_time": "2020-12-06T21:21:46.178918Z"
    }
   },
   "outputs": [],
   "source": [
    "df_ing = load_ingestion(\"../../\" + ingestion_pickle_loc)"
   ]
  },
  {
   "cell_type": "code",
   "execution_count": 52,
   "metadata": {
    "ExecuteTime": {
     "end_time": "2020-12-06T21:21:47.091230Z",
     "start_time": "2020-12-06T21:21:47.038119Z"
    },
    "scrolled": true
   },
   "outputs": [
    {
     "data": {
      "text/html": [
       "<div>\n",
       "<style scoped>\n",
       "    .dataframe tbody tr th:only-of-type {\n",
       "        vertical-align: middle;\n",
       "    }\n",
       "\n",
       "    .dataframe tbody tr th {\n",
       "        vertical-align: top;\n",
       "    }\n",
       "\n",
       "    .dataframe thead th {\n",
       "        text-align: right;\n",
       "    }\n",
       "</style>\n",
       "<table border=\"1\" class=\"dataframe\">\n",
       "  <thead>\n",
       "    <tr style=\"text-align: right;\">\n",
       "      <th></th>\n",
       "      <th>fecha_creacion</th>\n",
       "      <th>hora_creacion</th>\n",
       "      <th>dia_semana</th>\n",
       "      <th>codigo_cierre</th>\n",
       "      <th>incidente_c4</th>\n",
       "      <th>tipo_entrada</th>\n",
       "      <th>label</th>\n",
       "    </tr>\n",
       "    <tr>\n",
       "      <th>folio</th>\n",
       "      <th></th>\n",
       "      <th></th>\n",
       "      <th></th>\n",
       "      <th></th>\n",
       "      <th></th>\n",
       "      <th></th>\n",
       "      <th></th>\n",
       "    </tr>\n",
       "  </thead>\n",
       "  <tbody>\n",
       "    <tr>\n",
       "      <th>GA/160123/05714</th>\n",
       "      <td>23/01/2016</td>\n",
       "      <td>22:35:04</td>\n",
       "      <td>Sábado</td>\n",
       "      <td>(A) La unidad de atención a emergencias fue de...</td>\n",
       "      <td>accidente-choque sin lesionados</td>\n",
       "      <td>BOTÓN DE AUXILIO</td>\n",
       "      <td>0.0</td>\n",
       "    </tr>\n",
       "    <tr>\n",
       "      <th>AO/160123/05826</th>\n",
       "      <td>23/01/2016</td>\n",
       "      <td>22:50:49</td>\n",
       "      <td>Sábado</td>\n",
       "      <td>(A) La unidad de atención a emergencias fue de...</td>\n",
       "      <td>accidente-choque con lesionados</td>\n",
       "      <td>BOTÓN DE AUXILIO</td>\n",
       "      <td>0.0</td>\n",
       "    </tr>\n",
       "    <tr>\n",
       "      <th>C4/160124/02187</th>\n",
       "      <td>24/01/2016</td>\n",
       "      <td>09:40:11</td>\n",
       "      <td>Domingo</td>\n",
       "      <td>(N) La unidad de atención a emergencias fue de...</td>\n",
       "      <td>accidente-choque sin lesionados</td>\n",
       "      <td>LLAMADA DEL 066</td>\n",
       "      <td>1.0</td>\n",
       "    </tr>\n",
       "    <tr>\n",
       "      <th>C4/160124/05723</th>\n",
       "      <td>24/01/2016</td>\n",
       "      <td>22:40:57</td>\n",
       "      <td>Domingo</td>\n",
       "      <td>(N) La unidad de atención a emergencias fue de...</td>\n",
       "      <td>accidente-choque sin lesionados</td>\n",
       "      <td>LLAMADA DEL 066</td>\n",
       "      <td>1.0</td>\n",
       "    </tr>\n",
       "    <tr>\n",
       "      <th>C4/160124/01334</th>\n",
       "      <td>24/01/2016</td>\n",
       "      <td>04:25:15</td>\n",
       "      <td>Domingo</td>\n",
       "      <td>(A) La unidad de atención a emergencias fue de...</td>\n",
       "      <td>accidente-choque sin lesionados</td>\n",
       "      <td>LLAMADA DEL 066</td>\n",
       "      <td>0.0</td>\n",
       "    </tr>\n",
       "    <tr>\n",
       "      <th>...</th>\n",
       "      <td>...</td>\n",
       "      <td>...</td>\n",
       "      <td>...</td>\n",
       "      <td>...</td>\n",
       "      <td>...</td>\n",
       "      <td>...</td>\n",
       "      <td>...</td>\n",
       "    </tr>\n",
       "    <tr>\n",
       "      <th>GA/201022/03443</th>\n",
       "      <td>22/10/2020</td>\n",
       "      <td>16:17:05</td>\n",
       "      <td>Jueves</td>\n",
       "      <td>(A) La unidad de atención a emergencias fue de...</td>\n",
       "      <td>lesionado-atropellado</td>\n",
       "      <td>BOTÓN DE AUXILIO</td>\n",
       "      <td>0.0</td>\n",
       "    </tr>\n",
       "    <tr>\n",
       "      <th>GA/201022/03492</th>\n",
       "      <td>22/10/2020</td>\n",
       "      <td>16:29:13</td>\n",
       "      <td>Jueves</td>\n",
       "      <td>(A) La unidad de atención a emergencias fue de...</td>\n",
       "      <td>accidente-choque con lesionados</td>\n",
       "      <td>BOTÓN DE AUXILIO</td>\n",
       "      <td>0.0</td>\n",
       "    </tr>\n",
       "    <tr>\n",
       "      <th>C5/201022/02030</th>\n",
       "      <td>22/10/2020</td>\n",
       "      <td>12:00:26</td>\n",
       "      <td>Jueves</td>\n",
       "      <td>(D) El incidente reportado se registró en dos ...</td>\n",
       "      <td>accidente-choque sin lesionados</td>\n",
       "      <td>LLAMADA DEL 911</td>\n",
       "      <td>0.0</td>\n",
       "    </tr>\n",
       "    <tr>\n",
       "      <th>C5/201022/02039</th>\n",
       "      <td>22/10/2020</td>\n",
       "      <td>12:01:25</td>\n",
       "      <td>Jueves</td>\n",
       "      <td>(D) El incidente reportado se registró en dos ...</td>\n",
       "      <td>accidente-choque con lesionados</td>\n",
       "      <td>LLAMADA DEL 911</td>\n",
       "      <td>0.0</td>\n",
       "    </tr>\n",
       "    <tr>\n",
       "      <th>C5/201022/03364</th>\n",
       "      <td>22/10/2020</td>\n",
       "      <td>16:05:47</td>\n",
       "      <td>Jueves</td>\n",
       "      <td>(D) El incidente reportado se registró en dos ...</td>\n",
       "      <td>accidente-choque sin lesionados</td>\n",
       "      <td>LLAMADA DEL 911</td>\n",
       "      <td>0.0</td>\n",
       "    </tr>\n",
       "  </tbody>\n",
       "</table>\n",
       "<p>1383138 rows × 7 columns</p>\n",
       "</div>"
      ],
      "text/plain": [
       "                fecha_creacion hora_creacion dia_semana  \\\n",
       "folio                                                     \n",
       "GA/160123/05714     23/01/2016      22:35:04     Sábado   \n",
       "AO/160123/05826     23/01/2016      22:50:49     Sábado   \n",
       "C4/160124/02187     24/01/2016      09:40:11    Domingo   \n",
       "C4/160124/05723     24/01/2016      22:40:57    Domingo   \n",
       "C4/160124/01334     24/01/2016      04:25:15    Domingo   \n",
       "...                        ...           ...        ...   \n",
       "GA/201022/03443     22/10/2020      16:17:05     Jueves   \n",
       "GA/201022/03492     22/10/2020      16:29:13     Jueves   \n",
       "C5/201022/02030     22/10/2020      12:00:26     Jueves   \n",
       "C5/201022/02039     22/10/2020      12:01:25     Jueves   \n",
       "C5/201022/03364     22/10/2020      16:05:47     Jueves   \n",
       "\n",
       "                                                     codigo_cierre  \\\n",
       "folio                                                                \n",
       "GA/160123/05714  (A) La unidad de atención a emergencias fue de...   \n",
       "AO/160123/05826  (A) La unidad de atención a emergencias fue de...   \n",
       "C4/160124/02187  (N) La unidad de atención a emergencias fue de...   \n",
       "C4/160124/05723  (N) La unidad de atención a emergencias fue de...   \n",
       "C4/160124/01334  (A) La unidad de atención a emergencias fue de...   \n",
       "...                                                            ...   \n",
       "GA/201022/03443  (A) La unidad de atención a emergencias fue de...   \n",
       "GA/201022/03492  (A) La unidad de atención a emergencias fue de...   \n",
       "C5/201022/02030  (D) El incidente reportado se registró en dos ...   \n",
       "C5/201022/02039  (D) El incidente reportado se registró en dos ...   \n",
       "C5/201022/03364  (D) El incidente reportado se registró en dos ...   \n",
       "\n",
       "                                    incidente_c4      tipo_entrada  label  \n",
       "folio                                                                      \n",
       "GA/160123/05714  accidente-choque sin lesionados  BOTÓN DE AUXILIO    0.0  \n",
       "AO/160123/05826  accidente-choque con lesionados  BOTÓN DE AUXILIO    0.0  \n",
       "C4/160124/02187  accidente-choque sin lesionados   LLAMADA DEL 066    1.0  \n",
       "C4/160124/05723  accidente-choque sin lesionados   LLAMADA DEL 066    1.0  \n",
       "C4/160124/01334  accidente-choque sin lesionados   LLAMADA DEL 066    0.0  \n",
       "...                                          ...               ...    ...  \n",
       "GA/201022/03443            lesionado-atropellado  BOTÓN DE AUXILIO    0.0  \n",
       "GA/201022/03492  accidente-choque con lesionados  BOTÓN DE AUXILIO    0.0  \n",
       "C5/201022/02030  accidente-choque sin lesionados   LLAMADA DEL 911    0.0  \n",
       "C5/201022/02039  accidente-choque con lesionados   LLAMADA DEL 911    0.0  \n",
       "C5/201022/03364  accidente-choque sin lesionados   LLAMADA DEL 911    0.0  \n",
       "\n",
       "[1383138 rows x 7 columns]"
      ]
     },
     "execution_count": 52,
     "metadata": {},
     "output_type": "execute_result"
    }
   ],
   "source": [
    "df_ing"
   ]
  },
  {
   "cell_type": "code",
   "execution_count": 55,
   "metadata": {
    "ExecuteTime": {
     "end_time": "2020-12-06T21:24:03.717035Z",
     "start_time": "2020-12-06T21:24:03.443082Z"
    }
   },
   "outputs": [],
   "source": [
    "df_ing[\"fecha_creacion_tm\"] = pd.to_datetime(df_ing[\"fecha_creacion\"])"
   ]
  },
  {
   "cell_type": "code",
   "execution_count": 60,
   "metadata": {
    "ExecuteTime": {
     "end_time": "2020-12-06T21:27:27.620837Z",
     "start_time": "2020-12-06T21:27:27.497814Z"
    }
   },
   "outputs": [],
   "source": [
    "df_ing[\"folio_\"] = df_ing.index"
   ]
  },
  {
   "cell_type": "code",
   "execution_count": 61,
   "metadata": {
    "ExecuteTime": {
     "end_time": "2020-12-06T21:27:32.716440Z",
     "start_time": "2020-12-06T21:27:32.107741Z"
    }
   },
   "outputs": [
    {
     "data": {
      "text/html": [
       "<div>\n",
       "<style scoped>\n",
       "    .dataframe tbody tr th:only-of-type {\n",
       "        vertical-align: middle;\n",
       "    }\n",
       "\n",
       "    .dataframe tbody tr th {\n",
       "        vertical-align: top;\n",
       "    }\n",
       "\n",
       "    .dataframe thead th {\n",
       "        text-align: right;\n",
       "    }\n",
       "</style>\n",
       "<table border=\"1\" class=\"dataframe\">\n",
       "  <thead>\n",
       "    <tr style=\"text-align: right;\">\n",
       "      <th></th>\n",
       "      <th>folio_</th>\n",
       "    </tr>\n",
       "    <tr>\n",
       "      <th>fecha_creacion</th>\n",
       "      <th></th>\n",
       "    </tr>\n",
       "  </thead>\n",
       "  <tbody>\n",
       "    <tr>\n",
       "      <th>01/01/2014</th>\n",
       "      <td>231</td>\n",
       "    </tr>\n",
       "    <tr>\n",
       "      <th>01/01/2015</th>\n",
       "      <td>220</td>\n",
       "    </tr>\n",
       "    <tr>\n",
       "      <th>01/01/2016</th>\n",
       "      <td>255</td>\n",
       "    </tr>\n",
       "    <tr>\n",
       "      <th>01/01/2017</th>\n",
       "      <td>357</td>\n",
       "    </tr>\n",
       "    <tr>\n",
       "      <th>01/01/2018</th>\n",
       "      <td>291</td>\n",
       "    </tr>\n",
       "    <tr>\n",
       "      <th>...</th>\n",
       "      <td>...</td>\n",
       "    </tr>\n",
       "    <tr>\n",
       "      <th>31/12/2015</th>\n",
       "      <td>410</td>\n",
       "    </tr>\n",
       "    <tr>\n",
       "      <th>31/12/2016</th>\n",
       "      <td>471</td>\n",
       "    </tr>\n",
       "    <tr>\n",
       "      <th>31/12/2017</th>\n",
       "      <td>418</td>\n",
       "    </tr>\n",
       "    <tr>\n",
       "      <th>31/12/2018</th>\n",
       "      <td>454</td>\n",
       "    </tr>\n",
       "    <tr>\n",
       "      <th>31/12/2019</th>\n",
       "      <td>541</td>\n",
       "    </tr>\n",
       "  </tbody>\n",
       "</table>\n",
       "<p>2637 rows × 1 columns</p>\n",
       "</div>"
      ],
      "text/plain": [
       "                folio_\n",
       "fecha_creacion        \n",
       "01/01/2014         231\n",
       "01/01/2015         220\n",
       "01/01/2016         255\n",
       "01/01/2017         357\n",
       "01/01/2018         291\n",
       "...                ...\n",
       "31/12/2015         410\n",
       "31/12/2016         471\n",
       "31/12/2017         418\n",
       "31/12/2018         454\n",
       "31/12/2019         541\n",
       "\n",
       "[2637 rows x 1 columns]"
      ]
     },
     "execution_count": 61,
     "metadata": {},
     "output_type": "execute_result"
    }
   ],
   "source": [
    "df_ing.loc[:, [\"fecha_creacion\", \"folio_\"]].groupby(\"fecha_creacion\").count()"
   ]
  },
  {
   "cell_type": "code",
   "execution_count": 59,
   "metadata": {
    "ExecuteTime": {
     "end_time": "2020-12-06T21:26:28.682991Z",
     "start_time": "2020-12-06T21:26:28.653158Z"
    }
   },
   "outputs": [
    {
     "data": {
      "text/plain": [
       "0.03636363636363636"
      ]
     },
     "execution_count": 59,
     "metadata": {},
     "output_type": "execute_result"
    }
   ],
   "source": [
    "20/550"
   ]
  },
  {
   "cell_type": "code",
   "execution_count": null,
   "metadata": {
    "ExecuteTime": {
     "end_time": "2020-12-03T17:11:16.029633Z",
     "start_time": "2020-12-03T17:11:15.909278Z"
    }
   },
   "outputs": [],
   "source": [
    "df_ing[\"label\"].value_counts(normalize=True)"
   ]
  },
  {
   "cell_type": "markdown",
   "metadata": {
    "heading_collapsed": true
   },
   "source": [
    "## Feature engineering"
   ]
  },
  {
   "cell_type": "markdown",
   "metadata": {
    "heading_collapsed": true,
    "hidden": true
   },
   "source": [
    "#### Loading transformation pickles"
   ]
  },
  {
   "cell_type": "code",
   "execution_count": null,
   "metadata": {
    "ExecuteTime": {
     "end_time": "2020-12-06T18:50:26.417713Z",
     "start_time": "2020-12-06T18:50:24.868292Z"
    },
    "hidden": true,
    "scrolled": true
   },
   "outputs": [],
   "source": [
    "df_tra = load_transformation(\"../../\" + transformation_pickle_loc)\n",
    "df_tra"
   ]
  },
  {
   "cell_type": "raw",
   "metadata": {
    "ExecuteTime": {
     "end_time": "2020-12-01T18:44:53.828052Z",
     "start_time": "2020-12-01T18:44:53.803137Z"
    },
    "hidden": true,
    "scrolled": true
   },
   "source": [
    "df_features_prc_cols = load_transformation(\"../../\" + \"outputs/fe_df_features_prc_cols.pkl\")\n",
    "df_features_prc_cols"
   ]
  },
  {
   "cell_type": "markdown",
   "metadata": {
    "heading_collapsed": true,
    "hidden": true
   },
   "source": [
    "##### Exploring transfomation result"
   ]
  },
  {
   "cell_type": "markdown",
   "metadata": {
    "heading_collapsed": true,
    "hidden": true
   },
   "source": [
    "#### Processing data for model"
   ]
  },
  {
   "cell_type": "code",
   "execution_count": null,
   "metadata": {
    "ExecuteTime": {
     "end_time": "2020-11-25T04:49:09.433624Z",
     "start_time": "2020-11-25T04:49:07.201100Z"
    },
    "hidden": true,
    "scrolled": true
   },
   "outputs": [],
   "source": [
    "df_features_prc, df_labels, df_features_prc_cols = feature_generation(df)"
   ]
  },
  {
   "cell_type": "code",
   "execution_count": null,
   "metadata": {
    "ExecuteTime": {
     "end_time": "2020-11-25T04:50:52.487282Z",
     "start_time": "2020-11-25T04:50:52.438138Z"
    },
    "hidden": true,
    "scrolled": true
   },
   "outputs": [],
   "source": [
    "print(len(df_features_prc_cols))\n",
    "df_features_prc_cols"
   ]
  },
  {
   "cell_type": "code",
   "execution_count": null,
   "metadata": {
    "ExecuteTime": {
     "end_time": "2020-11-25T04:50:05.367911Z",
     "start_time": "2020-11-25T04:50:05.333858Z"
    },
    "hidden": true
   },
   "outputs": [],
   "source": [
    "df_features_prc.shape"
   ]
  },
  {
   "cell_type": "code",
   "execution_count": null,
   "metadata": {
    "hidden": true
   },
   "outputs": [],
   "source": []
  },
  {
   "cell_type": "code",
   "execution_count": null,
   "metadata": {
    "ExecuteTime": {
     "end_time": "2020-11-25T03:53:12.479663Z",
     "start_time": "2020-11-25T03:53:12.454523Z"
    },
    "hidden": true
   },
   "outputs": [],
   "source": [
    "print(len(enc_cat_features))\n",
    "enc_cat_features"
   ]
  },
  {
   "cell_type": "code",
   "execution_count": null,
   "metadata": {
    "ExecuteTime": {
     "end_time": "2020-11-25T03:52:56.008936Z",
     "start_time": "2020-11-25T03:52:55.985455Z"
    },
    "hidden": true
   },
   "outputs": [],
   "source": [
    "df_features_prc.shape"
   ]
  },
  {
   "cell_type": "code",
   "execution_count": null,
   "metadata": {
    "ExecuteTime": {
     "end_time": "2020-11-25T03:18:46.232083Z",
     "start_time": "2020-11-25T03:18:46.204320Z"
    },
    "hidden": true,
    "scrolled": true
   },
   "outputs": [],
   "source": [
    "len(df_features_prc_cols)"
   ]
  },
  {
   "cell_type": "markdown",
   "metadata": {
    "heading_collapsed": true,
    "hidden": true
   },
   "source": [
    "#### Training, executing and evaluating model"
   ]
  },
  {
   "cell_type": "code",
   "execution_count": null,
   "metadata": {
    "ExecuteTime": {
     "end_time": "2020-11-25T03:19:35.249047Z",
     "start_time": "2020-11-25T03:19:35.211437Z"
    },
    "hidden": true,
    "scrolled": true
   },
   "outputs": [],
   "source": [
    "model = RandomForestClassifier(oob_score=True, n_jobs=-1)"
   ]
  },
  {
   "cell_type": "code",
   "execution_count": null,
   "metadata": {
    "ExecuteTime": {
     "end_time": "2020-11-25T03:19:36.334819Z",
     "start_time": "2020-11-25T03:19:35.788646Z"
    },
    "hidden": true
   },
   "outputs": [],
   "source": [
    "## Splitting data in train and test\n",
    "X_train, X_test, y_train, y_test = train_test_split(df_features_prc, df_labels, test_size=0.3)"
   ]
  },
  {
   "cell_type": "code",
   "execution_count": null,
   "metadata": {
    "ExecuteTime": {
     "end_time": "2020-11-25T01:13:15.923195Z",
     "start_time": "2020-11-25T01:07:12.011331Z"
    },
    "hidden": true,
    "scrolled": true
   },
   "outputs": [],
   "source": [
    "grid_search = GridSearchCV(model,\n",
    "                           param_grid,\n",
    "                           cv=2,\n",
    "                           scoring=evaluation_metric,\n",
    "                           return_train_score=True,\n",
    "                           n_jobs=-1\n",
    "                           )\n",
    "\n",
    "grid_search.fit(X_train, y_train)\n",
    "\n",
    "print(grid_search.best_params_)\n",
    "print(grid_search.best_estimator_)\n",
    "\n",
    "print(\"\\n++ Grid search results:\\n\")\n",
    "print(\"    ++++ Best estimator: {}\".format(grid_search.best_estimator_))\n",
    "print(\"    ++++ Number of features in best estimator: {} \\n\".format(grid_search.best_estimator_.n_features_))\n",
    "print(\"    ++++ Best estimator oob score: {}\\n\".format(grid_search.best_estimator_.oob_score_))"
   ]
  },
  {
   "cell_type": "markdown",
   "metadata": {
    "heading_collapsed": true,
    "hidden": true
   },
   "source": [
    "#### Identifying most important variables"
   ]
  },
  {
   "cell_type": "markdown",
   "metadata": {
    "heading_collapsed": true,
    "hidden": true
   },
   "source": [
    "##### Creating dataframe with ranks"
   ]
  },
  {
   "cell_type": "raw",
   "metadata": {
    "ExecuteTime": {
     "end_time": "2020-12-01T19:36:01.187163Z",
     "start_time": "2020-12-01T19:36:01.161428Z"
    },
    "hidden": true
   },
   "source": [
    "print(len(grid_search.best_estimator_.feature_importances_))\n",
    "grid_search.best_estimator_.feature_importances_"
   ]
  },
  {
   "cell_type": "raw",
   "metadata": {
    "ExecuteTime": {
     "end_time": "2020-11-25T01:15:56.118183Z",
     "start_time": "2020-11-25T01:15:55.545673Z"
    },
    "hidden": true,
    "scrolled": true
   },
   "source": [
    "feature_importance = pd.DataFrame(\n",
    "    {\n",
    "        \"Importance\": grid_search.best_estimator_.feature_importances_,\n",
    "        \"Feature\": df_features_prc.columns\n",
    "    }\n",
    ")\n",
    "feature_importance.sort_values(by=\"Importance\", ascending=False)\n",
    "print(display(feature_importance))"
   ]
  },
  {
   "cell_type": "markdown",
   "metadata": {
    "heading_collapsed": true,
    "hidden": true
   },
   "source": [
    "##### Obtaining features cleaning dict from ranked features"
   ]
  },
  {
   "cell_type": "code",
   "execution_count": null,
   "metadata": {
    "ExecuteTime": {
     "end_time": "2020-12-01T23:45:02.446909Z",
     "start_time": "2020-12-01T23:45:02.420226Z"
    },
    "hidden": true,
    "scrolled": true
   },
   "outputs": [],
   "source": [
    "feature_importance.reset_index(inplace=True, drop=True)\n",
    "feature_importance"
   ]
  },
  {
   "cell_type": "code",
   "execution_count": null,
   "metadata": {
    "ExecuteTime": {
     "end_time": "2020-12-01T23:45:02.618056Z",
     "start_time": "2020-12-01T23:45:02.598192Z"
    },
    "hidden": true
   },
   "outputs": [],
   "source": [
    "feature_importance[\"Important\"] = feature_importance[\"Importance\"].apply(lambda x: True if x >= feature_importance_theshold else False)"
   ]
  },
  {
   "cell_type": "code",
   "execution_count": null,
   "metadata": {
    "ExecuteTime": {
     "end_time": "2020-12-01T23:45:02.756065Z",
     "start_time": "2020-12-01T23:45:02.736677Z"
    },
    "hidden": true,
    "scrolled": true
   },
   "outputs": [],
   "source": [
    "def find_mother(row, ohe_dict):\n",
    "    \"\"\"\n",
    "    \"\"\"\n",
    "    \n",
    "    for key in ohe_dict:\n",
    "        if row in ohe_dict[key]:\n",
    "            return key\n",
    "    \n",
    "    return row"
   ]
  },
  {
   "cell_type": "code",
   "execution_count": null,
   "metadata": {
    "ExecuteTime": {
     "end_time": "2020-12-01T23:45:02.895844Z",
     "start_time": "2020-12-01T23:45:02.875962Z"
    },
    "hidden": true
   },
   "outputs": [],
   "source": [
    "feature_importance[\"Mother_feature\"] = feature_importance[\"Feature\"].apply(lambda x: find_mother(x, ohe_dict))"
   ]
  },
  {
   "cell_type": "code",
   "execution_count": null,
   "metadata": {
    "ExecuteTime": {
     "end_time": "2020-12-01T23:45:03.048757Z",
     "start_time": "2020-12-01T23:45:03.017326Z"
    },
    "hidden": true,
    "scrolled": true
   },
   "outputs": [],
   "source": [
    "feature_importance"
   ]
  },
  {
   "cell_type": "raw",
   "metadata": {
    "ExecuteTime": {
     "end_time": "2020-12-01T19:36:11.372865Z",
     "start_time": "2020-12-01T19:36:11.351295Z"
    },
    "hidden": true
   },
   "source": [
    "m1 = feature_importance[\"Important\"] == True\n",
    "important_features = list(feature_importance.loc[m1, \"Mother_feature\"].unique())\n",
    "important_features"
   ]
  },
  {
   "cell_type": "code",
   "execution_count": null,
   "metadata": {
    "ExecuteTime": {
     "end_time": "2020-12-01T23:45:03.297043Z",
     "start_time": "2020-12-01T23:45:03.276199Z"
    },
    "hidden": true,
    "scrolled": true
   },
   "outputs": [],
   "source": [
    "def feature_cleaning_dict(feature_importance, ohe_dict):\n",
    "    \n",
    "    m1 = feature_importance[\"Important\"] == True\n",
    "    important_features = list(feature_importance.loc[m1, \"Mother_feature\"].unique())\n",
    "\n",
    "    fe_cln_dict = {}\n",
    "\n",
    "    for imp_f in important_features:\n",
    "\n",
    "        m2 = feature_importance[\"Mother_feature\"] == imp_f\n",
    "\n",
    "        if imp_f in ohe_dict:\n",
    "            fe_cln_dict[imp_f] = {\n",
    "                \"data_type\": \"categoric\",\n",
    "                \"important_categories\": list(feature_importance.loc[(m1 & m2), \"Feature\"])\n",
    "            }\n",
    "        else:\n",
    "            fe_cln_dict[imp_f] = {\n",
    "                \"data_type\": \"non-categoric\",\n",
    "            }\n",
    "\n",
    "#     json_dump_dict(fe_cln_dict)\n",
    "    \n",
    "    return fe_cln_dict"
   ]
  },
  {
   "cell_type": "code",
   "execution_count": null,
   "metadata": {
    "ExecuteTime": {
     "end_time": "2020-12-01T23:45:04.602776Z",
     "start_time": "2020-12-01T23:45:04.578029Z"
    },
    "hidden": true,
    "scrolled": true
   },
   "outputs": [],
   "source": [
    "fe_cln_dict = feature_cleaning_dict(feature_importance, ohe_dict)\n",
    "fe_cln_dict"
   ]
  },
  {
   "cell_type": "markdown",
   "metadata": {
    "heading_collapsed": true,
    "hidden": true
   },
   "source": [
    "##### Cleaning transformation dataframe based on features cleaning dict"
   ]
  },
  {
   "cell_type": "code",
   "execution_count": null,
   "metadata": {
    "ExecuteTime": {
     "end_time": "2020-12-01T23:45:10.469430Z",
     "start_time": "2020-12-01T23:45:10.162935Z"
    },
    "hidden": true,
    "scrolled": true
   },
   "outputs": [],
   "source": [
    "df_tra"
   ]
  },
  {
   "cell_type": "code",
   "execution_count": null,
   "metadata": {
    "ExecuteTime": {
     "end_time": "2020-12-01T23:45:14.219772Z",
     "start_time": "2020-12-01T23:45:14.093331Z"
    },
    "hidden": true
   },
   "outputs": [],
   "source": [
    "nr_f = [col for col in df_tra.columns if col not in fe_cln_dict]\n",
    "df_tra.drop(nr_f, axis=1, inplace=True)"
   ]
  },
  {
   "cell_type": "code",
   "execution_count": null,
   "metadata": {
    "ExecuteTime": {
     "end_time": "2020-12-01T23:45:14.889463Z",
     "start_time": "2020-12-01T23:45:14.863052Z"
    },
    "hidden": true
   },
   "outputs": [],
   "source": [
    "df_tra"
   ]
  },
  {
   "cell_type": "code",
   "execution_count": null,
   "metadata": {
    "ExecuteTime": {
     "end_time": "2020-12-01T23:45:15.732080Z",
     "start_time": "2020-12-01T23:45:15.474270Z"
    },
    "hidden": true
   },
   "outputs": [],
   "source": [
    "for cat_key in [key for key in fe_cln_dict if fe_cln_dict[key][\"data_type\"] == \"categoric\"]:\n",
    "    m1 = ~df_tra[cat_key].isin(fe_cln_dict[cat_key][\"important_categories\"])\n",
    "    df_tra.loc[m1, cat_key] = tag_non_relevant_cats"
   ]
  },
  {
   "cell_type": "code",
   "execution_count": null,
   "metadata": {
    "ExecuteTime": {
     "end_time": "2020-12-01T23:45:16.230090Z",
     "start_time": "2020-12-01T23:45:16.205932Z"
    },
    "hidden": true
   },
   "outputs": [],
   "source": [
    "df_tra"
   ]
  },
  {
   "cell_type": "markdown",
   "metadata": {
    "heading_collapsed": true,
    "hidden": true
   },
   "source": [
    "#### Reviewing results"
   ]
  },
  {
   "cell_type": "code",
   "execution_count": null,
   "metadata": {
    "ExecuteTime": {
     "end_time": "2020-12-03T17:27:28.452622Z",
     "start_time": "2020-12-03T17:27:23.470812Z"
    },
    "hidden": true
   },
   "outputs": [],
   "source": [
    "df_imp_features_prc = load_df(\"../../\" + fe_pickle_loc_imp_features)\n",
    "df_labels = load_df(\"../../\" + fe_pickle_loc_feature_labs)"
   ]
  },
  {
   "cell_type": "code",
   "execution_count": null,
   "metadata": {
    "ExecuteTime": {
     "end_time": "2020-12-03T17:28:38.501091Z",
     "start_time": "2020-12-03T17:28:38.344670Z"
    },
    "hidden": true
   },
   "outputs": [],
   "source": [
    "print(df_imp_features_prc.shape)\n",
    "df_imp_features_prc.toarray()"
   ]
  },
  {
   "cell_type": "code",
   "execution_count": null,
   "metadata": {
    "ExecuteTime": {
     "end_time": "2020-12-03T17:29:01.793777Z",
     "start_time": "2020-12-03T17:29:01.673049Z"
    },
    "hidden": true
   },
   "outputs": [],
   "source": [
    "print(df_labels.shape)\n",
    "df_labels"
   ]
  },
  {
   "cell_type": "markdown",
   "metadata": {},
   "source": [
    "## Modeling (magic loop)"
   ]
  },
  {
   "cell_type": "markdown",
   "metadata": {},
   "source": [
    "### Imports and reviewing results"
   ]
  },
  {
   "cell_type": "code",
   "execution_count": 4,
   "metadata": {
    "ExecuteTime": {
     "end_time": "2020-12-06T20:25:51.803684Z",
     "start_time": "2020-12-06T20:25:51.285022Z"
    }
   },
   "outputs": [],
   "source": [
    "best_model = load_df(\"../../\" + models_pickle_loc)\n",
    "X_train = load_df(\"../../\" + X_train_pickle_loc)\n",
    "y_train = load_df(\"../../\" + y_train_pickle_loc)\n",
    "X_test = load_df(\"../../\" + X_test_pickle_loc)\n",
    "y_test = load_df(\"../../\" + y_test_pickle_loc)\n",
    "test_predict_labs = load_df(\"../../\" + test_predict_labs_pickle_loc)\n",
    "test_predict_scores = load_df(\"../../\" + test_predict_scores_pickle_loc)"
   ]
  },
  {
   "cell_type": "code",
   "execution_count": 70,
   "metadata": {
    "ExecuteTime": {
     "end_time": "2020-12-07T01:53:41.544889Z",
     "start_time": "2020-12-07T01:53:41.515504Z"
    }
   },
   "outputs": [
    {
     "ename": "TypeError",
     "evalue": "predict_proba() missing 1 required positional argument: 'X'",
     "output_type": "error",
     "traceback": [
      "\u001b[0;31m---------------------------------------------------------------------------\u001b[0m",
      "\u001b[0;31mTypeError\u001b[0m                                 Traceback (most recent call last)",
      "\u001b[0;32m<ipython-input-70-101886d0c713>\u001b[0m in \u001b[0;36m<module>\u001b[0;34m\u001b[0m\n\u001b[0;32m----> 1\u001b[0;31m \u001b[0mbest_model\u001b[0m\u001b[0;34m.\u001b[0m\u001b[0mpredict_proba\u001b[0m\u001b[0;34m(\u001b[0m\u001b[0;34m)\u001b[0m\u001b[0;34m\u001b[0m\u001b[0;34m\u001b[0m\u001b[0m\n\u001b[0m",
      "\u001b[0;31mTypeError\u001b[0m: predict_proba() missing 1 required positional argument: 'X'"
     ]
    }
   ],
   "source": [
    "best_model."
   ]
  },
  {
   "cell_type": "code",
   "execution_count": 6,
   "metadata": {
    "ExecuteTime": {
     "end_time": "2020-12-06T20:26:21.094599Z",
     "start_time": "2020-12-06T20:26:20.839449Z"
    }
   },
   "outputs": [
    {
     "name": "stdout",
     "output_type": "stream",
     "text": [
      "(968196, 22)\n"
     ]
    },
    {
     "data": {
      "text/plain": [
       "array([[ 0.        ,  1.        ,  0.        , ...,  1.        ,\n",
       "        -0.34585266,  1.38026149],\n",
       "       [ 1.        ,  0.        ,  0.        , ...,  0.        ,\n",
       "        -0.8966045 , -0.5963419 ],\n",
       "       [ 0.        ,  1.        ,  0.        , ...,  0.        ,\n",
       "        -0.65748251, -0.89602004],\n",
       "       ...,\n",
       "       [ 0.        ,  0.        ,  0.        , ...,  0.        ,\n",
       "        -1.04692287, -0.2473593 ],\n",
       "       [ 0.        ,  1.        ,  0.        , ...,  0.        ,\n",
       "         0.7959287 , -1.2705245 ],\n",
       "       [ 0.        ,  1.        ,  0.        , ...,  1.        ,\n",
       "         0.01704798,  1.52481481]])"
      ]
     },
     "execution_count": 6,
     "metadata": {},
     "output_type": "execute_result"
    }
   ],
   "source": [
    "print(X_train.shape)\n",
    "X_train.toarray()"
   ]
  },
  {
   "cell_type": "code",
   "execution_count": 7,
   "metadata": {
    "ExecuteTime": {
     "end_time": "2020-12-06T20:26:21.579526Z",
     "start_time": "2020-12-06T20:26:21.097348Z"
    }
   },
   "outputs": [
    {
     "name": "stdout",
     "output_type": "stream",
     "text": [
      "(968196,)\n",
      "0.0    0.795937\n",
      "1.0    0.204063\n",
      "Name: label, dtype: float64\n"
     ]
    },
    {
     "data": {
      "text/plain": [
       "folio\n",
       "C5/200205/08118    1.0\n",
       "C5/180607/06491    0.0\n",
       "C5/170109/03204    0.0\n",
       "C5/170530/03787    0.0\n",
       "C5/190412/07564    0.0\n",
       "                  ... \n",
       "C5/190105/02070    0.0\n",
       "C4/160114/04450    1.0\n",
       "C5/190202/07087    0.0\n",
       "C5/160908/02000    1.0\n",
       "C5/201010/08534    0.0\n",
       "Name: label, Length: 968196, dtype: float64"
      ]
     },
     "execution_count": 7,
     "metadata": {},
     "output_type": "execute_result"
    }
   ],
   "source": [
    "print(y_train.shape)\n",
    "print(y_train.value_counts(normalize=True))\n",
    "y_train"
   ]
  },
  {
   "cell_type": "code",
   "execution_count": 8,
   "metadata": {
    "ExecuteTime": {
     "end_time": "2020-12-06T20:26:21.688541Z",
     "start_time": "2020-12-06T20:26:21.582421Z"
    }
   },
   "outputs": [
    {
     "name": "stdout",
     "output_type": "stream",
     "text": [
      "(414942, 22)\n"
     ]
    },
    {
     "data": {
      "text/plain": [
       "array([[ 0.        ,  0.        ,  0.        , ...,  0.        ,\n",
       "        -0.8966045 ,  0.85063221],\n",
       "       [ 0.        ,  1.        ,  0.        , ...,  0.        ,\n",
       "         0.40648834, -1.31982895],\n",
       "       [ 0.        ,  1.        ,  0.        , ...,  0.        ,\n",
       "         1.91117035,  0.12714516],\n",
       "       ...,\n",
       "       [ 0.        ,  1.        ,  0.        , ...,  1.        ,\n",
       "        -0.65748251, -0.89602004],\n",
       "       [ 1.        ,  0.        ,  0.        , ...,  0.        ,\n",
       "        -0.65748251,  1.15031035],\n",
       "       [ 0.        ,  1.        ,  0.        , ...,  0.        ,\n",
       "        -1.04692287, -0.2473593 ]])"
      ]
     },
     "execution_count": 8,
     "metadata": {},
     "output_type": "execute_result"
    }
   ],
   "source": [
    "print(X_test.shape)\n",
    "X_test.toarray()"
   ]
  },
  {
   "cell_type": "code",
   "execution_count": 9,
   "metadata": {
    "ExecuteTime": {
     "end_time": "2020-12-06T20:26:21.907381Z",
     "start_time": "2020-12-06T20:26:21.690465Z"
    },
    "scrolled": true
   },
   "outputs": [
    {
     "name": "stdout",
     "output_type": "stream",
     "text": [
      "(414942,)\n",
      "0.0    0.795803\n",
      "1.0    0.204197\n",
      "Name: label, dtype: float64\n"
     ]
    },
    {
     "data": {
      "text/plain": [
       "folio\n",
       "C5/190613/06795    0.0\n",
       "C4/150322/02894    0.0\n",
       "C5/180302/01135    0.0\n",
       "C5/190411/07684    0.0\n",
       "C5/170212/06529    0.0\n",
       "                  ... \n",
       "C4/140505/00861    0.0\n",
       "C5/190118/07088    0.0\n",
       "C5/200814/04440    0.0\n",
       "C5/170218/07803    0.0\n",
       "AO/190428/07143    0.0\n",
       "Name: label, Length: 414942, dtype: float64"
      ]
     },
     "execution_count": 9,
     "metadata": {},
     "output_type": "execute_result"
    }
   ],
   "source": [
    "print(y_test.shape)\n",
    "print(y_test.value_counts(normalize=True))\n",
    "y_test"
   ]
  },
  {
   "cell_type": "code",
   "execution_count": 10,
   "metadata": {
    "ExecuteTime": {
     "end_time": "2020-12-06T20:26:22.316801Z",
     "start_time": "2020-12-06T20:26:22.220864Z"
    }
   },
   "outputs": [
    {
     "name": "stdout",
     "output_type": "stream",
     "text": [
      "(414942,)\n",
      "Suma:  0.0\n"
     ]
    },
    {
     "data": {
      "text/plain": [
       "array([0., 0., 0., ..., 0., 0., 0.])"
      ]
     },
     "execution_count": 10,
     "metadata": {},
     "output_type": "execute_result"
    }
   ],
   "source": [
    "print(test_predict_labs.shape)\n",
    "print(\"Suma: \", sum(test_predict_labs))\n",
    "test_predict_labs"
   ]
  },
  {
   "cell_type": "code",
   "execution_count": 11,
   "metadata": {
    "ExecuteTime": {
     "end_time": "2020-12-06T20:26:23.929921Z",
     "start_time": "2020-12-06T20:26:23.905708Z"
    }
   },
   "outputs": [
    {
     "name": "stdout",
     "output_type": "stream",
     "text": [
      "(414942, 2)\n"
     ]
    },
    {
     "data": {
      "text/plain": [
       "array([[0.85048844, 0.14951156],\n",
       "       [0.71819398, 0.28180602],\n",
       "       [0.70263902, 0.29736098],\n",
       "       ...,\n",
       "       [0.70665025, 0.29334975],\n",
       "       [0.85405584, 0.14594416],\n",
       "       [0.9267244 , 0.0732756 ]])"
      ]
     },
     "execution_count": 11,
     "metadata": {},
     "output_type": "execute_result"
    }
   ],
   "source": [
    "print(test_predict_scores.shape)\n",
    "test_predict_scores"
   ]
  },
  {
   "cell_type": "code",
   "execution_count": 12,
   "metadata": {
    "ExecuteTime": {
     "end_time": "2020-12-06T20:26:24.942741Z",
     "start_time": "2020-12-06T20:26:24.256492Z"
    }
   },
   "outputs": [
    {
     "data": {
      "text/plain": [
       "<seaborn.axisgrid.FacetGrid at 0x13ea664d0>"
      ]
     },
     "execution_count": 12,
     "metadata": {},
     "output_type": "execute_result"
    },
    {
     "data": {
      "image/png": "[encoded data removed]",
      "text/plain": [
       "<Figure size 360x360 with 1 Axes>"
      ]
     },
     "metadata": {
      "needs_background": "light"
     },
     "output_type": "display_data"
    }
   ],
   "source": [
    "sns.displot(\n",
    "    test_predict_scores[:, 1], \n",
    ")"
   ]
  },
  {
   "cell_type": "code",
   "execution_count": 15,
   "metadata": {
    "ExecuteTime": {
     "end_time": "2020-12-06T20:26:47.863177Z",
     "start_time": "2020-12-06T20:26:47.656838Z"
    },
    "scrolled": true
   },
   "outputs": [
    {
     "data": {
      "text/plain": [
       "<AxesSubplot:xlabel='label', ylabel='1_prob'>"
      ]
     },
     "execution_count": 15,
     "metadata": {},
     "output_type": "execute_result"
    },
    {
     "data": {
      "image/png": "[encoded data removed]",
      "text/plain": [
       "<Figure size 432x288 with 1 Axes>"
      ]
     },
     "metadata": {
      "needs_background": "light"
     },
     "output_type": "display_data"
    }
   ],
   "source": [
    "sns.boxplot(\n",
    "    x=dfx[\"label\"],\n",
    "    y=dfx[\"1_prob\"]\n",
    ")"
   ]
  },
  {
   "cell_type": "code",
   "execution_count": 16,
   "metadata": {
    "ExecuteTime": {
     "end_time": "2020-12-06T20:26:49.903211Z",
     "start_time": "2020-12-06T20:26:48.373005Z"
    },
    "scrolled": true
   },
   "outputs": [
    {
     "data": {
      "text/plain": [
       "<AxesSubplot:xlabel='1_prob', ylabel='Density'>"
      ]
     },
     "execution_count": 16,
     "metadata": {},
     "output_type": "execute_result"
    },
    {
     "data": {
      "image/png": "[encoded data removed]",
      "text/plain": [
       "<Figure size 432x288 with 1 Axes>"
      ]
     },
     "metadata": {
      "needs_background": "light"
     },
     "output_type": "display_data"
    }
   ],
   "source": [
    "sns.kdeplot(\n",
    "    data=dfx.loc[:, [\"label\", \"1_prob\"]],\n",
    "    x=\"1_prob\",\n",
    "    hue=\"label\",\n",
    "    multiple=\"stack\"\n",
    ")"
   ]
  },
  {
   "cell_type": "markdown",
   "metadata": {},
   "source": [
    "### Fixing labels with predict scores"
   ]
  },
  {
   "cell_type": "code",
   "execution_count": 14,
   "metadata": {
    "ExecuteTime": {
     "end_time": "2020-12-06T20:26:44.980384Z",
     "start_time": "2020-12-06T20:26:40.207303Z"
    }
   },
   "outputs": [
    {
     "data": {
      "text/html": [
       "<div>\n",
       "<style scoped>\n",
       "    .dataframe tbody tr th:only-of-type {\n",
       "        vertical-align: middle;\n",
       "    }\n",
       "\n",
       "    .dataframe tbody tr th {\n",
       "        vertical-align: top;\n",
       "    }\n",
       "\n",
       "    .dataframe thead th {\n",
       "        text-align: right;\n",
       "    }\n",
       "</style>\n",
       "<table border=\"1\" class=\"dataframe\">\n",
       "  <thead>\n",
       "    <tr style=\"text-align: right;\">\n",
       "      <th></th>\n",
       "      <th>label</th>\n",
       "      <th>1_prob</th>\n",
       "      <th>prob_label</th>\n",
       "      <th>correct</th>\n",
       "    </tr>\n",
       "    <tr>\n",
       "      <th>folio</th>\n",
       "      <th></th>\n",
       "      <th></th>\n",
       "      <th></th>\n",
       "      <th></th>\n",
       "    </tr>\n",
       "  </thead>\n",
       "  <tbody>\n",
       "    <tr>\n",
       "      <th>C5/190613/06795</th>\n",
       "      <td>0.0</td>\n",
       "      <td>0.149512</td>\n",
       "      <td>0</td>\n",
       "      <td>True</td>\n",
       "    </tr>\n",
       "    <tr>\n",
       "      <th>C4/150322/02894</th>\n",
       "      <td>0.0</td>\n",
       "      <td>0.281806</td>\n",
       "      <td>1</td>\n",
       "      <td>False</td>\n",
       "    </tr>\n",
       "    <tr>\n",
       "      <th>C5/180302/01135</th>\n",
       "      <td>0.0</td>\n",
       "      <td>0.297361</td>\n",
       "      <td>1</td>\n",
       "      <td>False</td>\n",
       "    </tr>\n",
       "    <tr>\n",
       "      <th>C5/190411/07684</th>\n",
       "      <td>0.0</td>\n",
       "      <td>0.146666</td>\n",
       "      <td>0</td>\n",
       "      <td>True</td>\n",
       "    </tr>\n",
       "    <tr>\n",
       "      <th>C5/170212/06529</th>\n",
       "      <td>0.0</td>\n",
       "      <td>0.309855</td>\n",
       "      <td>1</td>\n",
       "      <td>False</td>\n",
       "    </tr>\n",
       "    <tr>\n",
       "      <th>...</th>\n",
       "      <td>...</td>\n",
       "      <td>...</td>\n",
       "      <td>...</td>\n",
       "      <td>...</td>\n",
       "    </tr>\n",
       "    <tr>\n",
       "      <th>C4/140505/00861</th>\n",
       "      <td>0.0</td>\n",
       "      <td>0.133383</td>\n",
       "      <td>0</td>\n",
       "      <td>True</td>\n",
       "    </tr>\n",
       "    <tr>\n",
       "      <th>C5/190118/07088</th>\n",
       "      <td>0.0</td>\n",
       "      <td>0.146666</td>\n",
       "      <td>0</td>\n",
       "      <td>True</td>\n",
       "    </tr>\n",
       "    <tr>\n",
       "      <th>C5/200814/04440</th>\n",
       "      <td>0.0</td>\n",
       "      <td>0.293350</td>\n",
       "      <td>1</td>\n",
       "      <td>False</td>\n",
       "    </tr>\n",
       "    <tr>\n",
       "      <th>C5/170218/07803</th>\n",
       "      <td>0.0</td>\n",
       "      <td>0.145944</td>\n",
       "      <td>0</td>\n",
       "      <td>True</td>\n",
       "    </tr>\n",
       "    <tr>\n",
       "      <th>AO/190428/07143</th>\n",
       "      <td>0.0</td>\n",
       "      <td>0.073276</td>\n",
       "      <td>0</td>\n",
       "      <td>True</td>\n",
       "    </tr>\n",
       "  </tbody>\n",
       "</table>\n",
       "<p>414942 rows × 4 columns</p>\n",
       "</div>"
      ],
      "text/plain": [
       "                 label    1_prob  prob_label  correct\n",
       "folio                                                \n",
       "C5/190613/06795    0.0  0.149512           0     True\n",
       "C4/150322/02894    0.0  0.281806           1    False\n",
       "C5/180302/01135    0.0  0.297361           1    False\n",
       "C5/190411/07684    0.0  0.146666           0     True\n",
       "C5/170212/06529    0.0  0.309855           1    False\n",
       "...                ...       ...         ...      ...\n",
       "C4/140505/00861    0.0  0.133383           0     True\n",
       "C5/190118/07088    0.0  0.146666           0     True\n",
       "C5/200814/04440    0.0  0.293350           1    False\n",
       "C5/170218/07803    0.0  0.145944           0     True\n",
       "AO/190428/07143    0.0  0.073276           0     True\n",
       "\n",
       "[414942 rows x 4 columns]"
      ]
     },
     "execution_count": 14,
     "metadata": {},
     "output_type": "execute_result"
    }
   ],
   "source": [
    "dfx = pd.DataFrame(y_test)\n",
    "dfx[\"1_prob\"] = test_predict_scores[:, 1]\n",
    "dfx[\"prob_label\"] = dfx[\"1_prob\"].apply(lambda x: 1 if x >= 0.18 else 0)\n",
    "dfx[\"correct\"] = dfx.apply(lambda x: True if x[\"label\"] == x[\"prob_label\"] else False, axis=1)\n",
    "dfx"
   ]
  },
  {
   "cell_type": "code",
   "execution_count": 17,
   "metadata": {
    "ExecuteTime": {
     "end_time": "2020-12-06T20:26:53.063082Z",
     "start_time": "2020-12-06T20:26:53.036131Z"
    }
   },
   "outputs": [
    {
     "data": {
      "text/plain": [
       "True     0.58726\n",
       "False    0.41274\n",
       "Name: correct, dtype: float64"
      ]
     },
     "execution_count": 17,
     "metadata": {},
     "output_type": "execute_result"
    }
   ],
   "source": [
    "dfx[\"correct\"].value_counts(normalize=True)"
   ]
  },
  {
   "cell_type": "code",
   "execution_count": 18,
   "metadata": {
    "ExecuteTime": {
     "end_time": "2020-12-06T20:26:56.017558Z",
     "start_time": "2020-12-06T20:26:55.658887Z"
    },
    "scrolled": true
   },
   "outputs": [
    {
     "data": {
      "text/plain": [
       "array([[185059, 145153],\n",
       "       [ 26110,  58620]])"
      ]
     },
     "execution_count": 18,
     "metadata": {},
     "output_type": "execute_result"
    }
   ],
   "source": [
    "confusion_matrix(dfx[\"label\"], dfx[\"prob_label\"])"
   ]
  },
  {
   "cell_type": "code",
   "execution_count": 25,
   "metadata": {
    "ExecuteTime": {
     "end_time": "2020-12-06T20:35:29.506356Z",
     "start_time": "2020-12-06T20:35:29.209026Z"
    }
   },
   "outputs": [
    {
     "data": {
      "image/png": "[encoded data removed]",
      "text/plain": [
       "<Figure size 432x288 with 1 Axes>"
      ]
     },
     "metadata": {
      "needs_background": "light"
     },
     "output_type": "display_data"
    }
   ],
   "source": [
    "fpr, tpr, thresholds = roc_curve(y_test, test_predict_scores[:,1], pos_label=1)\n",
    "\n",
    "plt.clf()\n",
    "plt.plot([0,1],[0,1], 'k--', c=\"red\")\n",
    "plt.plot(fpr, tpr)\n",
    "plt.title(\"ROC best RF, AUC: {}\".format(roc_auc_score(y_test, dfx[\"prob_label\"].values)))\n",
    "plt.xlabel(\"fpr\")\n",
    "plt.ylabel(\"tpr\")\n",
    "plt.show()"
   ]
  },
  {
   "cell_type": "code",
   "execution_count": 32,
   "metadata": {
    "ExecuteTime": {
     "end_time": "2020-12-06T20:43:55.181547Z",
     "start_time": "2020-12-06T20:43:55.120680Z"
    },
    "scrolled": true
   },
   "outputs": [
    {
     "data": {
      "text/plain": [
       "0.5872603881988326"
      ]
     },
     "execution_count": 32,
     "metadata": {},
     "output_type": "execute_result"
    }
   ],
   "source": [
    "accuracy_score(y_test, dfx[\"prob_label\"].values)"
   ]
  },
  {
   "cell_type": "code",
   "execution_count": 67,
   "metadata": {
    "ExecuteTime": {
     "end_time": "2020-12-06T21:40:20.994284Z",
     "start_time": "2020-12-06T21:40:20.730701Z"
    }
   },
   "outputs": [
    {
     "data": {
      "text/plain": [
       "0.6918446831110586"
      ]
     },
     "execution_count": 67,
     "metadata": {},
     "output_type": "execute_result"
    }
   ],
   "source": [
    "recall_score(y_test, dfx[\"prob_label\"].values)"
   ]
  },
  {
   "cell_type": "code",
   "execution_count": 33,
   "metadata": {
    "ExecuteTime": {
     "end_time": "2020-12-06T20:43:55.428934Z",
     "start_time": "2020-12-06T20:43:55.372820Z"
    }
   },
   "outputs": [
    {
     "data": {
      "text/plain": [
       "0.795802786895518"
      ]
     },
     "execution_count": 33,
     "metadata": {},
     "output_type": "execute_result"
    }
   ],
   "source": [
    "accuracy_score(y_test, test_predict_labs)"
   ]
  },
  {
   "cell_type": "code",
   "execution_count": 66,
   "metadata": {
    "ExecuteTime": {
     "end_time": "2020-12-06T21:40:09.952771Z",
     "start_time": "2020-12-06T21:40:09.684460Z"
    }
   },
   "outputs": [
    {
     "data": {
      "text/plain": [
       "0.0"
      ]
     },
     "execution_count": 66,
     "metadata": {},
     "output_type": "execute_result"
    }
   ],
   "source": [
    "recall_score(y_test, test_predict_labs)"
   ]
  },
  {
   "cell_type": "code",
   "execution_count": 39,
   "metadata": {
    "ExecuteTime": {
     "end_time": "2020-12-06T20:47:21.917948Z",
     "start_time": "2020-12-06T20:47:21.836040Z"
    }
   },
   "outputs": [],
   "source": [
    "precision, recall, thresholds_2 = precision_recall_curve(y_test, test_predict_scores[:,1], pos_label=1)\n",
    "thresholds_2 = np.append(thresholds_2, 1)"
   ]
  },
  {
   "cell_type": "code",
   "execution_count": 48,
   "metadata": {
    "ExecuteTime": {
     "end_time": "2020-12-06T21:01:00.479602Z",
     "start_time": "2020-12-06T21:01:00.449172Z"
    }
   },
   "outputs": [
    {
     "data": {
      "text/plain": [
       "array([0.06178877, 0.06237191, 0.06245233, 0.06249023, 0.06255245,\n",
       "       0.06257064, 0.06275003, 0.06304369, 0.0630946 , 0.06321291,\n",
       "       0.06325391, 0.06338916, 0.0636642 , 0.06378251, 0.06392651,\n",
       "       0.06397875, 0.06409707, 0.06413532, 0.0641643 , 0.06416989,\n",
       "       0.06420001, 0.06420114, 0.0642233 , 0.06429083, 0.06431833,\n",
       "       0.06432508, 0.06440307, 0.06440914, 0.06458129, 0.06459586,\n",
       "       0.0646847 , 0.06470781, 0.06471417, 0.06473695, 0.06476208,\n",
       "       0.06482613, 0.06485862, 0.06498514, 0.06505404, 0.06510346,\n",
       "       0.06511712, 0.06535199, 0.06539998, 0.06552651, 0.06564483,\n",
       "       0.06581176, 0.06581568, 0.06583297, 0.0658388 , 0.0658626 ,\n",
       "       0.06596612, 0.06622874, 0.06624345, 0.06627958, 0.06635149,\n",
       "       0.06642541, 0.06650607, 0.06653711, 0.06655193, 0.06655691,\n",
       "       0.06667025, 0.06704744, 0.06709828, 0.06726064, 0.06777225,\n",
       "       0.06802644, 0.06807286, 0.0681237 , 0.06837329, 0.06870259,\n",
       "       0.06906984, 0.06917496, 0.06931851, 0.06934251, 0.06945157,\n",
       "       0.06947496, 0.06956587, 0.06958406, 0.06964781, 0.06964823,\n",
       "       0.06970976, 0.06987711, 0.06991336, 0.06998285, 0.07001505,\n",
       "       0.07001548, 0.07001749, 0.07004864, 0.07026018, 0.07027663,\n",
       "       0.07028061, 0.07028815, 0.07037794, 0.07042017, 0.07042881,\n",
       "       0.07057411, 0.07059345, 0.0706554 , 0.07065741, 0.07067877,\n",
       "       0.07068573, 0.07074519, 0.07080155, 0.07082232, 0.070859  ,\n",
       "       0.07094136, 0.07096069, 0.0709627 , 0.07104496, 0.07105978,\n",
       "       0.07108787, 0.07108902, 0.07112655, 0.07115031, 0.07115579,\n",
       "       0.0711781 , 0.07120734, 0.07121045, 0.07121404, 0.07122625,\n",
       "       0.07122826, 0.07123047, 0.07132358, 0.07137402, 0.07151933,\n",
       "       0.07153975, 0.07155246, 0.07158128, 0.07163957, 0.07167557,\n",
       "       0.07169083, 0.07169284, 0.07178488, 0.07183913, 0.07188658,\n",
       "       0.07198444, 0.07200487, 0.07215213, 0.07235169, 0.07257749,\n",
       "       0.07258071, 0.07260995, 0.07263155, 0.07266079, 0.0730426 ,\n",
       "       0.07316184, 0.07317257, 0.07326486, 0.0732756 , 0.07333163,\n",
       "       0.07334237, 0.07338317, 0.07339391, 0.07343917, 0.07354219,\n",
       "       0.07360896, 0.0736605 , 0.07368593, 0.07392648, 0.07447136,\n",
       "       0.07449961, 0.07450621, 0.07464571, 0.07474676, 0.07476033,\n",
       "       0.07480116, 0.07483663, 0.07484736, 0.07492277, 0.07504171,\n",
       "       0.07511395, 0.07516332, 0.07529163, 0.07531988, 0.07534002,\n",
       "       0.07543251, 0.07544827, 0.0755806 , 0.07558658, 0.07560291,\n",
       "       0.07561483, 0.07567306, 0.07568882, 0.07570819, 0.07571381,\n",
       "       0.07573645, 0.07583542, 0.07592201, 0.07616256, 0.07621793,\n",
       "       0.07624619, 0.07626195, 0.07634516, 0.07647067, 0.07652266,\n",
       "       0.07669226, 0.07670744, 0.07681387, 0.0768469 , 0.07693281,\n",
       "       0.07696852, 0.07699641, 0.07705442, 0.07719631, 0.07720705,\n",
       "       0.07737038, 0.07738112, 0.07747364, 0.07750593, 0.07760491,\n",
       "       0.07762755, 0.07764771, 0.07772652, 0.07775092, 0.07779328,\n",
       "       0.07787253, 0.07796655, 0.07799147, 0.07810139, 0.07811308,\n",
       "       0.07827466, 0.07829957, 0.07842119, 0.07853634, 0.07865795,\n",
       "       0.07866357, 0.07878518, 0.07896559, 0.0792737 , 0.07968791,\n",
       "       0.08038937, 0.08046979, 0.08111205, 0.08168166, 0.08199621,\n",
       "       0.08221747, 0.08261332, 0.10106739, 0.10310204, 0.10319687,\n",
       "       0.1032398 , 0.10339751, 0.10342251, 0.10349234, 0.10351734,\n",
       "       0.10369247, 0.10658983, 0.10665674, 0.10694456, 0.10736264,\n",
       "       0.10739438, 0.10756304, 0.10760252, 0.10792526, 0.10796819,\n",
       "       0.10809392, 0.10813685, 0.10822073, 0.10825067, 0.10832179,\n",
       "       0.10838939, 0.10841933, 0.10862692, 0.10866985, 0.10868314,\n",
       "       0.1088518 , 0.10892239, 0.10897975, 0.10898773, 0.10921735,\n",
       "       0.10928404, 0.10934542, 0.10938479, 0.10953658, 0.10959796,\n",
       "       0.10960002, 0.1096279 , 0.1096404 , 0.10964295, 0.10983154,\n",
       "       0.1098772 , 0.10989549, 0.10992013, 0.10994053, 0.10997326,\n",
       "       0.10998345, 0.11000415, 0.11001619, 0.11017267, 0.11019045,\n",
       "       0.110236  , 0.11026593, 0.11026873, 0.11029866, 0.11029962,\n",
       "       0.11035789, 0.11046763, 0.11059458, 0.1106902 , 0.11076203,\n",
       "       0.11094274, 0.11101763, 0.11120877, 0.11152439, 0.11171034,\n",
       "       0.11180518, 0.11185479, 0.11209603, 0.11219086, 0.11222605,\n",
       "       0.11263407, 0.11287761, 0.11297244, 0.11326329, 0.11335813,\n",
       "       0.11336089, 0.1134319 , 0.11360328, 0.11386547, 0.1139084 ,\n",
       "       0.1139603 , 0.11400323, 0.11416094, 0.11425115, 0.11425577,\n",
       "       0.11429408, 0.11434599, 0.11438891, 0.11454662, 0.11464146,\n",
       "       0.11594142, 0.11603626, 0.11632711, 0.11642194, 0.1165245 ,\n",
       "       0.11709678, 0.11713971, 0.11716591, 0.11718582, 0.11720883,\n",
       "       0.11733456, 0.11735448, 0.11737749, 0.11739225, 0.11749131,\n",
       "       0.1174976 , 0.11751123, 0.11763003, 0.11765997, 0.11767989,\n",
       "       0.11769177, 0.11790173, 0.11798724, 0.11806988, 0.11811281,\n",
       "       0.1182113 , 0.11823122, 0.11825423, 0.11836535, 0.11837996,\n",
       "       0.11839987, 0.11842288, 0.11847401, 0.11850677, 0.11851694,\n",
       "       0.11853671, 0.11855662, 0.11856305, 0.11858606, 0.11866487,\n",
       "       0.11867542, 0.11870536, 0.11872528, 0.11876948, 0.11886854,\n",
       "       0.11888846, 0.11901701, 0.119069  , 0.11917274, 0.11952715,\n",
       "       0.11957008, 0.11958853, 0.11960845, 0.11963146, 0.11975181,\n",
       "       0.11982047, 0.11982262, 0.119884  , 0.11991394, 0.11993385,\n",
       "       0.12013749, 0.12014584, 0.12016323, 0.12020616, 0.12038789,\n",
       "       0.1204587 , 0.12054997, 0.12055652, 0.12056162, 0.12058925,\n",
       "       0.12077358, 0.12081416, 0.12082011, 0.12088193, 0.12090438,\n",
       "       0.12091466, 0.12091907, 0.12112904, 0.12117827, 0.12119985,\n",
       "       0.12121454, 0.12121742, 0.12123296, 0.12126327, 0.12126569,\n",
       "       0.12130476, 0.12151472, 0.12155837, 0.12158867, 0.1215911 ,\n",
       "       0.12160023, 0.12160311, 0.1216216 , 0.12172696, 0.12185062,\n",
       "       0.1218535 , 0.12193971, 0.12194084, 0.12211945, 0.12215218,\n",
       "       0.12216238, 0.12219511, 0.12223631, 0.12223919, 0.12226511,\n",
       "       0.12241492, 0.12244486, 0.12244765, 0.12247759, 0.12259465,\n",
       "       0.12266829, 0.1228262 , 0.12282862, 0.12283882, 0.12286913,\n",
       "       0.12287155, 0.12297746, 0.12298034, 0.12309136, 0.1231213 ,\n",
       "       0.12312167, 0.12312409, 0.1231516 , 0.12315403, 0.12350264,\n",
       "       0.12354557, 0.12379811, 0.12382804, 0.12753781, 0.12793122,\n",
       "       0.12862491, 0.12918492, 0.12932463, 0.12936756, 0.12957061,\n",
       "       0.1296201 , 0.12971031, 0.12975324, 0.12985759, 0.1299973 ,\n",
       "       0.13000578, 0.13004023, 0.13029277, 0.13047824, 0.13061795,\n",
       "       0.13066088, 0.13086393, 0.13091342, 0.13100364, 0.13104657,\n",
       "       0.13113672, 0.13127643, 0.13129911, 0.13131935, 0.13141282,\n",
       "       0.13152241, 0.1315719 , 0.13166211, 0.13170504, 0.13179851,\n",
       "       0.13195758, 0.13208549, 0.13270614, 0.13291999, 0.13294995,\n",
       "       0.13309183, 0.13309594, 0.1331018 , 0.13323694, 0.13324648,\n",
       "       0.13336462, 0.13336897, 0.13338292, 0.13364014, 0.13375031,\n",
       "       0.13376027, 0.13379068, 0.13426048, 0.13429862, 0.13444916,\n",
       "       0.13593082, 0.1363798 , 0.13727131, 0.13858986, 0.13890864,\n",
       "       0.14009693, 0.14065117, 0.14075655, 0.14096995, 0.14105064,\n",
       "       0.14154269, 0.14164806, 0.14226405, 0.14234899, 0.14242659,\n",
       "       0.14248869, 0.14251153, 0.14265124, 0.14278416, 0.14294671,\n",
       "       0.14356224, 0.14364718, 0.14367975, 0.14372478, 0.14378688,\n",
       "       0.14380972, 0.14394943, 0.14407484, 0.14408235, 0.14415978,\n",
       "       0.14423738, 0.14424489, 0.14429949, 0.14432232, 0.14432504,\n",
       "       0.14446203, 0.14450331, 0.14454393, 0.14459495, 0.14464383,\n",
       "       0.14466585, 0.1447575 , 0.14513234, 0.14521656, 0.14527205,\n",
       "       0.14535341, 0.14549311, 0.14556752, 0.14564062, 0.14566686,\n",
       "       0.14578858, 0.1458015 , 0.14580194, 0.14580445, 0.14582357,\n",
       "       0.14583908, 0.14594165, 0.14594416, 0.14596404, 0.14597879,\n",
       "       0.14599427, 0.14621534, 0.14623712, 0.14623963, 0.14625201,\n",
       "       0.14627426, 0.1463141 , 0.14631705, 0.14633618, 0.14639171,\n",
       "       0.14645676, 0.14647664, 0.14652314, 0.14653213, 0.14666388,\n",
       "       0.14666638, 0.14667985, 0.14668718, 0.14670102, 0.14675223,\n",
       "       0.14711394, 0.14717774, 0.14717899, 0.14719245, 0.14732951,\n",
       "       0.14737949, 0.14758089, 0.14759775, 0.14773746, 0.14778056,\n",
       "       0.14782284, 0.14785559, 0.14796254, 0.14803293, 0.14810982,\n",
       "       0.14822811, 0.14824953, 0.14825801, 0.14826736, 0.14829316,\n",
       "       0.1483045 , 0.14840706, 0.1484223 , 0.14844421, 0.14845969,\n",
       "       0.148545  , 0.14863182, 0.14870253, 0.14870929, 0.14873967,\n",
       "       0.14887908, 0.1489121 , 0.1490518 , 0.14912929, 0.14915378,\n",
       "       0.14916643, 0.14923905, 0.14934727, 0.14939169, 0.1494247 ,\n",
       "       0.14944035, 0.14951156, 0.14953042, 0.14956441, 0.1496334 ,\n",
       "       0.14963787, 0.14966638, 0.14972734, 0.14985578, 0.14985988,\n",
       "       0.14991304, 0.15001094, 0.15002417, 0.15005274, 0.15015048,\n",
       "       0.15034821, 0.15036839, 0.15039032, 0.1505125 , 0.15052961,\n",
       "       0.150532  , 0.1506803 , 0.15073252, 0.1510023 , 0.15101951,\n",
       "       0.15104222, 0.15114201, 0.15119291, 0.15143747, 0.1515149 ,\n",
       "       0.15153056, 0.15160176, 0.15165461, 0.15195008, 0.15207225,\n",
       "       0.15211437, 0.15217762, 0.15232594, 0.15257581, 0.15261982,\n",
       "       0.15265486, 0.15290473, 0.15312962, 0.15313242, 0.15318183,\n",
       "       0.15348492, 0.15359503, 0.15364222, 0.15368049, 0.15379625,\n",
       "       0.15388201, 0.15393517, 0.15395692, 0.15444777, 0.15452943,\n",
       "       0.15486957, 0.15538217, 0.15540512, 0.15604453, 0.15810584,\n",
       "       0.15821122, 0.16003584, 0.16255465, 0.16314946, 0.16417627,\n",
       "       0.16442614, 0.17036549, 0.17061536, 0.17407026, 0.17582295,\n",
       "       0.17652441, 0.17716344, 0.1778649 , 0.17883378, 0.18017427,\n",
       "       0.18092301, 0.18340305, 0.18401619, 0.18410451, 0.18450584,\n",
       "       0.18526324, 0.18636821, 0.18641388, 0.18759901, 0.18833069,\n",
       "       0.18835642, 0.18890342, 0.19102903, 0.19113441, 0.19129182,\n",
       "       0.19160177, 0.19165363, 0.19235509, 0.19270434, 0.19399017,\n",
       "       0.19409554, 0.194385  , 0.19466446, 0.194725  , 0.19498073,\n",
       "       0.19529773, 0.19579752, 0.19605755, 0.19708334, 0.19823603,\n",
       "       0.19834498, 0.19875589, 0.19886127, 0.19988031, 0.19996785,\n",
       "       0.20017578, 0.20021772, 0.200266  , 0.20030893, 0.20056147,\n",
       "       0.2005914 , 0.20118829, 0.20132921, 0.20134209, 0.20143816,\n",
       "       0.20232312, 0.20323131, 0.20430813, 0.20450702, 0.2048665 ,\n",
       "       0.20489271, 0.20493564, 0.20521812, 0.20546131, 0.20672345,\n",
       "       0.20676638, 0.20700647, 0.20701892, 0.20704885, 0.20711185,\n",
       "       0.20739989, 0.20744282, 0.20769536, 0.20772529, 0.20795968,\n",
       "       0.20827472, 0.20831765, 0.20855449, 0.20857019, 0.20859838,\n",
       "       0.20860012, 0.20884825, 0.20895116, 0.20898146, 0.20902439,\n",
       "       0.20924663, 0.20927656, 0.20927693, 0.20930687, 0.20970083,\n",
       "       0.20979942, 0.20995337, 0.20998331, 0.21005196, 0.2105737 ,\n",
       "       0.21075711, 0.21080004, 0.21080189, 0.21084481, 0.21105258,\n",
       "       0.21108252, 0.21109736, 0.21112729, 0.21155976, 0.21208415,\n",
       "       0.21257865, 0.21260313, 0.21264605, 0.21283119, 0.21286112,\n",
       "       0.21289859, 0.21292853, 0.21313578, 0.213361  , 0.21358111,\n",
       "       0.21362404, 0.21387658, 0.21390652, 0.21391295, 0.21395588,\n",
       "       0.21398036, 0.21402328, 0.21427582, 0.21430576, 0.21433898,\n",
       "       0.21470163, 0.21482005, 0.21495834, 0.21500127, 0.21525381,\n",
       "       0.21528375, 0.2161953 , 0.21619728, 0.21649076, 0.2165207 ,\n",
       "       0.21684895, 0.21709882, 0.21727139, 0.21974834, 0.22009109,\n",
       "       0.22013402, 0.22038656, 0.2204165 , 0.22100544, 0.22238267,\n",
       "       0.22891823, 0.22896547, 0.2304857 , 0.2324481 , 0.23455683,\n",
       "       0.2347125 , 0.23647968, 0.23757428, 0.24048729, 0.24118099,\n",
       "       0.24841334, 0.24945569, 0.25083038, 0.25104312, 0.25125093,\n",
       "       0.25174458, 0.25192502, 0.25219356, 0.25229329, 0.25238361,\n",
       "       0.25296737, 0.25308507, 0.25347544, 0.25366798, 0.2541769 ,\n",
       "       0.25434206, 0.2571722 , 0.25742809, 0.25809231, 0.25812955,\n",
       "       0.25851269, 0.25874551, 0.25960452, 0.25978787, 0.26050449,\n",
       "       0.26154685, 0.26164944, 0.26218652, 0.26292154, 0.26375047,\n",
       "       0.26411278, 0.26416117, 0.26421816, 0.26468551, 0.26476559,\n",
       "       0.26476634, 0.26479339, 0.26510724, 0.26640109, 0.26669185,\n",
       "       0.26679723, 0.26709678, 0.26715707, 0.26731201, 0.26775538,\n",
       "       0.26804858, 0.26862781, 0.26871341, 0.26902304, 0.26912842,\n",
       "       0.26952511, 0.27055407, 0.27065945, 0.270927  , 0.27149973,\n",
       "       0.27241616, 0.27337733, 0.27372769, 0.27374865, 0.27434564,\n",
       "       0.27476644, 0.27588807, 0.27638716, 0.27661714, 0.27702729,\n",
       "       0.27784159, 0.27863638, 0.27866747, 0.27887446, 0.27888625,\n",
       "       0.27951611, 0.27976598, 0.28057055, 0.28080689, 0.28119264,\n",
       "       0.28177841, 0.28180602, 0.28202828, 0.28326768, 0.28378618,\n",
       "       0.28450315, 0.2847603 , 0.28514346, 0.285485  , 0.28573487,\n",
       "       0.28573827, 0.28745743, 0.28841329, 0.28848875, 0.288705  ,\n",
       "       0.28883728, 0.29005903, 0.29048302, 0.29064665, 0.29189663,\n",
       "       0.29292576, 0.29334975, 0.29340757, 0.29487658, 0.29556546,\n",
       "       0.29736098, 0.29951887, 0.29985234, 0.29992936, 0.30010221,\n",
       "       0.30330492, 0.30594641, 0.30619628, 0.30856272, 0.30985532,\n",
       "       1.        ])"
      ]
     },
     "execution_count": 48,
     "metadata": {},
     "output_type": "execute_result"
    }
   ],
   "source": [
    "thresholds_2"
   ]
  },
  {
   "cell_type": "code",
   "execution_count": 40,
   "metadata": {
    "ExecuteTime": {
     "end_time": "2020-12-06T20:47:39.240312Z",
     "start_time": "2020-12-06T20:47:39.213891Z"
    }
   },
   "outputs": [],
   "source": [
    "def get_metrics_report(fpr, tpr, thresholds, precision, recall, thresholds_2):\n",
    "    df_1 = pd.DataFrame({'threshold': thresholds_2,'precision': precision,\n",
    "                    'recall': recall})\n",
    "    df_1['f1_score'] = 2 * (df_1.precision * df_1.recall) / (df_1.precision + df_1.recall)\n",
    "    \n",
    "    df_2 = pd.DataFrame({'tpr': tpr, 'fpr': fpr, 'threshold': thresholds})\n",
    "    df_2['tnr'] = 1 - df_2['fpr']\n",
    "    df_2['fnr'] = 1 - df_2['tpr']\n",
    "    \n",
    "    df = df_1.merge(df_2, on=\"threshold\")\n",
    "    \n",
    "    return df"
   ]
  },
  {
   "cell_type": "code",
   "execution_count": 41,
   "metadata": {
    "ExecuteTime": {
     "end_time": "2020-12-06T20:47:46.731147Z",
     "start_time": "2020-12-06T20:47:46.684272Z"
    }
   },
   "outputs": [
    {
     "data": {
      "text/html": [
       "<div>\n",
       "<style scoped>\n",
       "    .dataframe tbody tr th:only-of-type {\n",
       "        vertical-align: middle;\n",
       "    }\n",
       "\n",
       "    .dataframe tbody tr th {\n",
       "        vertical-align: top;\n",
       "    }\n",
       "\n",
       "    .dataframe thead th {\n",
       "        text-align: right;\n",
       "    }\n",
       "</style>\n",
       "<table border=\"1\" class=\"dataframe\">\n",
       "  <thead>\n",
       "    <tr style=\"text-align: right;\">\n",
       "      <th></th>\n",
       "      <th>threshold</th>\n",
       "      <th>precision</th>\n",
       "      <th>recall</th>\n",
       "      <th>f1_score</th>\n",
       "      <th>tpr</th>\n",
       "      <th>fpr</th>\n",
       "      <th>tnr</th>\n",
       "      <th>fnr</th>\n",
       "    </tr>\n",
       "  </thead>\n",
       "  <tbody>\n",
       "    <tr>\n",
       "      <th>0</th>\n",
       "      <td>0.061789</td>\n",
       "      <td>0.204230</td>\n",
       "      <td>1.000000</td>\n",
       "      <td>0.339187</td>\n",
       "      <td>1.000000</td>\n",
       "      <td>0.999800</td>\n",
       "      <td>0.000200</td>\n",
       "      <td>0.000000</td>\n",
       "    </tr>\n",
       "    <tr>\n",
       "      <th>1</th>\n",
       "      <td>0.062372</td>\n",
       "      <td>0.204316</td>\n",
       "      <td>0.999953</td>\n",
       "      <td>0.339303</td>\n",
       "      <td>0.999953</td>\n",
       "      <td>0.999225</td>\n",
       "      <td>0.000775</td>\n",
       "      <td>0.000047</td>\n",
       "    </tr>\n",
       "    <tr>\n",
       "      <th>2</th>\n",
       "      <td>0.062452</td>\n",
       "      <td>0.204323</td>\n",
       "      <td>0.999941</td>\n",
       "      <td>0.339313</td>\n",
       "      <td>0.999941</td>\n",
       "      <td>0.999167</td>\n",
       "      <td>0.000833</td>\n",
       "      <td>0.000059</td>\n",
       "    </tr>\n",
       "    <tr>\n",
       "      <th>3</th>\n",
       "      <td>0.062490</td>\n",
       "      <td>0.204425</td>\n",
       "      <td>0.999823</td>\n",
       "      <td>0.339447</td>\n",
       "      <td>0.999823</td>\n",
       "      <td>0.998422</td>\n",
       "      <td>0.001578</td>\n",
       "      <td>0.000177</td>\n",
       "    </tr>\n",
       "    <tr>\n",
       "      <th>4</th>\n",
       "      <td>0.062552</td>\n",
       "      <td>0.204458</td>\n",
       "      <td>0.999799</td>\n",
       "      <td>0.339490</td>\n",
       "      <td>0.999799</td>\n",
       "      <td>0.998198</td>\n",
       "      <td>0.001802</td>\n",
       "      <td>0.000201</td>\n",
       "    </tr>\n",
       "    <tr>\n",
       "      <th>...</th>\n",
       "      <td>...</td>\n",
       "      <td>...</td>\n",
       "      <td>...</td>\n",
       "      <td>...</td>\n",
       "      <td>...</td>\n",
       "      <td>...</td>\n",
       "      <td>...</td>\n",
       "      <td>...</td>\n",
       "    </tr>\n",
       "    <tr>\n",
       "      <th>935</th>\n",
       "      <td>0.303305</td>\n",
       "      <td>0.341528</td>\n",
       "      <td>0.142323</td>\n",
       "      <td>0.200918</td>\n",
       "      <td>0.142323</td>\n",
       "      <td>0.070409</td>\n",
       "      <td>0.929591</td>\n",
       "      <td>0.857677</td>\n",
       "    </tr>\n",
       "    <tr>\n",
       "      <th>936</th>\n",
       "      <td>0.305946</td>\n",
       "      <td>0.340072</td>\n",
       "      <td>0.135607</td>\n",
       "      <td>0.193896</td>\n",
       "      <td>0.135607</td>\n",
       "      <td>0.067523</td>\n",
       "      <td>0.932477</td>\n",
       "      <td>0.864393</td>\n",
       "    </tr>\n",
       "    <tr>\n",
       "      <th>937</th>\n",
       "      <td>0.306196</td>\n",
       "      <td>0.339078</td>\n",
       "      <td>0.128172</td>\n",
       "      <td>0.186026</td>\n",
       "      <td>0.128172</td>\n",
       "      <td>0.064104</td>\n",
       "      <td>0.935896</td>\n",
       "      <td>0.871828</td>\n",
       "    </tr>\n",
       "    <tr>\n",
       "      <th>938</th>\n",
       "      <td>0.308563</td>\n",
       "      <td>0.345293</td>\n",
       "      <td>0.066671</td>\n",
       "      <td>0.111762</td>\n",
       "      <td>0.066671</td>\n",
       "      <td>0.032437</td>\n",
       "      <td>0.967563</td>\n",
       "      <td>0.933329</td>\n",
       "    </tr>\n",
       "    <tr>\n",
       "      <th>939</th>\n",
       "      <td>0.309855</td>\n",
       "      <td>0.345156</td>\n",
       "      <td>0.059377</td>\n",
       "      <td>0.101323</td>\n",
       "      <td>0.059377</td>\n",
       "      <td>0.028906</td>\n",
       "      <td>0.971094</td>\n",
       "      <td>0.940623</td>\n",
       "    </tr>\n",
       "  </tbody>\n",
       "</table>\n",
       "<p>940 rows × 8 columns</p>\n",
       "</div>"
      ],
      "text/plain": [
       "     threshold  precision    recall  f1_score       tpr       fpr       tnr  \\\n",
       "0     0.061789   0.204230  1.000000  0.339187  1.000000  0.999800  0.000200   \n",
       "1     0.062372   0.204316  0.999953  0.339303  0.999953  0.999225  0.000775   \n",
       "2     0.062452   0.204323  0.999941  0.339313  0.999941  0.999167  0.000833   \n",
       "3     0.062490   0.204425  0.999823  0.339447  0.999823  0.998422  0.001578   \n",
       "4     0.062552   0.204458  0.999799  0.339490  0.999799  0.998198  0.001802   \n",
       "..         ...        ...       ...       ...       ...       ...       ...   \n",
       "935   0.303305   0.341528  0.142323  0.200918  0.142323  0.070409  0.929591   \n",
       "936   0.305946   0.340072  0.135607  0.193896  0.135607  0.067523  0.932477   \n",
       "937   0.306196   0.339078  0.128172  0.186026  0.128172  0.064104  0.935896   \n",
       "938   0.308563   0.345293  0.066671  0.111762  0.066671  0.032437  0.967563   \n",
       "939   0.309855   0.345156  0.059377  0.101323  0.059377  0.028906  0.971094   \n",
       "\n",
       "          fnr  \n",
       "0    0.000000  \n",
       "1    0.000047  \n",
       "2    0.000059  \n",
       "3    0.000177  \n",
       "4    0.000201  \n",
       "..        ...  \n",
       "935  0.857677  \n",
       "936  0.864393  \n",
       "937  0.871828  \n",
       "938  0.933329  \n",
       "939  0.940623  \n",
       "\n",
       "[940 rows x 8 columns]"
      ]
     },
     "execution_count": 41,
     "metadata": {},
     "output_type": "execute_result"
    }
   ],
   "source": [
    "metrics_report = get_metrics_report(fpr, tpr, thresholds, precision, recall, thresholds_2)\n",
    "metrics_report"
   ]
  },
  {
   "cell_type": "code",
   "execution_count": 43,
   "metadata": {
    "ExecuteTime": {
     "end_time": "2020-12-06T20:49:05.665000Z",
     "start_time": "2020-12-06T20:49:05.625643Z"
    },
    "scrolled": false
   },
   "outputs": [
    {
     "data": {
      "text/html": [
       "<div>\n",
       "<style scoped>\n",
       "    .dataframe tbody tr th:only-of-type {\n",
       "        vertical-align: middle;\n",
       "    }\n",
       "\n",
       "    .dataframe tbody tr th {\n",
       "        vertical-align: top;\n",
       "    }\n",
       "\n",
       "    .dataframe thead th {\n",
       "        text-align: right;\n",
       "    }\n",
       "</style>\n",
       "<table border=\"1\" class=\"dataframe\">\n",
       "  <thead>\n",
       "    <tr style=\"text-align: right;\">\n",
       "      <th></th>\n",
       "      <th>threshold</th>\n",
       "      <th>precision</th>\n",
       "      <th>recall</th>\n",
       "      <th>f1_score</th>\n",
       "      <th>tpr</th>\n",
       "      <th>fpr</th>\n",
       "      <th>tnr</th>\n",
       "      <th>fnr</th>\n",
       "    </tr>\n",
       "  </thead>\n",
       "  <tbody>\n",
       "    <tr>\n",
       "      <th>679</th>\n",
       "      <td>0.170365</td>\n",
       "      <td>0.287602</td>\n",
       "      <td>0.691915</td>\n",
       "      <td>0.406315</td>\n",
       "      <td>0.691915</td>\n",
       "      <td>0.439772</td>\n",
       "      <td>0.560228</td>\n",
       "      <td>0.308085</td>\n",
       "    </tr>\n",
       "    <tr>\n",
       "      <th>680</th>\n",
       "      <td>0.170615</td>\n",
       "      <td>0.287607</td>\n",
       "      <td>0.691915</td>\n",
       "      <td>0.406319</td>\n",
       "      <td>0.691915</td>\n",
       "      <td>0.439763</td>\n",
       "      <td>0.560237</td>\n",
       "      <td>0.308085</td>\n",
       "    </tr>\n",
       "    <tr>\n",
       "      <th>681</th>\n",
       "      <td>0.174070</td>\n",
       "      <td>0.287626</td>\n",
       "      <td>0.691904</td>\n",
       "      <td>0.406336</td>\n",
       "      <td>0.691904</td>\n",
       "      <td>0.439714</td>\n",
       "      <td>0.560286</td>\n",
       "      <td>0.308096</td>\n",
       "    </tr>\n",
       "    <tr>\n",
       "      <th>682</th>\n",
       "      <td>0.175823</td>\n",
       "      <td>0.287627</td>\n",
       "      <td>0.691904</td>\n",
       "      <td>0.406338</td>\n",
       "      <td>0.691904</td>\n",
       "      <td>0.439711</td>\n",
       "      <td>0.560289</td>\n",
       "      <td>0.308096</td>\n",
       "    </tr>\n",
       "    <tr>\n",
       "      <th>683</th>\n",
       "      <td>0.176524</td>\n",
       "      <td>0.287657</td>\n",
       "      <td>0.691904</td>\n",
       "      <td>0.406367</td>\n",
       "      <td>0.691904</td>\n",
       "      <td>0.439648</td>\n",
       "      <td>0.560352</td>\n",
       "      <td>0.308096</td>\n",
       "    </tr>\n",
       "    <tr>\n",
       "      <th>684</th>\n",
       "      <td>0.177163</td>\n",
       "      <td>0.287657</td>\n",
       "      <td>0.691880</td>\n",
       "      <td>0.406363</td>\n",
       "      <td>0.691880</td>\n",
       "      <td>0.439633</td>\n",
       "      <td>0.560367</td>\n",
       "      <td>0.308120</td>\n",
       "    </tr>\n",
       "    <tr>\n",
       "      <th>685</th>\n",
       "      <td>0.177865</td>\n",
       "      <td>0.287662</td>\n",
       "      <td>0.691868</td>\n",
       "      <td>0.406366</td>\n",
       "      <td>0.691868</td>\n",
       "      <td>0.439615</td>\n",
       "      <td>0.560385</td>\n",
       "      <td>0.308132</td>\n",
       "    </tr>\n",
       "    <tr>\n",
       "      <th>686</th>\n",
       "      <td>0.178834</td>\n",
       "      <td>0.287658</td>\n",
       "      <td>0.691856</td>\n",
       "      <td>0.406361</td>\n",
       "      <td>0.691856</td>\n",
       "      <td>0.439615</td>\n",
       "      <td>0.560385</td>\n",
       "      <td>0.308144</td>\n",
       "    </tr>\n",
       "    <tr>\n",
       "      <th>687</th>\n",
       "      <td>0.180174</td>\n",
       "      <td>0.287673</td>\n",
       "      <td>0.691845</td>\n",
       "      <td>0.406374</td>\n",
       "      <td>0.691845</td>\n",
       "      <td>0.439575</td>\n",
       "      <td>0.560425</td>\n",
       "      <td>0.308155</td>\n",
       "    </tr>\n",
       "    <tr>\n",
       "      <th>688</th>\n",
       "      <td>0.180923</td>\n",
       "      <td>0.287674</td>\n",
       "      <td>0.691833</td>\n",
       "      <td>0.406372</td>\n",
       "      <td>0.691833</td>\n",
       "      <td>0.439566</td>\n",
       "      <td>0.560434</td>\n",
       "      <td>0.308167</td>\n",
       "    </tr>\n",
       "    <tr>\n",
       "      <th>689</th>\n",
       "      <td>0.183403</td>\n",
       "      <td>0.287673</td>\n",
       "      <td>0.691774</td>\n",
       "      <td>0.406362</td>\n",
       "      <td>0.691774</td>\n",
       "      <td>0.439530</td>\n",
       "      <td>0.560470</td>\n",
       "      <td>0.308226</td>\n",
       "    </tr>\n",
       "    <tr>\n",
       "      <th>690</th>\n",
       "      <td>0.184016</td>\n",
       "      <td>0.287697</td>\n",
       "      <td>0.691715</td>\n",
       "      <td>0.406375</td>\n",
       "      <td>0.691715</td>\n",
       "      <td>0.439442</td>\n",
       "      <td>0.560558</td>\n",
       "      <td>0.308285</td>\n",
       "    </tr>\n",
       "    <tr>\n",
       "      <th>691</th>\n",
       "      <td>0.184105</td>\n",
       "      <td>0.287701</td>\n",
       "      <td>0.691644</td>\n",
       "      <td>0.406367</td>\n",
       "      <td>0.691644</td>\n",
       "      <td>0.439387</td>\n",
       "      <td>0.560613</td>\n",
       "      <td>0.308356</td>\n",
       "    </tr>\n",
       "    <tr>\n",
       "      <th>692</th>\n",
       "      <td>0.184506</td>\n",
       "      <td>0.287711</td>\n",
       "      <td>0.691620</td>\n",
       "      <td>0.406373</td>\n",
       "      <td>0.691620</td>\n",
       "      <td>0.439351</td>\n",
       "      <td>0.560649</td>\n",
       "      <td>0.308380</td>\n",
       "    </tr>\n",
       "    <tr>\n",
       "      <th>693</th>\n",
       "      <td>0.185263</td>\n",
       "      <td>0.287722</td>\n",
       "      <td>0.691620</td>\n",
       "      <td>0.406384</td>\n",
       "      <td>0.691620</td>\n",
       "      <td>0.439327</td>\n",
       "      <td>0.560673</td>\n",
       "      <td>0.308380</td>\n",
       "    </tr>\n",
       "    <tr>\n",
       "      <th>694</th>\n",
       "      <td>0.186368</td>\n",
       "      <td>0.287724</td>\n",
       "      <td>0.691620</td>\n",
       "      <td>0.406386</td>\n",
       "      <td>0.691620</td>\n",
       "      <td>0.439324</td>\n",
       "      <td>0.560676</td>\n",
       "      <td>0.308380</td>\n",
       "    </tr>\n",
       "    <tr>\n",
       "      <th>695</th>\n",
       "      <td>0.186414</td>\n",
       "      <td>0.287721</td>\n",
       "      <td>0.691573</td>\n",
       "      <td>0.406375</td>\n",
       "      <td>0.691573</td>\n",
       "      <td>0.439300</td>\n",
       "      <td>0.560700</td>\n",
       "      <td>0.308427</td>\n",
       "    </tr>\n",
       "    <tr>\n",
       "      <th>696</th>\n",
       "      <td>0.187599</td>\n",
       "      <td>0.287744</td>\n",
       "      <td>0.691502</td>\n",
       "      <td>0.406385</td>\n",
       "      <td>0.691502</td>\n",
       "      <td>0.439206</td>\n",
       "      <td>0.560794</td>\n",
       "      <td>0.308498</td>\n",
       "    </tr>\n",
       "    <tr>\n",
       "      <th>697</th>\n",
       "      <td>0.188331</td>\n",
       "      <td>0.287753</td>\n",
       "      <td>0.691491</td>\n",
       "      <td>0.406392</td>\n",
       "      <td>0.691491</td>\n",
       "      <td>0.439178</td>\n",
       "      <td>0.560822</td>\n",
       "      <td>0.308509</td>\n",
       "    </tr>\n",
       "    <tr>\n",
       "      <th>698</th>\n",
       "      <td>0.188356</td>\n",
       "      <td>0.287753</td>\n",
       "      <td>0.691455</td>\n",
       "      <td>0.406386</td>\n",
       "      <td>0.691455</td>\n",
       "      <td>0.439157</td>\n",
       "      <td>0.560843</td>\n",
       "      <td>0.308545</td>\n",
       "    </tr>\n",
       "    <tr>\n",
       "      <th>699</th>\n",
       "      <td>0.188903</td>\n",
       "      <td>0.287758</td>\n",
       "      <td>0.691455</td>\n",
       "      <td>0.406391</td>\n",
       "      <td>0.691455</td>\n",
       "      <td>0.439145</td>\n",
       "      <td>0.560855</td>\n",
       "      <td>0.308545</td>\n",
       "    </tr>\n",
       "  </tbody>\n",
       "</table>\n",
       "</div>"
      ],
      "text/plain": [
       "     threshold  precision    recall  f1_score       tpr       fpr       tnr  \\\n",
       "679   0.170365   0.287602  0.691915  0.406315  0.691915  0.439772  0.560228   \n",
       "680   0.170615   0.287607  0.691915  0.406319  0.691915  0.439763  0.560237   \n",
       "681   0.174070   0.287626  0.691904  0.406336  0.691904  0.439714  0.560286   \n",
       "682   0.175823   0.287627  0.691904  0.406338  0.691904  0.439711  0.560289   \n",
       "683   0.176524   0.287657  0.691904  0.406367  0.691904  0.439648  0.560352   \n",
       "684   0.177163   0.287657  0.691880  0.406363  0.691880  0.439633  0.560367   \n",
       "685   0.177865   0.287662  0.691868  0.406366  0.691868  0.439615  0.560385   \n",
       "686   0.178834   0.287658  0.691856  0.406361  0.691856  0.439615  0.560385   \n",
       "687   0.180174   0.287673  0.691845  0.406374  0.691845  0.439575  0.560425   \n",
       "688   0.180923   0.287674  0.691833  0.406372  0.691833  0.439566  0.560434   \n",
       "689   0.183403   0.287673  0.691774  0.406362  0.691774  0.439530  0.560470   \n",
       "690   0.184016   0.287697  0.691715  0.406375  0.691715  0.439442  0.560558   \n",
       "691   0.184105   0.287701  0.691644  0.406367  0.691644  0.439387  0.560613   \n",
       "692   0.184506   0.287711  0.691620  0.406373  0.691620  0.439351  0.560649   \n",
       "693   0.185263   0.287722  0.691620  0.406384  0.691620  0.439327  0.560673   \n",
       "694   0.186368   0.287724  0.691620  0.406386  0.691620  0.439324  0.560676   \n",
       "695   0.186414   0.287721  0.691573  0.406375  0.691573  0.439300  0.560700   \n",
       "696   0.187599   0.287744  0.691502  0.406385  0.691502  0.439206  0.560794   \n",
       "697   0.188331   0.287753  0.691491  0.406392  0.691491  0.439178  0.560822   \n",
       "698   0.188356   0.287753  0.691455  0.406386  0.691455  0.439157  0.560843   \n",
       "699   0.188903   0.287758  0.691455  0.406391  0.691455  0.439145  0.560855   \n",
       "\n",
       "          fnr  \n",
       "679  0.308085  \n",
       "680  0.308085  \n",
       "681  0.308096  \n",
       "682  0.308096  \n",
       "683  0.308096  \n",
       "684  0.308120  \n",
       "685  0.308132  \n",
       "686  0.308144  \n",
       "687  0.308155  \n",
       "688  0.308167  \n",
       "689  0.308226  \n",
       "690  0.308285  \n",
       "691  0.308356  \n",
       "692  0.308380  \n",
       "693  0.308380  \n",
       "694  0.308380  \n",
       "695  0.308427  \n",
       "696  0.308498  \n",
       "697  0.308509  \n",
       "698  0.308545  \n",
       "699  0.308545  "
      ]
     },
     "execution_count": 43,
     "metadata": {},
     "output_type": "execute_result"
    }
   ],
   "source": [
    "li = 0.17\n",
    "ls = 0.19\n",
    "m1 = (metrics_report[\"threshold\"] > li) & (metrics_report[\"threshold\"] < ls)\n",
    "metrics_report.loc[m1, :]"
   ]
  },
  {
   "cell_type": "markdown",
   "metadata": {
    "heading_collapsed": true
   },
   "source": [
    "# *Notes*"
   ]
  },
  {
   "cell_type": "markdown",
   "metadata": {
    "hidden": true
   },
   "source": [
    "## Finding labels of processed matrix"
   ]
  },
  {
   "cell_type": "markdown",
   "metadata": {
    "hidden": true
   },
   "source": [
    "#### Manually number of labels that should be in the model."
   ]
  },
  {
   "cell_type": "code",
   "execution_count": null,
   "metadata": {
    "ExecuteTime": {
     "end_time": "2020-11-25T19:04:25.478389Z",
     "start_time": "2020-11-25T19:04:21.864041Z"
    },
    "hidden": true
   },
   "outputs": [],
   "source": [
    "cat_list = list(df_tra[\"dia_semana\"].unique()) + \\\n",
    "            list(df_tra[\"incidente_c4\"].unique()) + \\\n",
    "            list(df_tra[\"tipo_entrada\"].unique()) + \\\n",
    "            list(df_tra[\"anio_inicio\"].unique())"
   ]
  },
  {
   "cell_type": "code",
   "execution_count": null,
   "metadata": {
    "ExecuteTime": {
     "end_time": "2020-11-25T19:04:34.571022Z",
     "start_time": "2020-11-25T19:04:34.496408Z"
    },
    "hidden": true,
    "scrolled": true
   },
   "outputs": [],
   "source": [
    "print(len(cat_list))\n",
    "cat_list"
   ]
  },
  {
   "cell_type": "markdown",
   "metadata": {
    "heading_collapsed": true,
    "hidden": true
   },
   "source": [
    "#### Example code from StackOverflow to get labels."
   ]
  },
  {
   "cell_type": "code",
   "execution_count": null,
   "metadata": {
    "ExecuteTime": {
     "end_time": "2020-11-25T03:28:44.879590Z",
     "start_time": "2020-11-25T03:28:44.803530Z"
    },
    "hidden": true
   },
   "outputs": [],
   "source": [
    "import pandas as pd\n",
    "import numpy as np\n",
    "from sklearn.compose import ColumnTransformer\n",
    "from sklearn.pipeline import make_pipeline\n",
    "from sklearn.impute import SimpleImputer\n",
    "from sklearn.preprocessing import StandardScaler, OneHotEncoder, MinMaxScaler\n",
    "from sklearn.feature_extraction.text import _VectorizerMixin\n",
    "from sklearn.feature_selection._base import SelectorMixin\n",
    "from sklearn.feature_selection import SelectKBest\n",
    "from sklearn.feature_extraction.text import CountVectorizer\n",
    "from sklearn.pipeline import Pipeline\n",
    "\n",
    "train = pd.DataFrame({'age': [23,12, 12, np.nan],\n",
    "                      'Gender': ['M','F', np.nan, 'F'],\n",
    "                      'income': ['high','low','low','medium'],\n",
    "                      'sales': [10000, 100020, 110000, 100],\n",
    "                      'foo' : [1,0,0,1],\n",
    "                      'text': ['I will test this',\n",
    "                               'need to write more sentence',\n",
    "                               'want to keep it simple',\n",
    "                               'hope you got that these sentences are junk'],\n",
    "                      'y': [0,1,1,1]})\n",
    "numeric_columns = ['age']\n",
    "cat_columns     = ['Gender','income']\n",
    "\n",
    "numeric_pipeline = make_pipeline(SimpleImputer(strategy='median'), StandardScaler())\n",
    "cat_pipeline     = make_pipeline(SimpleImputer(strategy='most_frequent'), OneHotEncoder())\n",
    "text_pipeline = make_pipeline(CountVectorizer(), SelectKBest(k=5))\n",
    "\n",
    "transformers = [\n",
    "('num', numeric_pipeline, numeric_columns),\n",
    "('cat', cat_pipeline, cat_columns),\n",
    "('text', text_pipeline, 'text'),\n",
    "('simple_transformer', MinMaxScaler(), ['sales']),\n",
    "]\n",
    "\n",
    "combined_pipe = ColumnTransformer(transformers, remainder='passthrough')\n",
    "\n",
    "transformed_data = combined_pipe.fit_transform(train.drop('y',1), train['y'])"
   ]
  },
  {
   "cell_type": "code",
   "execution_count": null,
   "metadata": {
    "ExecuteTime": {
     "end_time": "2020-11-25T03:28:45.852590Z",
     "start_time": "2020-11-25T03:28:45.815549Z"
    },
    "hidden": true
   },
   "outputs": [],
   "source": [
    "train"
   ]
  },
  {
   "cell_type": "code",
   "execution_count": null,
   "metadata": {
    "ExecuteTime": {
     "end_time": "2020-11-25T03:28:48.165311Z",
     "start_time": "2020-11-25T03:28:48.137548Z"
    },
    "hidden": true
   },
   "outputs": [],
   "source": [
    "transformed_data.shape"
   ]
  },
  {
   "cell_type": "code",
   "execution_count": null,
   "metadata": {
    "ExecuteTime": {
     "end_time": "2020-11-25T03:28:48.419807Z",
     "start_time": "2020-11-25T03:28:48.364936Z"
    },
    "hidden": true
   },
   "outputs": [],
   "source": [
    "def get_feature_out(estimator, feature_in):\n",
    "    if hasattr(estimator,'get_feature_names'):\n",
    "        if isinstance(estimator, _VectorizerMixin):\n",
    "            # handling all vectorizers\n",
    "            return [f'vec_{f}' \\\n",
    "                for f in estimator.get_feature_names()]\n",
    "        else:\n",
    "            return estimator.get_feature_names(feature_in)\n",
    "    elif isinstance(estimator, SelectorMixin):\n",
    "        return np.array(feature_in)[estimator.get_support()]\n",
    "    else:\n",
    "        return feature_in\n",
    "\n",
    "\n",
    "def get_ct_feature_names(ct):\n",
    "    # handles all estimators, pipelines inside ColumnTransfomer\n",
    "    # doesn't work when remainder =='passthrough'\n",
    "    # which requires the input column names.\n",
    "    output_features = []\n",
    "\n",
    "    for name, estimator, features in ct.transformers_:\n",
    "        if name!='remainder':\n",
    "            if isinstance(estimator, Pipeline):\n",
    "                current_features = features\n",
    "                for step in estimator:\n",
    "                    current_features = get_feature_out(step, current_features)\n",
    "                features_out = current_features\n",
    "            else:\n",
    "                features_out = get_feature_out(estimator, features)\n",
    "            output_features.extend(features_out)\n",
    "        elif estimator=='passthrough':\n",
    "            output_features.extend(ct._feature_names_in[features])\n",
    "                \n",
    "    return output_features\n",
    "\n",
    "\n",
    "\n",
    "\n",
    "pd.DataFrame(transformed_data, \n",
    "             columns=get_ct_feature_names(combined_pipe))"
   ]
  },
  {
   "cell_type": "code",
   "execution_count": null,
   "metadata": {
    "ExecuteTime": {
     "end_time": "2020-11-25T03:28:56.004252Z",
     "start_time": "2020-11-25T03:28:55.970581Z"
    },
    "hidden": true
   },
   "outputs": [],
   "source": [
    "train"
   ]
  },
  {
   "cell_type": "markdown",
   "metadata": {
    "hidden": true
   },
   "source": [
    "## Updating dictionary"
   ]
  },
  {
   "cell_type": "code",
   "execution_count": null,
   "metadata": {
    "ExecuteTime": {
     "end_time": "2020-11-25T18:17:12.775997Z",
     "start_time": "2020-11-25T18:17:12.757186Z"
    },
    "hidden": true
   },
   "outputs": [],
   "source": [
    "x_dict = {}"
   ]
  },
  {
   "cell_type": "code",
   "execution_count": null,
   "metadata": {
    "ExecuteTime": {
     "end_time": "2020-11-25T18:17:16.878569Z",
     "start_time": "2020-11-25T18:17:16.853009Z"
    },
    "hidden": true
   },
   "outputs": [],
   "source": [
    "var = \"var_1\""
   ]
  },
  {
   "cell_type": "code",
   "execution_count": null,
   "metadata": {
    "ExecuteTime": {
     "end_time": "2020-11-25T18:17:20.518440Z",
     "start_time": "2020-11-25T18:17:20.496081Z"
    },
    "hidden": true
   },
   "outputs": [],
   "source": [
    "def create_datadict_entry(var, relevant=True, data_type=\"not_specified\", model_relevant=\"False\"):\n",
    "    \n",
    "    entry = {\n",
    "        var: {\n",
    "            \"relevant\": relevant,\n",
    "            \"data_type\": data_type,\n",
    "            \"model_relevant\": model_relevant\n",
    "        }\n",
    "    }\n",
    "    \n",
    "    x_dict.update(entry)\n",
    "    \n",
    "    return"
   ]
  },
  {
   "cell_type": "code",
   "execution_count": null,
   "metadata": {
    "ExecuteTime": {
     "end_time": "2020-11-25T18:17:20.905886Z",
     "start_time": "2020-11-25T18:17:20.881797Z"
    },
    "hidden": true
   },
   "outputs": [],
   "source": [
    "create_datadict_entry(var)"
   ]
  },
  {
   "cell_type": "code",
   "execution_count": null,
   "metadata": {
    "ExecuteTime": {
     "end_time": "2020-11-25T18:17:21.115819Z",
     "start_time": "2020-11-25T18:17:21.090318Z"
    },
    "hidden": true
   },
   "outputs": [],
   "source": [
    "x_dict"
   ]
  },
  {
   "cell_type": "markdown",
   "metadata": {
    "hidden": true
   },
   "source": [
    "---\n",
    "---"
   ]
  }
 ],
 "metadata": {
  "kernelspec": {
   "display_name": "Python 3",
   "language": "python",
   "name": "python3"
  },
  "language_info": {
   "codemirror_mode": {
    "name": "ipython",
    "version": 3
   },
   "file_extension": ".py",
   "mimetype": "text/x-python",
   "name": "python",
   "nbconvert_exporter": "python",
   "pygments_lexer": "ipython3",
   "version": "3.7.4"
  }
 },
 "nbformat": 4,
 "nbformat_minor": 4
}
