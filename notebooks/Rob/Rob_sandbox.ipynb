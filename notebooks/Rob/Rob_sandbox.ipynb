{
 "cells": [
  {
   "cell_type": "markdown",
   "metadata": {},
   "source": [
    "# Rob's sandbox"
   ]
  },
  {
   "cell_type": "markdown",
   "metadata": {},
   "source": [
    "---"
   ]
  },
  {
   "cell_type": "markdown",
   "metadata": {},
   "source": [
    "# Imports"
   ]
  },
  {
   "cell_type": "markdown",
   "metadata": {},
   "source": [
    "#### Python modules"
   ]
  },
  {
   "cell_type": "code",
   "execution_count": 1,
   "metadata": {
    "ExecuteTime": {
     "end_time": "2020-12-05T00:05:59.762824Z",
     "start_time": "2020-12-05T00:05:58.468627Z"
    }
   },
   "outputs": [],
   "source": [
    "import sys\n",
    "\n",
    "from sklearn.ensemble import RandomForestClassifier\n",
    "from sklearn.model_selection import GridSearchCV\n",
    "from sklearn.model_selection import GridSearchCV\n",
    "from sklearn.model_selection import (\n",
    "    train_test_split,\n",
    "    cross_val_score\n",
    ")\n",
    "from sklearn.inspection import permutation_importance\n",
    "from sklearn.metrics import confusion_matrix\n",
    "\n",
    "import matplotlib.pyplot as plt\n",
    "import seaborn as sns\n",
    "# %matplotlib inline\n",
    "\n",
    "import pandas as pd\n",
    "pd.set_option(\"display.max_columns\", 50)"
   ]
  },
  {
   "cell_type": "markdown",
   "metadata": {},
   "source": [
    "# Ancillary modules"
   ]
  },
  {
   "cell_type": "markdown",
   "metadata": {},
   "source": [
    "#### Support adjustments"
   ]
  },
  {
   "cell_type": "code",
   "execution_count": 2,
   "metadata": {
    "ExecuteTime": {
     "end_time": "2020-12-05T00:05:59.767232Z",
     "start_time": "2020-12-05T00:05:59.764725Z"
    }
   },
   "outputs": [],
   "source": [
    "sys.path.append(\"../..\")"
   ]
  },
  {
   "cell_type": "markdown",
   "metadata": {},
   "source": [
    "#### Modules"
   ]
  },
  {
   "cell_type": "code",
   "execution_count": 3,
   "metadata": {
    "ExecuteTime": {
     "end_time": "2020-12-05T00:05:59.811233Z",
     "start_time": "2020-12-05T00:05:59.769480Z"
    }
   },
   "outputs": [],
   "source": [
    "%load_ext autoreload\n",
    "%autoreload 2\n",
    "\n",
    "from src.utils.data_dict import (\n",
    "    data_dict\n",
    ")\n",
    "\n",
    "from src.utils.utils import (\n",
    "    json_dump_dict,\n",
    "    load_df\n",
    ")\n",
    "\n",
    "from src.utils.params import (\n",
    "#     param_grid,\n",
    "#     max_features,\n",
    "#     n_estimators,\n",
    "    evaluation_metric,\n",
    "    feature_importance_theshold,\n",
    "    tag_non_relevant_cats,\n",
    "    ingestion_pickle_loc,\n",
    "    transformation_pickle_loc,\n",
    "    models_pickle_loc,\n",
    "    X_train_pickle_loc,\n",
    "    y_train_pickle_loc,\n",
    "    X_test_pickle_loc,\n",
    "    y_test_pickle_loc,\n",
    "    test_predict_labs_pickle_loc,\n",
    "    test_predict_scores_pickle_loc,\n",
    ")\n",
    "\n",
    "from src.pipelines.ingestion import (\n",
    "    ingest\n",
    ")\n",
    "\n",
    "from src.pipelines.transformation import (\n",
    "    load_ingestion,\n",
    "#     date_transformation,\n",
    "#     hour_transformation,\n",
    "#     categoric_trasformation,\n",
    "    transform\n",
    ")\n",
    "\n",
    "from src.pipelines.feature_engineering import (\n",
    "    load_transformation,\n",
    "    feature_generation,\n",
    "    feature_selection,\n",
    "    save_fe,\n",
    "    feature_engineering,\n",
    "    fe_pickle_loc_imp_features,\n",
    "    fe_pickle_loc_feature_labs\n",
    ")"
   ]
  },
  {
   "cell_type": "markdown",
   "metadata": {},
   "source": [
    "---"
   ]
  },
  {
   "cell_type": "markdown",
   "metadata": {
    "heading_collapsed": true
   },
   "source": [
    "# Original data"
   ]
  },
  {
   "cell_type": "code",
   "execution_count": null,
   "metadata": {
    "ExecuteTime": {
     "end_time": "2020-12-04T23:17:45.086187Z",
     "start_time": "2020-12-04T23:17:39.020648Z"
    },
    "hidden": true,
    "scrolled": true
   },
   "outputs": [],
   "source": [
    "df_o = pd.read_csv(\"../../\" + \"data/incidentes-viales-c5.csv\")\n",
    "df_o"
   ]
  },
  {
   "cell_type": "markdown",
   "metadata": {},
   "source": [
    "# Tests"
   ]
  },
  {
   "cell_type": "markdown",
   "metadata": {
    "heading_collapsed": true
   },
   "source": [
    "## Transformation"
   ]
  },
  {
   "cell_type": "markdown",
   "metadata": {
    "heading_collapsed": true,
    "hidden": true
   },
   "source": [
    "#### Loading ingestion pickle"
   ]
  },
  {
   "cell_type": "code",
   "execution_count": null,
   "metadata": {
    "ExecuteTime": {
     "end_time": "2020-12-03T17:10:36.651886Z",
     "start_time": "2020-12-03T17:10:28.606807Z"
    },
    "hidden": true
   },
   "outputs": [],
   "source": [
    "df_ing = load_ingestion(\"../../\" + ingestion_pickle_loc)"
   ]
  },
  {
   "cell_type": "code",
   "execution_count": null,
   "metadata": {
    "ExecuteTime": {
     "end_time": "2020-12-03T17:10:36.911732Z",
     "start_time": "2020-12-03T17:10:36.659567Z"
    },
    "hidden": true,
    "scrolled": true
   },
   "outputs": [],
   "source": [
    "df_ing"
   ]
  },
  {
   "cell_type": "code",
   "execution_count": null,
   "metadata": {
    "ExecuteTime": {
     "end_time": "2020-12-03T17:11:16.029633Z",
     "start_time": "2020-12-03T17:11:15.909278Z"
    },
    "hidden": true
   },
   "outputs": [],
   "source": [
    "df_ing[\"label\"].value_counts(normalize=True)"
   ]
  },
  {
   "cell_type": "markdown",
   "metadata": {
    "heading_collapsed": true
   },
   "source": [
    "## Feature engineering"
   ]
  },
  {
   "cell_type": "markdown",
   "metadata": {
    "hidden": true
   },
   "source": [
    "#### Loading transformation pickles"
   ]
  },
  {
   "cell_type": "code",
   "execution_count": null,
   "metadata": {
    "ExecuteTime": {
     "end_time": "2020-12-04T23:27:42.600287Z",
     "start_time": "2020-12-04T23:27:41.510190Z"
    },
    "hidden": true,
    "scrolled": true
   },
   "outputs": [],
   "source": [
    "df_tra = load_transformation(\"../../\" + transformation_pickle_loc)\n",
    "df_tra"
   ]
  },
  {
   "cell_type": "raw",
   "metadata": {
    "ExecuteTime": {
     "end_time": "2020-12-01T18:44:53.828052Z",
     "start_time": "2020-12-01T18:44:53.803137Z"
    },
    "hidden": true,
    "scrolled": true
   },
   "source": [
    "df_features_prc_cols = load_transformation(\"../../\" + \"outputs/fe_df_features_prc_cols.pkl\")\n",
    "df_features_prc_cols"
   ]
  },
  {
   "cell_type": "markdown",
   "metadata": {
    "heading_collapsed": true,
    "hidden": true
   },
   "source": [
    "##### Exploring transfomation result"
   ]
  },
  {
   "cell_type": "markdown",
   "metadata": {
    "heading_collapsed": true,
    "hidden": true
   },
   "source": [
    "#### Processing data for model"
   ]
  },
  {
   "cell_type": "code",
   "execution_count": null,
   "metadata": {
    "ExecuteTime": {
     "end_time": "2020-11-25T04:49:09.433624Z",
     "start_time": "2020-11-25T04:49:07.201100Z"
    },
    "hidden": true,
    "scrolled": true
   },
   "outputs": [],
   "source": [
    "df_features_prc, df_labels, df_features_prc_cols = feature_generation(df)"
   ]
  },
  {
   "cell_type": "code",
   "execution_count": null,
   "metadata": {
    "ExecuteTime": {
     "end_time": "2020-11-25T04:50:52.487282Z",
     "start_time": "2020-11-25T04:50:52.438138Z"
    },
    "hidden": true,
    "scrolled": true
   },
   "outputs": [],
   "source": [
    "print(len(df_features_prc_cols))\n",
    "df_features_prc_cols"
   ]
  },
  {
   "cell_type": "code",
   "execution_count": null,
   "metadata": {
    "ExecuteTime": {
     "end_time": "2020-11-25T04:50:05.367911Z",
     "start_time": "2020-11-25T04:50:05.333858Z"
    },
    "hidden": true
   },
   "outputs": [],
   "source": [
    "df_features_prc.shape"
   ]
  },
  {
   "cell_type": "code",
   "execution_count": null,
   "metadata": {
    "hidden": true
   },
   "outputs": [],
   "source": []
  },
  {
   "cell_type": "code",
   "execution_count": null,
   "metadata": {
    "ExecuteTime": {
     "end_time": "2020-11-25T03:53:12.479663Z",
     "start_time": "2020-11-25T03:53:12.454523Z"
    },
    "hidden": true
   },
   "outputs": [],
   "source": [
    "print(len(enc_cat_features))\n",
    "enc_cat_features"
   ]
  },
  {
   "cell_type": "code",
   "execution_count": null,
   "metadata": {
    "ExecuteTime": {
     "end_time": "2020-11-25T03:52:56.008936Z",
     "start_time": "2020-11-25T03:52:55.985455Z"
    },
    "hidden": true
   },
   "outputs": [],
   "source": [
    "df_features_prc.shape"
   ]
  },
  {
   "cell_type": "code",
   "execution_count": null,
   "metadata": {
    "ExecuteTime": {
     "end_time": "2020-11-25T03:18:46.232083Z",
     "start_time": "2020-11-25T03:18:46.204320Z"
    },
    "hidden": true,
    "scrolled": true
   },
   "outputs": [],
   "source": [
    "len(df_features_prc_cols)"
   ]
  },
  {
   "cell_type": "markdown",
   "metadata": {
    "heading_collapsed": true,
    "hidden": true
   },
   "source": [
    "#### Training, executing and evaluating model"
   ]
  },
  {
   "cell_type": "code",
   "execution_count": null,
   "metadata": {
    "ExecuteTime": {
     "end_time": "2020-11-25T03:19:35.249047Z",
     "start_time": "2020-11-25T03:19:35.211437Z"
    },
    "hidden": true,
    "scrolled": true
   },
   "outputs": [],
   "source": [
    "model = RandomForestClassifier(oob_score=True, n_jobs=-1)"
   ]
  },
  {
   "cell_type": "code",
   "execution_count": null,
   "metadata": {
    "ExecuteTime": {
     "end_time": "2020-11-25T03:19:36.334819Z",
     "start_time": "2020-11-25T03:19:35.788646Z"
    },
    "hidden": true
   },
   "outputs": [],
   "source": [
    "## Splitting data in train and test\n",
    "X_train, X_test, y_train, y_test = train_test_split(df_features_prc, df_labels, test_size=0.3)"
   ]
  },
  {
   "cell_type": "code",
   "execution_count": null,
   "metadata": {
    "ExecuteTime": {
     "end_time": "2020-11-25T01:13:15.923195Z",
     "start_time": "2020-11-25T01:07:12.011331Z"
    },
    "hidden": true,
    "scrolled": true
   },
   "outputs": [],
   "source": [
    "grid_search = GridSearchCV(model,\n",
    "                           param_grid,\n",
    "                           cv=2,\n",
    "                           scoring=evaluation_metric,\n",
    "                           return_train_score=True,\n",
    "                           n_jobs=-1\n",
    "                           )\n",
    "\n",
    "grid_search.fit(X_train, y_train)\n",
    "\n",
    "print(grid_search.best_params_)\n",
    "print(grid_search.best_estimator_)\n",
    "\n",
    "print(\"\\n++ Grid search results:\\n\")\n",
    "print(\"    ++++ Best estimator: {}\".format(grid_search.best_estimator_))\n",
    "print(\"    ++++ Number of features in best estimator: {} \\n\".format(grid_search.best_estimator_.n_features_))\n",
    "print(\"    ++++ Best estimator oob score: {}\\n\".format(grid_search.best_estimator_.oob_score_))"
   ]
  },
  {
   "cell_type": "markdown",
   "metadata": {
    "heading_collapsed": true,
    "hidden": true
   },
   "source": [
    "#### Identifying most important variables"
   ]
  },
  {
   "cell_type": "markdown",
   "metadata": {
    "heading_collapsed": true,
    "hidden": true
   },
   "source": [
    "##### Creating dataframe with ranks"
   ]
  },
  {
   "cell_type": "raw",
   "metadata": {
    "ExecuteTime": {
     "end_time": "2020-12-01T19:36:01.187163Z",
     "start_time": "2020-12-01T19:36:01.161428Z"
    },
    "hidden": true
   },
   "source": [
    "print(len(grid_search.best_estimator_.feature_importances_))\n",
    "grid_search.best_estimator_.feature_importances_"
   ]
  },
  {
   "cell_type": "raw",
   "metadata": {
    "ExecuteTime": {
     "end_time": "2020-11-25T01:15:56.118183Z",
     "start_time": "2020-11-25T01:15:55.545673Z"
    },
    "hidden": true,
    "scrolled": true
   },
   "source": [
    "feature_importance = pd.DataFrame(\n",
    "    {\n",
    "        \"Importance\": grid_search.best_estimator_.feature_importances_,\n",
    "        \"Feature\": df_features_prc.columns\n",
    "    }\n",
    ")\n",
    "feature_importance.sort_values(by=\"Importance\", ascending=False)\n",
    "print(display(feature_importance))"
   ]
  },
  {
   "cell_type": "markdown",
   "metadata": {
    "heading_collapsed": true,
    "hidden": true
   },
   "source": [
    "##### Obtaining features cleaning dict from ranked features"
   ]
  },
  {
   "cell_type": "code",
   "execution_count": null,
   "metadata": {
    "ExecuteTime": {
     "end_time": "2020-12-01T23:45:02.446909Z",
     "start_time": "2020-12-01T23:45:02.420226Z"
    },
    "hidden": true,
    "scrolled": true
   },
   "outputs": [],
   "source": [
    "feature_importance.reset_index(inplace=True, drop=True)\n",
    "feature_importance"
   ]
  },
  {
   "cell_type": "code",
   "execution_count": null,
   "metadata": {
    "ExecuteTime": {
     "end_time": "2020-12-01T23:45:02.618056Z",
     "start_time": "2020-12-01T23:45:02.598192Z"
    },
    "hidden": true
   },
   "outputs": [],
   "source": [
    "feature_importance[\"Important\"] = feature_importance[\"Importance\"].apply(lambda x: True if x >= feature_importance_theshold else False)"
   ]
  },
  {
   "cell_type": "code",
   "execution_count": null,
   "metadata": {
    "ExecuteTime": {
     "end_time": "2020-12-01T23:45:02.756065Z",
     "start_time": "2020-12-01T23:45:02.736677Z"
    },
    "hidden": true,
    "scrolled": true
   },
   "outputs": [],
   "source": [
    "def find_mother(row, ohe_dict):\n",
    "    \"\"\"\n",
    "    \"\"\"\n",
    "    \n",
    "    for key in ohe_dict:\n",
    "        if row in ohe_dict[key]:\n",
    "            return key\n",
    "    \n",
    "    return row"
   ]
  },
  {
   "cell_type": "code",
   "execution_count": null,
   "metadata": {
    "ExecuteTime": {
     "end_time": "2020-12-01T23:45:02.895844Z",
     "start_time": "2020-12-01T23:45:02.875962Z"
    },
    "hidden": true
   },
   "outputs": [],
   "source": [
    "feature_importance[\"Mother_feature\"] = feature_importance[\"Feature\"].apply(lambda x: find_mother(x, ohe_dict))"
   ]
  },
  {
   "cell_type": "code",
   "execution_count": null,
   "metadata": {
    "ExecuteTime": {
     "end_time": "2020-12-01T23:45:03.048757Z",
     "start_time": "2020-12-01T23:45:03.017326Z"
    },
    "hidden": true,
    "scrolled": true
   },
   "outputs": [],
   "source": [
    "feature_importance"
   ]
  },
  {
   "cell_type": "raw",
   "metadata": {
    "ExecuteTime": {
     "end_time": "2020-12-01T19:36:11.372865Z",
     "start_time": "2020-12-01T19:36:11.351295Z"
    },
    "hidden": true
   },
   "source": [
    "m1 = feature_importance[\"Important\"] == True\n",
    "important_features = list(feature_importance.loc[m1, \"Mother_feature\"].unique())\n",
    "important_features"
   ]
  },
  {
   "cell_type": "code",
   "execution_count": null,
   "metadata": {
    "ExecuteTime": {
     "end_time": "2020-12-01T23:45:03.297043Z",
     "start_time": "2020-12-01T23:45:03.276199Z"
    },
    "hidden": true,
    "scrolled": true
   },
   "outputs": [],
   "source": [
    "def feature_cleaning_dict(feature_importance, ohe_dict):\n",
    "    \n",
    "    m1 = feature_importance[\"Important\"] == True\n",
    "    important_features = list(feature_importance.loc[m1, \"Mother_feature\"].unique())\n",
    "\n",
    "    fe_cln_dict = {}\n",
    "\n",
    "    for imp_f in important_features:\n",
    "\n",
    "        m2 = feature_importance[\"Mother_feature\"] == imp_f\n",
    "\n",
    "        if imp_f in ohe_dict:\n",
    "            fe_cln_dict[imp_f] = {\n",
    "                \"data_type\": \"categoric\",\n",
    "                \"important_categories\": list(feature_importance.loc[(m1 & m2), \"Feature\"])\n",
    "            }\n",
    "        else:\n",
    "            fe_cln_dict[imp_f] = {\n",
    "                \"data_type\": \"non-categoric\",\n",
    "            }\n",
    "\n",
    "#     json_dump_dict(fe_cln_dict)\n",
    "    \n",
    "    return fe_cln_dict"
   ]
  },
  {
   "cell_type": "code",
   "execution_count": null,
   "metadata": {
    "ExecuteTime": {
     "end_time": "2020-12-01T23:45:04.602776Z",
     "start_time": "2020-12-01T23:45:04.578029Z"
    },
    "hidden": true,
    "scrolled": true
   },
   "outputs": [],
   "source": [
    "fe_cln_dict = feature_cleaning_dict(feature_importance, ohe_dict)\n",
    "fe_cln_dict"
   ]
  },
  {
   "cell_type": "markdown",
   "metadata": {
    "heading_collapsed": true,
    "hidden": true
   },
   "source": [
    "##### Cleaning transformation dataframe based on features cleaning dict"
   ]
  },
  {
   "cell_type": "code",
   "execution_count": null,
   "metadata": {
    "ExecuteTime": {
     "end_time": "2020-12-01T23:45:10.469430Z",
     "start_time": "2020-12-01T23:45:10.162935Z"
    },
    "hidden": true,
    "scrolled": true
   },
   "outputs": [],
   "source": [
    "df_tra"
   ]
  },
  {
   "cell_type": "code",
   "execution_count": null,
   "metadata": {
    "ExecuteTime": {
     "end_time": "2020-12-01T23:45:14.219772Z",
     "start_time": "2020-12-01T23:45:14.093331Z"
    },
    "hidden": true
   },
   "outputs": [],
   "source": [
    "nr_f = [col for col in df_tra.columns if col not in fe_cln_dict]\n",
    "df_tra.drop(nr_f, axis=1, inplace=True)"
   ]
  },
  {
   "cell_type": "code",
   "execution_count": null,
   "metadata": {
    "ExecuteTime": {
     "end_time": "2020-12-01T23:45:14.889463Z",
     "start_time": "2020-12-01T23:45:14.863052Z"
    },
    "hidden": true
   },
   "outputs": [],
   "source": [
    "df_tra"
   ]
  },
  {
   "cell_type": "code",
   "execution_count": null,
   "metadata": {
    "ExecuteTime": {
     "end_time": "2020-12-01T23:45:15.732080Z",
     "start_time": "2020-12-01T23:45:15.474270Z"
    },
    "hidden": true
   },
   "outputs": [],
   "source": [
    "for cat_key in [key for key in fe_cln_dict if fe_cln_dict[key][\"data_type\"] == \"categoric\"]:\n",
    "    m1 = ~df_tra[cat_key].isin(fe_cln_dict[cat_key][\"important_categories\"])\n",
    "    df_tra.loc[m1, cat_key] = tag_non_relevant_cats"
   ]
  },
  {
   "cell_type": "code",
   "execution_count": null,
   "metadata": {
    "ExecuteTime": {
     "end_time": "2020-12-01T23:45:16.230090Z",
     "start_time": "2020-12-01T23:45:16.205932Z"
    },
    "hidden": true
   },
   "outputs": [],
   "source": [
    "df_tra"
   ]
  },
  {
   "cell_type": "markdown",
   "metadata": {
    "hidden": true
   },
   "source": [
    "#### Reviewing results"
   ]
  },
  {
   "cell_type": "code",
   "execution_count": null,
   "metadata": {
    "ExecuteTime": {
     "end_time": "2020-12-03T17:27:28.452622Z",
     "start_time": "2020-12-03T17:27:23.470812Z"
    },
    "hidden": true
   },
   "outputs": [],
   "source": [
    "df_imp_features_prc = load_df(\"../../\" + fe_pickle_loc_imp_features)\n",
    "df_labels = load_df(\"../../\" + fe_pickle_loc_feature_labs)"
   ]
  },
  {
   "cell_type": "code",
   "execution_count": null,
   "metadata": {
    "ExecuteTime": {
     "end_time": "2020-12-03T17:28:38.501091Z",
     "start_time": "2020-12-03T17:28:38.344670Z"
    },
    "hidden": true
   },
   "outputs": [],
   "source": [
    "print(df_imp_features_prc.shape)\n",
    "df_imp_features_prc.toarray()"
   ]
  },
  {
   "cell_type": "code",
   "execution_count": null,
   "metadata": {
    "ExecuteTime": {
     "end_time": "2020-12-03T17:29:01.793777Z",
     "start_time": "2020-12-03T17:29:01.673049Z"
    },
    "hidden": true
   },
   "outputs": [],
   "source": [
    "print(df_labels.shape)\n",
    "df_labels"
   ]
  },
  {
   "cell_type": "markdown",
   "metadata": {},
   "source": [
    "## Modeling (magic loop)"
   ]
  },
  {
   "cell_type": "markdown",
   "metadata": {},
   "source": [
    "### Imports and reviewing results"
   ]
  },
  {
   "cell_type": "code",
   "execution_count": 4,
   "metadata": {
    "ExecuteTime": {
     "end_time": "2020-12-05T00:06:03.756600Z",
     "start_time": "2020-12-05T00:06:03.322396Z"
    }
   },
   "outputs": [],
   "source": [
    "best_model = load_df(\"../../\" + models_pickle_loc)\n",
    "X_train = load_df(\"../../\" + X_train_pickle_loc)\n",
    "y_train = load_df(\"../../\" + y_train_pickle_loc)\n",
    "X_test = load_df(\"../../\" + X_test_pickle_loc)\n",
    "y_test = load_df(\"../../\" + y_test_pickle_loc)\n",
    "test_predict_labs = load_df(\"../../\" + test_predict_labs_pickle_loc)\n",
    "test_predict_scores = load_df(\"../../\" + test_predict_scores_pickle_loc)"
   ]
  },
  {
   "cell_type": "code",
   "execution_count": 5,
   "metadata": {
    "ExecuteTime": {
     "end_time": "2020-12-05T00:06:04.473244Z",
     "start_time": "2020-12-05T00:06:04.448378Z"
    }
   },
   "outputs": [
    {
     "data": {
      "text/plain": [
       "RandomForestClassifier(max_features=6, max_leaf_nodes=10, min_samples_leaf=3,\n",
       "                       n_jobs=-1, oob_score=True, random_state=1111)"
      ]
     },
     "execution_count": 5,
     "metadata": {},
     "output_type": "execute_result"
    }
   ],
   "source": [
    "best_model"
   ]
  },
  {
   "cell_type": "code",
   "execution_count": 6,
   "metadata": {
    "ExecuteTime": {
     "end_time": "2020-12-05T00:06:04.679456Z",
     "start_time": "2020-12-05T00:06:04.627014Z"
    }
   },
   "outputs": [
    {
     "name": "stdout",
     "output_type": "stream",
     "text": [
      "(968196, 7)\n"
     ]
    },
    {
     "data": {
      "text/plain": [
       "array([[1., 0., 0., ..., 1., 0., 0.],\n",
       "       [0., 0., 1., ..., 1., 0., 0.],\n",
       "       [1., 0., 0., ..., 1., 0., 0.],\n",
       "       ...,\n",
       "       [0., 0., 1., ..., 1., 0., 0.],\n",
       "       [0., 1., 0., ..., 1., 0., 0.],\n",
       "       [0., 1., 0., ..., 1., 0., 0.]])"
      ]
     },
     "execution_count": 6,
     "metadata": {},
     "output_type": "execute_result"
    }
   ],
   "source": [
    "print(X_train.shape)\n",
    "X_train.toarray()"
   ]
  },
  {
   "cell_type": "code",
   "execution_count": 7,
   "metadata": {
    "ExecuteTime": {
     "end_time": "2020-12-05T00:06:05.220398Z",
     "start_time": "2020-12-05T00:06:04.819849Z"
    }
   },
   "outputs": [
    {
     "name": "stdout",
     "output_type": "stream",
     "text": [
      "(968196,)\n",
      "0.0    0.79529\n",
      "1.0    0.20471\n",
      "Name: label, dtype: float64\n"
     ]
    },
    {
     "data": {
      "text/plain": [
       "folio\n",
       "C5/200218/08827    0.0\n",
       "C5/160823/02587    0.0\n",
       "C5/170611/04300    0.0\n",
       "C5/190827/04154    1.0\n",
       "C4/140921/00304    0.0\n",
       "                  ... \n",
       "C5/181029/05042    0.0\n",
       "IZ/190809/05280    0.0\n",
       "C5/161221/00024    0.0\n",
       "C5/200103/01444    1.0\n",
       "C4/150808/00824    0.0\n",
       "Name: label, Length: 968196, dtype: float64"
      ]
     },
     "execution_count": 7,
     "metadata": {},
     "output_type": "execute_result"
    }
   ],
   "source": [
    "print(y_train.shape)\n",
    "print(y_train.value_counts(normalize=True))\n",
    "y_train"
   ]
  },
  {
   "cell_type": "code",
   "execution_count": 8,
   "metadata": {
    "ExecuteTime": {
     "end_time": "2020-12-05T00:06:05.263674Z",
     "start_time": "2020-12-05T00:06:05.222689Z"
    }
   },
   "outputs": [
    {
     "name": "stdout",
     "output_type": "stream",
     "text": [
      "(414942, 7)\n"
     ]
    },
    {
     "data": {
      "text/plain": [
       "array([[0., 1., 0., ..., 1., 0., 0.],\n",
       "       [0., 0., 1., ..., 1., 0., 0.],\n",
       "       [1., 0., 0., ..., 1., 0., 0.],\n",
       "       ...,\n",
       "       [0., 1., 0., ..., 1., 0., 0.],\n",
       "       [0., 1., 0., ..., 1., 0., 0.],\n",
       "       [0., 1., 0., ..., 1., 0., 0.]])"
      ]
     },
     "execution_count": 8,
     "metadata": {},
     "output_type": "execute_result"
    }
   ],
   "source": [
    "print(X_test.shape)\n",
    "X_test.toarray()"
   ]
  },
  {
   "cell_type": "code",
   "execution_count": 9,
   "metadata": {
    "ExecuteTime": {
     "end_time": "2020-12-05T00:06:05.438074Z",
     "start_time": "2020-12-05T00:06:05.266415Z"
    },
    "scrolled": true
   },
   "outputs": [
    {
     "name": "stdout",
     "output_type": "stream",
     "text": [
      "(414942,)\n",
      "0.0    0.796829\n",
      "1.0    0.203171\n",
      "Name: label, dtype: float64\n"
     ]
    },
    {
     "data": {
      "text/plain": [
       "folio\n",
       "C5/180923/00715    0.0\n",
       "C5/180125/06384    1.0\n",
       "C5/180904/02619    1.0\n",
       "C5/170327/07629    0.0\n",
       "C5/170803/05943    0.0\n",
       "                  ... \n",
       "C4/140210/00850    0.0\n",
       "C5/180109/02335    1.0\n",
       "C5/160527/01506    1.0\n",
       "C5/191115/08861    0.0\n",
       "C5/190306/07844    0.0\n",
       "Name: label, Length: 414942, dtype: float64"
      ]
     },
     "execution_count": 9,
     "metadata": {},
     "output_type": "execute_result"
    }
   ],
   "source": [
    "print(y_test.shape)\n",
    "print(y_test.value_counts(normalize=True))\n",
    "y_test"
   ]
  },
  {
   "cell_type": "code",
   "execution_count": 10,
   "metadata": {
    "ExecuteTime": {
     "end_time": "2020-12-05T00:06:05.534356Z",
     "start_time": "2020-12-05T00:06:05.440185Z"
    }
   },
   "outputs": [
    {
     "name": "stdout",
     "output_type": "stream",
     "text": [
      "(414942,)\n",
      "Suma:  0.0\n"
     ]
    },
    {
     "data": {
      "text/plain": [
       "array([0., 0., 0., ..., 0., 0., 0.])"
      ]
     },
     "execution_count": 10,
     "metadata": {},
     "output_type": "execute_result"
    }
   ],
   "source": [
    "print(test_predict_labs.shape)\n",
    "print(\"Suma: \", sum(test_predict_labs))\n",
    "test_predict_labs"
   ]
  },
  {
   "cell_type": "code",
   "execution_count": 11,
   "metadata": {
    "ExecuteTime": {
     "end_time": "2020-12-05T00:06:05.620842Z",
     "start_time": "2020-12-05T00:06:05.598535Z"
    }
   },
   "outputs": [
    {
     "name": "stdout",
     "output_type": "stream",
     "text": [
      "(414942, 2)\n"
     ]
    },
    {
     "data": {
      "text/plain": [
       "array([[0.71259143, 0.28740857],\n",
       "       [0.85976458, 0.14023542],\n",
       "       [0.84693228, 0.15306772],\n",
       "       ...,\n",
       "       [0.71259143, 0.28740857],\n",
       "       [0.71259143, 0.28740857],\n",
       "       [0.71259143, 0.28740857]])"
      ]
     },
     "execution_count": 11,
     "metadata": {},
     "output_type": "execute_result"
    }
   ],
   "source": [
    "print(test_predict_scores.shape)\n",
    "test_predict_scores"
   ]
  },
  {
   "cell_type": "code",
   "execution_count": 12,
   "metadata": {
    "ExecuteTime": {
     "end_time": "2020-12-05T00:06:07.138142Z",
     "start_time": "2020-12-05T00:06:06.580567Z"
    }
   },
   "outputs": [
    {
     "data": {
      "text/plain": [
       "<seaborn.axisgrid.FacetGrid at 0x135019ed0>"
      ]
     },
     "execution_count": 12,
     "metadata": {},
     "output_type": "execute_result"
    },
    {
     "data": {
      "image/png": "[encoded data removed]",
      "text/plain": [
       "<Figure size 360x360 with 1 Axes>"
      ]
     },
     "metadata": {
      "needs_background": "light"
     },
     "output_type": "display_data"
    }
   ],
   "source": [
    "sns.displot(\n",
    "    test_predict_scores[:, 1], \n",
    ")"
   ]
  },
  {
   "cell_type": "markdown",
   "metadata": {},
   "source": [
    "### Fixing labels with predict scores"
   ]
  },
  {
   "cell_type": "code",
   "execution_count": 13,
   "metadata": {
    "ExecuteTime": {
     "end_time": "2020-12-05T00:06:18.651794Z",
     "start_time": "2020-12-05T00:06:13.767117Z"
    }
   },
   "outputs": [
    {
     "data": {
      "text/html": [
       "<div>\n",
       "<style scoped>\n",
       "    .dataframe tbody tr th:only-of-type {\n",
       "        vertical-align: middle;\n",
       "    }\n",
       "\n",
       "    .dataframe tbody tr th {\n",
       "        vertical-align: top;\n",
       "    }\n",
       "\n",
       "    .dataframe thead th {\n",
       "        text-align: right;\n",
       "    }\n",
       "</style>\n",
       "<table border=\"1\" class=\"dataframe\">\n",
       "  <thead>\n",
       "    <tr style=\"text-align: right;\">\n",
       "      <th></th>\n",
       "      <th>label</th>\n",
       "      <th>1_prob</th>\n",
       "      <th>prob_label</th>\n",
       "      <th>correct</th>\n",
       "    </tr>\n",
       "    <tr>\n",
       "      <th>folio</th>\n",
       "      <th></th>\n",
       "      <th></th>\n",
       "      <th></th>\n",
       "      <th></th>\n",
       "    </tr>\n",
       "  </thead>\n",
       "  <tbody>\n",
       "    <tr>\n",
       "      <th>C5/180923/00715</th>\n",
       "      <td>0.0</td>\n",
       "      <td>0.287409</td>\n",
       "      <td>0</td>\n",
       "      <td>True</td>\n",
       "    </tr>\n",
       "    <tr>\n",
       "      <th>C5/180125/06384</th>\n",
       "      <td>1.0</td>\n",
       "      <td>0.140235</td>\n",
       "      <td>1</td>\n",
       "      <td>True</td>\n",
       "    </tr>\n",
       "    <tr>\n",
       "      <th>C5/180904/02619</th>\n",
       "      <td>1.0</td>\n",
       "      <td>0.153068</td>\n",
       "      <td>1</td>\n",
       "      <td>True</td>\n",
       "    </tr>\n",
       "    <tr>\n",
       "      <th>C5/170327/07629</th>\n",
       "      <td>0.0</td>\n",
       "      <td>0.287409</td>\n",
       "      <td>0</td>\n",
       "      <td>True</td>\n",
       "    </tr>\n",
       "    <tr>\n",
       "      <th>C5/170803/05943</th>\n",
       "      <td>0.0</td>\n",
       "      <td>0.287409</td>\n",
       "      <td>0</td>\n",
       "      <td>True</td>\n",
       "    </tr>\n",
       "    <tr>\n",
       "      <th>...</th>\n",
       "      <td>...</td>\n",
       "      <td>...</td>\n",
       "      <td>...</td>\n",
       "      <td>...</td>\n",
       "    </tr>\n",
       "    <tr>\n",
       "      <th>C4/140210/00850</th>\n",
       "      <td>0.0</td>\n",
       "      <td>0.140235</td>\n",
       "      <td>1</td>\n",
       "      <td>False</td>\n",
       "    </tr>\n",
       "    <tr>\n",
       "      <th>C5/180109/02335</th>\n",
       "      <td>1.0</td>\n",
       "      <td>0.245931</td>\n",
       "      <td>0</td>\n",
       "      <td>False</td>\n",
       "    </tr>\n",
       "    <tr>\n",
       "      <th>C5/160527/01506</th>\n",
       "      <td>1.0</td>\n",
       "      <td>0.287409</td>\n",
       "      <td>0</td>\n",
       "      <td>False</td>\n",
       "    </tr>\n",
       "    <tr>\n",
       "      <th>C5/191115/08861</th>\n",
       "      <td>0.0</td>\n",
       "      <td>0.287409</td>\n",
       "      <td>0</td>\n",
       "      <td>True</td>\n",
       "    </tr>\n",
       "    <tr>\n",
       "      <th>C5/190306/07844</th>\n",
       "      <td>0.0</td>\n",
       "      <td>0.287409</td>\n",
       "      <td>0</td>\n",
       "      <td>True</td>\n",
       "    </tr>\n",
       "  </tbody>\n",
       "</table>\n",
       "<p>414942 rows × 4 columns</p>\n",
       "</div>"
      ],
      "text/plain": [
       "                 label    1_prob  prob_label  correct\n",
       "folio                                                \n",
       "C5/180923/00715    0.0  0.287409           0     True\n",
       "C5/180125/06384    1.0  0.140235           1     True\n",
       "C5/180904/02619    1.0  0.153068           1     True\n",
       "C5/170327/07629    0.0  0.287409           0     True\n",
       "C5/170803/05943    0.0  0.287409           0     True\n",
       "...                ...       ...         ...      ...\n",
       "C4/140210/00850    0.0  0.140235           1    False\n",
       "C5/180109/02335    1.0  0.245931           0    False\n",
       "C5/160527/01506    1.0  0.287409           0    False\n",
       "C5/191115/08861    0.0  0.287409           0     True\n",
       "C5/190306/07844    0.0  0.287409           0     True\n",
       "\n",
       "[414942 rows x 4 columns]"
      ]
     },
     "execution_count": 13,
     "metadata": {},
     "output_type": "execute_result"
    }
   ],
   "source": [
    "dfx = pd.DataFrame(y_test)\n",
    "dfx[\"1_prob\"] = test_predict_scores[:, 1]\n",
    "dfx[\"prob_label\"] = dfx[\"1_prob\"].apply(lambda x: 1 if x <= 0.18 else 0)\n",
    "dfx[\"correct\"] = dfx.apply(lambda x: True if x[\"label\"] == x[\"prob_label\"] else False, axis=1)\n",
    "dfx"
   ]
  },
  {
   "cell_type": "code",
   "execution_count": 14,
   "metadata": {
    "ExecuteTime": {
     "end_time": "2020-12-05T00:06:23.084370Z",
     "start_time": "2020-12-05T00:06:22.892440Z"
    },
    "scrolled": true
   },
   "outputs": [
    {
     "data": {
      "text/plain": [
       "<AxesSubplot:xlabel='label', ylabel='1_prob'>"
      ]
     },
     "execution_count": 14,
     "metadata": {},
     "output_type": "execute_result"
    },
    {
     "data": {
      "image/png": "[encoded data removed]",
      "text/plain": [
       "<Figure size 432x288 with 1 Axes>"
      ]
     },
     "metadata": {
      "needs_background": "light"
     },
     "output_type": "display_data"
    }
   ],
   "source": [
    "sns.boxplot(\n",
    "    x=dfx[\"label\"],\n",
    "    y=dfx[\"1_prob\"]\n",
    ")"
   ]
  },
  {
   "cell_type": "code",
   "execution_count": 15,
   "metadata": {
    "ExecuteTime": {
     "end_time": "2020-12-05T00:06:25.342642Z",
     "start_time": "2020-12-05T00:06:23.822106Z"
    },
    "scrolled": true
   },
   "outputs": [
    {
     "data": {
      "text/plain": [
       "<AxesSubplot:xlabel='1_prob', ylabel='Density'>"
      ]
     },
     "execution_count": 15,
     "metadata": {},
     "output_type": "execute_result"
    },
    {
     "data": {
      "image/png": "[encoded data removed]",
      "text/plain": [
       "<Figure size 432x288 with 1 Axes>"
      ]
     },
     "metadata": {
      "needs_background": "light"
     },
     "output_type": "display_data"
    }
   ],
   "source": [
    "sns.kdeplot(\n",
    "    data=dfx.loc[:, [\"label\", \"1_prob\"]],\n",
    "    x=\"1_prob\",\n",
    "    hue=\"label\",\n",
    "    multiple=\"stack\"\n",
    ")"
   ]
  },
  {
   "cell_type": "code",
   "execution_count": 16,
   "metadata": {
    "ExecuteTime": {
     "end_time": "2020-12-05T00:07:32.227909Z",
     "start_time": "2020-12-05T00:07:32.200943Z"
    }
   },
   "outputs": [
    {
     "data": {
      "text/plain": [
       "False    0.584173\n",
       "True     0.415827\n",
       "Name: correct, dtype: float64"
      ]
     },
     "execution_count": 16,
     "metadata": {},
     "output_type": "execute_result"
    }
   ],
   "source": [
    "dfx[\"correct\"].value_counts(normalize=True)"
   ]
  },
  {
   "cell_type": "code",
   "execution_count": 17,
   "metadata": {
    "ExecuteTime": {
     "end_time": "2020-12-05T00:07:33.164941Z",
     "start_time": "2020-12-05T00:07:32.820741Z"
    }
   },
   "outputs": [
    {
     "data": {
      "text/plain": [
       "array([[146865, 183773],\n",
       "       [ 58625,  25679]])"
      ]
     },
     "execution_count": 17,
     "metadata": {},
     "output_type": "execute_result"
    }
   ],
   "source": [
    "confusion_matrix(dfx[\"label\"], dfx[\"prob_label\"])"
   ]
  },
  {
   "cell_type": "markdown",
   "metadata": {
    "heading_collapsed": true
   },
   "source": [
    "# *Notes*"
   ]
  },
  {
   "cell_type": "markdown",
   "metadata": {
    "hidden": true
   },
   "source": [
    "## Finding labels of processed matrix"
   ]
  },
  {
   "cell_type": "markdown",
   "metadata": {
    "hidden": true
   },
   "source": [
    "#### Manually number of labels that should be in the model."
   ]
  },
  {
   "cell_type": "code",
   "execution_count": null,
   "metadata": {
    "ExecuteTime": {
     "end_time": "2020-11-25T19:04:25.478389Z",
     "start_time": "2020-11-25T19:04:21.864041Z"
    },
    "hidden": true
   },
   "outputs": [],
   "source": [
    "cat_list = list(df_tra[\"dia_semana\"].unique()) + \\\n",
    "            list(df_tra[\"incidente_c4\"].unique()) + \\\n",
    "            list(df_tra[\"tipo_entrada\"].unique()) + \\\n",
    "            list(df_tra[\"anio_inicio\"].unique())"
   ]
  },
  {
   "cell_type": "code",
   "execution_count": null,
   "metadata": {
    "ExecuteTime": {
     "end_time": "2020-11-25T19:04:34.571022Z",
     "start_time": "2020-11-25T19:04:34.496408Z"
    },
    "hidden": true,
    "scrolled": true
   },
   "outputs": [],
   "source": [
    "print(len(cat_list))\n",
    "cat_list"
   ]
  },
  {
   "cell_type": "markdown",
   "metadata": {
    "heading_collapsed": true,
    "hidden": true
   },
   "source": [
    "#### Example code from StackOverflow to get labels."
   ]
  },
  {
   "cell_type": "code",
   "execution_count": null,
   "metadata": {
    "ExecuteTime": {
     "end_time": "2020-11-25T03:28:44.879590Z",
     "start_time": "2020-11-25T03:28:44.803530Z"
    },
    "hidden": true
   },
   "outputs": [],
   "source": [
    "import pandas as pd\n",
    "import numpy as np\n",
    "from sklearn.compose import ColumnTransformer\n",
    "from sklearn.pipeline import make_pipeline\n",
    "from sklearn.impute import SimpleImputer\n",
    "from sklearn.preprocessing import StandardScaler, OneHotEncoder, MinMaxScaler\n",
    "from sklearn.feature_extraction.text import _VectorizerMixin\n",
    "from sklearn.feature_selection._base import SelectorMixin\n",
    "from sklearn.feature_selection import SelectKBest\n",
    "from sklearn.feature_extraction.text import CountVectorizer\n",
    "from sklearn.pipeline import Pipeline\n",
    "\n",
    "train = pd.DataFrame({'age': [23,12, 12, np.nan],\n",
    "                      'Gender': ['M','F', np.nan, 'F'],\n",
    "                      'income': ['high','low','low','medium'],\n",
    "                      'sales': [10000, 100020, 110000, 100],\n",
    "                      'foo' : [1,0,0,1],\n",
    "                      'text': ['I will test this',\n",
    "                               'need to write more sentence',\n",
    "                               'want to keep it simple',\n",
    "                               'hope you got that these sentences are junk'],\n",
    "                      'y': [0,1,1,1]})\n",
    "numeric_columns = ['age']\n",
    "cat_columns     = ['Gender','income']\n",
    "\n",
    "numeric_pipeline = make_pipeline(SimpleImputer(strategy='median'), StandardScaler())\n",
    "cat_pipeline     = make_pipeline(SimpleImputer(strategy='most_frequent'), OneHotEncoder())\n",
    "text_pipeline = make_pipeline(CountVectorizer(), SelectKBest(k=5))\n",
    "\n",
    "transformers = [\n",
    "('num', numeric_pipeline, numeric_columns),\n",
    "('cat', cat_pipeline, cat_columns),\n",
    "('text', text_pipeline, 'text'),\n",
    "('simple_transformer', MinMaxScaler(), ['sales']),\n",
    "]\n",
    "\n",
    "combined_pipe = ColumnTransformer(transformers, remainder='passthrough')\n",
    "\n",
    "transformed_data = combined_pipe.fit_transform(train.drop('y',1), train['y'])"
   ]
  },
  {
   "cell_type": "code",
   "execution_count": null,
   "metadata": {
    "ExecuteTime": {
     "end_time": "2020-11-25T03:28:45.852590Z",
     "start_time": "2020-11-25T03:28:45.815549Z"
    },
    "hidden": true
   },
   "outputs": [],
   "source": [
    "train"
   ]
  },
  {
   "cell_type": "code",
   "execution_count": null,
   "metadata": {
    "ExecuteTime": {
     "end_time": "2020-11-25T03:28:48.165311Z",
     "start_time": "2020-11-25T03:28:48.137548Z"
    },
    "hidden": true
   },
   "outputs": [],
   "source": [
    "transformed_data.shape"
   ]
  },
  {
   "cell_type": "code",
   "execution_count": null,
   "metadata": {
    "ExecuteTime": {
     "end_time": "2020-11-25T03:28:48.419807Z",
     "start_time": "2020-11-25T03:28:48.364936Z"
    },
    "hidden": true
   },
   "outputs": [],
   "source": [
    "def get_feature_out(estimator, feature_in):\n",
    "    if hasattr(estimator,'get_feature_names'):\n",
    "        if isinstance(estimator, _VectorizerMixin):\n",
    "            # handling all vectorizers\n",
    "            return [f'vec_{f}' \\\n",
    "                for f in estimator.get_feature_names()]\n",
    "        else:\n",
    "            return estimator.get_feature_names(feature_in)\n",
    "    elif isinstance(estimator, SelectorMixin):\n",
    "        return np.array(feature_in)[estimator.get_support()]\n",
    "    else:\n",
    "        return feature_in\n",
    "\n",
    "\n",
    "def get_ct_feature_names(ct):\n",
    "    # handles all estimators, pipelines inside ColumnTransfomer\n",
    "    # doesn't work when remainder =='passthrough'\n",
    "    # which requires the input column names.\n",
    "    output_features = []\n",
    "\n",
    "    for name, estimator, features in ct.transformers_:\n",
    "        if name!='remainder':\n",
    "            if isinstance(estimator, Pipeline):\n",
    "                current_features = features\n",
    "                for step in estimator:\n",
    "                    current_features = get_feature_out(step, current_features)\n",
    "                features_out = current_features\n",
    "            else:\n",
    "                features_out = get_feature_out(estimator, features)\n",
    "            output_features.extend(features_out)\n",
    "        elif estimator=='passthrough':\n",
    "            output_features.extend(ct._feature_names_in[features])\n",
    "                \n",
    "    return output_features\n",
    "\n",
    "\n",
    "\n",
    "\n",
    "pd.DataFrame(transformed_data, \n",
    "             columns=get_ct_feature_names(combined_pipe))"
   ]
  },
  {
   "cell_type": "code",
   "execution_count": null,
   "metadata": {
    "ExecuteTime": {
     "end_time": "2020-11-25T03:28:56.004252Z",
     "start_time": "2020-11-25T03:28:55.970581Z"
    },
    "hidden": true
   },
   "outputs": [],
   "source": [
    "train"
   ]
  },
  {
   "cell_type": "markdown",
   "metadata": {
    "hidden": true
   },
   "source": [
    "## Updating dictionary"
   ]
  },
  {
   "cell_type": "code",
   "execution_count": null,
   "metadata": {
    "ExecuteTime": {
     "end_time": "2020-11-25T18:17:12.775997Z",
     "start_time": "2020-11-25T18:17:12.757186Z"
    },
    "hidden": true
   },
   "outputs": [],
   "source": [
    "x_dict = {}"
   ]
  },
  {
   "cell_type": "code",
   "execution_count": null,
   "metadata": {
    "ExecuteTime": {
     "end_time": "2020-11-25T18:17:16.878569Z",
     "start_time": "2020-11-25T18:17:16.853009Z"
    },
    "hidden": true
   },
   "outputs": [],
   "source": [
    "var = \"var_1\""
   ]
  },
  {
   "cell_type": "code",
   "execution_count": null,
   "metadata": {
    "ExecuteTime": {
     "end_time": "2020-11-25T18:17:20.518440Z",
     "start_time": "2020-11-25T18:17:20.496081Z"
    },
    "hidden": true
   },
   "outputs": [],
   "source": [
    "def create_datadict_entry(var, relevant=True, data_type=\"not_specified\", model_relevant=\"False\"):\n",
    "    \n",
    "    entry = {\n",
    "        var: {\n",
    "            \"relevant\": relevant,\n",
    "            \"data_type\": data_type,\n",
    "            \"model_relevant\": model_relevant\n",
    "        }\n",
    "    }\n",
    "    \n",
    "    x_dict.update(entry)\n",
    "    \n",
    "    return"
   ]
  },
  {
   "cell_type": "code",
   "execution_count": null,
   "metadata": {
    "ExecuteTime": {
     "end_time": "2020-11-25T18:17:20.905886Z",
     "start_time": "2020-11-25T18:17:20.881797Z"
    },
    "hidden": true
   },
   "outputs": [],
   "source": [
    "create_datadict_entry(var)"
   ]
  },
  {
   "cell_type": "code",
   "execution_count": null,
   "metadata": {
    "ExecuteTime": {
     "end_time": "2020-11-25T18:17:21.115819Z",
     "start_time": "2020-11-25T18:17:21.090318Z"
    },
    "hidden": true
   },
   "outputs": [],
   "source": [
    "x_dict"
   ]
  },
  {
   "cell_type": "markdown",
   "metadata": {
    "hidden": true
   },
   "source": [
    "---\n",
    "---"
   ]
  }
 ],
 "metadata": {
  "kernelspec": {
   "display_name": "Python 3",
   "language": "python",
   "name": "python3"
  },
  "language_info": {
   "codemirror_mode": {
    "name": "ipython",
    "version": 3
   },
   "file_extension": ".py",
   "mimetype": "text/x-python",
   "name": "python",
   "nbconvert_exporter": "python",
   "pygments_lexer": "ipython3",
   "version": "3.7.4"
  }
 },
 "nbformat": 4,
 "nbformat_minor": 4
}
