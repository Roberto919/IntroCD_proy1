{
 "cells": [
  {
   "cell_type": "markdown",
   "metadata": {},
   "source": [
    "# Data Profiling"
   ]
  },
  {
   "cell_type": "markdown",
   "metadata": {},
   "source": [
    "---"
   ]
  },
  {
   "cell_type": "markdown",
   "metadata": {},
   "source": [
    "## Imports"
   ]
  },
  {
   "cell_type": "markdown",
   "metadata": {},
   "source": [
    "#### Python libraries"
   ]
  },
  {
   "cell_type": "code",
   "execution_count": 1,
   "metadata": {
    "ExecuteTime": {
     "end_time": "2020-11-18T16:46:32.107654Z",
     "start_time": "2020-11-18T16:46:31.718002Z"
    }
   },
   "outputs": [],
   "source": [
    "import pandas as pd\n",
    "pd.options.display.max_columns = 50\n",
    "\n",
    "import sys"
   ]
  },
  {
   "cell_type": "markdown",
   "metadata": {},
   "source": [
    "#### Asistin configuration"
   ]
  },
  {
   "cell_type": "code",
   "execution_count": 2,
   "metadata": {
    "ExecuteTime": {
     "end_time": "2020-11-18T16:46:32.112079Z",
     "start_time": "2020-11-18T16:46:32.109719Z"
    }
   },
   "outputs": [],
   "source": [
    "sys.path.append(\"..\")"
   ]
  },
  {
   "cell_type": "markdown",
   "metadata": {},
   "source": [
    "#### Ancillary modules"
   ]
  },
  {
   "cell_type": "code",
   "execution_count": 3,
   "metadata": {
    "ExecuteTime": {
     "end_time": "2020-11-18T16:46:32.136810Z",
     "start_time": "2020-11-18T16:46:32.114314Z"
    },
    "scrolled": true
   },
   "outputs": [],
   "source": [
    "## Reload modules\n",
    "%load_ext autoreload\n",
    "%autoreload 2\n",
    "\n",
    "from src.utils.utils import (\n",
    "    json_dump_dict,\n",
    "    count_vars,\n",
    "    count_obs,\n",
    "    count_unique_obs,\n",
    "    vars_classif_by_type,\n",
    "    data_profiling_numeric,\n",
    "    data_profiling_categ,\n",
    "    data_profiling_date\n",
    ")\n",
    "\n",
    "from src.utils.data_dict import (\n",
    "    data_dict\n",
    ")"
   ]
  },
  {
   "cell_type": "markdown",
   "metadata": {},
   "source": [
    "---"
   ]
  },
  {
   "cell_type": "markdown",
   "metadata": {
    "heading_collapsed": true
   },
   "source": [
    "## Reading data"
   ]
  },
  {
   "cell_type": "code",
   "execution_count": 4,
   "metadata": {
    "ExecuteTime": {
     "end_time": "2020-11-18T16:46:38.935129Z",
     "start_time": "2020-11-18T16:46:33.480293Z"
    },
    "hidden": true
   },
   "outputs": [],
   "source": [
    "df_c5 = pd.read_csv(\"../incidentes-viales-c5.csv\")"
   ]
  },
  {
   "cell_type": "code",
   "execution_count": 5,
   "metadata": {
    "ExecuteTime": {
     "end_time": "2020-11-18T16:46:38.987785Z",
     "start_time": "2020-11-18T16:46:38.937805Z"
    },
    "hidden": true,
    "scrolled": true
   },
   "outputs": [
    {
     "data": {
      "text/html": [
       "<div>\n",
       "<style scoped>\n",
       "    .dataframe tbody tr th:only-of-type {\n",
       "        vertical-align: middle;\n",
       "    }\n",
       "\n",
       "    .dataframe tbody tr th {\n",
       "        vertical-align: top;\n",
       "    }\n",
       "\n",
       "    .dataframe thead th {\n",
       "        text-align: right;\n",
       "    }\n",
       "</style>\n",
       "<table border=\"1\" class=\"dataframe\">\n",
       "  <thead>\n",
       "    <tr style=\"text-align: right;\">\n",
       "      <th></th>\n",
       "      <th>folio</th>\n",
       "      <th>fecha_creacion</th>\n",
       "      <th>hora_creacion</th>\n",
       "      <th>dia_semana</th>\n",
       "      <th>codigo_cierre</th>\n",
       "      <th>fecha_cierre</th>\n",
       "      <th>año_cierre</th>\n",
       "      <th>mes_cierre</th>\n",
       "      <th>hora_cierre</th>\n",
       "      <th>delegacion_inicio</th>\n",
       "      <th>incidente_c4</th>\n",
       "      <th>latitud</th>\n",
       "      <th>longitud</th>\n",
       "      <th>clas_con_f_alarma</th>\n",
       "      <th>tipo_entrada</th>\n",
       "      <th>delegacion_cierre</th>\n",
       "      <th>geopoint</th>\n",
       "      <th>mes</th>\n",
       "    </tr>\n",
       "  </thead>\n",
       "  <tbody>\n",
       "    <tr>\n",
       "      <th>0</th>\n",
       "      <td>GA/160123/05714</td>\n",
       "      <td>23/01/2016</td>\n",
       "      <td>22:35:04</td>\n",
       "      <td>Sábado</td>\n",
       "      <td>(A) La unidad de atención a emergencias fue de...</td>\n",
       "      <td>24/01/2016</td>\n",
       "      <td>2016</td>\n",
       "      <td>Enero</td>\n",
       "      <td>00:21:08</td>\n",
       "      <td>VENUSTIANO CARRANZA</td>\n",
       "      <td>accidente-choque sin lesionados</td>\n",
       "      <td>19.422113</td>\n",
       "      <td>-99.084643</td>\n",
       "      <td>EMERGENCIA</td>\n",
       "      <td>BOTÓN DE AUXILIO</td>\n",
       "      <td>VENUSTIANO CARRANZA</td>\n",
       "      <td>19.422113,-99.084643</td>\n",
       "      <td>1</td>\n",
       "    </tr>\n",
       "    <tr>\n",
       "      <th>1</th>\n",
       "      <td>AO/160123/05826</td>\n",
       "      <td>23/01/2016</td>\n",
       "      <td>22:50:49</td>\n",
       "      <td>Sábado</td>\n",
       "      <td>(A) La unidad de atención a emergencias fue de...</td>\n",
       "      <td>24/01/2016</td>\n",
       "      <td>2016</td>\n",
       "      <td>Enero</td>\n",
       "      <td>04:40:37</td>\n",
       "      <td>CUAJIMALPA</td>\n",
       "      <td>accidente-choque con lesionados</td>\n",
       "      <td>19.358320</td>\n",
       "      <td>-99.297641</td>\n",
       "      <td>URGENCIAS MEDICAS</td>\n",
       "      <td>BOTÓN DE AUXILIO</td>\n",
       "      <td>CUAJIMALPA</td>\n",
       "      <td>19.35832,-99.297641</td>\n",
       "      <td>1</td>\n",
       "    </tr>\n",
       "    <tr>\n",
       "      <th>2</th>\n",
       "      <td>C4/160124/02187</td>\n",
       "      <td>24/01/2016</td>\n",
       "      <td>09:40:11</td>\n",
       "      <td>Domingo</td>\n",
       "      <td>(N) La unidad de atención a emergencias fue de...</td>\n",
       "      <td>24/01/2016</td>\n",
       "      <td>2016</td>\n",
       "      <td>Enero</td>\n",
       "      <td>11:13:03</td>\n",
       "      <td>TLALPAN</td>\n",
       "      <td>accidente-choque sin lesionados</td>\n",
       "      <td>19.217070</td>\n",
       "      <td>-99.219070</td>\n",
       "      <td>EMERGENCIA</td>\n",
       "      <td>LLAMADA DEL 066</td>\n",
       "      <td>TLALPAN</td>\n",
       "      <td>19.21707,-99.21907008</td>\n",
       "      <td>1</td>\n",
       "    </tr>\n",
       "    <tr>\n",
       "      <th>3</th>\n",
       "      <td>C4/160124/05723</td>\n",
       "      <td>24/01/2016</td>\n",
       "      <td>22:40:57</td>\n",
       "      <td>Domingo</td>\n",
       "      <td>(N) La unidad de atención a emergencias fue de...</td>\n",
       "      <td>24/01/2016</td>\n",
       "      <td>2016</td>\n",
       "      <td>Enero</td>\n",
       "      <td>22:55:51</td>\n",
       "      <td>MAGDALENA CONTRERAS</td>\n",
       "      <td>accidente-choque sin lesionados</td>\n",
       "      <td>19.320580</td>\n",
       "      <td>-99.241010</td>\n",
       "      <td>EMERGENCIA</td>\n",
       "      <td>LLAMADA DEL 066</td>\n",
       "      <td>MAGDALENA CONTRERAS</td>\n",
       "      <td>19.32057999,-99.24100992</td>\n",
       "      <td>1</td>\n",
       "    </tr>\n",
       "    <tr>\n",
       "      <th>4</th>\n",
       "      <td>C4/160124/01334</td>\n",
       "      <td>24/01/2016</td>\n",
       "      <td>04:25:15</td>\n",
       "      <td>Domingo</td>\n",
       "      <td>(A) La unidad de atención a emergencias fue de...</td>\n",
       "      <td>24/01/2016</td>\n",
       "      <td>2016</td>\n",
       "      <td>Enero</td>\n",
       "      <td>05:03:59</td>\n",
       "      <td>MIGUEL HIDALGO</td>\n",
       "      <td>accidente-choque sin lesionados</td>\n",
       "      <td>19.452900</td>\n",
       "      <td>-99.215870</td>\n",
       "      <td>EMERGENCIA</td>\n",
       "      <td>LLAMADA DEL 066</td>\n",
       "      <td>MIGUEL HIDALGO</td>\n",
       "      <td>19.45289997,-99.21587004</td>\n",
       "      <td>1</td>\n",
       "    </tr>\n",
       "    <tr>\n",
       "      <th>...</th>\n",
       "      <td>...</td>\n",
       "      <td>...</td>\n",
       "      <td>...</td>\n",
       "      <td>...</td>\n",
       "      <td>...</td>\n",
       "      <td>...</td>\n",
       "      <td>...</td>\n",
       "      <td>...</td>\n",
       "      <td>...</td>\n",
       "      <td>...</td>\n",
       "      <td>...</td>\n",
       "      <td>...</td>\n",
       "      <td>...</td>\n",
       "      <td>...</td>\n",
       "      <td>...</td>\n",
       "      <td>...</td>\n",
       "      <td>...</td>\n",
       "      <td>...</td>\n",
       "    </tr>\n",
       "    <tr>\n",
       "      <th>1383133</th>\n",
       "      <td>GA/201022/03443</td>\n",
       "      <td>22/10/2020</td>\n",
       "      <td>16:17:05</td>\n",
       "      <td>Jueves</td>\n",
       "      <td>(A) La unidad de atención a emergencias fue de...</td>\n",
       "      <td>22/10/2020</td>\n",
       "      <td>2020</td>\n",
       "      <td>Octubre</td>\n",
       "      <td>16:58:49</td>\n",
       "      <td>GUSTAVO A. MADERO</td>\n",
       "      <td>lesionado-atropellado</td>\n",
       "      <td>19.486310</td>\n",
       "      <td>-99.118120</td>\n",
       "      <td>URGENCIAS MEDICAS</td>\n",
       "      <td>BOTÓN DE AUXILIO</td>\n",
       "      <td>GUSTAVO A. MADERO</td>\n",
       "      <td>19.48631004,-99.11811996</td>\n",
       "      <td>10</td>\n",
       "    </tr>\n",
       "    <tr>\n",
       "      <th>1383134</th>\n",
       "      <td>GA/201022/03492</td>\n",
       "      <td>22/10/2020</td>\n",
       "      <td>16:29:13</td>\n",
       "      <td>Jueves</td>\n",
       "      <td>(A) La unidad de atención a emergencias fue de...</td>\n",
       "      <td>22/10/2020</td>\n",
       "      <td>2020</td>\n",
       "      <td>Octubre</td>\n",
       "      <td>18:54:22</td>\n",
       "      <td>VENUSTIANO CARRANZA</td>\n",
       "      <td>accidente-choque con lesionados</td>\n",
       "      <td>19.427274</td>\n",
       "      <td>-99.115814</td>\n",
       "      <td>URGENCIAS MEDICAS</td>\n",
       "      <td>BOTÓN DE AUXILIO</td>\n",
       "      <td>VENUSTIANO CARRANZA</td>\n",
       "      <td>19.427274,-99.115814</td>\n",
       "      <td>10</td>\n",
       "    </tr>\n",
       "    <tr>\n",
       "      <th>1383135</th>\n",
       "      <td>C5/201022/02030</td>\n",
       "      <td>22/10/2020</td>\n",
       "      <td>12:00:26</td>\n",
       "      <td>Jueves</td>\n",
       "      <td>(D) El incidente reportado se registró en dos ...</td>\n",
       "      <td>22/10/2020</td>\n",
       "      <td>2020</td>\n",
       "      <td>Octubre</td>\n",
       "      <td>12:02:30</td>\n",
       "      <td>AZCAPOTZALCO</td>\n",
       "      <td>accidente-choque sin lesionados</td>\n",
       "      <td>19.467180</td>\n",
       "      <td>-99.175250</td>\n",
       "      <td>EMERGENCIA</td>\n",
       "      <td>LLAMADA DEL 911</td>\n",
       "      <td>AZCAPOTZALCO</td>\n",
       "      <td>19.46718,-99.17525016</td>\n",
       "      <td>10</td>\n",
       "    </tr>\n",
       "    <tr>\n",
       "      <th>1383136</th>\n",
       "      <td>C5/201022/02039</td>\n",
       "      <td>22/10/2020</td>\n",
       "      <td>12:01:25</td>\n",
       "      <td>Jueves</td>\n",
       "      <td>(D) El incidente reportado se registró en dos ...</td>\n",
       "      <td>22/10/2020</td>\n",
       "      <td>2020</td>\n",
       "      <td>Octubre</td>\n",
       "      <td>12:05:59</td>\n",
       "      <td>VENUSTIANO CARRANZA</td>\n",
       "      <td>accidente-choque con lesionados</td>\n",
       "      <td>19.427280</td>\n",
       "      <td>-99.096860</td>\n",
       "      <td>URGENCIAS MEDICAS</td>\n",
       "      <td>LLAMADA DEL 911</td>\n",
       "      <td>VENUSTIANO CARRANZA</td>\n",
       "      <td>19.42728003,-99.09686016</td>\n",
       "      <td>10</td>\n",
       "    </tr>\n",
       "    <tr>\n",
       "      <th>1383137</th>\n",
       "      <td>C5/201022/03364</td>\n",
       "      <td>22/10/2020</td>\n",
       "      <td>16:05:47</td>\n",
       "      <td>Jueves</td>\n",
       "      <td>(D) El incidente reportado se registró en dos ...</td>\n",
       "      <td>22/10/2020</td>\n",
       "      <td>2020</td>\n",
       "      <td>Octubre</td>\n",
       "      <td>16:10:13</td>\n",
       "      <td>IZTAPALAPA</td>\n",
       "      <td>accidente-choque sin lesionados</td>\n",
       "      <td>19.345780</td>\n",
       "      <td>-99.062980</td>\n",
       "      <td>EMERGENCIA</td>\n",
       "      <td>LLAMADA DEL 911</td>\n",
       "      <td>IZTAPALAPA</td>\n",
       "      <td>19.34577999,-99.06297984</td>\n",
       "      <td>10</td>\n",
       "    </tr>\n",
       "  </tbody>\n",
       "</table>\n",
       "<p>1383138 rows × 18 columns</p>\n",
       "</div>"
      ],
      "text/plain": [
       "                   folio fecha_creacion hora_creacion dia_semana  \\\n",
       "0        GA/160123/05714     23/01/2016      22:35:04     Sábado   \n",
       "1        AO/160123/05826     23/01/2016      22:50:49     Sábado   \n",
       "2        C4/160124/02187     24/01/2016      09:40:11    Domingo   \n",
       "3        C4/160124/05723     24/01/2016      22:40:57    Domingo   \n",
       "4        C4/160124/01334     24/01/2016      04:25:15    Domingo   \n",
       "...                  ...            ...           ...        ...   \n",
       "1383133  GA/201022/03443     22/10/2020      16:17:05     Jueves   \n",
       "1383134  GA/201022/03492     22/10/2020      16:29:13     Jueves   \n",
       "1383135  C5/201022/02030     22/10/2020      12:00:26     Jueves   \n",
       "1383136  C5/201022/02039     22/10/2020      12:01:25     Jueves   \n",
       "1383137  C5/201022/03364     22/10/2020      16:05:47     Jueves   \n",
       "\n",
       "                                             codigo_cierre fecha_cierre  \\\n",
       "0        (A) La unidad de atención a emergencias fue de...   24/01/2016   \n",
       "1        (A) La unidad de atención a emergencias fue de...   24/01/2016   \n",
       "2        (N) La unidad de atención a emergencias fue de...   24/01/2016   \n",
       "3        (N) La unidad de atención a emergencias fue de...   24/01/2016   \n",
       "4        (A) La unidad de atención a emergencias fue de...   24/01/2016   \n",
       "...                                                    ...          ...   \n",
       "1383133  (A) La unidad de atención a emergencias fue de...   22/10/2020   \n",
       "1383134  (A) La unidad de atención a emergencias fue de...   22/10/2020   \n",
       "1383135  (D) El incidente reportado se registró en dos ...   22/10/2020   \n",
       "1383136  (D) El incidente reportado se registró en dos ...   22/10/2020   \n",
       "1383137  (D) El incidente reportado se registró en dos ...   22/10/2020   \n",
       "\n",
       "         año_cierre mes_cierre hora_cierre    delegacion_inicio  \\\n",
       "0              2016      Enero    00:21:08  VENUSTIANO CARRANZA   \n",
       "1              2016      Enero    04:40:37           CUAJIMALPA   \n",
       "2              2016      Enero    11:13:03              TLALPAN   \n",
       "3              2016      Enero    22:55:51  MAGDALENA CONTRERAS   \n",
       "4              2016      Enero    05:03:59       MIGUEL HIDALGO   \n",
       "...             ...        ...         ...                  ...   \n",
       "1383133        2020    Octubre    16:58:49    GUSTAVO A. MADERO   \n",
       "1383134        2020    Octubre    18:54:22  VENUSTIANO CARRANZA   \n",
       "1383135        2020    Octubre    12:02:30         AZCAPOTZALCO   \n",
       "1383136        2020    Octubre    12:05:59  VENUSTIANO CARRANZA   \n",
       "1383137        2020    Octubre    16:10:13           IZTAPALAPA   \n",
       "\n",
       "                            incidente_c4    latitud   longitud  \\\n",
       "0        accidente-choque sin lesionados  19.422113 -99.084643   \n",
       "1        accidente-choque con lesionados  19.358320 -99.297641   \n",
       "2        accidente-choque sin lesionados  19.217070 -99.219070   \n",
       "3        accidente-choque sin lesionados  19.320580 -99.241010   \n",
       "4        accidente-choque sin lesionados  19.452900 -99.215870   \n",
       "...                                  ...        ...        ...   \n",
       "1383133            lesionado-atropellado  19.486310 -99.118120   \n",
       "1383134  accidente-choque con lesionados  19.427274 -99.115814   \n",
       "1383135  accidente-choque sin lesionados  19.467180 -99.175250   \n",
       "1383136  accidente-choque con lesionados  19.427280 -99.096860   \n",
       "1383137  accidente-choque sin lesionados  19.345780 -99.062980   \n",
       "\n",
       "         clas_con_f_alarma      tipo_entrada    delegacion_cierre  \\\n",
       "0               EMERGENCIA  BOTÓN DE AUXILIO  VENUSTIANO CARRANZA   \n",
       "1        URGENCIAS MEDICAS  BOTÓN DE AUXILIO           CUAJIMALPA   \n",
       "2               EMERGENCIA   LLAMADA DEL 066              TLALPAN   \n",
       "3               EMERGENCIA   LLAMADA DEL 066  MAGDALENA CONTRERAS   \n",
       "4               EMERGENCIA   LLAMADA DEL 066       MIGUEL HIDALGO   \n",
       "...                    ...               ...                  ...   \n",
       "1383133  URGENCIAS MEDICAS  BOTÓN DE AUXILIO    GUSTAVO A. MADERO   \n",
       "1383134  URGENCIAS MEDICAS  BOTÓN DE AUXILIO  VENUSTIANO CARRANZA   \n",
       "1383135         EMERGENCIA   LLAMADA DEL 911         AZCAPOTZALCO   \n",
       "1383136  URGENCIAS MEDICAS   LLAMADA DEL 911  VENUSTIANO CARRANZA   \n",
       "1383137         EMERGENCIA   LLAMADA DEL 911           IZTAPALAPA   \n",
       "\n",
       "                         geopoint  mes  \n",
       "0            19.422113,-99.084643    1  \n",
       "1             19.35832,-99.297641    1  \n",
       "2           19.21707,-99.21907008    1  \n",
       "3        19.32057999,-99.24100992    1  \n",
       "4        19.45289997,-99.21587004    1  \n",
       "...                           ...  ...  \n",
       "1383133  19.48631004,-99.11811996   10  \n",
       "1383134      19.427274,-99.115814   10  \n",
       "1383135     19.46718,-99.17525016   10  \n",
       "1383136  19.42728003,-99.09686016   10  \n",
       "1383137  19.34577999,-99.06297984   10  \n",
       "\n",
       "[1383138 rows x 18 columns]"
      ]
     },
     "execution_count": 5,
     "metadata": {},
     "output_type": "execute_result"
    }
   ],
   "source": [
    "df_c5"
   ]
  },
  {
   "cell_type": "markdown",
   "metadata": {
    "hidden": true
   },
   "source": [
    "---"
   ]
  },
  {
   "cell_type": "markdown",
   "metadata": {},
   "source": [
    "## Data profiling"
   ]
  },
  {
   "cell_type": "markdown",
   "metadata": {
    "heading_collapsed": true
   },
   "source": [
    "### Generic exploration"
   ]
  },
  {
   "cell_type": "markdown",
   "metadata": {
    "hidden": true
   },
   "source": [
    "#### Number of variables in data"
   ]
  },
  {
   "cell_type": "code",
   "execution_count": null,
   "metadata": {
    "ExecuteTime": {
     "end_time": "2020-11-16T20:44:31.808762Z",
     "start_time": "2020-11-16T20:44:31.789661Z"
    },
    "hidden": true
   },
   "outputs": [],
   "source": [
    "count_vars(df_c5)"
   ]
  },
  {
   "cell_type": "markdown",
   "metadata": {
    "hidden": true
   },
   "source": [
    "#### Number of observations in data"
   ]
  },
  {
   "cell_type": "code",
   "execution_count": null,
   "metadata": {
    "ExecuteTime": {
     "end_time": "2020-11-16T20:44:32.188102Z",
     "start_time": "2020-11-16T20:44:32.169681Z"
    },
    "hidden": true
   },
   "outputs": [],
   "source": [
    "count_obs(df_c5)"
   ]
  },
  {
   "cell_type": "markdown",
   "metadata": {
    "hidden": true
   },
   "source": [
    "#### Number of unique observations in data per column"
   ]
  },
  {
   "cell_type": "code",
   "execution_count": null,
   "metadata": {
    "ExecuteTime": {
     "end_time": "2020-11-16T20:44:34.127022Z",
     "start_time": "2020-11-16T20:44:32.548341Z"
    },
    "hidden": true
   },
   "outputs": [],
   "source": [
    "count_unique_obs(df_c5)"
   ]
  },
  {
   "cell_type": "markdown",
   "metadata": {
    "hidden": true
   },
   "source": [
    "#### Classifying variables according to data type"
   ]
  },
  {
   "cell_type": "code",
   "execution_count": null,
   "metadata": {
    "ExecuteTime": {
     "end_time": "2020-11-16T20:44:34.155675Z",
     "start_time": "2020-11-16T20:44:34.129330Z"
    },
    "hidden": true
   },
   "outputs": [],
   "source": [
    "vars_classif_by_type()"
   ]
  },
  {
   "cell_type": "markdown",
   "metadata": {
    "heading_collapsed": true
   },
   "source": [
    "### Data profilling - numeric variables"
   ]
  },
  {
   "cell_type": "markdown",
   "metadata": {
    "hidden": true
   },
   "source": [
    "El dataset analizado no contiene variables numéricas."
   ]
  },
  {
   "cell_type": "markdown",
   "metadata": {
    "heading_collapsed": true
   },
   "source": [
    "### Data profilling - categoric variables"
   ]
  },
  {
   "cell_type": "code",
   "execution_count": null,
   "metadata": {
    "ExecuteTime": {
     "end_time": "2020-11-18T16:30:40.231194Z",
     "start_time": "2020-11-18T16:30:30.150181Z"
    },
    "hidden": true,
    "scrolled": true
   },
   "outputs": [],
   "source": [
    "cat_vars = [var for var in data_dict if data_dict[var][\"data_type\"] == \"categoric\"]\n",
    "\n",
    "data_profiling_categ(df_c5, cat_vars)"
   ]
  },
  {
   "cell_type": "markdown",
   "metadata": {
    "hidden": true
   },
   "source": [
    "**Con base en el profiling realizado, nos damos cuenta de los siguientes aspectos importantes acerca de los datos:**\n",
    "- Observaciones principales\n",
    "    1. Sí tenemos un folio único para cada una de las observaciones.\n",
    "    2. El 20% de los envíos de asistencia registrados en la base (271,677) son inútiles debido a que la ambulancia llega al lugar pero no hay emergencia que atender.\n",
    "    3. El 55% de los accidentes no requieren que se envíe una ambulancia de asistencia.\n",
    "- Observaciones secundarias\n",
    "    1. Solamente el 0.8% de las llamadas son identificadas como \"Falsas\" antes de enviar asistencia (información útil para definir *baseline*)"
   ]
  },
  {
   "cell_type": "markdown",
   "metadata": {},
   "source": [
    "### Data profilling - date variables"
   ]
  },
  {
   "cell_type": "markdown",
   "metadata": {},
   "source": [
    "Current processing assumptions:\n",
    "1. All time entries which 3rd character is not \":\" will be ignored. The first two characters of the rest will be taken as the correct hour."
   ]
  },
  {
   "cell_type": "code",
   "execution_count": 6,
   "metadata": {
    "ExecuteTime": {
     "end_time": "2020-11-18T16:46:45.575675Z",
     "start_time": "2020-11-18T16:46:38.989715Z"
    },
    "scrolled": true
   },
   "outputs": [
    {
     "name": "stdout",
     "output_type": "stream",
     "text": [
      "*********************************\n",
      "** General description of data **\n",
      "*********************************\n"
     ]
    },
    {
     "data": {
      "text/html": [
       "<div>\n",
       "<style scoped>\n",
       "    .dataframe tbody tr th:only-of-type {\n",
       "        vertical-align: middle;\n",
       "    }\n",
       "\n",
       "    .dataframe tbody tr th {\n",
       "        vertical-align: top;\n",
       "    }\n",
       "\n",
       "    .dataframe thead th {\n",
       "        text-align: right;\n",
       "    }\n",
       "</style>\n",
       "<table border=\"1\" class=\"dataframe\">\n",
       "  <thead>\n",
       "    <tr style=\"text-align: right;\">\n",
       "      <th></th>\n",
       "      <th>fecha_creacion</th>\n",
       "      <th>hora_creacion</th>\n",
       "      <th>dia_semana</th>\n",
       "      <th>mes</th>\n",
       "      <th>dia_creacion</th>\n",
       "      <th>mes_creacion</th>\n",
       "      <th>año_creacion</th>\n",
       "    </tr>\n",
       "  </thead>\n",
       "  <tbody>\n",
       "    <tr>\n",
       "      <th>dtype</th>\n",
       "      <td>object</td>\n",
       "      <td>object</td>\n",
       "      <td>object</td>\n",
       "      <td>int64</td>\n",
       "      <td>object</td>\n",
       "      <td>object</td>\n",
       "      <td>object</td>\n",
       "    </tr>\n",
       "    <tr>\n",
       "      <th>notnull_v</th>\n",
       "      <td>1383138</td>\n",
       "      <td>1383138</td>\n",
       "      <td>1383138</td>\n",
       "      <td>1383138</td>\n",
       "      <td>1383138</td>\n",
       "      <td>1383138</td>\n",
       "      <td>1383138</td>\n",
       "    </tr>\n",
       "    <tr>\n",
       "      <th>missing_v</th>\n",
       "      <td>0</td>\n",
       "      <td>0</td>\n",
       "      <td>0</td>\n",
       "      <td>0</td>\n",
       "      <td>0</td>\n",
       "      <td>0</td>\n",
       "      <td>0</td>\n",
       "    </tr>\n",
       "    <tr>\n",
       "      <th>count_unique</th>\n",
       "      <td>2637</td>\n",
       "      <td>25</td>\n",
       "      <td>7</td>\n",
       "      <td>12</td>\n",
       "      <td>31</td>\n",
       "      <td>12</td>\n",
       "      <td>8</td>\n",
       "    </tr>\n",
       "  </tbody>\n",
       "</table>\n",
       "</div>"
      ],
      "text/plain": [
       "             fecha_creacion hora_creacion dia_semana      mes dia_creacion  \\\n",
       "dtype                object        object     object    int64       object   \n",
       "notnull_v           1383138       1383138    1383138  1383138      1383138   \n",
       "missing_v                 0             0          0        0            0   \n",
       "count_unique           2637            25          7       12           31   \n",
       "\n",
       "             mes_creacion año_creacion  \n",
       "dtype              object       object  \n",
       "notnull_v         1383138      1383138  \n",
       "missing_v               0            0  \n",
       "count_unique           12            8  "
      ]
     },
     "metadata": {},
     "output_type": "display_data"
    },
    {
     "name": "stdout",
     "output_type": "stream",
     "text": [
      "None\n",
      "---------------------------------------------------------------------------\n",
      "---------------------------------------------------------------------------\n",
      "\n",
      "\n",
      "\n",
      "****************************\n",
      "** Top repeated variables **\n",
      "****************************\n"
     ]
    },
    {
     "data": {
      "text/html": [
       "<div>\n",
       "<style scoped>\n",
       "    .dataframe tbody tr th:only-of-type {\n",
       "        vertical-align: middle;\n",
       "    }\n",
       "\n",
       "    .dataframe tbody tr th {\n",
       "        vertical-align: top;\n",
       "    }\n",
       "\n",
       "    .dataframe thead tr th {\n",
       "        text-align: left;\n",
       "    }\n",
       "</style>\n",
       "<table border=\"1\" class=\"dataframe\">\n",
       "  <thead>\n",
       "    <tr>\n",
       "      <th></th>\n",
       "      <th colspan=\"3\" halign=\"left\">fecha_creacion</th>\n",
       "      <th colspan=\"3\" halign=\"left\">hora_creacion</th>\n",
       "      <th colspan=\"3\" halign=\"left\">dia_semana</th>\n",
       "      <th colspan=\"3\" halign=\"left\">mes</th>\n",
       "      <th colspan=\"3\" halign=\"left\">dia_creacion</th>\n",
       "      <th colspan=\"3\" halign=\"left\">mes_creacion</th>\n",
       "      <th colspan=\"3\" halign=\"left\">año_creacion</th>\n",
       "    </tr>\n",
       "    <tr>\n",
       "      <th></th>\n",
       "      <th>value</th>\n",
       "      <th>count</th>\n",
       "      <th>part_notnull</th>\n",
       "      <th>value</th>\n",
       "      <th>count</th>\n",
       "      <th>part_notnull</th>\n",
       "      <th>value</th>\n",
       "      <th>count</th>\n",
       "      <th>part_notnull</th>\n",
       "      <th>value</th>\n",
       "      <th>count</th>\n",
       "      <th>part_notnull</th>\n",
       "      <th>value</th>\n",
       "      <th>count</th>\n",
       "      <th>part_notnull</th>\n",
       "      <th>value</th>\n",
       "      <th>count</th>\n",
       "      <th>part_notnull</th>\n",
       "      <th>value</th>\n",
       "      <th>count</th>\n",
       "      <th>part_notnull</th>\n",
       "    </tr>\n",
       "  </thead>\n",
       "  <tbody>\n",
       "    <tr>\n",
       "      <th>top_1</th>\n",
       "      <td>14/02/2020</td>\n",
       "      <td>1163</td>\n",
       "      <td>0.08</td>\n",
       "      <td>19</td>\n",
       "      <td>92287</td>\n",
       "      <td>6.67</td>\n",
       "      <td>Viernes</td>\n",
       "      <td>229681</td>\n",
       "      <td>16.61</td>\n",
       "      <td>10</td>\n",
       "      <td>133641</td>\n",
       "      <td>9.66</td>\n",
       "      <td>14</td>\n",
       "      <td>47933</td>\n",
       "      <td>3.47</td>\n",
       "      <td>10</td>\n",
       "      <td>133635</td>\n",
       "      <td>9.66</td>\n",
       "      <td>2018</td>\n",
       "      <td>246579</td>\n",
       "      <td>17.83</td>\n",
       "    </tr>\n",
       "    <tr>\n",
       "      <th>top_2</th>\n",
       "      <td>26/10/2018</td>\n",
       "      <td>1028</td>\n",
       "      <td>0.07</td>\n",
       "      <td>20</td>\n",
       "      <td>91329</td>\n",
       "      <td>6.60</td>\n",
       "      <td>Sábado</td>\n",
       "      <td>214134</td>\n",
       "      <td>15.48</td>\n",
       "      <td>8</td>\n",
       "      <td>121123</td>\n",
       "      <td>8.76</td>\n",
       "      <td>15</td>\n",
       "      <td>47930</td>\n",
       "      <td>3.47</td>\n",
       "      <td>08</td>\n",
       "      <td>121131</td>\n",
       "      <td>8.76</td>\n",
       "      <td>2019</td>\n",
       "      <td>229500</td>\n",
       "      <td>16.59</td>\n",
       "    </tr>\n",
       "    <tr>\n",
       "      <th>top_3</th>\n",
       "      <td>30/11/2019</td>\n",
       "      <td>1011</td>\n",
       "      <td>0.07</td>\n",
       "      <td>18</td>\n",
       "      <td>87975</td>\n",
       "      <td>6.36</td>\n",
       "      <td>Jueves</td>\n",
       "      <td>198147</td>\n",
       "      <td>14.33</td>\n",
       "      <td>9</td>\n",
       "      <td>120581</td>\n",
       "      <td>8.72</td>\n",
       "      <td>13</td>\n",
       "      <td>47095</td>\n",
       "      <td>3.40</td>\n",
       "      <td>09</td>\n",
       "      <td>120572</td>\n",
       "      <td>8.72</td>\n",
       "      <td>2017</td>\n",
       "      <td>226530</td>\n",
       "      <td>16.38</td>\n",
       "    </tr>\n",
       "    <tr>\n",
       "      <th>top_4</th>\n",
       "      <td>08/12/2017</td>\n",
       "      <td>1011</td>\n",
       "      <td>0.07</td>\n",
       "      <td>21</td>\n",
       "      <td>87059</td>\n",
       "      <td>6.29</td>\n",
       "      <td>Miércoles</td>\n",
       "      <td>193857</td>\n",
       "      <td>14.02</td>\n",
       "      <td>3</td>\n",
       "      <td>120335</td>\n",
       "      <td>8.70</td>\n",
       "      <td>28</td>\n",
       "      <td>46372</td>\n",
       "      <td>3.35</td>\n",
       "      <td>03</td>\n",
       "      <td>120240</td>\n",
       "      <td>8.69</td>\n",
       "      <td>2016</td>\n",
       "      <td>191007</td>\n",
       "      <td>13.81</td>\n",
       "    </tr>\n",
       "    <tr>\n",
       "      <th>top_5</th>\n",
       "      <td>21/04/2018</td>\n",
       "      <td>1009</td>\n",
       "      <td>0.07</td>\n",
       "      <td>16</td>\n",
       "      <td>82826</td>\n",
       "      <td>5.99</td>\n",
       "      <td>Martes</td>\n",
       "      <td>189669</td>\n",
       "      <td>13.71</td>\n",
       "      <td>12</td>\n",
       "      <td>117616</td>\n",
       "      <td>8.50</td>\n",
       "      <td>08</td>\n",
       "      <td>46212</td>\n",
       "      <td>3.34</td>\n",
       "      <td>12</td>\n",
       "      <td>117497</td>\n",
       "      <td>8.49</td>\n",
       "      <td>2015</td>\n",
       "      <td>184818</td>\n",
       "      <td>13.36</td>\n",
       "    </tr>\n",
       "  </tbody>\n",
       "</table>\n",
       "</div>"
      ],
      "text/plain": [
       "      fecha_creacion                    hora_creacion                      \\\n",
       "               value count part_notnull         value  count part_notnull   \n",
       "top_1     14/02/2020  1163         0.08            19  92287         6.67   \n",
       "top_2     26/10/2018  1028         0.07            20  91329         6.60   \n",
       "top_3     30/11/2019  1011         0.07            18  87975         6.36   \n",
       "top_4     08/12/2017  1011         0.07            21  87059         6.29   \n",
       "top_5     21/04/2018  1009         0.07            16  82826         5.99   \n",
       "\n",
       "      dia_semana                        mes                      dia_creacion  \\\n",
       "           value   count part_notnull value   count part_notnull        value   \n",
       "top_1    Viernes  229681        16.61    10  133641         9.66           14   \n",
       "top_2     Sábado  214134        15.48     8  121123         8.76           15   \n",
       "top_3     Jueves  198147        14.33     9  120581         8.72           13   \n",
       "top_4  Miércoles  193857        14.02     3  120335         8.70           28   \n",
       "top_5     Martes  189669        13.71    12  117616         8.50           08   \n",
       "\n",
       "                          mes_creacion                      año_creacion  \\\n",
       "       count part_notnull        value   count part_notnull        value   \n",
       "top_1  47933         3.47           10  133635         9.66         2018   \n",
       "top_2  47930         3.47           08  121131         8.76         2019   \n",
       "top_3  47095         3.40           09  120572         8.72         2017   \n",
       "top_4  46372         3.35           03  120240         8.69         2016   \n",
       "top_5  46212         3.34           12  117497         8.49         2015   \n",
       "\n",
       "                            \n",
       "        count part_notnull  \n",
       "top_1  246579        17.83  \n",
       "top_2  229500        16.59  \n",
       "top_3  226530        16.38  \n",
       "top_4  191007        13.81  \n",
       "top_5  184818        13.36  "
      ]
     },
     "metadata": {},
     "output_type": "display_data"
    },
    {
     "name": "stdout",
     "output_type": "stream",
     "text": [
      "None\n",
      "---------------------------------------------------------------------------\n",
      "---------------------------------------------------------------------------\n",
      "\n"
     ]
    }
   ],
   "source": [
    "dat_vars = [var for var in data_dict if \n",
    "            (data_dict[var][\"data_type\"] == \"date_and_time\")\n",
    "            & (\"_cierre\" not in var)\n",
    "           ]\n",
    "\n",
    "df_dat = data_profiling_date(df_c5, dat_vars)"
   ]
  },
  {
   "cell_type": "markdown",
   "metadata": {},
   "source": [
    "---"
   ]
  },
  {
   "cell_type": "markdown",
   "metadata": {},
   "source": [
    "## *Notes*"
   ]
  },
  {
   "cell_type": "markdown",
   "metadata": {},
   "source": [
    "### Creating data dictionary"
   ]
  },
  {
   "cell_type": "markdown",
   "metadata": {},
   "source": [
    "#### From scratch"
   ]
  },
  {
   "cell_type": "code",
   "execution_count": null,
   "metadata": {
    "ExecuteTime": {
     "end_time": "2020-11-16T18:34:02.480466Z",
     "start_time": "2020-11-16T18:34:02.465254Z"
    }
   },
   "outputs": [],
   "source": [
    "data_dict = {}\n",
    "for col in df_c5.columns:\n",
    "    data_dict[col] = {}\n",
    "    data_dict[col][\"relevant\"] = True\n",
    "    data_dict[col][\"data_type\"] = \"-\""
   ]
  },
  {
   "cell_type": "code",
   "execution_count": null,
   "metadata": {
    "ExecuteTime": {
     "end_time": "2020-11-16T18:34:16.417268Z",
     "start_time": "2020-11-16T18:34:16.399599Z"
    },
    "scrolled": true
   },
   "outputs": [],
   "source": [
    "json_dump_dict(data_dict)"
   ]
  },
  {
   "cell_type": "code",
   "execution_count": null,
   "metadata": {
    "ExecuteTime": {
     "end_time": "2020-11-16T18:48:42.839331Z",
     "start_time": "2020-11-16T18:48:42.822250Z"
    }
   },
   "outputs": [],
   "source": [
    "data_dict"
   ]
  },
  {
   "cell_type": "markdown",
   "metadata": {},
   "source": [
    "---"
   ]
  },
  {
   "cell_type": "markdown",
   "metadata": {},
   "source": [
    "---\n",
    "---"
   ]
  }
 ],
 "metadata": {
  "kernelspec": {
   "display_name": "itam_intro_to_ds",
   "language": "python",
   "name": "itam_intro_to_ds"
  },
  "language_info": {
   "codemirror_mode": {
    "name": "ipython",
    "version": 3
   },
   "file_extension": ".py",
   "mimetype": "text/x-python",
   "name": "python",
   "nbconvert_exporter": "python",
   "pygments_lexer": "ipython3",
   "version": "3.7.4"
  }
 },
 "nbformat": 4,
 "nbformat_minor": 4
}
