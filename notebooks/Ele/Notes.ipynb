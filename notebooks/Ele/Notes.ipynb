{
 "cells": [
  {
   "cell_type": "markdown",
   "metadata": {},
   "source": [
    "# Summary\n",
    "\n",
    "Proble en Ciencia de Datos:\n",
    "\n",
    "**Supervisado**\n",
    "- Clasificación: La variable target o output es categórica, no importa cuántas categorías -generalmente binarias-.\n",
    "- Regresión: La variable target es numérica. El algoritmo a utilizar no está atado a modelos de regresión lineal o GLMs. i.e. Árboles, RF, XGBoosting, Redes neuronales, etc.\n",
    "    \n",
    "**No supervisado**\n",
    "- Agrupaciones: Queremos identificar patrones comunies en ciertos grupos.\n",
    "- Asociaciones: Queremos encontrar patrones de coexistencia en productos/eventos.\n",
    "\n",
    "**Por refuerzo**\n",
    "- Queremos encontrar la mejor estrategia."
   ]
  },
  {
   "cell_type": "markdown",
   "metadata": {},
   "source": [
    "La definición de la variable objetivo (que tipo de problema tenemos) puede dividirse en dos tipos de proyecto: \n",
    "\n",
    "1. Sistemas preventivo o *early warning*\n",
    "2. Sistemas de priorización de recursos *punitivos*\n",
    "\n",
    "#### Cohort, label, features, label timespan, list size\n",
    "- Features: Las variables explicativas, aquellas que utilizaremos para aprender.\n",
    "- Cohort: Las entidades sobre las que nos interesa hacer una predicción, aquella a las que queremos llegar.\n",
    "- Label: ¿Qué es lo que nos interesa conocer de las entidades a las que queremos llegar? Lo que queremos predecir\n",
    "- Label timespan: Periodo que cubriremos con la predicción.\n",
    "- Update frequency: ¿Con qué frecuencia queremos realizar la predicción?\n",
    "- List size: Asociada a los recursos finitos, ¿cuántos recursos tenemos para intervenir? número de inspectores, número de lugares disponibles para ayudar, número de vacunas disponibles, etc."
   ]
  },
  {
   "cell_type": "markdown",
   "metadata": {},
   "source": [
    "### Formato tabular *tidy* para los algoritmos ML.\n",
    "\n",
    "- Variables; X; features; features matrix; matriz de diseño con n dimensiones.\n",
    "- Label; y; arreglo unidimensional; variable target o output; puede ser categórica o numérica. "
   ]
  },
  {
   "cell_type": "markdown",
   "metadata": {},
   "source": [
    "- `tranform()`: Transformadores de los datos X\n",
    "- `fit()`:  entrenan o aprenden de datos X\n",
    "- `predict()`: predice nuevo output X"
   ]
  },
  {
   "cell_type": "markdown",
   "metadata": {},
   "source": [
    "#### Transformación de variables\n",
    "\n",
    "**Escalamiento:**\n",
    "- Estandarización: Centrar los datos en 0\n",
    "- Normalización: Escalar datos entre [0,1]\n",
    "\n",
    "**Categóricas a binarias:**\n",
    "- De una sola variable que tienen varias categorías, cada categoría la hacemos una variable para que en su contenido tenga 0 o 1, 1 si esa observación corresponde a esa categoría. `OneHotEncoder`\n",
    "\n",
    "**Numérica a categórica:**\n",
    "- Discretizar una variable numérica en rangos adecuados al problema.\n",
    "\n",
    "**Numéricas/categóricas a cíclicas:**\n",
    "- Modificamos variables como horas, días de la semana, días del mes, semana año, mes año, estación año, que realmente tienen un comportamiento cíclico. Y estas se hacen utilizando la función seno y coseno (por lo que generas dos variables por cada columna). "
   ]
  },
  {
   "cell_type": "markdown",
   "metadata": {},
   "source": [
    "### Feature engineering\n",
    "\n",
    "#### Feature selection:\n",
    "\n",
    "selección de variables *raw* que formarán parte de la matriz de diseño. \n",
    "\n",
    "En esta etapa se agrega el conocimiento generado de tu GEDA y también del contexto del problema. Esto se realiza a que no conviene meter mucha información al modelo primero porque esto genera la **maldición de la dimensionalidad** y lo segundo es porque es mejor tener un modelo que tenga variables adecuadas y que brinden mejor información para la predicción. Para esto último se pueden utilizar algoritmos que forman parte del aprendizaje no supervisado (como PCA o T-SNE) y que tienen como objetivo reducir la dimensionalidad (selección de variables). \n",
    "\n",
    "Existen algunos métodos para seleccionar variables o hacer filtrados:\n",
    "\n",
    "**Basado en propiedades de la distribución**\n",
    "\n",
    "- Si una variable tiene poca variabilidad no será tan  útil para predecir (2019). \n",
    "- Se pueden filtrar variables que no cumplan con un umbral de varianza `VarianceThreshold`.\n",
    "- Se puede entrenar un algoritmo para que haga esta selección de variables, las variables que no cumplan cierto umbral, serán eliminados. \n",
    "\n",
    "**Correlación**\n",
    "- Si tienes variables muy correlacionadas entre sí. \n",
    "- Igual se utiliza un umbral para una correlación alta. \n",
    "- Se puede entrenar un algoritmo para definir cuál será la medida de relación entre cada par de variables (correlación), se calcula cada correlación, se ordena y se elimina las variables más correlacionadas. \n",
    "\n",
    "**Eliminación recursiva de variables**\n",
    "\n",
    "- Se pueden ir agregando (forward selection) o quitando (backward selection) variables para ver su impacto en el desempeño del modelo. Se para cuando el desempeño del modelo ya no mejora o ya no empeora. \n",
    "\n",
    "**Chi-Square feature selection**\n",
    "\n",
    "Prueba para seleccionar features categóricos, esta prueba se utiliza para probar independencia entre 2 eventos. \n",
    "\n",
    "**Utilizar un modelo**\n",
    "\n",
    "Puedes usar Árboles, Random Forests, Regresión con regularización Lasso, Clusters. \n",
    "\n",
    "#### Feature generation:\n",
    "\n",
    "generar nuevas variables para la matriz de diseño. "
   ]
  },
  {
   "cell_type": "markdown",
   "metadata": {},
   "source": [
    "### Evaluación de modelos off-line\n",
    "\n",
    "Los factores que influyen para escoger las métricas de desempeño son:\n",
    "\n",
    "- Metas de negocio --> KPI: Indicador clave de rendimiento o medidor de desempeño\n",
    "- Algoritmo elegido\n",
    "- Dataset\n",
    "\n",
    "\n",
    "Cada tipo de aprendizaje y tarea (clasificación, regresión, agrupación, asociación, ranking) tiene sus propias métricas de desempeño. \n",
    "\n",
    "- Métricas para modelos de aprendizaje no supervisado: Silhouette Coefficient, Score, Calinski-Harabasz Index.\n",
    "\n",
    "- Métricas para modelos de aprendizaje supervisado en regresión: Error Absoluto Medio; Porcentaje de Error Absoluto Medio; Error de la raíz cuadrada media.\n",
    "\n",
    "- Métricas para modelos de aprendizaje supervisado en clasificación: AUC, ROC, Matriz de confusión, accuracy, precision, recall, F1-score. \n",
    "\n",
    "\n",
    "\n",
    "\n"
   ]
  },
  {
   "cell_type": "code",
   "execution_count": null,
   "metadata": {},
   "outputs": [],
   "source": []
  }
 ],
 "metadata": {
  "kernelspec": {
   "display_name": "itam_intro_to_ds",
   "language": "python",
   "name": "itam_intro_to_ds"
  },
  "language_info": {
   "codemirror_mode": {
    "name": "ipython",
    "version": 3
   },
   "file_extension": ".py",
   "mimetype": "text/x-python",
   "name": "python",
   "nbconvert_exporter": "python",
   "pygments_lexer": "ipython3",
   "version": "3.7.4"
  }
 },
 "nbformat": 4,
 "nbformat_minor": 4
}
