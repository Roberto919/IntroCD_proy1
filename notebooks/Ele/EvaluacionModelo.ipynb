{
 "cells": [
  {
   "cell_type": "markdown",
   "metadata": {},
   "source": [
    "## Evaluación del modelo"
   ]
  },
  {
   "cell_type": "code",
   "execution_count": 1,
   "metadata": {},
   "outputs": [],
   "source": [
    "import pickle\n",
    "import pandas as pd\n",
    "import matplotlib.pyplot as plt\n",
    "from sklearn.metrics import (\n",
    "    roc_curve, roc_auc_score, \n",
    "    confusion_matrix, \n",
    "    precision_recall_curve,\n",
    "    accuracy_score, \n",
    "    precision_score, \n",
    "    recall_score\n",
    ")\n",
    "    \n",
    "from tabulate import tabulate\n",
    "import numpy as np\n",
    "import sys"
   ]
  },
  {
   "cell_type": "code",
   "execution_count": 2,
   "metadata": {},
   "outputs": [],
   "source": [
    "sys.path.append(\"../..\")"
   ]
  },
  {
   "cell_type": "code",
   "execution_count": 3,
   "metadata": {},
   "outputs": [],
   "source": [
    "from src.utils.utils import (\n",
    "    json_dump_dict,\n",
    "    load_df\n",
    ")\n",
    "from src.utils.params import (\n",
    "#     param_grid,\n",
    "#     max_features,\n",
    "#     n_estimators,\n",
    "    evaluation_metric,\n",
    "    feature_importance_theshold,\n",
    "    tag_non_relevant_cats,\n",
    "    ingestion_pickle_loc,\n",
    "    transformation_pickle_loc,\n",
    "    models_pickle_loc,\n",
    "    X_train_pickle_loc,\n",
    "    y_train_pickle_loc,\n",
    "    X_test_pickle_loc,\n",
    "    y_test_pickle_loc,\n",
    "    test_predict_labs_pickle_loc,\n",
    "    test_predict_scores_pickle_loc,\n",
    ")\n"
   ]
  },
  {
   "cell_type": "code",
   "execution_count": 4,
   "metadata": {},
   "outputs": [],
   "source": [
    "from src.pipelines.model_evaluation import (\n",
    "    get_metrics_report,\n",
    "    curva_roc,\n",
    "    tabla_referencia,\n",
    "    tabla_confusion,\n",
    "    precision_at_k,\n",
    "    recall_at_k,\n",
    "    curva_pre_re,\n",
    "    predicted_labels\n",
    ")"
   ]
  },
  {
   "cell_type": "markdown",
   "metadata": {},
   "source": [
    "- La tabla de métricas de tu mejor modelo\n",
    "- La curva ROC\n",
    "- La curva de precision y recall\n",
    "- Las tablas de métricas obtenidas de la clase Group de Aequitas (conteos de frecuencias y absolutas)\n",
    "- La visualización de tus 3 métricas seleccionadas con la salida de Group\n",
    "- Las tablas de métricas obtenidas de la clase Bias de Aequitas (conteos de frecuencias y absolutas)\n",
    "- La visualización de tus 3 métricas seleccionadas con la salida de Bias (disparidad)\n",
    "- Las tablas de métricas obtenidas de la clase Fairness de Aequitas (conteos de frecuencias y absolutas)\n",
    "- La visualización de tus 3 métricas seleccionadas con la salida de Fairness (equidad)"
   ]
  },
  {
   "cell_type": "code",
   "execution_count": 5,
   "metadata": {},
   "outputs": [],
   "source": [
    "y_test = load_df(\"../../\" +y_test_pickle_loc)"
   ]
  },
  {
   "cell_type": "code",
   "execution_count": 6,
   "metadata": {},
   "outputs": [],
   "source": [
    "# predicciones con el mejor predictor \n",
    "predicted_scores = load_df(\"../../\" +test_predict_scores_pickle_loc)"
   ]
  },
  {
   "cell_type": "code",
   "execution_count": 7,
   "metadata": {},
   "outputs": [],
   "source": [
    "predicted_labels=predicted_labels(y_test,predicted_scores,0.18)"
   ]
  },
  {
   "cell_type": "code",
   "execution_count": 8,
   "metadata": {},
   "outputs": [
    {
     "data": {
      "text/plain": [
       "(414942,)"
      ]
     },
     "execution_count": 8,
     "metadata": {},
     "output_type": "execute_result"
    }
   ],
   "source": [
    "predicted_labels.shape"
   ]
  },
  {
   "cell_type": "code",
   "execution_count": 9,
   "metadata": {},
   "outputs": [
    {
     "data": {
      "text/plain": [
       "(414942, 2)"
      ]
     },
     "execution_count": 9,
     "metadata": {},
     "output_type": "execute_result"
    }
   ],
   "source": [
    "predicted_scores.shape"
   ]
  },
  {
   "cell_type": "code",
   "execution_count": 10,
   "metadata": {},
   "outputs": [
    {
     "data": {
      "text/plain": [
       "(414942,)"
      ]
     },
     "execution_count": 10,
     "metadata": {},
     "output_type": "execute_result"
    }
   ],
   "source": [
    "y_test.shape"
   ]
  },
  {
   "cell_type": "markdown",
   "metadata": {},
   "source": [
    "## Métricas de desempeño\n",
    "\n",
    "### ROC y AUC"
   ]
  },
  {
   "cell_type": "code",
   "execution_count": 11,
   "metadata": {},
   "outputs": [],
   "source": [
    "fpr, tpr, thresholds = roc_curve(y_test, predicted_scores[:,1], pos_label=1)"
   ]
  },
  {
   "cell_type": "code",
   "execution_count": 12,
   "metadata": {},
   "outputs": [
    {
     "data": {
      "image/png": "[encoded data removed]",
      "text/plain": [
       "<Figure size 432x288 with 1 Axes>"
      ]
     },
     "metadata": {
      "needs_background": "light"
     },
     "output_type": "display_data"
    }
   ],
   "source": [
    "curva_roc(y_test,predicted_labels,fpr,tpr)"
   ]
  },
  {
   "cell_type": "markdown",
   "metadata": {},
   "source": [
    "### Matriz de confusión"
   ]
  },
  {
   "cell_type": "code",
   "execution_count": 13,
   "metadata": {},
   "outputs": [],
   "source": [
    "confu0=confusion_matrix(y_test, predicted_labels, normalize='all')\n",
    "confu1=confusion_matrix(y_test, predicted_labels)"
   ]
  },
  {
   "cell_type": "code",
   "execution_count": 14,
   "metadata": {},
   "outputs": [
    {
     "name": "stdout",
     "output_type": "stream",
     "text": [
      "Dato\\Predicción    Etiqueta +           Etiqueta -\n",
      "-----------------  -------------------  -------------------\n",
      "Etiqueta +         True Positive (tp)   False Negative (fn)\n",
      "Etiqueta -         False Positive (fp)  True Negative (tn)\n"
     ]
    }
   ],
   "source": [
    "print(tabla_referencia())"
   ]
  },
  {
   "cell_type": "code",
   "execution_count": 15,
   "metadata": {},
   "outputs": [
    {
     "name": "stdout",
     "output_type": "stream",
     "text": [
      "Dato\\Predicción      Etiqueta +    Etiqueta -\n",
      "-----------------  ------------  ------------\n",
      "Etiqueta +            0.445988       0.349815\n",
      "Etiqueta -            0.0629245      0.141273\n"
     ]
    }
   ],
   "source": [
    "print(tabla_confusion(confu0))"
   ]
  },
  {
   "cell_type": "code",
   "execution_count": 16,
   "metadata": {},
   "outputs": [
    {
     "name": "stdout",
     "output_type": "stream",
     "text": [
      "Dato\\Predicción      Etiqueta +    Etiqueta -\n",
      "-----------------  ------------  ------------\n",
      "Etiqueta +               185059        145153\n",
      "Etiqueta -                26110         58620\n"
     ]
    }
   ],
   "source": [
    "print(tabla_confusion(confu1))"
   ]
  },
  {
   "cell_type": "markdown",
   "metadata": {},
   "source": [
    "#### Accuracy\n",
    "\n",
    "$$accuracy=\\frac{\\text{tp+tn}}{\\text{tp+fp+tn+fn}}= \\frac{\\text{predichos correctamente}}{\\text{total}}$$"
   ]
  },
  {
   "cell_type": "markdown",
   "metadata": {},
   "source": [
    "#### Precision\n",
    "\n",
    "\n",
    "$$precision=\\frac{\\text{tp}}{\\text{tp+fp}}= \\frac{\\text{predichos positivos correctos}}{\\text{predichos positivos}}$$\n",
    "\n",
    "De los que identificamos como clase positiva, cuántos identificamos correctamente -pureza en nuestra predicción-. "
   ]
  },
  {
   "cell_type": "markdown",
   "metadata": {},
   "source": [
    "### Recall\n",
    "\n",
    "$$recall=\\frac{\\text{tp}}{\\text{tp+fn}}= \\frac{\\text{predichos positivos correctos}}{\\text{datos positivos}}$$\n",
    "\n",
    "Del universo posible de nuestra clase positiva, cúantos identificamos correctamente"
   ]
  },
  {
   "cell_type": "markdown",
   "metadata": {},
   "source": [
    "#### F1-score\n",
    "\n",
    "Combina precision y recall para obtimizar ambos.\n",
    "\n",
    "$$F=2\\cdot  \\left( \\frac{\\text{precision}\\cdot \\text{recall}}{\\text{precision + recall}} \\right)$$"
   ]
  },
  {
   "cell_type": "code",
   "execution_count": 17,
   "metadata": {},
   "outputs": [
    {
     "data": {
      "text/plain": [
       "0.5872603881988326"
      ]
     },
     "execution_count": 17,
     "metadata": {},
     "output_type": "execute_result"
    }
   ],
   "source": [
    "#### Accuracy\n",
    "accuracy_score(y_test, predicted_labels)"
   ]
  },
  {
   "cell_type": "code",
   "execution_count": 18,
   "metadata": {},
   "outputs": [],
   "source": [
    "#### Precision, recall, thresholds\n",
    "precision, recall, thresholds_2 = precision_recall_curve(y_test, predicted_scores[:,1], pos_label=1)"
   ]
  },
  {
   "cell_type": "code",
   "execution_count": 19,
   "metadata": {},
   "outputs": [],
   "source": [
    "thresholds_2 = np.append(thresholds_2, 1)"
   ]
  },
  {
   "cell_type": "code",
   "execution_count": 20,
   "metadata": {},
   "outputs": [
    {
     "data": {
      "text/plain": [
       "((961,), (961,), (961,))"
      ]
     },
     "execution_count": 20,
     "metadata": {},
     "output_type": "execute_result"
    }
   ],
   "source": [
    "(precision.shape, recall.shape, thresholds_2.shape)"
   ]
  },
  {
   "cell_type": "code",
   "execution_count": 21,
   "metadata": {},
   "outputs": [
    {
     "data": {
      "text/html": [
       "<div>\n",
       "<style scoped>\n",
       "    .dataframe tbody tr th:only-of-type {\n",
       "        vertical-align: middle;\n",
       "    }\n",
       "\n",
       "    .dataframe tbody tr th {\n",
       "        vertical-align: top;\n",
       "    }\n",
       "\n",
       "    .dataframe thead th {\n",
       "        text-align: right;\n",
       "    }\n",
       "</style>\n",
       "<table border=\"1\" class=\"dataframe\">\n",
       "  <thead>\n",
       "    <tr style=\"text-align: right;\">\n",
       "      <th></th>\n",
       "      <th>threshold</th>\n",
       "      <th>precision</th>\n",
       "      <th>recall</th>\n",
       "      <th>f1_score</th>\n",
       "      <th>tpr</th>\n",
       "      <th>fpr</th>\n",
       "      <th>tnr</th>\n",
       "      <th>fnr</th>\n",
       "    </tr>\n",
       "  </thead>\n",
       "  <tbody>\n",
       "    <tr>\n",
       "      <th>0</th>\n",
       "      <td>0.061789</td>\n",
       "      <td>0.204230</td>\n",
       "      <td>1.000000</td>\n",
       "      <td>0.339187</td>\n",
       "      <td>1.000000</td>\n",
       "      <td>0.999800</td>\n",
       "      <td>0.000200</td>\n",
       "      <td>0.000000</td>\n",
       "    </tr>\n",
       "    <tr>\n",
       "      <th>1</th>\n",
       "      <td>0.062372</td>\n",
       "      <td>0.204316</td>\n",
       "      <td>0.999953</td>\n",
       "      <td>0.339303</td>\n",
       "      <td>0.999953</td>\n",
       "      <td>0.999225</td>\n",
       "      <td>0.000775</td>\n",
       "      <td>0.000047</td>\n",
       "    </tr>\n",
       "    <tr>\n",
       "      <th>2</th>\n",
       "      <td>0.062452</td>\n",
       "      <td>0.204323</td>\n",
       "      <td>0.999941</td>\n",
       "      <td>0.339313</td>\n",
       "      <td>0.999941</td>\n",
       "      <td>0.999167</td>\n",
       "      <td>0.000833</td>\n",
       "      <td>0.000059</td>\n",
       "    </tr>\n",
       "    <tr>\n",
       "      <th>3</th>\n",
       "      <td>0.062490</td>\n",
       "      <td>0.204425</td>\n",
       "      <td>0.999823</td>\n",
       "      <td>0.339447</td>\n",
       "      <td>0.999823</td>\n",
       "      <td>0.998422</td>\n",
       "      <td>0.001578</td>\n",
       "      <td>0.000177</td>\n",
       "    </tr>\n",
       "    <tr>\n",
       "      <th>4</th>\n",
       "      <td>0.062552</td>\n",
       "      <td>0.204458</td>\n",
       "      <td>0.999799</td>\n",
       "      <td>0.339490</td>\n",
       "      <td>0.999799</td>\n",
       "      <td>0.998198</td>\n",
       "      <td>0.001802</td>\n",
       "      <td>0.000201</td>\n",
       "    </tr>\n",
       "    <tr>\n",
       "      <th>...</th>\n",
       "      <td>...</td>\n",
       "      <td>...</td>\n",
       "      <td>...</td>\n",
       "      <td>...</td>\n",
       "      <td>...</td>\n",
       "      <td>...</td>\n",
       "      <td>...</td>\n",
       "      <td>...</td>\n",
       "    </tr>\n",
       "    <tr>\n",
       "      <th>935</th>\n",
       "      <td>0.303305</td>\n",
       "      <td>0.341528</td>\n",
       "      <td>0.142323</td>\n",
       "      <td>0.200918</td>\n",
       "      <td>0.142323</td>\n",
       "      <td>0.070409</td>\n",
       "      <td>0.929591</td>\n",
       "      <td>0.857677</td>\n",
       "    </tr>\n",
       "    <tr>\n",
       "      <th>936</th>\n",
       "      <td>0.305946</td>\n",
       "      <td>0.340072</td>\n",
       "      <td>0.135607</td>\n",
       "      <td>0.193896</td>\n",
       "      <td>0.135607</td>\n",
       "      <td>0.067523</td>\n",
       "      <td>0.932477</td>\n",
       "      <td>0.864393</td>\n",
       "    </tr>\n",
       "    <tr>\n",
       "      <th>937</th>\n",
       "      <td>0.306196</td>\n",
       "      <td>0.339078</td>\n",
       "      <td>0.128172</td>\n",
       "      <td>0.186026</td>\n",
       "      <td>0.128172</td>\n",
       "      <td>0.064104</td>\n",
       "      <td>0.935896</td>\n",
       "      <td>0.871828</td>\n",
       "    </tr>\n",
       "    <tr>\n",
       "      <th>938</th>\n",
       "      <td>0.308563</td>\n",
       "      <td>0.345293</td>\n",
       "      <td>0.066671</td>\n",
       "      <td>0.111762</td>\n",
       "      <td>0.066671</td>\n",
       "      <td>0.032437</td>\n",
       "      <td>0.967563</td>\n",
       "      <td>0.933329</td>\n",
       "    </tr>\n",
       "    <tr>\n",
       "      <th>939</th>\n",
       "      <td>0.309855</td>\n",
       "      <td>0.345156</td>\n",
       "      <td>0.059377</td>\n",
       "      <td>0.101323</td>\n",
       "      <td>0.059377</td>\n",
       "      <td>0.028906</td>\n",
       "      <td>0.971094</td>\n",
       "      <td>0.940623</td>\n",
       "    </tr>\n",
       "  </tbody>\n",
       "</table>\n",
       "<p>940 rows × 8 columns</p>\n",
       "</div>"
      ],
      "text/plain": [
       "     threshold  precision    recall  f1_score       tpr       fpr       tnr  \\\n",
       "0     0.061789   0.204230  1.000000  0.339187  1.000000  0.999800  0.000200   \n",
       "1     0.062372   0.204316  0.999953  0.339303  0.999953  0.999225  0.000775   \n",
       "2     0.062452   0.204323  0.999941  0.339313  0.999941  0.999167  0.000833   \n",
       "3     0.062490   0.204425  0.999823  0.339447  0.999823  0.998422  0.001578   \n",
       "4     0.062552   0.204458  0.999799  0.339490  0.999799  0.998198  0.001802   \n",
       "..         ...        ...       ...       ...       ...       ...       ...   \n",
       "935   0.303305   0.341528  0.142323  0.200918  0.142323  0.070409  0.929591   \n",
       "936   0.305946   0.340072  0.135607  0.193896  0.135607  0.067523  0.932477   \n",
       "937   0.306196   0.339078  0.128172  0.186026  0.128172  0.064104  0.935896   \n",
       "938   0.308563   0.345293  0.066671  0.111762  0.066671  0.032437  0.967563   \n",
       "939   0.309855   0.345156  0.059377  0.101323  0.059377  0.028906  0.971094   \n",
       "\n",
       "          fnr  \n",
       "0    0.000000  \n",
       "1    0.000047  \n",
       "2    0.000059  \n",
       "3    0.000177  \n",
       "4    0.000201  \n",
       "..        ...  \n",
       "935  0.857677  \n",
       "936  0.864393  \n",
       "937  0.871828  \n",
       "938  0.933329  \n",
       "939  0.940623  \n",
       "\n",
       "[940 rows x 8 columns]"
      ]
     },
     "execution_count": 21,
     "metadata": {},
     "output_type": "execute_result"
    }
   ],
   "source": [
    "metrics_report = get_metrics_report(fpr, tpr, thresholds, precision, recall, thresholds_2)\n",
    "metrics_report"
   ]
  },
  {
   "cell_type": "code",
   "execution_count": 22,
   "metadata": {},
   "outputs": [
    {
     "data": {
      "text/html": [
       "<div>\n",
       "<style scoped>\n",
       "    .dataframe tbody tr th:only-of-type {\n",
       "        vertical-align: middle;\n",
       "    }\n",
       "\n",
       "    .dataframe tbody tr th {\n",
       "        vertical-align: top;\n",
       "    }\n",
       "\n",
       "    .dataframe thead th {\n",
       "        text-align: right;\n",
       "    }\n",
       "</style>\n",
       "<table border=\"1\" class=\"dataframe\">\n",
       "  <thead>\n",
       "    <tr style=\"text-align: right;\">\n",
       "      <th></th>\n",
       "      <th>threshold</th>\n",
       "      <th>precision</th>\n",
       "      <th>recall</th>\n",
       "      <th>f1_score</th>\n",
       "      <th>tpr</th>\n",
       "      <th>fpr</th>\n",
       "      <th>tnr</th>\n",
       "      <th>fnr</th>\n",
       "    </tr>\n",
       "  </thead>\n",
       "  <tbody>\n",
       "    <tr>\n",
       "      <th>938</th>\n",
       "      <td>0.308563</td>\n",
       "      <td>0.345293</td>\n",
       "      <td>0.066671</td>\n",
       "      <td>0.111762</td>\n",
       "      <td>0.066671</td>\n",
       "      <td>0.032437</td>\n",
       "      <td>0.967563</td>\n",
       "      <td>0.933329</td>\n",
       "    </tr>\n",
       "    <tr>\n",
       "      <th>939</th>\n",
       "      <td>0.309855</td>\n",
       "      <td>0.345156</td>\n",
       "      <td>0.059377</td>\n",
       "      <td>0.101323</td>\n",
       "      <td>0.059377</td>\n",
       "      <td>0.028906</td>\n",
       "      <td>0.971094</td>\n",
       "      <td>0.940623</td>\n",
       "    </tr>\n",
       "  </tbody>\n",
       "</table>\n",
       "</div>"
      ],
      "text/plain": [
       "     threshold  precision    recall  f1_score       tpr       fpr       tnr  \\\n",
       "938   0.308563   0.345293  0.066671  0.111762  0.066671  0.032437  0.967563   \n",
       "939   0.309855   0.345156  0.059377  0.101323  0.059377  0.028906  0.971094   \n",
       "\n",
       "          fnr  \n",
       "938  0.933329  \n",
       "939  0.940623  "
      ]
     },
     "execution_count": 22,
     "metadata": {},
     "output_type": "execute_result"
    }
   ],
   "source": [
    "negocio = metrics_report[metrics_report.fpr <= 0.06]\n",
    "negocio"
   ]
  },
  {
   "cell_type": "code",
   "execution_count": 23,
   "metadata": {},
   "outputs": [
    {
     "data": {
      "text/plain": [
       "0.308562718472398"
      ]
     },
     "execution_count": 23,
     "metadata": {},
     "output_type": "execute_result"
    }
   ],
   "source": [
    "punto_corte = negocio.head(1).threshold.values[0]\n",
    "punto_corte"
   ]
  },
  {
   "cell_type": "code",
   "execution_count": 24,
   "metadata": {},
   "outputs": [],
   "source": [
    "new_labels = [0 if score < punto_corte else 1 for score in predicted_scores[:,1]]"
   ]
  },
  {
   "cell_type": "code",
   "execution_count": 25,
   "metadata": {},
   "outputs": [
    {
     "data": {
      "text/plain": [
       "16360"
      ]
     },
     "execution_count": 25,
     "metadata": {},
     "output_type": "execute_result"
    }
   ],
   "source": [
    "pd.Series(new_labels).sum()"
   ]
  },
  {
   "cell_type": "code",
   "execution_count": 26,
   "metadata": {},
   "outputs": [
    {
     "name": "stdout",
     "output_type": "stream",
     "text": [
      "Dato\\Predicción      Etiqueta +    Etiqueta -\n",
      "-----------------  ------------  ------------\n",
      "Etiqueta +               319501         10711\n",
      "Etiqueta -                79081          5649\n"
     ]
    }
   ],
   "source": [
    "print(tabla_confusion(confusion_matrix(y_test, new_labels)))"
   ]
  },
  {
   "cell_type": "code",
   "execution_count": 27,
   "metadata": {},
   "outputs": [
    {
     "name": "stdout",
     "output_type": "stream",
     "text": [
      "Dato\\Predicción      Etiqueta +    Etiqueta -\n",
      "-----------------  ------------  ------------\n",
      "Etiqueta +               185059        145153\n",
      "Etiqueta -                26110         58620\n"
     ]
    }
   ],
   "source": [
    "print(tabla_confusion(confusion_matrix(y_test, predicted_labels)))"
   ]
  },
  {
   "cell_type": "code",
   "execution_count": 28,
   "metadata": {},
   "outputs": [],
   "source": [
    "k=0.04"
   ]
  },
  {
   "cell_type": "code",
   "execution_count": 29,
   "metadata": {},
   "outputs": [
    {
     "data": {
      "text/plain": [
       "0.12817183996223297"
      ]
     },
     "execution_count": 29,
     "metadata": {},
     "output_type": "execute_result"
    }
   ],
   "source": [
    "recall_at_k(y_test,predicted_scores[:,1],k)"
   ]
  },
  {
   "cell_type": "code",
   "execution_count": 30,
   "metadata": {},
   "outputs": [
    {
     "data": {
      "text/plain": [
       "0.3390783064818284"
      ]
     },
     "execution_count": 30,
     "metadata": {},
     "output_type": "execute_result"
    }
   ],
   "source": [
    "precision_at_k(y_test,predicted_scores[:,1],k)"
   ]
  },
  {
   "cell_type": "code",
   "execution_count": 31,
   "metadata": {},
   "outputs": [
    {
     "data": {
      "image/png": "[encoded data removed]",
      "text/plain": [
       "<Figure size 432x288 with 1 Axes>"
      ]
     },
     "metadata": {
      "needs_background": "light"
     },
     "output_type": "display_data"
    }
   ],
   "source": [
    "curva_pre_re(y_test, predicted_scores[:,1],k)"
   ]
  },
  {
   "cell_type": "markdown",
   "metadata": {},
   "source": [
    "## Aequitas"
   ]
  },
  {
   "cell_type": "code",
   "execution_count": null,
   "metadata": {},
   "outputs": [],
   "source": []
  }
 ],
 "metadata": {
  "kernelspec": {
   "display_name": "itam_intro_to_ds",
   "language": "python",
   "name": "itam_intro_to_ds"
  },
  "language_info": {
   "codemirror_mode": {
    "name": "ipython",
    "version": 3
   },
   "file_extension": ".py",
   "mimetype": "text/x-python",
   "name": "python",
   "nbconvert_exporter": "python",
   "pygments_lexer": "ipython3",
   "version": "3.7.4"
  }
 },
 "nbformat": 4,
 "nbformat_minor": 4
}
