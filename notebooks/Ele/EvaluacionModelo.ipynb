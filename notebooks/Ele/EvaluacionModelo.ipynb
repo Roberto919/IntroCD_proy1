{
 "cells": [
  {
   "cell_type": "markdown",
   "metadata": {},
   "source": [
    "## Evaluación del modelo"
   ]
  },
  {
   "cell_type": "code",
   "execution_count": 39,
   "metadata": {},
   "outputs": [],
   "source": [
    "import pickle\n",
    "import pandas as pd\n",
    "import matplotlib.pyplot as plt\n",
    "from sklearn.metrics import (\n",
    "    roc_curve, roc_auc_score, \n",
    "    confusion_matrix, \n",
    "    precision_recall_curve,\n",
    "    accuracy_score, \n",
    "    precision_score, \n",
    "    recall_score\n",
    ")\n",
    "from aequitas.group import Group\n",
    "from aequitas.bias import Bias\n",
    "from aequitas.fairness import Fairness\n",
    "from aequitas.plotting import Plot\n",
    "import seaborn as sns\n",
    "from tabulate import tabulate\n",
    "import numpy as np\n",
    "import sys"
   ]
  },
  {
   "cell_type": "code",
   "execution_count": 40,
   "metadata": {},
   "outputs": [],
   "source": [
    "sys.path.append(\"../..\")"
   ]
  },
  {
   "cell_type": "code",
   "execution_count": 41,
   "metadata": {},
   "outputs": [
    {
     "name": "stdout",
     "output_type": "stream",
     "text": [
      "The autoreload extension is already loaded. To reload it, use:\n",
      "  %reload_ext autoreload\n"
     ]
    }
   ],
   "source": [
    "%load_ext autoreload\n",
    "%autoreload 2\n",
    "\n",
    "from src.utils.utils import (\n",
    "    json_dump_dict,\n",
    "    load_df\n",
    ")\n",
    "from src.utils.params import (\n",
    "#     param_grid,\n",
    "#     max_features,\n",
    "#     n_estimators,\n",
    "    evaluation_metric,\n",
    "    feature_importance_theshold,\n",
    "    tag_non_relevant_cats,\n",
    "    ingestion_pickle_loc,\n",
    "    transformation_pickle_loc,\n",
    "    models_pickle_loc,\n",
    "    X_train_pickle_loc,\n",
    "    y_train_pickle_loc,\n",
    "    X_test_pickle_loc,\n",
    "    y_test_pickle_loc,\n",
    "    test_predict_labs_pickle_loc,\n",
    "    test_predict_scores_pickle_loc,\n",
    "    aequitas_df_pickle_loc\n",
    ")\n",
    "from src.pipelines.model_evaluation import (\n",
    "    get_metrics_report,\n",
    "    curva_roc,\n",
    "    tabla_referencia,\n",
    "    tabla_confusion,\n",
    "    precision_at_k,\n",
    "    recall_at_k,\n",
    "    curva_pre_re,\n",
    "    f_predicted_labels\n",
    ")"
   ]
  },
  {
   "cell_type": "markdown",
   "metadata": {},
   "source": [
    "- La tabla de métricas de tu mejor modelo\n",
    "- La curva ROC\n",
    "- La curva de precision y recall\n",
    "- Las tablas de métricas obtenidas de la clase Group de Aequitas (conteos de frecuencias y absolutas)\n",
    "- La visualización de tus 3 métricas seleccionadas con la salida de Group\n",
    "- Las tablas de métricas obtenidas de la clase Bias de Aequitas (conteos de frecuencias y absolutas)\n",
    "- La visualización de tus 3 métricas seleccionadas con la salida de Bias (disparidad)\n",
    "- Las tablas de métricas obtenidas de la clase Fairness de Aequitas (conteos de frecuencias y absolutas)\n",
    "- La visualización de tus 3 métricas seleccionadas con la salida de Fairness (equidad)"
   ]
  },
  {
   "cell_type": "code",
   "execution_count": 4,
   "metadata": {},
   "outputs": [],
   "source": [
    "y_test = load_df(\"../../\" +y_test_pickle_loc)"
   ]
  },
  {
   "cell_type": "code",
   "execution_count": 5,
   "metadata": {},
   "outputs": [],
   "source": [
    "# predicciones con el mejor predictor \n",
    "predicted_scores = load_df(\"../../\" +test_predict_scores_pickle_loc)"
   ]
  },
  {
   "cell_type": "code",
   "execution_count": 7,
   "metadata": {},
   "outputs": [],
   "source": [
    "predicted_labels=f_predicted_labels(y_test,predicted_scores,0.18)"
   ]
  },
  {
   "cell_type": "code",
   "execution_count": 8,
   "metadata": {},
   "outputs": [
    {
     "data": {
      "text/plain": [
       "(414942,)"
      ]
     },
     "execution_count": 8,
     "metadata": {},
     "output_type": "execute_result"
    }
   ],
   "source": [
    "predicted_labels.shape"
   ]
  },
  {
   "cell_type": "code",
   "execution_count": 9,
   "metadata": {},
   "outputs": [
    {
     "data": {
      "text/plain": [
       "(414942, 2)"
      ]
     },
     "execution_count": 9,
     "metadata": {},
     "output_type": "execute_result"
    }
   ],
   "source": [
    "predicted_scores.shape"
   ]
  },
  {
   "cell_type": "code",
   "execution_count": 10,
   "metadata": {},
   "outputs": [
    {
     "data": {
      "text/plain": [
       "(414942,)"
      ]
     },
     "execution_count": 10,
     "metadata": {},
     "output_type": "execute_result"
    }
   ],
   "source": [
    "y_test.shape"
   ]
  },
  {
   "cell_type": "markdown",
   "metadata": {},
   "source": [
    "## Métricas de desempeño\n",
    "\n",
    "### ROC y AUC"
   ]
  },
  {
   "cell_type": "code",
   "execution_count": 11,
   "metadata": {},
   "outputs": [],
   "source": [
    "fpr, tpr, thresholds = roc_curve(y_test, predicted_scores[:,1], pos_label=1)"
   ]
  },
  {
   "cell_type": "code",
   "execution_count": 12,
   "metadata": {},
   "outputs": [
    {
     "data": {
      "image/png": "[encoded data removed]",
      "text/plain": [
       "<Figure size 432x288 with 1 Axes>"
      ]
     },
     "metadata": {
      "needs_background": "light"
     },
     "output_type": "display_data"
    }
   ],
   "source": [
    "curva_roc(y_test,predicted_labels,fpr,tpr)"
   ]
  },
  {
   "cell_type": "markdown",
   "metadata": {},
   "source": [
    "Para las curvas ROC se asume que si la línea azul se acerca a la línea roja, nuestro modelo está casi adivinando nuestras falsas alarmas. Además, la métrica de Área bajo la Curva, arroja un valor que se considera muy regular."
   ]
  },
  {
   "cell_type": "markdown",
   "metadata": {},
   "source": [
    "### Matriz de confusión"
   ]
  },
  {
   "cell_type": "code",
   "execution_count": 13,
   "metadata": {},
   "outputs": [
    {
     "name": "stdout",
     "output_type": "stream",
     "text": [
      "Dato\\Predicción    Etiqueta +           Etiqueta -\n",
      "-----------------  -------------------  -------------------\n",
      "Etiqueta +         True Positive (tp)   False Negative (fn)\n",
      "Etiqueta -         False Positive (fp)  True Negative (tn)\n"
     ]
    }
   ],
   "source": [
    "print(tabla_referencia())"
   ]
  },
  {
   "cell_type": "code",
   "execution_count": 14,
   "metadata": {},
   "outputs": [
    {
     "name": "stdout",
     "output_type": "stream",
     "text": [
      "Dato\\Predicción      Etiqueta +    Etiqueta -\n",
      "-----------------  ------------  ------------\n",
      "Etiqueta +            0.445988       0.349815\n",
      "Etiqueta -            0.0629245      0.141273\n"
     ]
    }
   ],
   "source": [
    "print(tabla_confusion(confusion_matrix(y_test, predicted_labels, normalize='all')))"
   ]
  },
  {
   "cell_type": "code",
   "execution_count": 15,
   "metadata": {},
   "outputs": [
    {
     "name": "stdout",
     "output_type": "stream",
     "text": [
      "Dato\\Predicción      Etiqueta +    Etiqueta -\n",
      "-----------------  ------------  ------------\n",
      "Etiqueta +               185059        145153\n",
      "Etiqueta -                26110         58620\n"
     ]
    }
   ],
   "source": [
    "print(tabla_confusion(confusion_matrix(y_test, predicted_labels)))"
   ]
  },
  {
   "cell_type": "markdown",
   "metadata": {},
   "source": [
    "Nuestras matrices de confusión muestran que tenemos una proporción de 0.44 de observaciones que se predicen adecuadamente, mientras que la siguiente proporción más alta (0.34) es cuando el dato real era falsa alarma y nuestro modelo predijo que no era falsa alarma. La siguiente proporción es cuando se predecían correctamente las etiquetas negativas. Esto nos da un indicio del comportamiento de nuestro modelo, sin embargo, lo analizaremos a detalle a continuación."
   ]
  },
  {
   "cell_type": "markdown",
   "metadata": {},
   "source": [
    "### Accuracy\n",
    "\n",
    "$$accuracy=\\frac{\\text{tp+tn}}{\\text{tp+fp+tn+fn}}= \\frac{\\text{predichos correctamente}}{\\text{total}}$$"
   ]
  },
  {
   "cell_type": "code",
   "execution_count": 16,
   "metadata": {},
   "outputs": [
    {
     "data": {
      "text/plain": [
       "0.5872603881988326"
      ]
     },
     "execution_count": 16,
     "metadata": {},
     "output_type": "execute_result"
    }
   ],
   "source": [
    "accuracy_score(y_test, predicted_labels)"
   ]
  },
  {
   "cell_type": "markdown",
   "metadata": {},
   "source": [
    "De la accuracy, se observa un valor cercano al azar que se consideraría regular."
   ]
  },
  {
   "cell_type": "markdown",
   "metadata": {},
   "source": [
    "### Precision\n",
    "\n",
    "\n",
    "$$precision=\\frac{\\text{tp}}{\\text{tp+fp}}= \\frac{\\text{predichos positivos correctos}}{\\text{predichos positivos}}$$\n",
    "\n",
    "De los que identificamos como clase positiva, cuántos identificamos correctamente -pureza en nuestra predicción-. "
   ]
  },
  {
   "cell_type": "markdown",
   "metadata": {},
   "source": [
    "### Recall\n",
    "\n",
    "$$recall=\\frac{\\text{tp}}{\\text{tp+fn}}= \\frac{\\text{predichos positivos correctos}}{\\text{datos positivos}}$$\n",
    "\n",
    "Del universo posible de nuestra clase positiva, cúantos identificamos correctamente."
   ]
  },
  {
   "cell_type": "markdown",
   "metadata": {},
   "source": [
    "#### F1-score\n",
    "\n",
    "Combina precision y recall para obtimizar ambos.\n",
    "\n",
    "$$F=2\\cdot  \\left( \\frac{\\text{precision}\\cdot \\text{recall}}{\\text{precision + recall}} \\right)$$"
   ]
  },
  {
   "cell_type": "code",
   "execution_count": 17,
   "metadata": {},
   "outputs": [],
   "source": [
    "#### Precision, recall, thresholds\n",
    "precision, recall, thresholds_2 = precision_recall_curve(y_test, predicted_scores[:,1], pos_label=1)"
   ]
  },
  {
   "cell_type": "code",
   "execution_count": 18,
   "metadata": {},
   "outputs": [],
   "source": [
    "thresholds_2 = np.append(thresholds_2, 1)"
   ]
  },
  {
   "cell_type": "code",
   "execution_count": 19,
   "metadata": {},
   "outputs": [
    {
     "data": {
      "text/html": [
       "<div>\n",
       "<style scoped>\n",
       "    .dataframe tbody tr th:only-of-type {\n",
       "        vertical-align: middle;\n",
       "    }\n",
       "\n",
       "    .dataframe tbody tr th {\n",
       "        vertical-align: top;\n",
       "    }\n",
       "\n",
       "    .dataframe thead th {\n",
       "        text-align: right;\n",
       "    }\n",
       "</style>\n",
       "<table border=\"1\" class=\"dataframe\">\n",
       "  <thead>\n",
       "    <tr style=\"text-align: right;\">\n",
       "      <th></th>\n",
       "      <th>threshold</th>\n",
       "      <th>precision</th>\n",
       "      <th>recall</th>\n",
       "      <th>f1_score</th>\n",
       "      <th>tpr</th>\n",
       "      <th>fpr</th>\n",
       "      <th>tnr</th>\n",
       "      <th>fnr</th>\n",
       "    </tr>\n",
       "  </thead>\n",
       "  <tbody>\n",
       "    <tr>\n",
       "      <th>0</th>\n",
       "      <td>0.061789</td>\n",
       "      <td>0.204230</td>\n",
       "      <td>1.000000</td>\n",
       "      <td>0.339187</td>\n",
       "      <td>1.000000</td>\n",
       "      <td>0.999800</td>\n",
       "      <td>0.000200</td>\n",
       "      <td>0.000000</td>\n",
       "    </tr>\n",
       "    <tr>\n",
       "      <th>1</th>\n",
       "      <td>0.062372</td>\n",
       "      <td>0.204316</td>\n",
       "      <td>0.999953</td>\n",
       "      <td>0.339303</td>\n",
       "      <td>0.999953</td>\n",
       "      <td>0.999225</td>\n",
       "      <td>0.000775</td>\n",
       "      <td>0.000047</td>\n",
       "    </tr>\n",
       "    <tr>\n",
       "      <th>2</th>\n",
       "      <td>0.062452</td>\n",
       "      <td>0.204323</td>\n",
       "      <td>0.999941</td>\n",
       "      <td>0.339313</td>\n",
       "      <td>0.999941</td>\n",
       "      <td>0.999167</td>\n",
       "      <td>0.000833</td>\n",
       "      <td>0.000059</td>\n",
       "    </tr>\n",
       "    <tr>\n",
       "      <th>3</th>\n",
       "      <td>0.062490</td>\n",
       "      <td>0.204425</td>\n",
       "      <td>0.999823</td>\n",
       "      <td>0.339447</td>\n",
       "      <td>0.999823</td>\n",
       "      <td>0.998422</td>\n",
       "      <td>0.001578</td>\n",
       "      <td>0.000177</td>\n",
       "    </tr>\n",
       "    <tr>\n",
       "      <th>4</th>\n",
       "      <td>0.062552</td>\n",
       "      <td>0.204458</td>\n",
       "      <td>0.999799</td>\n",
       "      <td>0.339490</td>\n",
       "      <td>0.999799</td>\n",
       "      <td>0.998198</td>\n",
       "      <td>0.001802</td>\n",
       "      <td>0.000201</td>\n",
       "    </tr>\n",
       "    <tr>\n",
       "      <th>...</th>\n",
       "      <td>...</td>\n",
       "      <td>...</td>\n",
       "      <td>...</td>\n",
       "      <td>...</td>\n",
       "      <td>...</td>\n",
       "      <td>...</td>\n",
       "      <td>...</td>\n",
       "      <td>...</td>\n",
       "    </tr>\n",
       "    <tr>\n",
       "      <th>935</th>\n",
       "      <td>0.303305</td>\n",
       "      <td>0.341528</td>\n",
       "      <td>0.142323</td>\n",
       "      <td>0.200918</td>\n",
       "      <td>0.142323</td>\n",
       "      <td>0.070409</td>\n",
       "      <td>0.929591</td>\n",
       "      <td>0.857677</td>\n",
       "    </tr>\n",
       "    <tr>\n",
       "      <th>936</th>\n",
       "      <td>0.305946</td>\n",
       "      <td>0.340072</td>\n",
       "      <td>0.135607</td>\n",
       "      <td>0.193896</td>\n",
       "      <td>0.135607</td>\n",
       "      <td>0.067523</td>\n",
       "      <td>0.932477</td>\n",
       "      <td>0.864393</td>\n",
       "    </tr>\n",
       "    <tr>\n",
       "      <th>937</th>\n",
       "      <td>0.306196</td>\n",
       "      <td>0.339078</td>\n",
       "      <td>0.128172</td>\n",
       "      <td>0.186026</td>\n",
       "      <td>0.128172</td>\n",
       "      <td>0.064104</td>\n",
       "      <td>0.935896</td>\n",
       "      <td>0.871828</td>\n",
       "    </tr>\n",
       "    <tr>\n",
       "      <th>938</th>\n",
       "      <td>0.308563</td>\n",
       "      <td>0.345293</td>\n",
       "      <td>0.066671</td>\n",
       "      <td>0.111762</td>\n",
       "      <td>0.066671</td>\n",
       "      <td>0.032437</td>\n",
       "      <td>0.967563</td>\n",
       "      <td>0.933329</td>\n",
       "    </tr>\n",
       "    <tr>\n",
       "      <th>939</th>\n",
       "      <td>0.309855</td>\n",
       "      <td>0.345156</td>\n",
       "      <td>0.059377</td>\n",
       "      <td>0.101323</td>\n",
       "      <td>0.059377</td>\n",
       "      <td>0.028906</td>\n",
       "      <td>0.971094</td>\n",
       "      <td>0.940623</td>\n",
       "    </tr>\n",
       "  </tbody>\n",
       "</table>\n",
       "<p>940 rows × 8 columns</p>\n",
       "</div>"
      ],
      "text/plain": [
       "     threshold  precision    recall  f1_score       tpr       fpr       tnr  \\\n",
       "0     0.061789   0.204230  1.000000  0.339187  1.000000  0.999800  0.000200   \n",
       "1     0.062372   0.204316  0.999953  0.339303  0.999953  0.999225  0.000775   \n",
       "2     0.062452   0.204323  0.999941  0.339313  0.999941  0.999167  0.000833   \n",
       "3     0.062490   0.204425  0.999823  0.339447  0.999823  0.998422  0.001578   \n",
       "4     0.062552   0.204458  0.999799  0.339490  0.999799  0.998198  0.001802   \n",
       "..         ...        ...       ...       ...       ...       ...       ...   \n",
       "935   0.303305   0.341528  0.142323  0.200918  0.142323  0.070409  0.929591   \n",
       "936   0.305946   0.340072  0.135607  0.193896  0.135607  0.067523  0.932477   \n",
       "937   0.306196   0.339078  0.128172  0.186026  0.128172  0.064104  0.935896   \n",
       "938   0.308563   0.345293  0.066671  0.111762  0.066671  0.032437  0.967563   \n",
       "939   0.309855   0.345156  0.059377  0.101323  0.059377  0.028906  0.971094   \n",
       "\n",
       "          fnr  \n",
       "0    0.000000  \n",
       "1    0.000047  \n",
       "2    0.000059  \n",
       "3    0.000177  \n",
       "4    0.000201  \n",
       "..        ...  \n",
       "935  0.857677  \n",
       "936  0.864393  \n",
       "937  0.871828  \n",
       "938  0.933329  \n",
       "939  0.940623  \n",
       "\n",
       "[940 rows x 8 columns]"
      ]
     },
     "execution_count": 19,
     "metadata": {},
     "output_type": "execute_result"
    }
   ],
   "source": [
    "metrics_report = get_metrics_report(fpr, tpr, thresholds, precision, recall, thresholds_2)\n",
    "metrics_report"
   ]
  },
  {
   "cell_type": "markdown",
   "metadata": {},
   "source": [
    "En nuestra tabla de métricas observamos que para diferentes umbrales las métricas de precision, recall, f1_score, los tpr, los fpr, los tnr y los fnr. El objetivo del proyecto que es detectar las falsas alarmas cuando realmente lo son. Sin embargo, consideramos importante detectar con mayor precisión los falsos positivos pues es el escenario donde estamos detectando una falsa alarma cuando realmente no lo es y la emergencia es verdadera, por lo que se pone en juego la vida de personas. Debido a esto y observando las métricas se sugiere una tasa de 0.06 para el negocio. "
   ]
  },
  {
   "cell_type": "code",
   "execution_count": 20,
   "metadata": {},
   "outputs": [
    {
     "data": {
      "text/html": [
       "<div>\n",
       "<style scoped>\n",
       "    .dataframe tbody tr th:only-of-type {\n",
       "        vertical-align: middle;\n",
       "    }\n",
       "\n",
       "    .dataframe tbody tr th {\n",
       "        vertical-align: top;\n",
       "    }\n",
       "\n",
       "    .dataframe thead th {\n",
       "        text-align: right;\n",
       "    }\n",
       "</style>\n",
       "<table border=\"1\" class=\"dataframe\">\n",
       "  <thead>\n",
       "    <tr style=\"text-align: right;\">\n",
       "      <th></th>\n",
       "      <th>threshold</th>\n",
       "      <th>precision</th>\n",
       "      <th>recall</th>\n",
       "      <th>f1_score</th>\n",
       "      <th>tpr</th>\n",
       "      <th>fpr</th>\n",
       "      <th>tnr</th>\n",
       "      <th>fnr</th>\n",
       "    </tr>\n",
       "  </thead>\n",
       "  <tbody>\n",
       "    <tr>\n",
       "      <th>938</th>\n",
       "      <td>0.308563</td>\n",
       "      <td>0.345293</td>\n",
       "      <td>0.066671</td>\n",
       "      <td>0.111762</td>\n",
       "      <td>0.066671</td>\n",
       "      <td>0.032437</td>\n",
       "      <td>0.967563</td>\n",
       "      <td>0.933329</td>\n",
       "    </tr>\n",
       "    <tr>\n",
       "      <th>939</th>\n",
       "      <td>0.309855</td>\n",
       "      <td>0.345156</td>\n",
       "      <td>0.059377</td>\n",
       "      <td>0.101323</td>\n",
       "      <td>0.059377</td>\n",
       "      <td>0.028906</td>\n",
       "      <td>0.971094</td>\n",
       "      <td>0.940623</td>\n",
       "    </tr>\n",
       "  </tbody>\n",
       "</table>\n",
       "</div>"
      ],
      "text/plain": [
       "     threshold  precision    recall  f1_score       tpr       fpr       tnr  \\\n",
       "938   0.308563   0.345293  0.066671  0.111762  0.066671  0.032437  0.967563   \n",
       "939   0.309855   0.345156  0.059377  0.101323  0.059377  0.028906  0.971094   \n",
       "\n",
       "          fnr  \n",
       "938  0.933329  \n",
       "939  0.940623  "
      ]
     },
     "execution_count": 20,
     "metadata": {},
     "output_type": "execute_result"
    }
   ],
   "source": [
    "negocio = metrics_report[metrics_report.fpr <= 0.06]\n",
    "negocio"
   ]
  },
  {
   "cell_type": "markdown",
   "metadata": {},
   "source": [
    "Con esto modelos ahora seleccionamos un nuevo punto de corte y generamos nuevos labels para ver el comportamiento de este modelo."
   ]
  },
  {
   "cell_type": "code",
   "execution_count": 21,
   "metadata": {},
   "outputs": [
    {
     "data": {
      "text/plain": [
       "0.308562718472398"
      ]
     },
     "execution_count": 21,
     "metadata": {},
     "output_type": "execute_result"
    }
   ],
   "source": [
    "punto_corte = negocio.head(1).threshold.values[0]\n",
    "punto_corte"
   ]
  },
  {
   "cell_type": "code",
   "execution_count": 22,
   "metadata": {},
   "outputs": [],
   "source": [
    "new_labels = [0 if score < punto_corte else 1 for score in predicted_scores[:,1]]"
   ]
  },
  {
   "cell_type": "code",
   "execution_count": 23,
   "metadata": {},
   "outputs": [
    {
     "data": {
      "text/plain": [
       "16360"
      ]
     },
     "execution_count": 23,
     "metadata": {},
     "output_type": "execute_result"
    }
   ],
   "source": [
    "pd.Series(new_labels).sum()"
   ]
  },
  {
   "cell_type": "markdown",
   "metadata": {},
   "source": [
    "De acuerdo a las nuevas etiquetas observamos la nueva matriz de confusión y la comparamos con la anterior."
   ]
  },
  {
   "cell_type": "code",
   "execution_count": 24,
   "metadata": {},
   "outputs": [
    {
     "name": "stdout",
     "output_type": "stream",
     "text": [
      "Dato\\Predicción      Etiqueta +    Etiqueta -\n",
      "-----------------  ------------  ------------\n",
      "Etiqueta +             0.76999      0.0258132\n",
      "Etiqueta -             0.190583     0.013614\n"
     ]
    }
   ],
   "source": [
    "print(tabla_confusion(confusion_matrix(y_test, new_labels, normalize='all')))"
   ]
  },
  {
   "cell_type": "code",
   "execution_count": 25,
   "metadata": {},
   "outputs": [
    {
     "name": "stdout",
     "output_type": "stream",
     "text": [
      "Dato\\Predicción      Etiqueta +    Etiqueta -\n",
      "-----------------  ------------  ------------\n",
      "Etiqueta +            0.445988       0.349815\n",
      "Etiqueta -            0.0629245      0.141273\n"
     ]
    }
   ],
   "source": [
    "print(tabla_confusion(confusion_matrix(y_test, predicted_labels, normalize='all')))"
   ]
  },
  {
   "cell_type": "markdown",
   "metadata": {},
   "source": [
    "Con el nuevo punto de corte se observa que tenemos mayor proporción de etiquetas predichas correctamente, y que decrementa la proporción de falsos negativos que era el objetivo del C5. Sin embargo, los falsos positivos aumentan por lo que dejaríamos a consideración probar otros modelos para obtener mejorar la predicción de nuestro modelo. "
   ]
  },
  {
   "cell_type": "markdown",
   "metadata": {},
   "source": [
    "Por último revisaremos las métricas de precision@k y recall@k, que recordemos estábamos más enfocados a la precisión pues las consecuencias de nuestra predicción pueden ser punitivas en el caso de los falsos positivos. Para elegir el k, sabemos que contamos con 20 ambulancias y sabemos que el promedio de accidentes por día es de alrededor de 550, por lo que obtuvimos un k de:"
   ]
  },
  {
   "cell_type": "code",
   "execution_count": 61,
   "metadata": {},
   "outputs": [
    {
     "data": {
      "text/plain": [
       "0.036297640653357534"
      ]
     },
     "execution_count": 61,
     "metadata": {},
     "output_type": "execute_result"
    }
   ],
   "source": [
    "k=20/551\n",
    "k"
   ]
  },
  {
   "cell_type": "markdown",
   "metadata": {},
   "source": [
    "Para las cuales se obtienen las métricas de precision@k y recall@k:"
   ]
  },
  {
   "cell_type": "code",
   "execution_count": 62,
   "metadata": {},
   "outputs": [
    {
     "data": {
      "text/plain": [
       "0.34529339853300733"
      ]
     },
     "execution_count": 62,
     "metadata": {},
     "output_type": "execute_result"
    }
   ],
   "source": [
    "precision_at_k(y_test,predicted_scores[:,1],k)"
   ]
  },
  {
   "cell_type": "code",
   "execution_count": 65,
   "metadata": {},
   "outputs": [
    {
     "data": {
      "text/plain": [
       "0.0666706007317361"
      ]
     },
     "execution_count": 65,
     "metadata": {},
     "output_type": "execute_result"
    }
   ],
   "source": [
    "recall_at_k(y_test,predicted_scores[:,1],k)"
   ]
  },
  {
   "cell_type": "markdown",
   "metadata": {},
   "source": [
    "Y obtenemos la curva de presicion y recall:"
   ]
  },
  {
   "cell_type": "code",
   "execution_count": 64,
   "metadata": {},
   "outputs": [
    {
     "data": {
      "image/png": "[encoded data removed]",
      "text/plain": [
       "<Figure size 432x288 with 1 Axes>"
      ]
     },
     "metadata": {
      "needs_background": "light"
     },
     "output_type": "display_data"
    }
   ],
   "source": [
    "curva_pre_re(y_test, predicted_scores[:,1],k)"
   ]
  },
  {
   "cell_type": "markdown",
   "metadata": {},
   "source": [
    "Esta se observa que para un valor de k de 0.036, tenemos un recall de alrededor 0.06 y una precision de alrededor 0.34. Si tuvieramos la cobertura máxima, es decir, que tuvieramos más ambulancias para los accidentes, nuestro modelo podría tener mayor cobertura y su eficiencia sería mucho menor. Esto podría indicar que no es un buen modelo para nuestro problema pues esperaríamos que con pocos recursos nuestra eficiencia fuera mucho mayor, sin embargo, no lo es. Por otro lado su cobertura si mejora conforme se tienen más recursos pero esta no era la métrica que consideramos tenía mayor peso. Debido a esto sugerimos evaluar otro modelo. "
   ]
  },
  {
   "cell_type": "markdown",
   "metadata": {},
   "source": [
    "## Aequitas"
   ]
  },
  {
   "cell_type": "markdown",
   "metadata": {},
   "source": [
    "Se eligieron los "
   ]
  },
  {
   "cell_type": "code",
   "execution_count": 42,
   "metadata": {},
   "outputs": [],
   "source": [
    "df_aeq = load_df(\"../../\" + aequitas_df_pickle_loc)"
   ]
  },
  {
   "cell_type": "code",
   "execution_count": 43,
   "metadata": {},
   "outputs": [],
   "source": [
    "def prep_data(dfx):\n",
    "    #Load original dataframe with features\n",
    "    df_o = pd.read_csv('/Volumes/MemoriaEle/HeavyData/incidentes-viales-c5.csv')\n",
    "    #df_o = pd.read_csv(\"../../\" + \"data/incidentes-viales-c5.csv\")\n",
    "    df_o.drop(df_o[df_o.delegacion_inicio.isnull()].index, inplace = True)\n",
    "    df_aeq=pd.merge(dfx, df_o, on='folio', how='left')\n",
    "    df_aeq=df_aeq.loc[:, ['folio','label','score','delegacion_inicio']]\n",
    "    \n",
    "    return df_aeq   "
   ]
  },
  {
   "cell_type": "code",
   "execution_count": 44,
   "metadata": {},
   "outputs": [],
   "source": [
    "df_aeq = prep_data(df_aeq)"
   ]
  },
  {
   "cell_type": "code",
   "execution_count": 45,
   "metadata": {},
   "outputs": [],
   "source": [
    "df_aeq = df_aeq.rename(columns = {'folio':'entity_id','label': 'label_value'}, inplace = False)"
   ]
  },
  {
   "cell_type": "code",
   "execution_count": 46,
   "metadata": {},
   "outputs": [
    {
     "data": {
      "text/html": [
       "<div>\n",
       "<style scoped>\n",
       "    .dataframe tbody tr th:only-of-type {\n",
       "        vertical-align: middle;\n",
       "    }\n",
       "\n",
       "    .dataframe tbody tr th {\n",
       "        vertical-align: top;\n",
       "    }\n",
       "\n",
       "    .dataframe thead th {\n",
       "        text-align: right;\n",
       "    }\n",
       "</style>\n",
       "<table border=\"1\" class=\"dataframe\">\n",
       "  <thead>\n",
       "    <tr style=\"text-align: right;\">\n",
       "      <th></th>\n",
       "      <th>entity_id</th>\n",
       "      <th>label_value</th>\n",
       "      <th>score</th>\n",
       "      <th>delegacion_inicio</th>\n",
       "    </tr>\n",
       "  </thead>\n",
       "  <tbody>\n",
       "    <tr>\n",
       "      <th>0</th>\n",
       "      <td>C5/190613/06795</td>\n",
       "      <td>0.0</td>\n",
       "      <td>0</td>\n",
       "      <td>COYOACAN</td>\n",
       "    </tr>\n",
       "    <tr>\n",
       "      <th>1</th>\n",
       "      <td>C4/150322/02894</td>\n",
       "      <td>0.0</td>\n",
       "      <td>0</td>\n",
       "      <td>GUSTAVO A. MADERO</td>\n",
       "    </tr>\n",
       "    <tr>\n",
       "      <th>2</th>\n",
       "      <td>C5/180302/01135</td>\n",
       "      <td>0.0</td>\n",
       "      <td>0</td>\n",
       "      <td>IZTAPALAPA</td>\n",
       "    </tr>\n",
       "    <tr>\n",
       "      <th>3</th>\n",
       "      <td>C5/190411/07684</td>\n",
       "      <td>0.0</td>\n",
       "      <td>0</td>\n",
       "      <td>TLAHUAC</td>\n",
       "    </tr>\n",
       "    <tr>\n",
       "      <th>4</th>\n",
       "      <td>C5/170212/06529</td>\n",
       "      <td>0.0</td>\n",
       "      <td>1</td>\n",
       "      <td>COYOACAN</td>\n",
       "    </tr>\n",
       "  </tbody>\n",
       "</table>\n",
       "</div>"
      ],
      "text/plain": [
       "         entity_id  label_value  score  delegacion_inicio\n",
       "0  C5/190613/06795          0.0      0           COYOACAN\n",
       "1  C4/150322/02894          0.0      0  GUSTAVO A. MADERO\n",
       "2  C5/180302/01135          0.0      0         IZTAPALAPA\n",
       "3  C5/190411/07684          0.0      0            TLAHUAC\n",
       "4  C5/170212/06529          0.0      1           COYOACAN"
      ]
     },
     "execution_count": 46,
     "metadata": {},
     "output_type": "execute_result"
    }
   ],
   "source": [
    "df_aeq.head()"
   ]
  },
  {
   "cell_type": "code",
   "execution_count": 47,
   "metadata": {},
   "outputs": [
    {
     "data": {
      "image/png": "[encoded data removed]",
      "text/plain": [
       "<Figure size 432x288 with 1 Axes>"
      ]
     },
     "metadata": {
      "needs_background": "light"
     },
     "output_type": "display_data"
    }
   ],
   "source": [
    "by_del = sns.countplot(x=\"delegacion_inicio\", hue=\"label_value\", \n",
    "                        data=df_aeq[df_aeq.delegacion_inicio.isin(['COYOACAN', 'GUSTAVO A. MADERO', 'IZTAPALAPA', 'TLAHUAC',\n",
    "       'MIGUEL HIDALGO', 'CUAUHTEMOC', 'CUAJIMALPA', 'ALVARO OBREGON',\n",
    "       'BENITO JUAREZ', 'TLALPAN', 'VENUSTIANO CARRANZA', 'IZTACALCO',\n",
    "       'XOCHIMILCO', 'MAGDALENA CONTRERAS', 'AZCAPOTZALCO', 'MILPA ALTA'])])\n",
    "l=plt.setp(by_del.get_xticklabels(), rotation=90)"
   ]
  },
  {
   "cell_type": "code",
   "execution_count": 48,
   "metadata": {},
   "outputs": [
    {
     "data": {
      "image/png": "[encoded data removed]",
      "text/plain": [
       "<Figure size 432x288 with 1 Axes>"
      ]
     },
     "metadata": {
      "needs_background": "light"
     },
     "output_type": "display_data"
    }
   ],
   "source": [
    "by_del = sns.countplot(x=\"delegacion_inicio\", hue=\"score\", \n",
    "                        data=df_aeq[df_aeq.delegacion_inicio.isin(['COYOACAN', 'GUSTAVO A. MADERO', 'IZTAPALAPA', 'TLAHUAC',\n",
    "       'MIGUEL HIDALGO', 'CUAUHTEMOC', 'CUAJIMALPA', 'ALVARO OBREGON',\n",
    "       'BENITO JUAREZ', 'TLALPAN', 'VENUSTIANO CARRANZA', 'IZTACALCO',\n",
    "       'XOCHIMILCO', 'MAGDALENA CONTRERAS', 'AZCAPOTZALCO', 'MILPA ALTA'])])\n",
    "l=plt.setp(by_del.get_xticklabels(), rotation=90)"
   ]
  },
  {
   "cell_type": "code",
   "execution_count": 49,
   "metadata": {},
   "outputs": [],
   "source": [
    "def group(df):\n",
    "    \"\"\"\n",
    "     args:\n",
    "         df (dataframe):Recibe el data frame que tiene los features sobre los que queremos medir el sesgo entre los diferentes grupos.\n",
    "\n",
    "     returns:\n",
    "         -\n",
    "     \"\"\"\n",
    "    #tables\n",
    "    g = Group()\n",
    "    xtab, attrbs = g.get_crosstabs(df)\n",
    "    absolute_metrics = g.list_absolute_metrics(xtab)\n",
    "    conteos_grupo=xtab[[col for col in xtab.columns if col not in absolute_metrics]]\n",
    "    metricas_absolutas=xtab[['attribute_name', 'attribute_value']+[col for col in xtab.columns if col in absolute_metrics]].round(2)\n",
    "\n",
    "    return xtab, conteos_grupo,metricas_absolutas"
   ]
  },
  {
   "cell_type": "code",
   "execution_count": 50,
   "metadata": {},
   "outputs": [
    {
     "name": "stdout",
     "output_type": "stream",
     "text": [
      "model_id, score_thresholds 0 {'rank_abs': [16360]}\n"
     ]
    }
   ],
   "source": [
    "xtab, conteos_grupo,metricas_absolutas=group(df_aeq)"
   ]
  },
  {
   "cell_type": "code",
   "execution_count": 51,
   "metadata": {},
   "outputs": [
    {
     "data": {
      "text/html": [
       "<div>\n",
       "<style scoped>\n",
       "    .dataframe tbody tr th:only-of-type {\n",
       "        vertical-align: middle;\n",
       "    }\n",
       "\n",
       "    .dataframe tbody tr th {\n",
       "        vertical-align: top;\n",
       "    }\n",
       "\n",
       "    .dataframe thead th {\n",
       "        text-align: right;\n",
       "    }\n",
       "</style>\n",
       "<table border=\"1\" class=\"dataframe\">\n",
       "  <thead>\n",
       "    <tr style=\"text-align: right;\">\n",
       "      <th></th>\n",
       "      <th>model_id</th>\n",
       "      <th>score_threshold</th>\n",
       "      <th>k</th>\n",
       "      <th>attribute_name</th>\n",
       "      <th>attribute_value</th>\n",
       "      <th>tpr</th>\n",
       "      <th>tnr</th>\n",
       "      <th>for</th>\n",
       "      <th>fdr</th>\n",
       "      <th>fpr</th>\n",
       "      <th>...</th>\n",
       "      <th>pprev</th>\n",
       "      <th>fp</th>\n",
       "      <th>fn</th>\n",
       "      <th>tn</th>\n",
       "      <th>tp</th>\n",
       "      <th>group_label_pos</th>\n",
       "      <th>group_label_neg</th>\n",
       "      <th>group_size</th>\n",
       "      <th>total_entities</th>\n",
       "      <th>prev</th>\n",
       "    </tr>\n",
       "  </thead>\n",
       "  <tbody>\n",
       "    <tr>\n",
       "      <th>0</th>\n",
       "      <td>0</td>\n",
       "      <td>binary 0/1</td>\n",
       "      <td>16360</td>\n",
       "      <td>delegacion_inicio</td>\n",
       "      <td>ALVARO OBREGON</td>\n",
       "      <td>0.063986</td>\n",
       "      <td>0.962559</td>\n",
       "      <td>0.218950</td>\n",
       "      <td>0.669947</td>\n",
       "      <td>0.037441</td>\n",
       "      <td>...</td>\n",
       "      <td>0.043381</td>\n",
       "      <td>885</td>\n",
       "      <td>6378</td>\n",
       "      <td>22752</td>\n",
       "      <td>436</td>\n",
       "      <td>6814</td>\n",
       "      <td>23637</td>\n",
       "      <td>30451</td>\n",
       "      <td>414942</td>\n",
       "      <td>0.223769</td>\n",
       "    </tr>\n",
       "    <tr>\n",
       "      <th>1</th>\n",
       "      <td>0</td>\n",
       "      <td>binary 0/1</td>\n",
       "      <td>16360</td>\n",
       "      <td>delegacion_inicio</td>\n",
       "      <td>AZCAPOTZALCO</td>\n",
       "      <td>0.049607</td>\n",
       "      <td>0.968083</td>\n",
       "      <td>0.157751</td>\n",
       "      <td>0.771293</td>\n",
       "      <td>0.031917</td>\n",
       "      <td>...</td>\n",
       "      <td>0.034751</td>\n",
       "      <td>489</td>\n",
       "      <td>2778</td>\n",
       "      <td>14832</td>\n",
       "      <td>145</td>\n",
       "      <td>2923</td>\n",
       "      <td>15321</td>\n",
       "      <td>18244</td>\n",
       "      <td>414942</td>\n",
       "      <td>0.160217</td>\n",
       "    </tr>\n",
       "    <tr>\n",
       "      <th>2</th>\n",
       "      <td>0</td>\n",
       "      <td>binary 0/1</td>\n",
       "      <td>16360</td>\n",
       "      <td>delegacion_inicio</td>\n",
       "      <td>BENITO JUAREZ</td>\n",
       "      <td>0.078726</td>\n",
       "      <td>0.967264</td>\n",
       "      <td>0.166915</td>\n",
       "      <td>0.664062</td>\n",
       "      <td>0.032736</td>\n",
       "      <td>...</td>\n",
       "      <td>0.040729</td>\n",
       "      <td>850</td>\n",
       "      <td>5032</td>\n",
       "      <td>25115</td>\n",
       "      <td>430</td>\n",
       "      <td>5462</td>\n",
       "      <td>25965</td>\n",
       "      <td>31427</td>\n",
       "      <td>414942</td>\n",
       "      <td>0.173800</td>\n",
       "    </tr>\n",
       "    <tr>\n",
       "      <th>3</th>\n",
       "      <td>0</td>\n",
       "      <td>binary 0/1</td>\n",
       "      <td>16360</td>\n",
       "      <td>delegacion_inicio</td>\n",
       "      <td>COYOACAN</td>\n",
       "      <td>0.077451</td>\n",
       "      <td>0.964191</td>\n",
       "      <td>0.210051</td>\n",
       "      <td>0.624576</td>\n",
       "      <td>0.035809</td>\n",
       "      <td>...</td>\n",
       "      <td>0.044865</td>\n",
       "      <td>920</td>\n",
       "      <td>6587</td>\n",
       "      <td>24772</td>\n",
       "      <td>553</td>\n",
       "      <td>7140</td>\n",
       "      <td>25692</td>\n",
       "      <td>32832</td>\n",
       "      <td>414942</td>\n",
       "      <td>0.217471</td>\n",
       "    </tr>\n",
       "    <tr>\n",
       "      <th>4</th>\n",
       "      <td>0</td>\n",
       "      <td>binary 0/1</td>\n",
       "      <td>16360</td>\n",
       "      <td>delegacion_inicio</td>\n",
       "      <td>CUAJIMALPA</td>\n",
       "      <td>0.050658</td>\n",
       "      <td>0.962416</td>\n",
       "      <td>0.310908</td>\n",
       "      <td>0.618619</td>\n",
       "      <td>0.037584</td>\n",
       "      <td>...</td>\n",
       "      <td>0.041688</td>\n",
       "      <td>206</td>\n",
       "      <td>2380</td>\n",
       "      <td>5275</td>\n",
       "      <td>127</td>\n",
       "      <td>2507</td>\n",
       "      <td>5481</td>\n",
       "      <td>7988</td>\n",
       "      <td>414942</td>\n",
       "      <td>0.313846</td>\n",
       "    </tr>\n",
       "    <tr>\n",
       "      <th>5</th>\n",
       "      <td>0</td>\n",
       "      <td>binary 0/1</td>\n",
       "      <td>16360</td>\n",
       "      <td>delegacion_inicio</td>\n",
       "      <td>CUAUHTEMOC</td>\n",
       "      <td>0.061043</td>\n",
       "      <td>0.973584</td>\n",
       "      <td>0.140821</td>\n",
       "      <td>0.718025</td>\n",
       "      <td>0.026416</td>\n",
       "      <td>...</td>\n",
       "      <td>0.031446</td>\n",
       "      <td>960</td>\n",
       "      <td>5799</td>\n",
       "      <td>35381</td>\n",
       "      <td>377</td>\n",
       "      <td>6176</td>\n",
       "      <td>36341</td>\n",
       "      <td>42517</td>\n",
       "      <td>414942</td>\n",
       "      <td>0.145260</td>\n",
       "    </tr>\n",
       "    <tr>\n",
       "      <th>6</th>\n",
       "      <td>0</td>\n",
       "      <td>binary 0/1</td>\n",
       "      <td>16360</td>\n",
       "      <td>delegacion_inicio</td>\n",
       "      <td>GUSTAVO A. MADERO</td>\n",
       "      <td>0.065378</td>\n",
       "      <td>0.965400</td>\n",
       "      <td>0.188594</td>\n",
       "      <td>0.687927</td>\n",
       "      <td>0.034600</td>\n",
       "      <td>...</td>\n",
       "      <td>0.040559</td>\n",
       "      <td>1208</td>\n",
       "      <td>7834</td>\n",
       "      <td>33705</td>\n",
       "      <td>548</td>\n",
       "      <td>8382</td>\n",
       "      <td>34913</td>\n",
       "      <td>43295</td>\n",
       "      <td>414942</td>\n",
       "      <td>0.193602</td>\n",
       "    </tr>\n",
       "    <tr>\n",
       "      <th>7</th>\n",
       "      <td>0</td>\n",
       "      <td>binary 0/1</td>\n",
       "      <td>16360</td>\n",
       "      <td>delegacion_inicio</td>\n",
       "      <td>IZTACALCO</td>\n",
       "      <td>0.054062</td>\n",
       "      <td>0.968186</td>\n",
       "      <td>0.182826</td>\n",
       "      <td>0.719875</td>\n",
       "      <td>0.031814</td>\n",
       "      <td>...</td>\n",
       "      <td>0.035959</td>\n",
       "      <td>460</td>\n",
       "      <td>3132</td>\n",
       "      <td>13999</td>\n",
       "      <td>179</td>\n",
       "      <td>3311</td>\n",
       "      <td>14459</td>\n",
       "      <td>17770</td>\n",
       "      <td>414942</td>\n",
       "      <td>0.186325</td>\n",
       "    </tr>\n",
       "    <tr>\n",
       "      <th>8</th>\n",
       "      <td>0</td>\n",
       "      <td>binary 0/1</td>\n",
       "      <td>16360</td>\n",
       "      <td>delegacion_inicio</td>\n",
       "      <td>IZTAPALAPA</td>\n",
       "      <td>0.066755</td>\n",
       "      <td>0.968024</td>\n",
       "      <td>0.217540</td>\n",
       "      <td>0.624204</td>\n",
       "      <td>0.031976</td>\n",
       "      <td>...</td>\n",
       "      <td>0.039761</td>\n",
       "      <td>1666</td>\n",
       "      <td>14022</td>\n",
       "      <td>50435</td>\n",
       "      <td>1003</td>\n",
       "      <td>15025</td>\n",
       "      <td>52101</td>\n",
       "      <td>67126</td>\n",
       "      <td>414942</td>\n",
       "      <td>0.223833</td>\n",
       "    </tr>\n",
       "    <tr>\n",
       "      <th>9</th>\n",
       "      <td>0</td>\n",
       "      <td>binary 0/1</td>\n",
       "      <td>16360</td>\n",
       "      <td>delegacion_inicio</td>\n",
       "      <td>MAGDALENA CONTRERAS</td>\n",
       "      <td>0.059133</td>\n",
       "      <td>0.971963</td>\n",
       "      <td>0.278654</td>\n",
       "      <td>0.542986</td>\n",
       "      <td>0.028037</td>\n",
       "      <td>...</td>\n",
       "      <td>0.036907</td>\n",
       "      <td>120</td>\n",
       "      <td>1607</td>\n",
       "      <td>4160</td>\n",
       "      <td>101</td>\n",
       "      <td>1708</td>\n",
       "      <td>4280</td>\n",
       "      <td>5988</td>\n",
       "      <td>414942</td>\n",
       "      <td>0.285237</td>\n",
       "    </tr>\n",
       "    <tr>\n",
       "      <th>10</th>\n",
       "      <td>0</td>\n",
       "      <td>binary 0/1</td>\n",
       "      <td>16360</td>\n",
       "      <td>delegacion_inicio</td>\n",
       "      <td>MIGUEL HIDALGO</td>\n",
       "      <td>0.075322</td>\n",
       "      <td>0.958247</td>\n",
       "      <td>0.190278</td>\n",
       "      <td>0.694774</td>\n",
       "      <td>0.041753</td>\n",
       "      <td>...</td>\n",
       "      <td>0.048327</td>\n",
       "      <td>1170</td>\n",
       "      <td>6310</td>\n",
       "      <td>26852</td>\n",
       "      <td>514</td>\n",
       "      <td>6824</td>\n",
       "      <td>28022</td>\n",
       "      <td>34846</td>\n",
       "      <td>414942</td>\n",
       "      <td>0.195833</td>\n",
       "    </tr>\n",
       "    <tr>\n",
       "      <th>11</th>\n",
       "      <td>0</td>\n",
       "      <td>binary 0/1</td>\n",
       "      <td>16360</td>\n",
       "      <td>delegacion_inicio</td>\n",
       "      <td>MILPA ALTA</td>\n",
       "      <td>0.068894</td>\n",
       "      <td>0.979230</td>\n",
       "      <td>0.217667</td>\n",
       "      <td>0.507463</td>\n",
       "      <td>0.020770</td>\n",
       "      <td>...</td>\n",
       "      <td>0.031664</td>\n",
       "      <td>34</td>\n",
       "      <td>446</td>\n",
       "      <td>1603</td>\n",
       "      <td>33</td>\n",
       "      <td>479</td>\n",
       "      <td>1637</td>\n",
       "      <td>2116</td>\n",
       "      <td>414942</td>\n",
       "      <td>0.226371</td>\n",
       "    </tr>\n",
       "    <tr>\n",
       "      <th>12</th>\n",
       "      <td>0</td>\n",
       "      <td>binary 0/1</td>\n",
       "      <td>16360</td>\n",
       "      <td>delegacion_inicio</td>\n",
       "      <td>TLAHUAC</td>\n",
       "      <td>0.061331</td>\n",
       "      <td>0.972143</td>\n",
       "      <td>0.223372</td>\n",
       "      <td>0.603933</td>\n",
       "      <td>0.027857</td>\n",
       "      <td>...</td>\n",
       "      <td>0.035540</td>\n",
       "      <td>215</td>\n",
       "      <td>2158</td>\n",
       "      <td>7503</td>\n",
       "      <td>141</td>\n",
       "      <td>2299</td>\n",
       "      <td>7718</td>\n",
       "      <td>10017</td>\n",
       "      <td>414942</td>\n",
       "      <td>0.229510</td>\n",
       "    </tr>\n",
       "    <tr>\n",
       "      <th>13</th>\n",
       "      <td>0</td>\n",
       "      <td>binary 0/1</td>\n",
       "      <td>16360</td>\n",
       "      <td>delegacion_inicio</td>\n",
       "      <td>TLALPAN</td>\n",
       "      <td>0.071395</td>\n",
       "      <td>0.971231</td>\n",
       "      <td>0.236070</td>\n",
       "      <td>0.554908</td>\n",
       "      <td>0.028769</td>\n",
       "      <td>...</td>\n",
       "      <td>0.039181</td>\n",
       "      <td>571</td>\n",
       "      <td>5957</td>\n",
       "      <td>19277</td>\n",
       "      <td>458</td>\n",
       "      <td>6415</td>\n",
       "      <td>19848</td>\n",
       "      <td>26263</td>\n",
       "      <td>414942</td>\n",
       "      <td>0.244260</td>\n",
       "    </tr>\n",
       "    <tr>\n",
       "      <th>14</th>\n",
       "      <td>0</td>\n",
       "      <td>binary 0/1</td>\n",
       "      <td>16360</td>\n",
       "      <td>delegacion_inicio</td>\n",
       "      <td>VENUSTIANO CARRANZA</td>\n",
       "      <td>0.064665</td>\n",
       "      <td>0.972940</td>\n",
       "      <td>0.186237</td>\n",
       "      <td>0.637397</td>\n",
       "      <td>0.027060</td>\n",
       "      <td>...</td>\n",
       "      <td>0.034291</td>\n",
       "      <td>617</td>\n",
       "      <td>5077</td>\n",
       "      <td>22184</td>\n",
       "      <td>351</td>\n",
       "      <td>5428</td>\n",
       "      <td>22801</td>\n",
       "      <td>28229</td>\n",
       "      <td>414942</td>\n",
       "      <td>0.192285</td>\n",
       "    </tr>\n",
       "    <tr>\n",
       "      <th>15</th>\n",
       "      <td>0</td>\n",
       "      <td>binary 0/1</td>\n",
       "      <td>16360</td>\n",
       "      <td>delegacion_inicio</td>\n",
       "      <td>XOCHIMILCO</td>\n",
       "      <td>0.066719</td>\n",
       "      <td>0.971650</td>\n",
       "      <td>0.232952</td>\n",
       "      <td>0.573356</td>\n",
       "      <td>0.028350</td>\n",
       "      <td>...</td>\n",
       "      <td>0.037567</td>\n",
       "      <td>340</td>\n",
       "      <td>3539</td>\n",
       "      <td>11653</td>\n",
       "      <td>253</td>\n",
       "      <td>3792</td>\n",
       "      <td>11993</td>\n",
       "      <td>15785</td>\n",
       "      <td>414942</td>\n",
       "      <td>0.240228</td>\n",
       "    </tr>\n",
       "  </tbody>\n",
       "</table>\n",
       "<p>16 rows × 26 columns</p>\n",
       "</div>"
      ],
      "text/plain": [
       "    model_id score_threshold      k     attribute_name      attribute_value  \\\n",
       "0          0      binary 0/1  16360  delegacion_inicio       ALVARO OBREGON   \n",
       "1          0      binary 0/1  16360  delegacion_inicio         AZCAPOTZALCO   \n",
       "2          0      binary 0/1  16360  delegacion_inicio        BENITO JUAREZ   \n",
       "3          0      binary 0/1  16360  delegacion_inicio             COYOACAN   \n",
       "4          0      binary 0/1  16360  delegacion_inicio           CUAJIMALPA   \n",
       "5          0      binary 0/1  16360  delegacion_inicio           CUAUHTEMOC   \n",
       "6          0      binary 0/1  16360  delegacion_inicio    GUSTAVO A. MADERO   \n",
       "7          0      binary 0/1  16360  delegacion_inicio            IZTACALCO   \n",
       "8          0      binary 0/1  16360  delegacion_inicio           IZTAPALAPA   \n",
       "9          0      binary 0/1  16360  delegacion_inicio  MAGDALENA CONTRERAS   \n",
       "10         0      binary 0/1  16360  delegacion_inicio       MIGUEL HIDALGO   \n",
       "11         0      binary 0/1  16360  delegacion_inicio           MILPA ALTA   \n",
       "12         0      binary 0/1  16360  delegacion_inicio              TLAHUAC   \n",
       "13         0      binary 0/1  16360  delegacion_inicio              TLALPAN   \n",
       "14         0      binary 0/1  16360  delegacion_inicio  VENUSTIANO CARRANZA   \n",
       "15         0      binary 0/1  16360  delegacion_inicio           XOCHIMILCO   \n",
       "\n",
       "         tpr       tnr       for       fdr       fpr  ...     pprev    fp  \\\n",
       "0   0.063986  0.962559  0.218950  0.669947  0.037441  ...  0.043381   885   \n",
       "1   0.049607  0.968083  0.157751  0.771293  0.031917  ...  0.034751   489   \n",
       "2   0.078726  0.967264  0.166915  0.664062  0.032736  ...  0.040729   850   \n",
       "3   0.077451  0.964191  0.210051  0.624576  0.035809  ...  0.044865   920   \n",
       "4   0.050658  0.962416  0.310908  0.618619  0.037584  ...  0.041688   206   \n",
       "5   0.061043  0.973584  0.140821  0.718025  0.026416  ...  0.031446   960   \n",
       "6   0.065378  0.965400  0.188594  0.687927  0.034600  ...  0.040559  1208   \n",
       "7   0.054062  0.968186  0.182826  0.719875  0.031814  ...  0.035959   460   \n",
       "8   0.066755  0.968024  0.217540  0.624204  0.031976  ...  0.039761  1666   \n",
       "9   0.059133  0.971963  0.278654  0.542986  0.028037  ...  0.036907   120   \n",
       "10  0.075322  0.958247  0.190278  0.694774  0.041753  ...  0.048327  1170   \n",
       "11  0.068894  0.979230  0.217667  0.507463  0.020770  ...  0.031664    34   \n",
       "12  0.061331  0.972143  0.223372  0.603933  0.027857  ...  0.035540   215   \n",
       "13  0.071395  0.971231  0.236070  0.554908  0.028769  ...  0.039181   571   \n",
       "14  0.064665  0.972940  0.186237  0.637397  0.027060  ...  0.034291   617   \n",
       "15  0.066719  0.971650  0.232952  0.573356  0.028350  ...  0.037567   340   \n",
       "\n",
       "       fn     tn    tp  group_label_pos  group_label_neg  group_size  \\\n",
       "0    6378  22752   436             6814            23637       30451   \n",
       "1    2778  14832   145             2923            15321       18244   \n",
       "2    5032  25115   430             5462            25965       31427   \n",
       "3    6587  24772   553             7140            25692       32832   \n",
       "4    2380   5275   127             2507             5481        7988   \n",
       "5    5799  35381   377             6176            36341       42517   \n",
       "6    7834  33705   548             8382            34913       43295   \n",
       "7    3132  13999   179             3311            14459       17770   \n",
       "8   14022  50435  1003            15025            52101       67126   \n",
       "9    1607   4160   101             1708             4280        5988   \n",
       "10   6310  26852   514             6824            28022       34846   \n",
       "11    446   1603    33              479             1637        2116   \n",
       "12   2158   7503   141             2299             7718       10017   \n",
       "13   5957  19277   458             6415            19848       26263   \n",
       "14   5077  22184   351             5428            22801       28229   \n",
       "15   3539  11653   253             3792            11993       15785   \n",
       "\n",
       "    total_entities      prev  \n",
       "0           414942  0.223769  \n",
       "1           414942  0.160217  \n",
       "2           414942  0.173800  \n",
       "3           414942  0.217471  \n",
       "4           414942  0.313846  \n",
       "5           414942  0.145260  \n",
       "6           414942  0.193602  \n",
       "7           414942  0.186325  \n",
       "8           414942  0.223833  \n",
       "9           414942  0.285237  \n",
       "10          414942  0.195833  \n",
       "11          414942  0.226371  \n",
       "12          414942  0.229510  \n",
       "13          414942  0.244260  \n",
       "14          414942  0.192285  \n",
       "15          414942  0.240228  \n",
       "\n",
       "[16 rows x 26 columns]"
      ]
     },
     "execution_count": 51,
     "metadata": {},
     "output_type": "execute_result"
    }
   ],
   "source": [
    "xtab"
   ]
  },
  {
   "cell_type": "code",
   "execution_count": 52,
   "metadata": {},
   "outputs": [
    {
     "data": {
      "text/html": [
       "<div>\n",
       "<style scoped>\n",
       "    .dataframe tbody tr th:only-of-type {\n",
       "        vertical-align: middle;\n",
       "    }\n",
       "\n",
       "    .dataframe tbody tr th {\n",
       "        vertical-align: top;\n",
       "    }\n",
       "\n",
       "    .dataframe thead th {\n",
       "        text-align: right;\n",
       "    }\n",
       "</style>\n",
       "<table border=\"1\" class=\"dataframe\">\n",
       "  <thead>\n",
       "    <tr style=\"text-align: right;\">\n",
       "      <th></th>\n",
       "      <th>model_id</th>\n",
       "      <th>score_threshold</th>\n",
       "      <th>k</th>\n",
       "      <th>attribute_name</th>\n",
       "      <th>attribute_value</th>\n",
       "      <th>pp</th>\n",
       "      <th>pn</th>\n",
       "      <th>fp</th>\n",
       "      <th>fn</th>\n",
       "      <th>tn</th>\n",
       "      <th>tp</th>\n",
       "      <th>group_label_pos</th>\n",
       "      <th>group_label_neg</th>\n",
       "      <th>group_size</th>\n",
       "      <th>total_entities</th>\n",
       "    </tr>\n",
       "  </thead>\n",
       "  <tbody>\n",
       "    <tr>\n",
       "      <th>0</th>\n",
       "      <td>0</td>\n",
       "      <td>binary 0/1</td>\n",
       "      <td>16360</td>\n",
       "      <td>delegacion_inicio</td>\n",
       "      <td>ALVARO OBREGON</td>\n",
       "      <td>1321</td>\n",
       "      <td>29130</td>\n",
       "      <td>885</td>\n",
       "      <td>6378</td>\n",
       "      <td>22752</td>\n",
       "      <td>436</td>\n",
       "      <td>6814</td>\n",
       "      <td>23637</td>\n",
       "      <td>30451</td>\n",
       "      <td>414942</td>\n",
       "    </tr>\n",
       "    <tr>\n",
       "      <th>1</th>\n",
       "      <td>0</td>\n",
       "      <td>binary 0/1</td>\n",
       "      <td>16360</td>\n",
       "      <td>delegacion_inicio</td>\n",
       "      <td>AZCAPOTZALCO</td>\n",
       "      <td>634</td>\n",
       "      <td>17610</td>\n",
       "      <td>489</td>\n",
       "      <td>2778</td>\n",
       "      <td>14832</td>\n",
       "      <td>145</td>\n",
       "      <td>2923</td>\n",
       "      <td>15321</td>\n",
       "      <td>18244</td>\n",
       "      <td>414942</td>\n",
       "    </tr>\n",
       "    <tr>\n",
       "      <th>2</th>\n",
       "      <td>0</td>\n",
       "      <td>binary 0/1</td>\n",
       "      <td>16360</td>\n",
       "      <td>delegacion_inicio</td>\n",
       "      <td>BENITO JUAREZ</td>\n",
       "      <td>1280</td>\n",
       "      <td>30147</td>\n",
       "      <td>850</td>\n",
       "      <td>5032</td>\n",
       "      <td>25115</td>\n",
       "      <td>430</td>\n",
       "      <td>5462</td>\n",
       "      <td>25965</td>\n",
       "      <td>31427</td>\n",
       "      <td>414942</td>\n",
       "    </tr>\n",
       "    <tr>\n",
       "      <th>3</th>\n",
       "      <td>0</td>\n",
       "      <td>binary 0/1</td>\n",
       "      <td>16360</td>\n",
       "      <td>delegacion_inicio</td>\n",
       "      <td>COYOACAN</td>\n",
       "      <td>1473</td>\n",
       "      <td>31359</td>\n",
       "      <td>920</td>\n",
       "      <td>6587</td>\n",
       "      <td>24772</td>\n",
       "      <td>553</td>\n",
       "      <td>7140</td>\n",
       "      <td>25692</td>\n",
       "      <td>32832</td>\n",
       "      <td>414942</td>\n",
       "    </tr>\n",
       "    <tr>\n",
       "      <th>4</th>\n",
       "      <td>0</td>\n",
       "      <td>binary 0/1</td>\n",
       "      <td>16360</td>\n",
       "      <td>delegacion_inicio</td>\n",
       "      <td>CUAJIMALPA</td>\n",
       "      <td>333</td>\n",
       "      <td>7655</td>\n",
       "      <td>206</td>\n",
       "      <td>2380</td>\n",
       "      <td>5275</td>\n",
       "      <td>127</td>\n",
       "      <td>2507</td>\n",
       "      <td>5481</td>\n",
       "      <td>7988</td>\n",
       "      <td>414942</td>\n",
       "    </tr>\n",
       "    <tr>\n",
       "      <th>5</th>\n",
       "      <td>0</td>\n",
       "      <td>binary 0/1</td>\n",
       "      <td>16360</td>\n",
       "      <td>delegacion_inicio</td>\n",
       "      <td>CUAUHTEMOC</td>\n",
       "      <td>1337</td>\n",
       "      <td>41180</td>\n",
       "      <td>960</td>\n",
       "      <td>5799</td>\n",
       "      <td>35381</td>\n",
       "      <td>377</td>\n",
       "      <td>6176</td>\n",
       "      <td>36341</td>\n",
       "      <td>42517</td>\n",
       "      <td>414942</td>\n",
       "    </tr>\n",
       "    <tr>\n",
       "      <th>6</th>\n",
       "      <td>0</td>\n",
       "      <td>binary 0/1</td>\n",
       "      <td>16360</td>\n",
       "      <td>delegacion_inicio</td>\n",
       "      <td>GUSTAVO A. MADERO</td>\n",
       "      <td>1756</td>\n",
       "      <td>41539</td>\n",
       "      <td>1208</td>\n",
       "      <td>7834</td>\n",
       "      <td>33705</td>\n",
       "      <td>548</td>\n",
       "      <td>8382</td>\n",
       "      <td>34913</td>\n",
       "      <td>43295</td>\n",
       "      <td>414942</td>\n",
       "    </tr>\n",
       "    <tr>\n",
       "      <th>7</th>\n",
       "      <td>0</td>\n",
       "      <td>binary 0/1</td>\n",
       "      <td>16360</td>\n",
       "      <td>delegacion_inicio</td>\n",
       "      <td>IZTACALCO</td>\n",
       "      <td>639</td>\n",
       "      <td>17131</td>\n",
       "      <td>460</td>\n",
       "      <td>3132</td>\n",
       "      <td>13999</td>\n",
       "      <td>179</td>\n",
       "      <td>3311</td>\n",
       "      <td>14459</td>\n",
       "      <td>17770</td>\n",
       "      <td>414942</td>\n",
       "    </tr>\n",
       "    <tr>\n",
       "      <th>8</th>\n",
       "      <td>0</td>\n",
       "      <td>binary 0/1</td>\n",
       "      <td>16360</td>\n",
       "      <td>delegacion_inicio</td>\n",
       "      <td>IZTAPALAPA</td>\n",
       "      <td>2669</td>\n",
       "      <td>64457</td>\n",
       "      <td>1666</td>\n",
       "      <td>14022</td>\n",
       "      <td>50435</td>\n",
       "      <td>1003</td>\n",
       "      <td>15025</td>\n",
       "      <td>52101</td>\n",
       "      <td>67126</td>\n",
       "      <td>414942</td>\n",
       "    </tr>\n",
       "    <tr>\n",
       "      <th>9</th>\n",
       "      <td>0</td>\n",
       "      <td>binary 0/1</td>\n",
       "      <td>16360</td>\n",
       "      <td>delegacion_inicio</td>\n",
       "      <td>MAGDALENA CONTRERAS</td>\n",
       "      <td>221</td>\n",
       "      <td>5767</td>\n",
       "      <td>120</td>\n",
       "      <td>1607</td>\n",
       "      <td>4160</td>\n",
       "      <td>101</td>\n",
       "      <td>1708</td>\n",
       "      <td>4280</td>\n",
       "      <td>5988</td>\n",
       "      <td>414942</td>\n",
       "    </tr>\n",
       "    <tr>\n",
       "      <th>10</th>\n",
       "      <td>0</td>\n",
       "      <td>binary 0/1</td>\n",
       "      <td>16360</td>\n",
       "      <td>delegacion_inicio</td>\n",
       "      <td>MIGUEL HIDALGO</td>\n",
       "      <td>1684</td>\n",
       "      <td>33162</td>\n",
       "      <td>1170</td>\n",
       "      <td>6310</td>\n",
       "      <td>26852</td>\n",
       "      <td>514</td>\n",
       "      <td>6824</td>\n",
       "      <td>28022</td>\n",
       "      <td>34846</td>\n",
       "      <td>414942</td>\n",
       "    </tr>\n",
       "    <tr>\n",
       "      <th>11</th>\n",
       "      <td>0</td>\n",
       "      <td>binary 0/1</td>\n",
       "      <td>16360</td>\n",
       "      <td>delegacion_inicio</td>\n",
       "      <td>MILPA ALTA</td>\n",
       "      <td>67</td>\n",
       "      <td>2049</td>\n",
       "      <td>34</td>\n",
       "      <td>446</td>\n",
       "      <td>1603</td>\n",
       "      <td>33</td>\n",
       "      <td>479</td>\n",
       "      <td>1637</td>\n",
       "      <td>2116</td>\n",
       "      <td>414942</td>\n",
       "    </tr>\n",
       "    <tr>\n",
       "      <th>12</th>\n",
       "      <td>0</td>\n",
       "      <td>binary 0/1</td>\n",
       "      <td>16360</td>\n",
       "      <td>delegacion_inicio</td>\n",
       "      <td>TLAHUAC</td>\n",
       "      <td>356</td>\n",
       "      <td>9661</td>\n",
       "      <td>215</td>\n",
       "      <td>2158</td>\n",
       "      <td>7503</td>\n",
       "      <td>141</td>\n",
       "      <td>2299</td>\n",
       "      <td>7718</td>\n",
       "      <td>10017</td>\n",
       "      <td>414942</td>\n",
       "    </tr>\n",
       "    <tr>\n",
       "      <th>13</th>\n",
       "      <td>0</td>\n",
       "      <td>binary 0/1</td>\n",
       "      <td>16360</td>\n",
       "      <td>delegacion_inicio</td>\n",
       "      <td>TLALPAN</td>\n",
       "      <td>1029</td>\n",
       "      <td>25234</td>\n",
       "      <td>571</td>\n",
       "      <td>5957</td>\n",
       "      <td>19277</td>\n",
       "      <td>458</td>\n",
       "      <td>6415</td>\n",
       "      <td>19848</td>\n",
       "      <td>26263</td>\n",
       "      <td>414942</td>\n",
       "    </tr>\n",
       "    <tr>\n",
       "      <th>14</th>\n",
       "      <td>0</td>\n",
       "      <td>binary 0/1</td>\n",
       "      <td>16360</td>\n",
       "      <td>delegacion_inicio</td>\n",
       "      <td>VENUSTIANO CARRANZA</td>\n",
       "      <td>968</td>\n",
       "      <td>27261</td>\n",
       "      <td>617</td>\n",
       "      <td>5077</td>\n",
       "      <td>22184</td>\n",
       "      <td>351</td>\n",
       "      <td>5428</td>\n",
       "      <td>22801</td>\n",
       "      <td>28229</td>\n",
       "      <td>414942</td>\n",
       "    </tr>\n",
       "    <tr>\n",
       "      <th>15</th>\n",
       "      <td>0</td>\n",
       "      <td>binary 0/1</td>\n",
       "      <td>16360</td>\n",
       "      <td>delegacion_inicio</td>\n",
       "      <td>XOCHIMILCO</td>\n",
       "      <td>593</td>\n",
       "      <td>15192</td>\n",
       "      <td>340</td>\n",
       "      <td>3539</td>\n",
       "      <td>11653</td>\n",
       "      <td>253</td>\n",
       "      <td>3792</td>\n",
       "      <td>11993</td>\n",
       "      <td>15785</td>\n",
       "      <td>414942</td>\n",
       "    </tr>\n",
       "  </tbody>\n",
       "</table>\n",
       "</div>"
      ],
      "text/plain": [
       "    model_id score_threshold      k     attribute_name      attribute_value  \\\n",
       "0          0      binary 0/1  16360  delegacion_inicio       ALVARO OBREGON   \n",
       "1          0      binary 0/1  16360  delegacion_inicio         AZCAPOTZALCO   \n",
       "2          0      binary 0/1  16360  delegacion_inicio        BENITO JUAREZ   \n",
       "3          0      binary 0/1  16360  delegacion_inicio             COYOACAN   \n",
       "4          0      binary 0/1  16360  delegacion_inicio           CUAJIMALPA   \n",
       "5          0      binary 0/1  16360  delegacion_inicio           CUAUHTEMOC   \n",
       "6          0      binary 0/1  16360  delegacion_inicio    GUSTAVO A. MADERO   \n",
       "7          0      binary 0/1  16360  delegacion_inicio            IZTACALCO   \n",
       "8          0      binary 0/1  16360  delegacion_inicio           IZTAPALAPA   \n",
       "9          0      binary 0/1  16360  delegacion_inicio  MAGDALENA CONTRERAS   \n",
       "10         0      binary 0/1  16360  delegacion_inicio       MIGUEL HIDALGO   \n",
       "11         0      binary 0/1  16360  delegacion_inicio           MILPA ALTA   \n",
       "12         0      binary 0/1  16360  delegacion_inicio              TLAHUAC   \n",
       "13         0      binary 0/1  16360  delegacion_inicio              TLALPAN   \n",
       "14         0      binary 0/1  16360  delegacion_inicio  VENUSTIANO CARRANZA   \n",
       "15         0      binary 0/1  16360  delegacion_inicio           XOCHIMILCO   \n",
       "\n",
       "      pp     pn    fp     fn     tn    tp  group_label_pos  group_label_neg  \\\n",
       "0   1321  29130   885   6378  22752   436             6814            23637   \n",
       "1    634  17610   489   2778  14832   145             2923            15321   \n",
       "2   1280  30147   850   5032  25115   430             5462            25965   \n",
       "3   1473  31359   920   6587  24772   553             7140            25692   \n",
       "4    333   7655   206   2380   5275   127             2507             5481   \n",
       "5   1337  41180   960   5799  35381   377             6176            36341   \n",
       "6   1756  41539  1208   7834  33705   548             8382            34913   \n",
       "7    639  17131   460   3132  13999   179             3311            14459   \n",
       "8   2669  64457  1666  14022  50435  1003            15025            52101   \n",
       "9    221   5767   120   1607   4160   101             1708             4280   \n",
       "10  1684  33162  1170   6310  26852   514             6824            28022   \n",
       "11    67   2049    34    446   1603    33              479             1637   \n",
       "12   356   9661   215   2158   7503   141             2299             7718   \n",
       "13  1029  25234   571   5957  19277   458             6415            19848   \n",
       "14   968  27261   617   5077  22184   351             5428            22801   \n",
       "15   593  15192   340   3539  11653   253             3792            11993   \n",
       "\n",
       "    group_size  total_entities  \n",
       "0        30451          414942  \n",
       "1        18244          414942  \n",
       "2        31427          414942  \n",
       "3        32832          414942  \n",
       "4         7988          414942  \n",
       "5        42517          414942  \n",
       "6        43295          414942  \n",
       "7        17770          414942  \n",
       "8        67126          414942  \n",
       "9         5988          414942  \n",
       "10       34846          414942  \n",
       "11        2116          414942  \n",
       "12       10017          414942  \n",
       "13       26263          414942  \n",
       "14       28229          414942  \n",
       "15       15785          414942  "
      ]
     },
     "execution_count": 52,
     "metadata": {},
     "output_type": "execute_result"
    }
   ],
   "source": [
    "conteos_grupo"
   ]
  },
  {
   "cell_type": "code",
   "execution_count": 53,
   "metadata": {},
   "outputs": [
    {
     "data": {
      "text/html": [
       "<div>\n",
       "<style scoped>\n",
       "    .dataframe tbody tr th:only-of-type {\n",
       "        vertical-align: middle;\n",
       "    }\n",
       "\n",
       "    .dataframe tbody tr th {\n",
       "        vertical-align: top;\n",
       "    }\n",
       "\n",
       "    .dataframe thead th {\n",
       "        text-align: right;\n",
       "    }\n",
       "</style>\n",
       "<table border=\"1\" class=\"dataframe\">\n",
       "  <thead>\n",
       "    <tr style=\"text-align: right;\">\n",
       "      <th></th>\n",
       "      <th>attribute_name</th>\n",
       "      <th>attribute_value</th>\n",
       "      <th>tpr</th>\n",
       "      <th>tnr</th>\n",
       "      <th>for</th>\n",
       "      <th>fdr</th>\n",
       "      <th>fpr</th>\n",
       "      <th>fnr</th>\n",
       "      <th>npv</th>\n",
       "      <th>precision</th>\n",
       "      <th>ppr</th>\n",
       "      <th>pprev</th>\n",
       "      <th>prev</th>\n",
       "    </tr>\n",
       "  </thead>\n",
       "  <tbody>\n",
       "    <tr>\n",
       "      <th>0</th>\n",
       "      <td>delegacion_inicio</td>\n",
       "      <td>ALVARO OBREGON</td>\n",
       "      <td>0.06</td>\n",
       "      <td>0.96</td>\n",
       "      <td>0.22</td>\n",
       "      <td>0.67</td>\n",
       "      <td>0.04</td>\n",
       "      <td>0.94</td>\n",
       "      <td>0.78</td>\n",
       "      <td>0.33</td>\n",
       "      <td>0.08</td>\n",
       "      <td>0.04</td>\n",
       "      <td>0.22</td>\n",
       "    </tr>\n",
       "    <tr>\n",
       "      <th>1</th>\n",
       "      <td>delegacion_inicio</td>\n",
       "      <td>AZCAPOTZALCO</td>\n",
       "      <td>0.05</td>\n",
       "      <td>0.97</td>\n",
       "      <td>0.16</td>\n",
       "      <td>0.77</td>\n",
       "      <td>0.03</td>\n",
       "      <td>0.95</td>\n",
       "      <td>0.84</td>\n",
       "      <td>0.23</td>\n",
       "      <td>0.04</td>\n",
       "      <td>0.03</td>\n",
       "      <td>0.16</td>\n",
       "    </tr>\n",
       "    <tr>\n",
       "      <th>2</th>\n",
       "      <td>delegacion_inicio</td>\n",
       "      <td>BENITO JUAREZ</td>\n",
       "      <td>0.08</td>\n",
       "      <td>0.97</td>\n",
       "      <td>0.17</td>\n",
       "      <td>0.66</td>\n",
       "      <td>0.03</td>\n",
       "      <td>0.92</td>\n",
       "      <td>0.83</td>\n",
       "      <td>0.34</td>\n",
       "      <td>0.08</td>\n",
       "      <td>0.04</td>\n",
       "      <td>0.17</td>\n",
       "    </tr>\n",
       "    <tr>\n",
       "      <th>3</th>\n",
       "      <td>delegacion_inicio</td>\n",
       "      <td>COYOACAN</td>\n",
       "      <td>0.08</td>\n",
       "      <td>0.96</td>\n",
       "      <td>0.21</td>\n",
       "      <td>0.62</td>\n",
       "      <td>0.04</td>\n",
       "      <td>0.92</td>\n",
       "      <td>0.79</td>\n",
       "      <td>0.38</td>\n",
       "      <td>0.09</td>\n",
       "      <td>0.04</td>\n",
       "      <td>0.22</td>\n",
       "    </tr>\n",
       "    <tr>\n",
       "      <th>4</th>\n",
       "      <td>delegacion_inicio</td>\n",
       "      <td>CUAJIMALPA</td>\n",
       "      <td>0.05</td>\n",
       "      <td>0.96</td>\n",
       "      <td>0.31</td>\n",
       "      <td>0.62</td>\n",
       "      <td>0.04</td>\n",
       "      <td>0.95</td>\n",
       "      <td>0.69</td>\n",
       "      <td>0.38</td>\n",
       "      <td>0.02</td>\n",
       "      <td>0.04</td>\n",
       "      <td>0.31</td>\n",
       "    </tr>\n",
       "    <tr>\n",
       "      <th>5</th>\n",
       "      <td>delegacion_inicio</td>\n",
       "      <td>CUAUHTEMOC</td>\n",
       "      <td>0.06</td>\n",
       "      <td>0.97</td>\n",
       "      <td>0.14</td>\n",
       "      <td>0.72</td>\n",
       "      <td>0.03</td>\n",
       "      <td>0.94</td>\n",
       "      <td>0.86</td>\n",
       "      <td>0.28</td>\n",
       "      <td>0.08</td>\n",
       "      <td>0.03</td>\n",
       "      <td>0.15</td>\n",
       "    </tr>\n",
       "    <tr>\n",
       "      <th>6</th>\n",
       "      <td>delegacion_inicio</td>\n",
       "      <td>GUSTAVO A. MADERO</td>\n",
       "      <td>0.07</td>\n",
       "      <td>0.97</td>\n",
       "      <td>0.19</td>\n",
       "      <td>0.69</td>\n",
       "      <td>0.03</td>\n",
       "      <td>0.93</td>\n",
       "      <td>0.81</td>\n",
       "      <td>0.31</td>\n",
       "      <td>0.11</td>\n",
       "      <td>0.04</td>\n",
       "      <td>0.19</td>\n",
       "    </tr>\n",
       "    <tr>\n",
       "      <th>7</th>\n",
       "      <td>delegacion_inicio</td>\n",
       "      <td>IZTACALCO</td>\n",
       "      <td>0.05</td>\n",
       "      <td>0.97</td>\n",
       "      <td>0.18</td>\n",
       "      <td>0.72</td>\n",
       "      <td>0.03</td>\n",
       "      <td>0.95</td>\n",
       "      <td>0.82</td>\n",
       "      <td>0.28</td>\n",
       "      <td>0.04</td>\n",
       "      <td>0.04</td>\n",
       "      <td>0.19</td>\n",
       "    </tr>\n",
       "    <tr>\n",
       "      <th>8</th>\n",
       "      <td>delegacion_inicio</td>\n",
       "      <td>IZTAPALAPA</td>\n",
       "      <td>0.07</td>\n",
       "      <td>0.97</td>\n",
       "      <td>0.22</td>\n",
       "      <td>0.62</td>\n",
       "      <td>0.03</td>\n",
       "      <td>0.93</td>\n",
       "      <td>0.78</td>\n",
       "      <td>0.38</td>\n",
       "      <td>0.16</td>\n",
       "      <td>0.04</td>\n",
       "      <td>0.22</td>\n",
       "    </tr>\n",
       "    <tr>\n",
       "      <th>9</th>\n",
       "      <td>delegacion_inicio</td>\n",
       "      <td>MAGDALENA CONTRERAS</td>\n",
       "      <td>0.06</td>\n",
       "      <td>0.97</td>\n",
       "      <td>0.28</td>\n",
       "      <td>0.54</td>\n",
       "      <td>0.03</td>\n",
       "      <td>0.94</td>\n",
       "      <td>0.72</td>\n",
       "      <td>0.46</td>\n",
       "      <td>0.01</td>\n",
       "      <td>0.04</td>\n",
       "      <td>0.29</td>\n",
       "    </tr>\n",
       "    <tr>\n",
       "      <th>10</th>\n",
       "      <td>delegacion_inicio</td>\n",
       "      <td>MIGUEL HIDALGO</td>\n",
       "      <td>0.08</td>\n",
       "      <td>0.96</td>\n",
       "      <td>0.19</td>\n",
       "      <td>0.69</td>\n",
       "      <td>0.04</td>\n",
       "      <td>0.92</td>\n",
       "      <td>0.81</td>\n",
       "      <td>0.31</td>\n",
       "      <td>0.10</td>\n",
       "      <td>0.05</td>\n",
       "      <td>0.20</td>\n",
       "    </tr>\n",
       "    <tr>\n",
       "      <th>11</th>\n",
       "      <td>delegacion_inicio</td>\n",
       "      <td>MILPA ALTA</td>\n",
       "      <td>0.07</td>\n",
       "      <td>0.98</td>\n",
       "      <td>0.22</td>\n",
       "      <td>0.51</td>\n",
       "      <td>0.02</td>\n",
       "      <td>0.93</td>\n",
       "      <td>0.78</td>\n",
       "      <td>0.49</td>\n",
       "      <td>0.00</td>\n",
       "      <td>0.03</td>\n",
       "      <td>0.23</td>\n",
       "    </tr>\n",
       "    <tr>\n",
       "      <th>12</th>\n",
       "      <td>delegacion_inicio</td>\n",
       "      <td>TLAHUAC</td>\n",
       "      <td>0.06</td>\n",
       "      <td>0.97</td>\n",
       "      <td>0.22</td>\n",
       "      <td>0.60</td>\n",
       "      <td>0.03</td>\n",
       "      <td>0.94</td>\n",
       "      <td>0.78</td>\n",
       "      <td>0.40</td>\n",
       "      <td>0.02</td>\n",
       "      <td>0.04</td>\n",
       "      <td>0.23</td>\n",
       "    </tr>\n",
       "    <tr>\n",
       "      <th>13</th>\n",
       "      <td>delegacion_inicio</td>\n",
       "      <td>TLALPAN</td>\n",
       "      <td>0.07</td>\n",
       "      <td>0.97</td>\n",
       "      <td>0.24</td>\n",
       "      <td>0.55</td>\n",
       "      <td>0.03</td>\n",
       "      <td>0.93</td>\n",
       "      <td>0.76</td>\n",
       "      <td>0.45</td>\n",
       "      <td>0.06</td>\n",
       "      <td>0.04</td>\n",
       "      <td>0.24</td>\n",
       "    </tr>\n",
       "    <tr>\n",
       "      <th>14</th>\n",
       "      <td>delegacion_inicio</td>\n",
       "      <td>VENUSTIANO CARRANZA</td>\n",
       "      <td>0.06</td>\n",
       "      <td>0.97</td>\n",
       "      <td>0.19</td>\n",
       "      <td>0.64</td>\n",
       "      <td>0.03</td>\n",
       "      <td>0.94</td>\n",
       "      <td>0.81</td>\n",
       "      <td>0.36</td>\n",
       "      <td>0.06</td>\n",
       "      <td>0.03</td>\n",
       "      <td>0.19</td>\n",
       "    </tr>\n",
       "    <tr>\n",
       "      <th>15</th>\n",
       "      <td>delegacion_inicio</td>\n",
       "      <td>XOCHIMILCO</td>\n",
       "      <td>0.07</td>\n",
       "      <td>0.97</td>\n",
       "      <td>0.23</td>\n",
       "      <td>0.57</td>\n",
       "      <td>0.03</td>\n",
       "      <td>0.93</td>\n",
       "      <td>0.77</td>\n",
       "      <td>0.43</td>\n",
       "      <td>0.04</td>\n",
       "      <td>0.04</td>\n",
       "      <td>0.24</td>\n",
       "    </tr>\n",
       "  </tbody>\n",
       "</table>\n",
       "</div>"
      ],
      "text/plain": [
       "       attribute_name      attribute_value   tpr   tnr   for   fdr   fpr  \\\n",
       "0   delegacion_inicio       ALVARO OBREGON  0.06  0.96  0.22  0.67  0.04   \n",
       "1   delegacion_inicio         AZCAPOTZALCO  0.05  0.97  0.16  0.77  0.03   \n",
       "2   delegacion_inicio        BENITO JUAREZ  0.08  0.97  0.17  0.66  0.03   \n",
       "3   delegacion_inicio             COYOACAN  0.08  0.96  0.21  0.62  0.04   \n",
       "4   delegacion_inicio           CUAJIMALPA  0.05  0.96  0.31  0.62  0.04   \n",
       "5   delegacion_inicio           CUAUHTEMOC  0.06  0.97  0.14  0.72  0.03   \n",
       "6   delegacion_inicio    GUSTAVO A. MADERO  0.07  0.97  0.19  0.69  0.03   \n",
       "7   delegacion_inicio            IZTACALCO  0.05  0.97  0.18  0.72  0.03   \n",
       "8   delegacion_inicio           IZTAPALAPA  0.07  0.97  0.22  0.62  0.03   \n",
       "9   delegacion_inicio  MAGDALENA CONTRERAS  0.06  0.97  0.28  0.54  0.03   \n",
       "10  delegacion_inicio       MIGUEL HIDALGO  0.08  0.96  0.19  0.69  0.04   \n",
       "11  delegacion_inicio           MILPA ALTA  0.07  0.98  0.22  0.51  0.02   \n",
       "12  delegacion_inicio              TLAHUAC  0.06  0.97  0.22  0.60  0.03   \n",
       "13  delegacion_inicio              TLALPAN  0.07  0.97  0.24  0.55  0.03   \n",
       "14  delegacion_inicio  VENUSTIANO CARRANZA  0.06  0.97  0.19  0.64  0.03   \n",
       "15  delegacion_inicio           XOCHIMILCO  0.07  0.97  0.23  0.57  0.03   \n",
       "\n",
       "     fnr   npv  precision   ppr  pprev  prev  \n",
       "0   0.94  0.78       0.33  0.08   0.04  0.22  \n",
       "1   0.95  0.84       0.23  0.04   0.03  0.16  \n",
       "2   0.92  0.83       0.34  0.08   0.04  0.17  \n",
       "3   0.92  0.79       0.38  0.09   0.04  0.22  \n",
       "4   0.95  0.69       0.38  0.02   0.04  0.31  \n",
       "5   0.94  0.86       0.28  0.08   0.03  0.15  \n",
       "6   0.93  0.81       0.31  0.11   0.04  0.19  \n",
       "7   0.95  0.82       0.28  0.04   0.04  0.19  \n",
       "8   0.93  0.78       0.38  0.16   0.04  0.22  \n",
       "9   0.94  0.72       0.46  0.01   0.04  0.29  \n",
       "10  0.92  0.81       0.31  0.10   0.05  0.20  \n",
       "11  0.93  0.78       0.49  0.00   0.03  0.23  \n",
       "12  0.94  0.78       0.40  0.02   0.04  0.23  \n",
       "13  0.93  0.76       0.45  0.06   0.04  0.24  \n",
       "14  0.94  0.81       0.36  0.06   0.03  0.19  \n",
       "15  0.93  0.77       0.43  0.04   0.04  0.24  "
      ]
     },
     "execution_count": 53,
     "metadata": {},
     "output_type": "execute_result"
    }
   ],
   "source": [
    "metricas_absolutas"
   ]
  },
  {
   "cell_type": "code",
   "execution_count": 59,
   "metadata": {},
   "outputs": [
    {
     "data": {
      "image/png": "[encoded data removed]",
      "text/plain": [
       "<Figure size 720x360 with 1 Axes>"
      ]
     },
     "metadata": {
      "needs_background": "light"
     },
     "output_type": "display_data"
    }
   ],
   "source": [
    "aeq = Plot()\n",
    "fdr = aeq.plot_group_metric(xtab, 'fdr')"
   ]
  },
  {
   "cell_type": "code",
   "execution_count": 61,
   "metadata": {},
   "outputs": [
    {
     "data": {
      "image/png": "[encoded data removed]",
      "text/plain": [
       "<Figure size 720x360 with 1 Axes>"
      ]
     },
     "metadata": {
      "needs_background": "light"
     },
     "output_type": "display_data"
    }
   ],
   "source": [
    "fdr = aeq.plot_group_metric(xtab, 'fpr')"
   ]
  },
  {
   "cell_type": "code",
   "execution_count": 62,
   "metadata": {},
   "outputs": [
    {
     "data": {
      "image/png": "[encoded data removed]",
      "text/plain": [
       "<Figure size 720x360 with 1 Axes>"
      ]
     },
     "metadata": {
      "needs_background": "light"
     },
     "output_type": "display_data"
    }
   ],
   "source": [
    "fdr = aeq.plot_group_metric(xtab, 'fnr')"
   ]
  },
  {
   "cell_type": "code",
   "execution_count": 63,
   "metadata": {},
   "outputs": [],
   "source": [
    "bias = Bias()"
   ]
  },
  {
   "cell_type": "code",
   "execution_count": 64,
   "metadata": {},
   "outputs": [
    {
     "name": "stdout",
     "output_type": "stream",
     "text": [
      "get_disparity_predefined_group()\n"
     ]
    }
   ],
   "source": [
    "bdf = bias.get_disparity_predefined_groups(xtab, original_df=df_aeq, \n",
    "                                        ref_groups_dict={'delegacion_inicio':'IZTAPALAPA'}, \n",
    "                                        alpha=0.05, check_significance=True, \n",
    "                                        mask_significance=True)"
   ]
  },
  {
   "cell_type": "code",
   "execution_count": null,
   "metadata": {},
   "outputs": [],
   "source": []
  },
  {
   "cell_type": "code",
   "execution_count": 37,
   "metadata": {},
   "outputs": [
    {
     "name": "stdout",
     "output_type": "stream",
     "text": [
      "get_disparity_predefined_group()\n"
     ]
    },
    {
     "ename": "KeyError",
     "evalue": "'binary_score'",
     "output_type": "error",
     "traceback": [
      "\u001b[0;31m---------------------------------------------------------------------------\u001b[0m",
      "\u001b[0;31mKeyError\u001b[0m                                  Traceback (most recent call last)",
      "\u001b[0;32m<ipython-input-37-d6acd7b29c10>\u001b[0m in \u001b[0;36m<module>\u001b[0;34m\u001b[0m\n\u001b[1;32m     11\u001b[0m                                     \u001b[0mref_groups_dict\u001b[0m\u001b[0;34m=\u001b[0m\u001b[0;34m{\u001b[0m\u001b[0;34m'delegacion_inicio'\u001b[0m\u001b[0;34m:\u001b[0m\u001b[0;34m'IZTAPALAPA'\u001b[0m\u001b[0;34m}\u001b[0m\u001b[0;34m,\u001b[0m\u001b[0;34m\u001b[0m\u001b[0;34m\u001b[0m\u001b[0m\n\u001b[1;32m     12\u001b[0m                                     \u001b[0malpha\u001b[0m\u001b[0;34m=\u001b[0m\u001b[0;36m0.05\u001b[0m\u001b[0;34m,\u001b[0m \u001b[0mcheck_significance\u001b[0m\u001b[0;34m=\u001b[0m\u001b[0;32mTrue\u001b[0m\u001b[0;34m,\u001b[0m\u001b[0;34m\u001b[0m\u001b[0;34m\u001b[0m\u001b[0m\n\u001b[0;32m---> 13\u001b[0;31m                                     mask_significance=True)\n\u001b[0m\u001b[1;32m     14\u001b[0m \u001b[0mbdf\u001b[0m\u001b[0;34m[\u001b[0m\u001b[0;34m[\u001b[0m\u001b[0;34m'attribute_name'\u001b[0m\u001b[0;34m,\u001b[0m \u001b[0;34m'attribute_value'\u001b[0m\u001b[0;34m]\u001b[0m \u001b[0;34m+\u001b[0m \u001b[0mbias\u001b[0m\u001b[0;34m.\u001b[0m\u001b[0mlist_disparities\u001b[0m\u001b[0;34m(\u001b[0m\u001b[0mbdf\u001b[0m\u001b[0;34m)\u001b[0m\u001b[0;34m]\u001b[0m\u001b[0;34m.\u001b[0m\u001b[0mround\u001b[0m\u001b[0;34m(\u001b[0m\u001b[0;36m2\u001b[0m\u001b[0;34m)\u001b[0m\u001b[0;34m\u001b[0m\u001b[0;34m\u001b[0m\u001b[0m\n\u001b[1;32m     15\u001b[0m \u001b[0;34m\u001b[0m\u001b[0m\n",
      "\u001b[0;32m~/.pyenv/versions/itam_intro_to_ds/lib/python3.7/site-packages/aequitas/bias.py\u001b[0m in \u001b[0;36mget_disparity_predefined_groups\u001b[0;34m(self, df, original_df, ref_groups_dict, key_columns, input_group_metrics, fill_divbyzero, check_significance, alpha, mask_significance, selected_significance)\u001b[0m\n\u001b[1;32m    439\u001b[0m             self._get_statistical_significance(\n\u001b[1;32m    440\u001b[0m                 \u001b[0moriginal_df\u001b[0m\u001b[0;34m,\u001b[0m \u001b[0mdf\u001b[0m\u001b[0;34m,\u001b[0m \u001b[0mref_dict\u001b[0m\u001b[0;34m=\u001b[0m\u001b[0mfull_ref_dict\u001b[0m\u001b[0;34m,\u001b[0m \u001b[0mscore_thresholds\u001b[0m\u001b[0;34m=\u001b[0m\u001b[0;32mNone\u001b[0m\u001b[0;34m,\u001b[0m\u001b[0;34m\u001b[0m\u001b[0;34m\u001b[0m\u001b[0m\n\u001b[0;32m--> 441\u001b[0;31m                 attr_cols=None, alpha=5e-2, selected_significance=selected_significance)\n\u001b[0m\u001b[1;32m    442\u001b[0m \u001b[0;34m\u001b[0m\u001b[0m\n\u001b[1;32m    443\u001b[0m             \u001b[0;31m# if specified, apply T/F mask to significance columns\u001b[0m\u001b[0;34m\u001b[0m\u001b[0;34m\u001b[0m\u001b[0;34m\u001b[0m\u001b[0m\n",
      "\u001b[0;32m~/.pyenv/versions/itam_intro_to_ds/lib/python3.7/site-packages/aequitas/bias.py\u001b[0m in \u001b[0;36m_get_statistical_significance\u001b[0;34m(cls, original_df, disparity_df, ref_dict, score_thresholds, attr_cols, alpha, selected_significance)\u001b[0m\n\u001b[1;32m    787\u001b[0m                     cls._calculate_significance(original_df, disparity_df,\n\u001b[1;32m    788\u001b[0m                                                 \u001b[0mattribute\u001b[0m\u001b[0;34m,\u001b[0m \u001b[0mmeasure\u001b[0m\u001b[0;34m,\u001b[0m \u001b[0mref_dict\u001b[0m\u001b[0;34m=\u001b[0m\u001b[0mref_dict\u001b[0m\u001b[0;34m,\u001b[0m\u001b[0;34m\u001b[0m\u001b[0;34m\u001b[0m\u001b[0m\n\u001b[0;32m--> 789\u001b[0;31m                                                 alpha=alpha)\n\u001b[0m\u001b[1;32m    790\u001b[0m         \u001b[0;32mreturn\u001b[0m \u001b[0mdisparity_df\u001b[0m\u001b[0;34m\u001b[0m\u001b[0;34m\u001b[0m\u001b[0m\n\u001b[1;32m    791\u001b[0m \u001b[0;34m\u001b[0m\u001b[0m\n",
      "\u001b[0;32m~/.pyenv/versions/itam_intro_to_ds/lib/python3.7/site-packages/aequitas/bias.py\u001b[0m in \u001b[0;36m_calculate_significance\u001b[0;34m(cls, original_df, disparity_df, attribute, measure, ref_dict, alpha)\u001b[0m\n\u001b[1;32m    586\u001b[0m                             }\n\u001b[1;32m    587\u001b[0m \u001b[0;34m\u001b[0m\u001b[0m\n\u001b[0;32m--> 588\u001b[0;31m         \u001b[0mref_group\u001b[0m \u001b[0;34m=\u001b[0m \u001b[0mref_dict\u001b[0m\u001b[0;34m[\u001b[0m\u001b[0mattribute\u001b[0m\u001b[0;34m]\u001b[0m\u001b[0;34m[\u001b[0m\u001b[0mbinaries_lookup\u001b[0m\u001b[0;34m.\u001b[0m\u001b[0mget\u001b[0m\u001b[0;34m(\u001b[0m\u001b[0mmeasure\u001b[0m\u001b[0;34m)\u001b[0m\u001b[0;34m]\u001b[0m\u001b[0;34m\u001b[0m\u001b[0;34m\u001b[0m\u001b[0m\n\u001b[0m\u001b[1;32m    589\u001b[0m \u001b[0;34m\u001b[0m\u001b[0m\n\u001b[1;32m    590\u001b[0m         \u001b[0;31m# create dictionary of \"samples\" (binary values for false positive,\u001b[0m\u001b[0;34m\u001b[0m\u001b[0;34m\u001b[0m\u001b[0;34m\u001b[0m\u001b[0m\n",
      "\u001b[0;31mKeyError\u001b[0m: 'binary_score'"
     ]
    }
   ],
   "source": [
    "#def bias(df_aeq): \n",
    "#    \"\"\"\n",
    "#     args:\n",
    "#        df (dataframe): Recibe el data frame que tiene los features sobre los que queremos medir la disparidad\n",
    "#     returns:\n",
    "#        -\n",
    "#   \"\"\"\n",
    "bias = Bias()\n",
    "bdf = bias.get_disparity_predefined_groups(xtab, \n",
    "                                           original_df=df_aeq, \n",
    "                                    ref_groups_dict={'delegacion_inicio':'IZTAPALAPA'}, \n",
    "                                    alpha=0.05, check_significance=True, \n",
    "                                    mask_significance=True)\n",
    "bdf[['attribute_name', 'attribute_value'] + bias.list_disparities(bdf)].round(2)\n",
    "\n",
    "#return bdf, m_disparity"
   ]
  },
  {
   "cell_type": "code",
   "execution_count": 36,
   "metadata": {},
   "outputs": [
    {
     "name": "stdout",
     "output_type": "stream",
     "text": [
      "get_disparity_predefined_group()\n"
     ]
    },
    {
     "ename": "KeyError",
     "evalue": "'binary_score'",
     "output_type": "error",
     "traceback": [
      "\u001b[0;31m---------------------------------------------------------------------------\u001b[0m",
      "\u001b[0;31mKeyError\u001b[0m                                  Traceback (most recent call last)",
      "\u001b[0;32m<ipython-input-36-bf842e0638eb>\u001b[0m in \u001b[0;36m<module>\u001b[0;34m\u001b[0m\n\u001b[0;32m----> 1\u001b[0;31m \u001b[0mbdf\u001b[0m\u001b[0;34m,\u001b[0m \u001b[0mm_disparity\u001b[0m\u001b[0;34m=\u001b[0m\u001b[0mbias\u001b[0m\u001b[0;34m(\u001b[0m\u001b[0mdf_aeq\u001b[0m\u001b[0;34m)\u001b[0m\u001b[0;34m\u001b[0m\u001b[0;34m\u001b[0m\u001b[0m\n\u001b[0m",
      "\u001b[0;32m<ipython-input-34-29f6a92810a7>\u001b[0m in \u001b[0;36mbias\u001b[0;34m(df_aeq)\u001b[0m\n\u001b[1;32m     11\u001b[0m                                         \u001b[0mref_groups_dict\u001b[0m\u001b[0;34m=\u001b[0m\u001b[0;34m{\u001b[0m\u001b[0;34m'delegacion_inicio'\u001b[0m\u001b[0;34m:\u001b[0m\u001b[0;34m'IZTAPALAPA'\u001b[0m\u001b[0;34m}\u001b[0m\u001b[0;34m,\u001b[0m\u001b[0;34m\u001b[0m\u001b[0;34m\u001b[0m\u001b[0m\n\u001b[1;32m     12\u001b[0m                                         \u001b[0malpha\u001b[0m\u001b[0;34m=\u001b[0m\u001b[0;36m0.05\u001b[0m\u001b[0;34m,\u001b[0m \u001b[0mcheck_significance\u001b[0m\u001b[0;34m=\u001b[0m\u001b[0;32mTrue\u001b[0m\u001b[0;34m,\u001b[0m\u001b[0;34m\u001b[0m\u001b[0;34m\u001b[0m\u001b[0m\n\u001b[0;32m---> 13\u001b[0;31m                                         mask_significance=True)\n\u001b[0m\u001b[1;32m     14\u001b[0m     \u001b[0mbdf\u001b[0m\u001b[0;34m[\u001b[0m\u001b[0;34m[\u001b[0m\u001b[0;34m'attribute_name'\u001b[0m\u001b[0;34m,\u001b[0m \u001b[0;34m'attribute_value'\u001b[0m\u001b[0;34m]\u001b[0m \u001b[0;34m+\u001b[0m \u001b[0mbias\u001b[0m\u001b[0;34m.\u001b[0m\u001b[0mlist_disparities\u001b[0m\u001b[0;34m(\u001b[0m\u001b[0mbdf\u001b[0m\u001b[0;34m)\u001b[0m\u001b[0;34m]\u001b[0m\u001b[0;34m.\u001b[0m\u001b[0mround\u001b[0m\u001b[0;34m(\u001b[0m\u001b[0;36m2\u001b[0m\u001b[0;34m)\u001b[0m\u001b[0;34m\u001b[0m\u001b[0;34m\u001b[0m\u001b[0m\n\u001b[1;32m     15\u001b[0m \u001b[0;34m\u001b[0m\u001b[0m\n",
      "\u001b[0;32m~/.pyenv/versions/itam_intro_to_ds/lib/python3.7/site-packages/aequitas/bias.py\u001b[0m in \u001b[0;36mget_disparity_predefined_groups\u001b[0;34m(self, df, original_df, ref_groups_dict, key_columns, input_group_metrics, fill_divbyzero, check_significance, alpha, mask_significance, selected_significance)\u001b[0m\n\u001b[1;32m    439\u001b[0m             self._get_statistical_significance(\n\u001b[1;32m    440\u001b[0m                 \u001b[0moriginal_df\u001b[0m\u001b[0;34m,\u001b[0m \u001b[0mdf\u001b[0m\u001b[0;34m,\u001b[0m \u001b[0mref_dict\u001b[0m\u001b[0;34m=\u001b[0m\u001b[0mfull_ref_dict\u001b[0m\u001b[0;34m,\u001b[0m \u001b[0mscore_thresholds\u001b[0m\u001b[0;34m=\u001b[0m\u001b[0;32mNone\u001b[0m\u001b[0;34m,\u001b[0m\u001b[0;34m\u001b[0m\u001b[0;34m\u001b[0m\u001b[0m\n\u001b[0;32m--> 441\u001b[0;31m                 attr_cols=None, alpha=5e-2, selected_significance=selected_significance)\n\u001b[0m\u001b[1;32m    442\u001b[0m \u001b[0;34m\u001b[0m\u001b[0m\n\u001b[1;32m    443\u001b[0m             \u001b[0;31m# if specified, apply T/F mask to significance columns\u001b[0m\u001b[0;34m\u001b[0m\u001b[0;34m\u001b[0m\u001b[0;34m\u001b[0m\u001b[0m\n",
      "\u001b[0;32m~/.pyenv/versions/itam_intro_to_ds/lib/python3.7/site-packages/aequitas/bias.py\u001b[0m in \u001b[0;36m_get_statistical_significance\u001b[0;34m(cls, original_df, disparity_df, ref_dict, score_thresholds, attr_cols, alpha, selected_significance)\u001b[0m\n\u001b[1;32m    787\u001b[0m                     cls._calculate_significance(original_df, disparity_df,\n\u001b[1;32m    788\u001b[0m                                                 \u001b[0mattribute\u001b[0m\u001b[0;34m,\u001b[0m \u001b[0mmeasure\u001b[0m\u001b[0;34m,\u001b[0m \u001b[0mref_dict\u001b[0m\u001b[0;34m=\u001b[0m\u001b[0mref_dict\u001b[0m\u001b[0;34m,\u001b[0m\u001b[0;34m\u001b[0m\u001b[0;34m\u001b[0m\u001b[0m\n\u001b[0;32m--> 789\u001b[0;31m                                                 alpha=alpha)\n\u001b[0m\u001b[1;32m    790\u001b[0m         \u001b[0;32mreturn\u001b[0m \u001b[0mdisparity_df\u001b[0m\u001b[0;34m\u001b[0m\u001b[0;34m\u001b[0m\u001b[0m\n\u001b[1;32m    791\u001b[0m \u001b[0;34m\u001b[0m\u001b[0m\n",
      "\u001b[0;32m~/.pyenv/versions/itam_intro_to_ds/lib/python3.7/site-packages/aequitas/bias.py\u001b[0m in \u001b[0;36m_calculate_significance\u001b[0;34m(cls, original_df, disparity_df, attribute, measure, ref_dict, alpha)\u001b[0m\n\u001b[1;32m    586\u001b[0m                             }\n\u001b[1;32m    587\u001b[0m \u001b[0;34m\u001b[0m\u001b[0m\n\u001b[0;32m--> 588\u001b[0;31m         \u001b[0mref_group\u001b[0m \u001b[0;34m=\u001b[0m \u001b[0mref_dict\u001b[0m\u001b[0;34m[\u001b[0m\u001b[0mattribute\u001b[0m\u001b[0;34m]\u001b[0m\u001b[0;34m[\u001b[0m\u001b[0mbinaries_lookup\u001b[0m\u001b[0;34m.\u001b[0m\u001b[0mget\u001b[0m\u001b[0;34m(\u001b[0m\u001b[0mmeasure\u001b[0m\u001b[0;34m)\u001b[0m\u001b[0;34m]\u001b[0m\u001b[0;34m\u001b[0m\u001b[0;34m\u001b[0m\u001b[0m\n\u001b[0m\u001b[1;32m    589\u001b[0m \u001b[0;34m\u001b[0m\u001b[0m\n\u001b[1;32m    590\u001b[0m         \u001b[0;31m# create dictionary of \"samples\" (binary values for false positive,\u001b[0m\u001b[0;34m\u001b[0m\u001b[0;34m\u001b[0m\u001b[0;34m\u001b[0m\u001b[0m\n",
      "\u001b[0;31mKeyError\u001b[0m: 'binary_score'"
     ]
    }
   ],
   "source": [
    "bdf, m_disparity=bias(df_aeq)"
   ]
  },
  {
   "cell_type": "code",
   "execution_count": null,
   "metadata": {},
   "outputs": [],
   "source": [
    "aeq = Plot()\n",
    "m_disparity = aeq.plot_disparity_all(majority_bdf,  \n",
    "                                     metrics=['fpr','fdr','fnr'], \n",
    "                                     significance_alpha=0.05)"
   ]
  }
 ],
 "metadata": {
  "kernelspec": {
   "display_name": "itam_intro_to_ds",
   "language": "python",
   "name": "itam_intro_to_ds"
  },
  "language_info": {
   "codemirror_mode": {
    "name": "ipython",
    "version": 3
   },
   "file_extension": ".py",
   "mimetype": "text/x-python",
   "name": "python",
   "nbconvert_exporter": "python",
   "pygments_lexer": "ipython3",
   "version": "3.7.4"
  }
 },
 "nbformat": 4,
 "nbformat_minor": 4
}
