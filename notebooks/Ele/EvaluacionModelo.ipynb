{
 "cells": [
  {
   "cell_type": "code",
   "execution_count": 1,
   "metadata": {},
   "outputs": [],
   "source": [
    "from sklearn.ensemble import RandomForestClassifier\n",
    "from sklearn.tree import DecisionTreeClassifier\n",
    "from sklearn.preprocessing import (\n",
    "    OneHotEncoder,\n",
    "    StandardScaler\n",
    ")\n",
    "import pandas as pd\n",
    "import numpy as np\n",
    "## separando en train, test \n",
    "from sklearn.model_selection import train_test_split\n",
    "## Configuración del RF\n",
    "from sklearn.model_selection import GridSearchCV\n",
    "from sklearn.ensemble import RandomForestClassifier\n",
    "import time\n",
    "from sklearn.preprocessing import StandardScaler, OneHotEncoder, KBinsDiscretizer\n",
    "from sklearn.impute import SimpleImputer\n",
    "from sklearn.compose import ColumnTransformer\n",
    "import matplotlib.pyplot as plt\n",
    "import random"
   ]
  },
  {
   "cell_type": "markdown",
   "metadata": {},
   "source": [
    "- La tabla de métricas de tu mejor modelo\n",
    "- La curva ROC\n",
    "- La curva de precision y recall\n",
    "- Las tablas de métricas obtenidas de la clase Group de Aequitas (conteos de frecuencias y absolutas)\n",
    "- La visualización de tus 3 métricas seleccionadas con la salida de Group\n",
    "- Las tablas de métricas obtenidas de la clase Bias de Aequitas (conteos de frecuencias y absolutas)\n",
    "- La visualización de tus 3 métricas seleccionadas con la salida de Bias (disparidad)\n",
    "- Las tablas de métricas obtenidas de la clase Fairness de Aequitas (conteos de frecuencias y absolutas)\n",
    "- La visualización de tus 3 métricas seleccionadas con la salida de Fairness (equidad)"
   ]
  },
  {
   "cell_type": "code",
   "execution_count": 2,
   "metadata": {},
   "outputs": [],
   "source": [
    "import pickle"
   ]
  },
  {
   "cell_type": "code",
   "execution_count": 3,
   "metadata": {},
   "outputs": [],
   "source": [
    "#feature_importance = pickle.load(\n",
    "#    open('/Users/ele/Documents/EquiposGit/Intro/Intropruebapipe/IntroCD_proy1/outputs/fe_df_imp_features.pkl','rb'))"
   ]
  },
  {
   "cell_type": "code",
   "execution_count": 4,
   "metadata": {},
   "outputs": [],
   "source": [
    "#feature_importance.sort_values(by=\"importance\", ascending=False)"
   ]
  },
  {
   "cell_type": "code",
   "execution_count": 5,
   "metadata": {},
   "outputs": [],
   "source": [
    "#feature_importances_"
   ]
  },
  {
   "cell_type": "code",
   "execution_count": 6,
   "metadata": {},
   "outputs": [],
   "source": [
    "# ytest\n",
    "y_test = pickle.load(\n",
    "    open('/Users/ele/Documents/EquiposGit/Intro/Intropruebapipe/IntroCD_proy1/outputs/y_test.pkl','rb'))"
   ]
  },
  {
   "cell_type": "code",
   "execution_count": 7,
   "metadata": {},
   "outputs": [
    {
     "data": {
      "text/plain": [
       "(414942,)"
      ]
     },
     "execution_count": 7,
     "metadata": {},
     "output_type": "execute_result"
    }
   ],
   "source": [
    "y_test.shape"
   ]
  },
  {
   "cell_type": "code",
   "execution_count": 8,
   "metadata": {},
   "outputs": [],
   "source": [
    "random.seed(1)"
   ]
  },
  {
   "cell_type": "code",
   "execution_count": 9,
   "metadata": {},
   "outputs": [],
   "source": [
    "# predicciones con el mejor predictor \n",
    "#predicted_scores = pickle.load(\n",
    "#    open('/Users/ele/Documents/EquiposGit/Intro/Intropruebapipe/IntroCD_proy1/outputs/test_predict_scores.pkl','rb'))"
   ]
  },
  {
   "cell_type": "code",
   "execution_count": 10,
   "metadata": {},
   "outputs": [],
   "source": [
    "#predicted_scores"
   ]
  },
  {
   "cell_type": "code",
   "execution_count": 11,
   "metadata": {},
   "outputs": [
    {
     "data": {
      "text/plain": [
       "array([0.666987  , 0.66584987, 0.67321434, ..., 0.67041197, 0.67306555,\n",
       "       0.66470696])"
      ]
     },
     "execution_count": 11,
     "metadata": {},
     "output_type": "execute_result"
    }
   ],
   "source": [
    "p = np.random.beta(20000, 10000,414942)\n",
    "p"
   ]
  },
  {
   "cell_type": "code",
   "execution_count": 12,
   "metadata": {},
   "outputs": [
    {
     "data": {
      "text/plain": [
       "array([[0.666987  , 0.333013  ],\n",
       "       [0.66584987, 0.33415013],\n",
       "       [0.67321434, 0.32678566],\n",
       "       ...,\n",
       "       [0.67041197, 0.32958803],\n",
       "       [0.67306555, 0.32693445],\n",
       "       [0.66470696, 0.33529304]])"
      ]
     },
     "execution_count": 12,
     "metadata": {},
     "output_type": "execute_result"
    }
   ],
   "source": [
    "predicted_scores=np.vstack((p,1-p)).T\n",
    "#predicted_scores.reshape(414942,2)\n",
    "predicted_scores"
   ]
  },
  {
   "cell_type": "code",
   "execution_count": 13,
   "metadata": {},
   "outputs": [],
   "source": [
    "predicted_labels = np.random.binomial(1,predicted_scores[:,1])"
   ]
  },
  {
   "cell_type": "code",
   "execution_count": 14,
   "metadata": {},
   "outputs": [],
   "source": [
    "# predicciones de las etiquetas con los mejores parámetros encontrados\n",
    "#predicted_labels = pickle.load(\n",
    "#    open('/Users/ele/Documents/EquiposGit/Intro/Intropruebapipe/IntroCD_proy1/outputs/test_predict_labs.pkl','rb'))"
   ]
  },
  {
   "cell_type": "code",
   "execution_count": 15,
   "metadata": {},
   "outputs": [
    {
     "data": {
      "text/plain": [
       "138102"
      ]
     },
     "execution_count": 15,
     "metadata": {},
     "output_type": "execute_result"
    }
   ],
   "source": [
    "sum(predicted_labels)"
   ]
  },
  {
   "cell_type": "code",
   "execution_count": 16,
   "metadata": {},
   "outputs": [
    {
     "data": {
      "text/plain": [
       "(414942,)"
      ]
     },
     "execution_count": 16,
     "metadata": {},
     "output_type": "execute_result"
    }
   ],
   "source": [
    "predicted_labels.shape"
   ]
  },
  {
   "cell_type": "code",
   "execution_count": 17,
   "metadata": {},
   "outputs": [
    {
     "data": {
      "text/plain": [
       "(414942, 2)"
      ]
     },
     "execution_count": 17,
     "metadata": {},
     "output_type": "execute_result"
    }
   ],
   "source": [
    "predicted_scores.shape"
   ]
  },
  {
   "cell_type": "code",
   "execution_count": 18,
   "metadata": {},
   "outputs": [],
   "source": [
    "#predicted_scores[:,1]"
   ]
  },
  {
   "cell_type": "code",
   "execution_count": 19,
   "metadata": {},
   "outputs": [
    {
     "data": {
      "image/png": "[encoded data removed]",
      "text/plain": [
       "<Figure size 432x288 with 1 Axes>"
      ]
     },
     "metadata": {
      "needs_background": "light"
     },
     "output_type": "display_data"
    }
   ],
   "source": [
    "#plt.hist(predicted_scores[:,0],bins=100)\n",
    "plt.hist(predicted_scores[:,0],bins=100)\n",
    "plt.show()"
   ]
  },
  {
   "cell_type": "code",
   "execution_count": 20,
   "metadata": {},
   "outputs": [
    {
     "data": {
      "image/png": "[encoded data removed]",
      "text/plain": [
       "<Figure size 432x288 with 1 Axes>"
      ]
     },
     "metadata": {
      "needs_background": "light"
     },
     "output_type": "display_data"
    }
   ],
   "source": [
    "plt.hist(predicted_scores[:,1],bins=100)\n",
    "plt.show()"
   ]
  },
  {
   "cell_type": "markdown",
   "metadata": {},
   "source": [
    "## Métricas de desempeño\n",
    "\n",
    "### ROC y AUC"
   ]
  },
  {
   "cell_type": "code",
   "execution_count": 21,
   "metadata": {},
   "outputs": [
    {
     "data": {
      "image/png": "[encoded data removed]",
      "text/plain": [
       "<Figure size 432x288 with 1 Axes>"
      ]
     },
     "metadata": {
      "needs_background": "light"
     },
     "output_type": "display_data"
    }
   ],
   "source": [
    "from sklearn.metrics import roc_curve, roc_auc_score\n",
    "\n",
    "import matplotlib.pyplot as plt\n",
    "\n",
    "%matplotlib inline\n",
    "\n",
    "fpr, tpr, thresholds = roc_curve(y_test, predicted_scores[:,1], pos_label=1)\n",
    "\n",
    "plt.clf()\n",
    "plt.plot([0,1],[0,1], 'k--', c=\"red\")\n",
    "plt.plot(fpr, tpr)\n",
    "plt.title(\"ROC best RF, AUC: {}\".format(roc_auc_score(y_test, predicted_labels)))\n",
    "plt.xlabel(\"fpr\")\n",
    "plt.ylabel(\"tpr\")\n",
    "plt.show()"
   ]
  },
  {
   "cell_type": "markdown",
   "metadata": {},
   "source": [
    "### Matriz de confusión"
   ]
  },
  {
   "cell_type": "code",
   "execution_count": 22,
   "metadata": {},
   "outputs": [],
   "source": [
    "from sklearn.metrics import confusion_matrix\n",
    "from tabulate import tabulate\n",
    "confu0=confusion_matrix(y_test, predicted_labels, normalize='all')\n",
    "confu1=confusion_matrix(y_test, predicted_labels)"
   ]
  },
  {
   "cell_type": "code",
   "execution_count": 23,
   "metadata": {},
   "outputs": [
    {
     "name": "stdout",
     "output_type": "stream",
     "text": [
      "+-----------------+---------------------+---------------------+\n",
      "| Dato\\Predicción |     Etiqueta +      |     Etiqueta -      |\n",
      "+-----------------+---------------------+---------------------+\n",
      "|   Etiqueta +    | True Positive (tp)  | False Negative (fn) |\n",
      "|   Etiqueta -    | False Positive (fp) | True Negative (tn)  |\n",
      "+-----------------+---------------------+---------------------+\n"
     ]
    }
   ],
   "source": [
    "print(tabulate(np.array([['True Positive (tp)', 'False Negative (fn)'],\n",
    "                    ['False Positive (fp)', 'True Negative (tn)']]),\n",
    "               headers=['Dato\\Predicción','Etiqueta +','Etiqueta -'],\n",
    "               showindex=['Etiqueta +','Etiqueta -'],\n",
    "               tablefmt='pretty'))"
   ]
  },
  {
   "cell_type": "code",
   "execution_count": 24,
   "metadata": {},
   "outputs": [
    {
     "name": "stdout",
     "output_type": "stream",
     "text": [
      "+-----------------+------------+------------+\n",
      "| Dato\\Predicción | Etiqueta + | Etiqueta - |\n",
      "+-----------------+------------+------------+\n",
      "|   Etiqueta +    |   220527   |   110111   |\n",
      "|   Etiqueta -    |   56313    |   27991    |\n",
      "+-----------------+------------+------------+\n"
     ]
    }
   ],
   "source": [
    "print(tabulate(confu1,\n",
    "               headers=['Dato\\Predicción','Etiqueta +','Etiqueta -'],\n",
    "               showindex=['Etiqueta +','Etiqueta -'],\n",
    "               tablefmt='pretty'))"
   ]
  },
  {
   "cell_type": "code",
   "execution_count": 25,
   "metadata": {},
   "outputs": [
    {
     "name": "stdout",
     "output_type": "stream",
     "text": [
      "+-----------------+--------------------+---------------------+\n",
      "| Dato\\Predicción |     Etiqueta +     |     Etiqueta -      |\n",
      "+-----------------+--------------------+---------------------+\n",
      "|   Etiqueta +    | 0.5314646384313952 | 0.2653647979717647  |\n",
      "|   Etiqueta -    | 0.1357129430137224 | 0.06745762058311765 |\n",
      "+-----------------+--------------------+---------------------+\n"
     ]
    }
   ],
   "source": [
    "print(tabulate(confu0,\n",
    "               headers=['Dato\\Predicción','Etiqueta +','Etiqueta -'],\n",
    "               showindex=['Etiqueta +','Etiqueta -'],\n",
    "               tablefmt='pretty'))"
   ]
  },
  {
   "cell_type": "markdown",
   "metadata": {},
   "source": [
    "#### Accuracy\n",
    "\n",
    "$$accuracy=\\frac{\\text{tp+tn}}{\\text{tp+fp+tn+fn}}= \\frac{\\text{predichos correctamente}}{\\text{total}}$$"
   ]
  },
  {
   "cell_type": "markdown",
   "metadata": {},
   "source": [
    "#### Precision\n",
    "\n",
    "\n",
    "$$precision=\\frac{\\text{tp}}{\\text{tp+fp}}= \\frac{\\text{predichos positivos correctos}}{\\text{predichos positivos}}$$\n",
    "\n",
    "De los que identificamos como clase positiva, cuántos identificamos correctamente -pureza en nuestra predicción-. "
   ]
  },
  {
   "cell_type": "markdown",
   "metadata": {},
   "source": [
    "### Recall\n",
    "\n",
    "$$recall=\\frac{\\text{tp}}{\\text{tp+fn}}= \\frac{\\text{predichos positivos correctos}}{\\text{datos positivos}}$$\n",
    "\n",
    "Del universo posible de nuestra clase positiva, cúantos identificamos correctamente"
   ]
  },
  {
   "cell_type": "markdown",
   "metadata": {},
   "source": [
    "#### F1-score\n",
    "\n",
    "Combina precision y recall para obtimizar ambos.\n",
    "\n",
    "$$F=2\\cdot  \\left( \\frac{\\text{precision}\\cdot \\text{recall}}{\\text{precision + recall}} \\right)$$"
   ]
  },
  {
   "cell_type": "code",
   "execution_count": 26,
   "metadata": {},
   "outputs": [],
   "source": [
    "from sklearn.metrics import accuracy_score\n",
    "from sklearn.metrics import precision_recall_curve"
   ]
  },
  {
   "cell_type": "code",
   "execution_count": 27,
   "metadata": {},
   "outputs": [
    {
     "data": {
      "text/plain": [
       "0.5989222590145129"
      ]
     },
     "execution_count": 27,
     "metadata": {},
     "output_type": "execute_result"
    }
   ],
   "source": [
    "#### Accuracy\n",
    "accuracy_score(y_test, predicted_labels)"
   ]
  },
  {
   "cell_type": "code",
   "execution_count": 28,
   "metadata": {},
   "outputs": [],
   "source": [
    "#### Precision, recall, thresholds\n",
    "precision, recall, thresholds_2 = precision_recall_curve(y_test, predicted_scores[:,1], pos_label=1)"
   ]
  },
  {
   "cell_type": "code",
   "execution_count": 29,
   "metadata": {},
   "outputs": [],
   "source": [
    "thresholds_2 = np.append(thresholds_2, 1)"
   ]
  },
  {
   "cell_type": "code",
   "execution_count": 30,
   "metadata": {},
   "outputs": [
    {
     "data": {
      "text/plain": [
       "((414940,), (414940,), (414940,))"
      ]
     },
     "execution_count": 30,
     "metadata": {},
     "output_type": "execute_result"
    }
   ],
   "source": [
    "(precision.shape, recall.shape, thresholds_2.shape)"
   ]
  },
  {
   "cell_type": "code",
   "execution_count": 31,
   "metadata": {},
   "outputs": [],
   "source": [
    "# F1_score junto con las otras medidas\n",
    "def get_metrics_report(fpr, tpr, thresholds, precision, recall, thresholds_2):\n",
    "    df_1 = pd.DataFrame({'threshold': thresholds_2,'precision': precision,\n",
    "                    'recall': recall})\n",
    "    df_1['f1_score'] = 2 * (df_1.precision * df_1.recall) / (df_1.precision + df_1.recall)\n",
    "    \n",
    "    df_2 = pd.DataFrame({'tpr': tpr, 'fpr': fpr, 'threshold': thresholds})\n",
    "    df_2['tnr'] = 1 - df_2['fpr']\n",
    "    df_2['fnr'] = 1 - df_2['tpr']\n",
    "    \n",
    "    df = df_1.merge(df_2, on=\"threshold\")\n",
    "    \n",
    "    return df"
   ]
  },
  {
   "cell_type": "code",
   "execution_count": 32,
   "metadata": {},
   "outputs": [
    {
     "data": {
      "text/html": [
       "<div>\n",
       "<style scoped>\n",
       "    .dataframe tbody tr th:only-of-type {\n",
       "        vertical-align: middle;\n",
       "    }\n",
       "\n",
       "    .dataframe tbody tr th {\n",
       "        vertical-align: top;\n",
       "    }\n",
       "\n",
       "    .dataframe thead th {\n",
       "        text-align: right;\n",
       "    }\n",
       "</style>\n",
       "<table border=\"1\" class=\"dataframe\">\n",
       "  <thead>\n",
       "    <tr style=\"text-align: right;\">\n",
       "      <th></th>\n",
       "      <th>threshold</th>\n",
       "      <th>precision</th>\n",
       "      <th>recall</th>\n",
       "      <th>f1_score</th>\n",
       "      <th>tpr</th>\n",
       "      <th>fpr</th>\n",
       "      <th>tnr</th>\n",
       "      <th>fnr</th>\n",
       "    </tr>\n",
       "  </thead>\n",
       "  <tbody>\n",
       "    <tr>\n",
       "      <th>0</th>\n",
       "      <td>0.321507</td>\n",
       "      <td>0.203172</td>\n",
       "      <td>1.000000</td>\n",
       "      <td>0.337727</td>\n",
       "      <td>1.000000</td>\n",
       "      <td>0.999991</td>\n",
       "      <td>0.000009</td>\n",
       "      <td>0.000000</td>\n",
       "    </tr>\n",
       "    <tr>\n",
       "      <th>1</th>\n",
       "      <td>0.321996</td>\n",
       "      <td>0.203170</td>\n",
       "      <td>0.999988</td>\n",
       "      <td>0.337724</td>\n",
       "      <td>0.999988</td>\n",
       "      <td>0.999991</td>\n",
       "      <td>0.000009</td>\n",
       "      <td>0.000012</td>\n",
       "    </tr>\n",
       "    <tr>\n",
       "      <th>2</th>\n",
       "      <td>0.322377</td>\n",
       "      <td>0.203172</td>\n",
       "      <td>0.999988</td>\n",
       "      <td>0.337727</td>\n",
       "      <td>0.999988</td>\n",
       "      <td>0.999979</td>\n",
       "      <td>0.000021</td>\n",
       "      <td>0.000012</td>\n",
       "    </tr>\n",
       "    <tr>\n",
       "      <th>3</th>\n",
       "      <td>0.322392</td>\n",
       "      <td>0.203170</td>\n",
       "      <td>0.999976</td>\n",
       "      <td>0.337723</td>\n",
       "      <td>0.999976</td>\n",
       "      <td>0.999979</td>\n",
       "      <td>0.000021</td>\n",
       "      <td>0.000024</td>\n",
       "    </tr>\n",
       "    <tr>\n",
       "      <th>4</th>\n",
       "      <td>0.322530</td>\n",
       "      <td>0.203172</td>\n",
       "      <td>0.999976</td>\n",
       "      <td>0.337726</td>\n",
       "      <td>0.999976</td>\n",
       "      <td>0.999967</td>\n",
       "      <td>0.000033</td>\n",
       "      <td>0.000024</td>\n",
       "    </tr>\n",
       "    <tr>\n",
       "      <th>...</th>\n",
       "      <td>...</td>\n",
       "      <td>...</td>\n",
       "      <td>...</td>\n",
       "      <td>...</td>\n",
       "      <td>...</td>\n",
       "      <td>...</td>\n",
       "      <td>...</td>\n",
       "      <td>...</td>\n",
       "    </tr>\n",
       "    <tr>\n",
       "      <th>134642</th>\n",
       "      <td>0.344566</td>\n",
       "      <td>0.375000</td>\n",
       "      <td>0.000036</td>\n",
       "      <td>0.000071</td>\n",
       "      <td>0.000036</td>\n",
       "      <td>0.000015</td>\n",
       "      <td>0.999985</td>\n",
       "      <td>0.999964</td>\n",
       "    </tr>\n",
       "    <tr>\n",
       "      <th>134643</th>\n",
       "      <td>0.344675</td>\n",
       "      <td>0.285714</td>\n",
       "      <td>0.000024</td>\n",
       "      <td>0.000047</td>\n",
       "      <td>0.000024</td>\n",
       "      <td>0.000015</td>\n",
       "      <td>0.999985</td>\n",
       "      <td>0.999976</td>\n",
       "    </tr>\n",
       "    <tr>\n",
       "      <th>134644</th>\n",
       "      <td>0.344940</td>\n",
       "      <td>0.333333</td>\n",
       "      <td>0.000024</td>\n",
       "      <td>0.000047</td>\n",
       "      <td>0.000024</td>\n",
       "      <td>0.000012</td>\n",
       "      <td>0.999988</td>\n",
       "      <td>0.999976</td>\n",
       "    </tr>\n",
       "    <tr>\n",
       "      <th>134645</th>\n",
       "      <td>0.345062</td>\n",
       "      <td>0.200000</td>\n",
       "      <td>0.000012</td>\n",
       "      <td>0.000024</td>\n",
       "      <td>0.000012</td>\n",
       "      <td>0.000012</td>\n",
       "      <td>0.999988</td>\n",
       "      <td>0.999988</td>\n",
       "    </tr>\n",
       "    <tr>\n",
       "      <th>134646</th>\n",
       "      <td>0.345585</td>\n",
       "      <td>1.000000</td>\n",
       "      <td>0.000012</td>\n",
       "      <td>0.000024</td>\n",
       "      <td>0.000012</td>\n",
       "      <td>0.000000</td>\n",
       "      <td>1.000000</td>\n",
       "      <td>0.999988</td>\n",
       "    </tr>\n",
       "  </tbody>\n",
       "</table>\n",
       "<p>134647 rows × 8 columns</p>\n",
       "</div>"
      ],
      "text/plain": [
       "        threshold  precision    recall  f1_score       tpr       fpr  \\\n",
       "0        0.321507   0.203172  1.000000  0.337727  1.000000  0.999991   \n",
       "1        0.321996   0.203170  0.999988  0.337724  0.999988  0.999991   \n",
       "2        0.322377   0.203172  0.999988  0.337727  0.999988  0.999979   \n",
       "3        0.322392   0.203170  0.999976  0.337723  0.999976  0.999979   \n",
       "4        0.322530   0.203172  0.999976  0.337726  0.999976  0.999967   \n",
       "...           ...        ...       ...       ...       ...       ...   \n",
       "134642   0.344566   0.375000  0.000036  0.000071  0.000036  0.000015   \n",
       "134643   0.344675   0.285714  0.000024  0.000047  0.000024  0.000015   \n",
       "134644   0.344940   0.333333  0.000024  0.000047  0.000024  0.000012   \n",
       "134645   0.345062   0.200000  0.000012  0.000024  0.000012  0.000012   \n",
       "134646   0.345585   1.000000  0.000012  0.000024  0.000012  0.000000   \n",
       "\n",
       "             tnr       fnr  \n",
       "0       0.000009  0.000000  \n",
       "1       0.000009  0.000012  \n",
       "2       0.000021  0.000012  \n",
       "3       0.000021  0.000024  \n",
       "4       0.000033  0.000024  \n",
       "...          ...       ...  \n",
       "134642  0.999985  0.999964  \n",
       "134643  0.999985  0.999976  \n",
       "134644  0.999988  0.999976  \n",
       "134645  0.999988  0.999988  \n",
       "134646  1.000000  0.999988  \n",
       "\n",
       "[134647 rows x 8 columns]"
      ]
     },
     "execution_count": 32,
     "metadata": {},
     "output_type": "execute_result"
    }
   ],
   "source": [
    "metrics_report = get_metrics_report(fpr, tpr, thresholds, precision, recall, thresholds_2)\n",
    "metrics_report"
   ]
  },
  {
   "cell_type": "code",
   "execution_count": 33,
   "metadata": {},
   "outputs": [
    {
     "data": {
      "text/html": [
       "<div>\n",
       "<style scoped>\n",
       "    .dataframe tbody tr th:only-of-type {\n",
       "        vertical-align: middle;\n",
       "    }\n",
       "\n",
       "    .dataframe tbody tr th {\n",
       "        vertical-align: top;\n",
       "    }\n",
       "\n",
       "    .dataframe thead th {\n",
       "        text-align: right;\n",
       "    }\n",
       "</style>\n",
       "<table border=\"1\" class=\"dataframe\">\n",
       "  <thead>\n",
       "    <tr style=\"text-align: right;\">\n",
       "      <th></th>\n",
       "      <th>threshold</th>\n",
       "      <th>precision</th>\n",
       "      <th>recall</th>\n",
       "      <th>f1_score</th>\n",
       "      <th>tpr</th>\n",
       "      <th>fpr</th>\n",
       "      <th>tnr</th>\n",
       "      <th>fnr</th>\n",
       "    </tr>\n",
       "  </thead>\n",
       "  <tbody>\n",
       "    <tr>\n",
       "      <th>125176</th>\n",
       "      <td>0.337352</td>\n",
       "      <td>0.204414</td>\n",
       "      <td>0.070530</td>\n",
       "      <td>0.104875</td>\n",
       "      <td>0.070530</td>\n",
       "      <td>0.069992</td>\n",
       "      <td>0.930008</td>\n",
       "      <td>0.929470</td>\n",
       "    </tr>\n",
       "    <tr>\n",
       "      <th>125177</th>\n",
       "      <td>0.337352</td>\n",
       "      <td>0.204387</td>\n",
       "      <td>0.070519</td>\n",
       "      <td>0.104858</td>\n",
       "      <td>0.070519</td>\n",
       "      <td>0.069992</td>\n",
       "      <td>0.930008</td>\n",
       "      <td>0.929481</td>\n",
       "    </tr>\n",
       "    <tr>\n",
       "      <th>125178</th>\n",
       "      <td>0.337352</td>\n",
       "      <td>0.204422</td>\n",
       "      <td>0.070519</td>\n",
       "      <td>0.104863</td>\n",
       "      <td>0.070519</td>\n",
       "      <td>0.069977</td>\n",
       "      <td>0.930023</td>\n",
       "      <td>0.929481</td>\n",
       "    </tr>\n",
       "    <tr>\n",
       "      <th>125179</th>\n",
       "      <td>0.337352</td>\n",
       "      <td>0.204395</td>\n",
       "      <td>0.070507</td>\n",
       "      <td>0.104846</td>\n",
       "      <td>0.070507</td>\n",
       "      <td>0.069977</td>\n",
       "      <td>0.930023</td>\n",
       "      <td>0.929493</td>\n",
       "    </tr>\n",
       "    <tr>\n",
       "      <th>125180</th>\n",
       "      <td>0.337353</td>\n",
       "      <td>0.204479</td>\n",
       "      <td>0.070507</td>\n",
       "      <td>0.104857</td>\n",
       "      <td>0.070507</td>\n",
       "      <td>0.069941</td>\n",
       "      <td>0.930059</td>\n",
       "      <td>0.929493</td>\n",
       "    </tr>\n",
       "    <tr>\n",
       "      <th>...</th>\n",
       "      <td>...</td>\n",
       "      <td>...</td>\n",
       "      <td>...</td>\n",
       "      <td>...</td>\n",
       "      <td>...</td>\n",
       "      <td>...</td>\n",
       "      <td>...</td>\n",
       "      <td>...</td>\n",
       "    </tr>\n",
       "    <tr>\n",
       "      <th>134642</th>\n",
       "      <td>0.344566</td>\n",
       "      <td>0.375000</td>\n",
       "      <td>0.000036</td>\n",
       "      <td>0.000071</td>\n",
       "      <td>0.000036</td>\n",
       "      <td>0.000015</td>\n",
       "      <td>0.999985</td>\n",
       "      <td>0.999964</td>\n",
       "    </tr>\n",
       "    <tr>\n",
       "      <th>134643</th>\n",
       "      <td>0.344675</td>\n",
       "      <td>0.285714</td>\n",
       "      <td>0.000024</td>\n",
       "      <td>0.000047</td>\n",
       "      <td>0.000024</td>\n",
       "      <td>0.000015</td>\n",
       "      <td>0.999985</td>\n",
       "      <td>0.999976</td>\n",
       "    </tr>\n",
       "    <tr>\n",
       "      <th>134644</th>\n",
       "      <td>0.344940</td>\n",
       "      <td>0.333333</td>\n",
       "      <td>0.000024</td>\n",
       "      <td>0.000047</td>\n",
       "      <td>0.000024</td>\n",
       "      <td>0.000012</td>\n",
       "      <td>0.999988</td>\n",
       "      <td>0.999976</td>\n",
       "    </tr>\n",
       "    <tr>\n",
       "      <th>134645</th>\n",
       "      <td>0.345062</td>\n",
       "      <td>0.200000</td>\n",
       "      <td>0.000012</td>\n",
       "      <td>0.000024</td>\n",
       "      <td>0.000012</td>\n",
       "      <td>0.000012</td>\n",
       "      <td>0.999988</td>\n",
       "      <td>0.999988</td>\n",
       "    </tr>\n",
       "    <tr>\n",
       "      <th>134646</th>\n",
       "      <td>0.345585</td>\n",
       "      <td>1.000000</td>\n",
       "      <td>0.000012</td>\n",
       "      <td>0.000024</td>\n",
       "      <td>0.000012</td>\n",
       "      <td>0.000000</td>\n",
       "      <td>1.000000</td>\n",
       "      <td>0.999988</td>\n",
       "    </tr>\n",
       "  </tbody>\n",
       "</table>\n",
       "<p>9471 rows × 8 columns</p>\n",
       "</div>"
      ],
      "text/plain": [
       "        threshold  precision    recall  f1_score       tpr       fpr  \\\n",
       "125176   0.337352   0.204414  0.070530  0.104875  0.070530  0.069992   \n",
       "125177   0.337352   0.204387  0.070519  0.104858  0.070519  0.069992   \n",
       "125178   0.337352   0.204422  0.070519  0.104863  0.070519  0.069977   \n",
       "125179   0.337352   0.204395  0.070507  0.104846  0.070507  0.069977   \n",
       "125180   0.337353   0.204479  0.070507  0.104857  0.070507  0.069941   \n",
       "...           ...        ...       ...       ...       ...       ...   \n",
       "134642   0.344566   0.375000  0.000036  0.000071  0.000036  0.000015   \n",
       "134643   0.344675   0.285714  0.000024  0.000047  0.000024  0.000015   \n",
       "134644   0.344940   0.333333  0.000024  0.000047  0.000024  0.000012   \n",
       "134645   0.345062   0.200000  0.000012  0.000024  0.000012  0.000012   \n",
       "134646   0.345585   1.000000  0.000012  0.000024  0.000012  0.000000   \n",
       "\n",
       "             tnr       fnr  \n",
       "125176  0.930008  0.929470  \n",
       "125177  0.930008  0.929481  \n",
       "125178  0.930023  0.929481  \n",
       "125179  0.930023  0.929493  \n",
       "125180  0.930059  0.929493  \n",
       "...          ...       ...  \n",
       "134642  0.999985  0.999964  \n",
       "134643  0.999985  0.999976  \n",
       "134644  0.999988  0.999976  \n",
       "134645  0.999988  0.999988  \n",
       "134646  1.000000  0.999988  \n",
       "\n",
       "[9471 rows x 8 columns]"
      ]
     },
     "execution_count": 33,
     "metadata": {},
     "output_type": "execute_result"
    }
   ],
   "source": [
    "negocio = metrics_report[metrics_report.fpr <= 0.07]\n",
    "negocio"
   ]
  },
  {
   "cell_type": "code",
   "execution_count": 34,
   "metadata": {},
   "outputs": [
    {
     "data": {
      "text/plain": [
       "0.3373516050671075"
      ]
     },
     "execution_count": 34,
     "metadata": {},
     "output_type": "execute_result"
    }
   ],
   "source": [
    "punto_corte = negocio.head(1).threshold.values[0]\n",
    "punto_corte"
   ]
  },
  {
   "cell_type": "code",
   "execution_count": 35,
   "metadata": {},
   "outputs": [],
   "source": [
    "new_labels = [0 if score < punto_corte else 1 for score in predicted_scores[:,1]]"
   ]
  },
  {
   "cell_type": "code",
   "execution_count": 36,
   "metadata": {},
   "outputs": [
    {
     "data": {
      "text/plain": [
       "[0, 0, 0, 0, 0, 0, 0, 0, 0, 0]"
      ]
     },
     "execution_count": 36,
     "metadata": {},
     "output_type": "execute_result"
    }
   ],
   "source": [
    "new_labels[:10]"
   ]
  },
  {
   "cell_type": "code",
   "execution_count": 37,
   "metadata": {},
   "outputs": [
    {
     "data": {
      "text/plain": [
       "29088"
      ]
     },
     "execution_count": 37,
     "metadata": {},
     "output_type": "execute_result"
    }
   ],
   "source": [
    "pd.Series(new_labels).sum()"
   ]
  },
  {
   "cell_type": "code",
   "execution_count": 38,
   "metadata": {},
   "outputs": [
    {
     "data": {
      "text/plain": [
       "array([[307496,  23142],\n",
       "       [ 78358,   5946]])"
      ]
     },
     "execution_count": 38,
     "metadata": {},
     "output_type": "execute_result"
    }
   ],
   "source": [
    "confusion_matrix(y_test, new_labels)"
   ]
  },
  {
   "cell_type": "code",
   "execution_count": 39,
   "metadata": {},
   "outputs": [
    {
     "data": {
      "text/plain": [
       "array([[220527, 110111],\n",
       "       [ 56313,  27991]])"
      ]
     },
     "execution_count": 39,
     "metadata": {},
     "output_type": "execute_result"
    }
   ],
   "source": [
    "confusion_matrix(y_test, predicted_labels)"
   ]
  },
  {
   "cell_type": "code",
   "execution_count": 40,
   "metadata": {},
   "outputs": [],
   "source": [
    "from sklearn.metrics import precision_score, recall_score"
   ]
  },
  {
   "cell_type": "code",
   "execution_count": 41,
   "metadata": {},
   "outputs": [],
   "source": [
    "def precision_at_k(y_true, y_scores, k):\n",
    "    threshold = np.sort(y_scores)[::-1][int(k*len(y_scores))]\n",
    "    y_pred = np.asarray([1 if i >= threshold else 0 for i in y_scores])\n",
    "\n",
    "    return precision_score(y_true, y_pred)"
   ]
  },
  {
   "cell_type": "code",
   "execution_count": 42,
   "metadata": {},
   "outputs": [],
   "source": [
    "def recall_at_k(y_true, y_scores, k):\n",
    "    threshold = np.sort(y_scores)[::-1][int(k*len(y_scores))]\n",
    "    y_pred = np.asarray([1 if i >= threshold else 0 for i in y_scores])\n",
    "\n",
    "    return recall_score(y_true, y_pred)"
   ]
  },
  {
   "cell_type": "code",
   "execution_count": 139,
   "metadata": {},
   "outputs": [],
   "source": [
    "#def get_top_k(y_true, y_scores, k):\n",
    "#    values = np.c_[y_scores,y_true][np.c_[y_scores,y_true][:,0].argsort()[::-1]]\n",
    "#    return values[0:int(k*len(values))]"
   ]
  },
  {
   "cell_type": "code",
   "execution_count": 140,
   "metadata": {},
   "outputs": [],
   "source": [
    "#def pr_k_curve(y_true, y_scores):\n",
    "#    k_values = list(np.arange(0.1, 1.1, 0.1))\n",
    "#    pr_k = pd.DataFrame()\n",
    "#    d=pd.DataFrame()\n",
    "#    \n",
    "#    for k in k_values:\n",
    "#        d['k'] = k\n",
    "#        ## get_top_k es una función que ordena los scores de\n",
    "#        ## mayor a menor y toma los k% primeros\n",
    "#        top_k = get_top_k(y_true, y_scores, k)\n",
    "#        d['precision'] = precision_at_k(y_true, y_scores, k)\n",
    "#        d['recall'] = recall_at_k(y_true, y_scores, k)\n",
    "#        \n",
    "#        \n",
    "#\n",
    "#        pr_k = pr_k.append(d)\n",
    "#\n",
    "#    # para la gráfica\n",
    "#    fig, ax1 = plt.subplots()\n",
    "#    ax1.plot(pr_k['k'], pr_k['precision'], label='precision')\n",
    "#    ax1.plot(pr_k['k'], pr_k['recall'], label='recall')\n",
    "#    plt.legend()\n",
    "#\n",
    "# #   if save_target is not None:\n",
    "#    #    plt.savefig(save_target, dpi=300)\n",
    "#\n",
    "#    return pr_k"
   ]
  },
  {
   "cell_type": "code",
   "execution_count": 141,
   "metadata": {},
   "outputs": [],
   "source": [
    "#get_top_k(predicted_labels,y_test,0.2)"
   ]
  },
  {
   "cell_type": "code",
   "execution_count": 142,
   "metadata": {},
   "outputs": [],
   "source": [
    "#predicted_labels"
   ]
  },
  {
   "cell_type": "code",
   "execution_count": 143,
   "metadata": {},
   "outputs": [
    {
     "data": {
      "text/plain": [
       "0.33202457771873223"
      ]
     },
     "execution_count": 143,
     "metadata": {},
     "output_type": "execute_result"
    }
   ],
   "source": [
    "precision_at_k(predicted_labels,y_test,0.2)"
   ]
  },
  {
   "cell_type": "code",
   "execution_count": 144,
   "metadata": {},
   "outputs": [
    {
     "data": {
      "text/plain": [
       "0.20268352377228424"
      ]
     },
     "execution_count": 144,
     "metadata": {},
     "output_type": "execute_result"
    }
   ],
   "source": [
    "recall_at_k(predicted_labels,y_test,0.2)"
   ]
  },
  {
   "cell_type": "code",
   "execution_count": 175,
   "metadata": {},
   "outputs": [],
   "source": [
    "k_values = list(np.arange(0.1, 0.99, 0.01))"
   ]
  },
  {
   "cell_type": "code",
   "execution_count": 176,
   "metadata": {},
   "outputs": [
    {
     "data": {
      "text/plain": [
       "89"
      ]
     },
     "execution_count": 176,
     "metadata": {},
     "output_type": "execute_result"
    }
   ],
   "source": [
    "len(k_values)"
   ]
  },
  {
   "cell_type": "code",
   "execution_count": 177,
   "metadata": {},
   "outputs": [],
   "source": [
    "d = pd.DataFrame(index=range(len(k_values)),columns=['k','precision','recall'])"
   ]
  },
  {
   "cell_type": "code",
   "execution_count": 178,
   "metadata": {},
   "outputs": [],
   "source": [
    "#d"
   ]
  },
  {
   "cell_type": "code",
   "execution_count": 179,
   "metadata": {},
   "outputs": [],
   "source": [
    "for k in range(len(k_values)):\n",
    "    d['k'][k] = k_values[k]\n",
    "    d['precision'][k]=precision_at_k(predicted_labels,y_test,k_values[k])\n",
    "    d['recall'][k]=recall_at_k(predicted_labels,y_test,k_values[k])"
   ]
  },
  {
   "cell_type": "code",
   "execution_count": 167,
   "metadata": {},
   "outputs": [
    {
     "data": {
      "text/html": [
       "<div>\n",
       "<style scoped>\n",
       "    .dataframe tbody tr th:only-of-type {\n",
       "        vertical-align: middle;\n",
       "    }\n",
       "\n",
       "    .dataframe tbody tr th {\n",
       "        vertical-align: top;\n",
       "    }\n",
       "\n",
       "    .dataframe thead th {\n",
       "        text-align: right;\n",
       "    }\n",
       "</style>\n",
       "<table border=\"1\" class=\"dataframe\">\n",
       "  <thead>\n",
       "    <tr style=\"text-align: right;\">\n",
       "      <th></th>\n",
       "      <th>k</th>\n",
       "      <th>precision</th>\n",
       "      <th>recall</th>\n",
       "    </tr>\n",
       "  </thead>\n",
       "  <tbody>\n",
       "    <tr>\n",
       "      <th>0</th>\n",
       "      <td>0.1</td>\n",
       "      <td>0.332025</td>\n",
       "      <td>0.202684</td>\n",
       "    </tr>\n",
       "    <tr>\n",
       "      <th>1</th>\n",
       "      <td>0.15</td>\n",
       "      <td>0.332025</td>\n",
       "      <td>0.202684</td>\n",
       "    </tr>\n",
       "    <tr>\n",
       "      <th>2</th>\n",
       "      <td>0.2</td>\n",
       "      <td>0.332025</td>\n",
       "      <td>0.202684</td>\n",
       "    </tr>\n",
       "    <tr>\n",
       "      <th>3</th>\n",
       "      <td>0.25</td>\n",
       "      <td>0.332822</td>\n",
       "      <td>1</td>\n",
       "    </tr>\n",
       "    <tr>\n",
       "      <th>4</th>\n",
       "      <td>0.3</td>\n",
       "      <td>0.332822</td>\n",
       "      <td>1</td>\n",
       "    </tr>\n",
       "    <tr>\n",
       "      <th>5</th>\n",
       "      <td>0.35</td>\n",
       "      <td>0.332822</td>\n",
       "      <td>1</td>\n",
       "    </tr>\n",
       "    <tr>\n",
       "      <th>6</th>\n",
       "      <td>0.4</td>\n",
       "      <td>0.332822</td>\n",
       "      <td>1</td>\n",
       "    </tr>\n",
       "    <tr>\n",
       "      <th>7</th>\n",
       "      <td>0.45</td>\n",
       "      <td>0.332822</td>\n",
       "      <td>1</td>\n",
       "    </tr>\n",
       "    <tr>\n",
       "      <th>8</th>\n",
       "      <td>0.5</td>\n",
       "      <td>0.332822</td>\n",
       "      <td>1</td>\n",
       "    </tr>\n",
       "    <tr>\n",
       "      <th>9</th>\n",
       "      <td>0.55</td>\n",
       "      <td>0.332822</td>\n",
       "      <td>1</td>\n",
       "    </tr>\n",
       "    <tr>\n",
       "      <th>10</th>\n",
       "      <td>0.6</td>\n",
       "      <td>0.332822</td>\n",
       "      <td>1</td>\n",
       "    </tr>\n",
       "    <tr>\n",
       "      <th>11</th>\n",
       "      <td>0.65</td>\n",
       "      <td>0.332822</td>\n",
       "      <td>1</td>\n",
       "    </tr>\n",
       "    <tr>\n",
       "      <th>12</th>\n",
       "      <td>0.7</td>\n",
       "      <td>0.332822</td>\n",
       "      <td>1</td>\n",
       "    </tr>\n",
       "    <tr>\n",
       "      <th>13</th>\n",
       "      <td>0.75</td>\n",
       "      <td>0.332822</td>\n",
       "      <td>1</td>\n",
       "    </tr>\n",
       "    <tr>\n",
       "      <th>14</th>\n",
       "      <td>0.8</td>\n",
       "      <td>0.332822</td>\n",
       "      <td>1</td>\n",
       "    </tr>\n",
       "    <tr>\n",
       "      <th>15</th>\n",
       "      <td>0.85</td>\n",
       "      <td>0.332822</td>\n",
       "      <td>1</td>\n",
       "    </tr>\n",
       "    <tr>\n",
       "      <th>16</th>\n",
       "      <td>0.9</td>\n",
       "      <td>0.332822</td>\n",
       "      <td>1</td>\n",
       "    </tr>\n",
       "    <tr>\n",
       "      <th>17</th>\n",
       "      <td>0.95</td>\n",
       "      <td>0.332822</td>\n",
       "      <td>1</td>\n",
       "    </tr>\n",
       "  </tbody>\n",
       "</table>\n",
       "</div>"
      ],
      "text/plain": [
       "       k precision    recall\n",
       "0    0.1  0.332025  0.202684\n",
       "1   0.15  0.332025  0.202684\n",
       "2    0.2  0.332025  0.202684\n",
       "3   0.25  0.332822         1\n",
       "4    0.3  0.332822         1\n",
       "5   0.35  0.332822         1\n",
       "6    0.4  0.332822         1\n",
       "7   0.45  0.332822         1\n",
       "8    0.5  0.332822         1\n",
       "9   0.55  0.332822         1\n",
       "10   0.6  0.332822         1\n",
       "11  0.65  0.332822         1\n",
       "12   0.7  0.332822         1\n",
       "13  0.75  0.332822         1\n",
       "14   0.8  0.332822         1\n",
       "15  0.85  0.332822         1\n",
       "16   0.9  0.332822         1\n",
       "17  0.95  0.332822         1"
      ]
     },
     "execution_count": 167,
     "metadata": {},
     "output_type": "execute_result"
    }
   ],
   "source": [
    "d"
   ]
  },
  {
   "cell_type": "code",
   "execution_count": 169,
   "metadata": {},
   "outputs": [
    {
     "data": {
      "text/plain": [
       "<matplotlib.legend.Legend at 0x122beaad0>"
      ]
     },
     "execution_count": 169,
     "metadata": {},
     "output_type": "execute_result"
    },
    {
     "data": {
      "image/png": "[encoded data removed]",
      "text/plain": [
       "<Figure size 432x288 with 1 Axes>"
      ]
     },
     "metadata": {
      "needs_background": "light"
     },
     "output_type": "display_data"
    }
   ],
   "source": [
    "fig, ax1 = plt.subplots()\n",
    "ax1.plot(d['k'], d['precision'], label='precision')\n",
    "ax1.plot(d['k'], d['recall'], label='recall')\n",
    "plt.legend()"
   ]
  },
  {
   "cell_type": "code",
   "execution_count": null,
   "metadata": {},
   "outputs": [],
   "source": []
  }
 ],
 "metadata": {
  "kernelspec": {
   "display_name": "itam_intro_to_ds",
   "language": "python",
   "name": "itam_intro_to_ds"
  },
  "language_info": {
   "codemirror_mode": {
    "name": "ipython",
    "version": 3
   },
   "file_extension": ".py",
   "mimetype": "text/x-python",
   "name": "python",
   "nbconvert_exporter": "python",
   "pygments_lexer": "ipython3",
   "version": "3.7.4"
  }
 },
 "nbformat": 4,
 "nbformat_minor": 4
}
