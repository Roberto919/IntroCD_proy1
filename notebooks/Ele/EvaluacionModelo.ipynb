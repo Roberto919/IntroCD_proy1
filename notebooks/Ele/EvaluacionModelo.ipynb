{
 "cells": [
  {
   "cell_type": "code",
   "execution_count": 1,
   "metadata": {},
   "outputs": [],
   "source": [
    "from sklearn.ensemble import RandomForestClassifier\n",
    "from sklearn.tree import DecisionTreeClassifier\n",
    "from sklearn.preprocessing import (\n",
    "    OneHotEncoder,\n",
    "    StandardScaler\n",
    ")\n",
    "import pandas as pd\n",
    "import numpy as np\n",
    "## separando en train, test \n",
    "from sklearn.model_selection import train_test_split\n",
    "## Configuración del RF\n",
    "from sklearn.model_selection import GridSearchCV\n",
    "from sklearn.ensemble import RandomForestClassifier\n",
    "import time\n",
    "from sklearn.preprocessing import StandardScaler, OneHotEncoder, KBinsDiscretizer\n",
    "from sklearn.impute import SimpleImputer\n",
    "from sklearn.compose import ColumnTransformer"
   ]
  },
  {
   "cell_type": "code",
   "execution_count": 31,
   "metadata": {},
   "outputs": [],
   "source": [
    "# predicciones con el mejor predictor \n",
    "predicted_labels = gs_rf.predict(X_test)"
   ]
  },
  {
   "cell_type": "code",
   "execution_count": 32,
   "metadata": {},
   "outputs": [],
   "source": [
    "# predicciones en score con el mejor predictor\n",
    "predicted_scores = gs_rf.predict_proba(X_test)"
   ]
  },
  {
   "cell_type": "code",
   "execution_count": 33,
   "metadata": {},
   "outputs": [
    {
     "data": {
      "text/plain": [
       "array([[0.83205586, 0.16794414],\n",
       "       [0.71612439, 0.28387561],\n",
       "       [0.8587854 , 0.1412146 ],\n",
       "       [0.8587854 , 0.1412146 ],\n",
       "       [0.71612439, 0.28387561],\n",
       "       [0.71612439, 0.28387561],\n",
       "       [0.71612439, 0.28387561],\n",
       "       [0.71612439, 0.28387561],\n",
       "       [0.8417496 , 0.1582504 ],\n",
       "       [0.8417496 , 0.1582504 ]])"
      ]
     },
     "execution_count": 33,
     "metadata": {},
     "output_type": "execute_result"
    }
   ],
   "source": [
    "predicted_scores[:10]"
   ]
  },
  {
   "cell_type": "code",
   "execution_count": 35,
   "metadata": {},
   "outputs": [
    {
     "data": {
      "image/png": "[encoded data removed]",
      "text/plain": [
       "<Figure size 432x288 with 1 Axes>"
      ]
     },
     "metadata": {
      "needs_background": "light"
     },
     "output_type": "display_data"
    }
   ],
   "source": [
    "from sklearn.metrics import roc_curve, roc_auc_score\n",
    "\n",
    "import matplotlib.pyplot as plt\n",
    "\n",
    "%matplotlib inline\n",
    "\n",
    "fpr, tpr, thresholds = roc_curve(y_test, predicted_scores[:,1], pos_label=1)\n",
    "\n",
    "plt.clf()\n",
    "plt.plot([0,1],[0,1], 'k--', c=\"red\")\n",
    "plt.plot(fpr, tpr)\n",
    "plt.title(\"ROC best RF, AUC: {}\".format(roc_auc_score(y_test, predicted_labels)))\n",
    "plt.xlabel(\"fpr\")\n",
    "plt.ylabel(\"tpr\")\n",
    "plt.show()"
   ]
  },
  {
   "cell_type": "code",
   "execution_count": 36,
   "metadata": {},
   "outputs": [
    {
     "data": {
      "text/plain": [
       "array([[23811,     7],\n",
       "       [ 6167,     2]])"
      ]
     },
     "execution_count": 36,
     "metadata": {},
     "output_type": "execute_result"
    }
   ],
   "source": [
    "from sklearn.metrics import confusion_matrix\n",
    "\n",
    "confusion_matrix(y_test, predicted_labels)"
   ]
  },
  {
   "cell_type": "code",
   "execution_count": 37,
   "metadata": {},
   "outputs": [
    {
     "data": {
      "text/plain": [
       "0.79411078133858"
      ]
     },
     "execution_count": 37,
     "metadata": {},
     "output_type": "execute_result"
    }
   ],
   "source": [
    "from sklearn.metrics import accuracy_score\n",
    "\n",
    "accuracy_score(y_test, predicted_labels)"
   ]
  },
  {
   "cell_type": "code",
   "execution_count": 38,
   "metadata": {},
   "outputs": [],
   "source": [
    "#### Precision, recall, thresholds\n",
    "from sklearn.metrics import precision_recall_curve\n",
    "\n",
    "precision, recall, thresholds_2 = precision_recall_curve(y_test, predicted_scores[:,1], pos_label=1)"
   ]
  },
  {
   "cell_type": "code",
   "execution_count": 39,
   "metadata": {},
   "outputs": [],
   "source": [
    "thresholds_2 = np.append(thresholds_2, 1)"
   ]
  },
  {
   "cell_type": "code",
   "execution_count": 40,
   "metadata": {},
   "outputs": [
    {
     "data": {
      "text/plain": [
       "((79,), (79,), (79,))"
      ]
     },
     "execution_count": 40,
     "metadata": {},
     "output_type": "execute_result"
    }
   ],
   "source": [
    "(precision.shape, recall.shape, thresholds_2.shape)"
   ]
  },
  {
   "cell_type": "code",
   "execution_count": 41,
   "metadata": {},
   "outputs": [],
   "source": [
    "def get_metrics_report(fpr, tpr, thresholds, precision, recall, thresholds_2):\n",
    "    df_1 = pd.DataFrame({'threshold': thresholds_2,'precision': precision,\n",
    "                    'recall': recall})\n",
    "    df_1['f1_score'] = 2 * (df_1.precision * df_1.recall) / (df_1.precision + df_1.recall)\n",
    "    \n",
    "    df_2 = pd.DataFrame({'tpr': tpr, 'fpr': fpr, 'threshold': thresholds})\n",
    "    df_2['tnr'] = 1 - df_2['fpr']\n",
    "    df_2['fnr'] = 1 - df_2['tpr']\n",
    "    \n",
    "    df = df_1.merge(df_2, on=\"threshold\")\n",
    "    \n",
    "    return df"
   ]
  },
  {
   "cell_type": "code",
   "execution_count": 42,
   "metadata": {},
   "outputs": [
    {
     "data": {
      "text/html": [
       "<div>\n",
       "<style scoped>\n",
       "    .dataframe tbody tr th:only-of-type {\n",
       "        vertical-align: middle;\n",
       "    }\n",
       "\n",
       "    .dataframe tbody tr th {\n",
       "        vertical-align: top;\n",
       "    }\n",
       "\n",
       "    .dataframe thead th {\n",
       "        text-align: right;\n",
       "    }\n",
       "</style>\n",
       "<table border=\"1\" class=\"dataframe\">\n",
       "  <thead>\n",
       "    <tr style=\"text-align: right;\">\n",
       "      <th></th>\n",
       "      <th>threshold</th>\n",
       "      <th>precision</th>\n",
       "      <th>recall</th>\n",
       "      <th>f1_score</th>\n",
       "      <th>tpr</th>\n",
       "      <th>fpr</th>\n",
       "      <th>tnr</th>\n",
       "      <th>fnr</th>\n",
       "    </tr>\n",
       "  </thead>\n",
       "  <tbody>\n",
       "    <tr>\n",
       "      <th>0</th>\n",
       "      <td>0.019837</td>\n",
       "      <td>0.205832</td>\n",
       "      <td>1.000000</td>\n",
       "      <td>0.341395</td>\n",
       "      <td>1.000000</td>\n",
       "      <td>0.999328</td>\n",
       "      <td>0.000672</td>\n",
       "      <td>0.000000</td>\n",
       "    </tr>\n",
       "    <tr>\n",
       "      <th>1</th>\n",
       "      <td>0.020973</td>\n",
       "      <td>0.205833</td>\n",
       "      <td>0.999838</td>\n",
       "      <td>0.341386</td>\n",
       "      <td>0.999838</td>\n",
       "      <td>0.999160</td>\n",
       "      <td>0.000840</td>\n",
       "      <td>0.000162</td>\n",
       "    </tr>\n",
       "    <tr>\n",
       "      <th>2</th>\n",
       "      <td>0.022548</td>\n",
       "      <td>0.205903</td>\n",
       "      <td>0.999676</td>\n",
       "      <td>0.341473</td>\n",
       "      <td>0.999676</td>\n",
       "      <td>0.998573</td>\n",
       "      <td>0.001427</td>\n",
       "      <td>0.000324</td>\n",
       "    </tr>\n",
       "    <tr>\n",
       "      <th>3</th>\n",
       "      <td>0.023237</td>\n",
       "      <td>0.205919</td>\n",
       "      <td>0.999352</td>\n",
       "      <td>0.341476</td>\n",
       "      <td>0.999352</td>\n",
       "      <td>0.998153</td>\n",
       "      <td>0.001847</td>\n",
       "      <td>0.000648</td>\n",
       "    </tr>\n",
       "    <tr>\n",
       "      <th>4</th>\n",
       "      <td>0.025895</td>\n",
       "      <td>0.205974</td>\n",
       "      <td>0.999352</td>\n",
       "      <td>0.341551</td>\n",
       "      <td>0.999352</td>\n",
       "      <td>0.997817</td>\n",
       "      <td>0.002183</td>\n",
       "      <td>0.000648</td>\n",
       "    </tr>\n",
       "    <tr>\n",
       "      <th>...</th>\n",
       "      <td>...</td>\n",
       "      <td>...</td>\n",
       "      <td>...</td>\n",
       "      <td>...</td>\n",
       "      <td>...</td>\n",
       "      <td>...</td>\n",
       "      <td>...</td>\n",
       "      <td>...</td>\n",
       "    </tr>\n",
       "    <tr>\n",
       "      <th>70</th>\n",
       "      <td>0.347880</td>\n",
       "      <td>0.378378</td>\n",
       "      <td>0.002269</td>\n",
       "      <td>0.004512</td>\n",
       "      <td>0.002269</td>\n",
       "      <td>0.000966</td>\n",
       "      <td>0.999034</td>\n",
       "      <td>0.997731</td>\n",
       "    </tr>\n",
       "    <tr>\n",
       "      <th>71</th>\n",
       "      <td>0.374324</td>\n",
       "      <td>0.361111</td>\n",
       "      <td>0.002107</td>\n",
       "      <td>0.004190</td>\n",
       "      <td>0.002107</td>\n",
       "      <td>0.000966</td>\n",
       "      <td>0.999034</td>\n",
       "      <td>0.997893</td>\n",
       "    </tr>\n",
       "    <tr>\n",
       "      <th>72</th>\n",
       "      <td>0.375214</td>\n",
       "      <td>0.260870</td>\n",
       "      <td>0.000973</td>\n",
       "      <td>0.001938</td>\n",
       "      <td>0.000973</td>\n",
       "      <td>0.000714</td>\n",
       "      <td>0.999286</td>\n",
       "      <td>0.999027</td>\n",
       "    </tr>\n",
       "    <tr>\n",
       "      <th>73</th>\n",
       "      <td>0.402596</td>\n",
       "      <td>0.285714</td>\n",
       "      <td>0.000973</td>\n",
       "      <td>0.001939</td>\n",
       "      <td>0.000973</td>\n",
       "      <td>0.000630</td>\n",
       "      <td>0.999370</td>\n",
       "      <td>0.999027</td>\n",
       "    </tr>\n",
       "    <tr>\n",
       "      <th>74</th>\n",
       "      <td>0.531382</td>\n",
       "      <td>0.222222</td>\n",
       "      <td>0.000324</td>\n",
       "      <td>0.000647</td>\n",
       "      <td>0.000324</td>\n",
       "      <td>0.000294</td>\n",
       "      <td>0.999706</td>\n",
       "      <td>0.999676</td>\n",
       "    </tr>\n",
       "  </tbody>\n",
       "</table>\n",
       "<p>75 rows × 8 columns</p>\n",
       "</div>"
      ],
      "text/plain": [
       "    threshold  precision    recall  f1_score       tpr       fpr       tnr  \\\n",
       "0    0.019837   0.205832  1.000000  0.341395  1.000000  0.999328  0.000672   \n",
       "1    0.020973   0.205833  0.999838  0.341386  0.999838  0.999160  0.000840   \n",
       "2    0.022548   0.205903  0.999676  0.341473  0.999676  0.998573  0.001427   \n",
       "3    0.023237   0.205919  0.999352  0.341476  0.999352  0.998153  0.001847   \n",
       "4    0.025895   0.205974  0.999352  0.341551  0.999352  0.997817  0.002183   \n",
       "..        ...        ...       ...       ...       ...       ...       ...   \n",
       "70   0.347880   0.378378  0.002269  0.004512  0.002269  0.000966  0.999034   \n",
       "71   0.374324   0.361111  0.002107  0.004190  0.002107  0.000966  0.999034   \n",
       "72   0.375214   0.260870  0.000973  0.001938  0.000973  0.000714  0.999286   \n",
       "73   0.402596   0.285714  0.000973  0.001939  0.000973  0.000630  0.999370   \n",
       "74   0.531382   0.222222  0.000324  0.000647  0.000324  0.000294  0.999706   \n",
       "\n",
       "         fnr  \n",
       "0   0.000000  \n",
       "1   0.000162  \n",
       "2   0.000324  \n",
       "3   0.000648  \n",
       "4   0.000648  \n",
       "..       ...  \n",
       "70  0.997731  \n",
       "71  0.997893  \n",
       "72  0.999027  \n",
       "73  0.999027  \n",
       "74  0.999676  \n",
       "\n",
       "[75 rows x 8 columns]"
      ]
     },
     "execution_count": 42,
     "metadata": {},
     "output_type": "execute_result"
    }
   ],
   "source": [
    "metrics_report = get_metrics_report(fpr, tpr, thresholds, precision, recall, thresholds_2)\n",
    "metrics_report"
   ]
  },
  {
   "cell_type": "code",
   "execution_count": 43,
   "metadata": {},
   "outputs": [
    {
     "data": {
      "text/html": [
       "<div>\n",
       "<style scoped>\n",
       "    .dataframe tbody tr th:only-of-type {\n",
       "        vertical-align: middle;\n",
       "    }\n",
       "\n",
       "    .dataframe tbody tr th {\n",
       "        vertical-align: top;\n",
       "    }\n",
       "\n",
       "    .dataframe thead th {\n",
       "        text-align: right;\n",
       "    }\n",
       "</style>\n",
       "<table border=\"1\" class=\"dataframe\">\n",
       "  <thead>\n",
       "    <tr style=\"text-align: right;\">\n",
       "      <th></th>\n",
       "      <th>threshold</th>\n",
       "      <th>precision</th>\n",
       "      <th>recall</th>\n",
       "      <th>f1_score</th>\n",
       "      <th>tpr</th>\n",
       "      <th>fpr</th>\n",
       "      <th>tnr</th>\n",
       "      <th>fnr</th>\n",
       "    </tr>\n",
       "  </thead>\n",
       "  <tbody>\n",
       "    <tr>\n",
       "      <th>69</th>\n",
       "      <td>0.328695</td>\n",
       "      <td>0.457447</td>\n",
       "      <td>0.006970</td>\n",
       "      <td>0.013731</td>\n",
       "      <td>0.006970</td>\n",
       "      <td>0.002141</td>\n",
       "      <td>0.997859</td>\n",
       "      <td>0.993030</td>\n",
       "    </tr>\n",
       "    <tr>\n",
       "      <th>70</th>\n",
       "      <td>0.347880</td>\n",
       "      <td>0.378378</td>\n",
       "      <td>0.002269</td>\n",
       "      <td>0.004512</td>\n",
       "      <td>0.002269</td>\n",
       "      <td>0.000966</td>\n",
       "      <td>0.999034</td>\n",
       "      <td>0.997731</td>\n",
       "    </tr>\n",
       "    <tr>\n",
       "      <th>71</th>\n",
       "      <td>0.374324</td>\n",
       "      <td>0.361111</td>\n",
       "      <td>0.002107</td>\n",
       "      <td>0.004190</td>\n",
       "      <td>0.002107</td>\n",
       "      <td>0.000966</td>\n",
       "      <td>0.999034</td>\n",
       "      <td>0.997893</td>\n",
       "    </tr>\n",
       "    <tr>\n",
       "      <th>72</th>\n",
       "      <td>0.375214</td>\n",
       "      <td>0.260870</td>\n",
       "      <td>0.000973</td>\n",
       "      <td>0.001938</td>\n",
       "      <td>0.000973</td>\n",
       "      <td>0.000714</td>\n",
       "      <td>0.999286</td>\n",
       "      <td>0.999027</td>\n",
       "    </tr>\n",
       "    <tr>\n",
       "      <th>73</th>\n",
       "      <td>0.402596</td>\n",
       "      <td>0.285714</td>\n",
       "      <td>0.000973</td>\n",
       "      <td>0.001939</td>\n",
       "      <td>0.000973</td>\n",
       "      <td>0.000630</td>\n",
       "      <td>0.999370</td>\n",
       "      <td>0.999027</td>\n",
       "    </tr>\n",
       "    <tr>\n",
       "      <th>74</th>\n",
       "      <td>0.531382</td>\n",
       "      <td>0.222222</td>\n",
       "      <td>0.000324</td>\n",
       "      <td>0.000647</td>\n",
       "      <td>0.000324</td>\n",
       "      <td>0.000294</td>\n",
       "      <td>0.999706</td>\n",
       "      <td>0.999676</td>\n",
       "    </tr>\n",
       "  </tbody>\n",
       "</table>\n",
       "</div>"
      ],
      "text/plain": [
       "    threshold  precision    recall  f1_score       tpr       fpr       tnr  \\\n",
       "69   0.328695   0.457447  0.006970  0.013731  0.006970  0.002141  0.997859   \n",
       "70   0.347880   0.378378  0.002269  0.004512  0.002269  0.000966  0.999034   \n",
       "71   0.374324   0.361111  0.002107  0.004190  0.002107  0.000966  0.999034   \n",
       "72   0.375214   0.260870  0.000973  0.001938  0.000973  0.000714  0.999286   \n",
       "73   0.402596   0.285714  0.000973  0.001939  0.000973  0.000630  0.999370   \n",
       "74   0.531382   0.222222  0.000324  0.000647  0.000324  0.000294  0.999706   \n",
       "\n",
       "         fnr  \n",
       "69  0.993030  \n",
       "70  0.997731  \n",
       "71  0.997893  \n",
       "72  0.999027  \n",
       "73  0.999027  \n",
       "74  0.999676  "
      ]
     },
     "execution_count": 43,
     "metadata": {},
     "output_type": "execute_result"
    }
   ],
   "source": [
    "negocio = metrics_report[metrics_report.fpr <= 0.06]\n",
    "negocio"
   ]
  },
  {
   "cell_type": "code",
   "execution_count": 44,
   "metadata": {},
   "outputs": [
    {
     "data": {
      "text/plain": [
       "0.3286946954584606"
      ]
     },
     "execution_count": 44,
     "metadata": {},
     "output_type": "execute_result"
    }
   ],
   "source": [
    "punto_corte = negocio.head(1).threshold.values[0]\n",
    "punto_corte"
   ]
  },
  {
   "cell_type": "code",
   "execution_count": 45,
   "metadata": {},
   "outputs": [],
   "source": [
    "new_labels = [0 if score < punto_corte else 1 for score in predicted_scores[:,1]]"
   ]
  },
  {
   "cell_type": "code",
   "execution_count": 46,
   "metadata": {},
   "outputs": [
    {
     "data": {
      "text/plain": [
       "[0, 0, 0, 0, 0, 0, 0, 0, 0, 0]"
      ]
     },
     "execution_count": 46,
     "metadata": {},
     "output_type": "execute_result"
    }
   ],
   "source": [
    "new_labels[:10]"
   ]
  },
  {
   "cell_type": "code",
   "execution_count": 47,
   "metadata": {},
   "outputs": [
    {
     "data": {
      "text/plain": [
       "94"
      ]
     },
     "execution_count": 47,
     "metadata": {},
     "output_type": "execute_result"
    }
   ],
   "source": [
    "pd.Series(new_labels).sum()"
   ]
  },
  {
   "cell_type": "code",
   "execution_count": 48,
   "metadata": {},
   "outputs": [
    {
     "data": {
      "text/plain": [
       "array([[23767,    51],\n",
       "       [ 6126,    43]])"
      ]
     },
     "execution_count": 48,
     "metadata": {},
     "output_type": "execute_result"
    }
   ],
   "source": [
    "confusion_matrix(y_test, new_labels)"
   ]
  },
  {
   "cell_type": "code",
   "execution_count": 49,
   "metadata": {},
   "outputs": [
    {
     "data": {
      "text/plain": [
       "array([[23811,     7],\n",
       "       [ 6167,     2]])"
      ]
     },
     "execution_count": 49,
     "metadata": {},
     "output_type": "execute_result"
    }
   ],
   "source": [
    "confusion_matrix(y_test, predicted_labels)"
   ]
  },
  {
   "cell_type": "code",
   "execution_count": 1,
   "metadata": {},
   "outputs": [],
   "source": [
    "def precision_at_k(y_true, y_scores, k):\n",
    "    threshold = np.sort(y_scores)[::-1][int(k*len(y_scores))]\n",
    "    y_pred = np.asarray([1 if i >= threshold else 0 for i in y_scores])\n",
    "\n",
    "    return metrics.precision_score(y_true, y_pred)"
   ]
  },
  {
   "cell_type": "code",
   "execution_count": 6,
   "metadata": {},
   "outputs": [],
   "source": [
    "def recall_at_k(y_true, y_scores, k):\n",
    "    threshold = np.sort(y_scores)[::-1][int(k*len(y_scores))]\n",
    "    y_pred = np.asarray([1 if i >= threshold else 0 for i in y_scores])\n",
    "\n",
    "    return metrics.recall_score(y_true, y_pred)"
   ]
  },
  {
   "cell_type": "code",
   "execution_count": 5,
   "metadata": {},
   "outputs": [],
   "source": [
    "def pr_k_curve(y_true, y_scores, save_target):\n",
    "    k_values = list(np.arange(0.1, 1.1, 0.1))\n",
    "    pr_k = pd.DataFrame()\n",
    "    \n",
    "    for k in k_values:\n",
    "        d['k'] = k\n",
    "        ## get_top_k es una función que ordena los scores de\n",
    "        ## mayor a menor y toma los k% primeros\n",
    "        top_k = get_top_k(y_scores, k)\n",
    "        d['precision'] = precision_at_k(top_k)\n",
    "        d['recall'] = recall_at_k(top_k, predictions)\n",
    "\n",
    "        pr_k = pr_k.append(d, ignore_index=True)\n",
    "\n",
    "    # para la gráfica\n",
    "    fig, ax1 = plt.subplots()\n",
    "    ax1.plot(pr_k['k'], pr_k['precision'], label='precision')\n",
    "    ax1.plot(pr_k['k'], pr_k['recall'], label='recall')\n",
    "    plt.legend()\n",
    "\n",
    "    if save_target is not None:\n",
    "        plt.savefig(save_target, dpi=300)\n",
    "\n",
    "    return pr_k"
   ]
  },
  {
   "cell_type": "code",
   "execution_count": null,
   "metadata": {},
   "outputs": [],
   "source": []
  }
 ],
 "metadata": {
  "kernelspec": {
   "display_name": "itam_intro_to_ds",
   "language": "python",
   "name": "itam_intro_to_ds"
  },
  "language_info": {
   "codemirror_mode": {
    "name": "ipython",
    "version": 3
   },
   "file_extension": ".py",
   "mimetype": "text/x-python",
   "name": "python",
   "nbconvert_exporter": "python",
   "pygments_lexer": "ipython3",
   "version": "3.7.4"
  }
 },
 "nbformat": 4,
 "nbformat_minor": 4
}
